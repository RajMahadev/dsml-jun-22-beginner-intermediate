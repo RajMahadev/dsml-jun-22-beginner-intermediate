{
 "cells": [
  {
   "cell_type": "code",
   "execution_count": 3,
   "id": "13c7e4e2",
   "metadata": {},
   "outputs": [
    {
     "name": "stdout",
     "output_type": "stream",
     "text": [
      "7 7 7 7 7 7 7 \n",
      "7 6 6 6 6 6 7 \n",
      "7 6 5 5 5 6 7 \n",
      "7 6 5 4 5 6 7 \n",
      "7 6 5 5 5 6 7 \n",
      "7 6 6 6 6 6 7 \n",
      "7 7 7 7 7 7 7 \n"
     ]
    }
   ],
   "source": [
    "n = 7\n",
    "\n",
    "# iterating over all rows\n",
    "for i in range(n):\n",
    "    # iterating over all columns\n",
    "    for j in range(n):\n",
    "        print(max(i,j,(n-i-1),(n-j-1))+1,end=' ')\n",
    "    \n",
    "    print(end='\\n')"
   ]
  },
  {
   "cell_type": "code",
   "execution_count": 9,
   "id": "301f4d33",
   "metadata": {},
   "outputs": [
    {
     "name": "stdout",
     "output_type": "stream",
     "text": [
      "210\n"
     ]
    }
   ],
   "source": [
    "n = 3\n",
    "a = \"\"\n",
    "while (n>0):\n",
    "    n -= 1\n",
    "    a += str(n)\n",
    "    \n",
    "print(a)\n",
    "# print(a[::2])"
   ]
  },
  {
   "cell_type": "code",
   "execution_count": 10,
   "id": "836e86ae",
   "metadata": {},
   "outputs": [
    {
     "name": "stdout",
     "output_type": "stream",
     "text": [
      "[1, 5, 9]\n"
     ]
    }
   ],
   "source": [
    "a = [(2*x - 1) for x in range(6) if x % 2 == 1]\n",
    "print(a)"
   ]
  },
  {
   "cell_type": "code",
   "execution_count": 11,
   "id": "0720f5ab",
   "metadata": {},
   "outputs": [],
   "source": [
    "# 1, 5, 9"
   ]
  },
  {
   "cell_type": "markdown",
   "id": "49a6b6b2",
   "metadata": {},
   "source": [
    "### Linear Search"
   ]
  },
  {
   "cell_type": "code",
   "execution_count": 20,
   "id": "0abe83c2",
   "metadata": {},
   "outputs": [],
   "source": [
    "def linear_search(arr, target):\n",
    "    n = len(arr)\n",
    "    \n",
    "    for i in range(n):\n",
    "        if arr[i] == target:\n",
    "            return \"Found at idx:\" + str(i)\n",
    "\n",
    "\n",
    "    # after the loop is over.\n",
    "    # all elements said NO\n",
    "    return \"Not found\"   "
   ]
  },
  {
   "cell_type": "code",
   "execution_count": 21,
   "id": "76a3ca80",
   "metadata": {},
   "outputs": [],
   "source": [
    "arr = [4, 8, 2, 1, 7, 9, 3]\n",
    "target = 1"
   ]
  },
  {
   "cell_type": "code",
   "execution_count": 22,
   "id": "27999795",
   "metadata": {},
   "outputs": [
    {
     "data": {
      "text/plain": [
       "'Found at idx:3'"
      ]
     },
     "execution_count": 22,
     "metadata": {},
     "output_type": "execute_result"
    }
   ],
   "source": [
    "linear_search(arr, target)"
   ]
  },
  {
   "cell_type": "code",
   "execution_count": 23,
   "id": "7f0b2934",
   "metadata": {},
   "outputs": [
    {
     "data": {
      "text/plain": [
       "'Found at idx:4'"
      ]
     },
     "execution_count": 23,
     "metadata": {},
     "output_type": "execute_result"
    }
   ],
   "source": [
    "target = 7\n",
    "linear_search(arr, target)"
   ]
  },
  {
   "cell_type": "code",
   "execution_count": 24,
   "id": "5b47af2c",
   "metadata": {},
   "outputs": [
    {
     "data": {
      "text/plain": [
       "'Not found'"
      ]
     },
     "execution_count": 24,
     "metadata": {},
     "output_type": "execute_result"
    }
   ],
   "source": [
    "target = 5\n",
    "linear_search(arr, target)"
   ]
  },
  {
   "cell_type": "code",
   "execution_count": 25,
   "id": "4914f3a7",
   "metadata": {},
   "outputs": [
    {
     "data": {
      "text/plain": [
       "False"
      ]
     },
     "execution_count": 25,
     "metadata": {},
     "output_type": "execute_result"
    }
   ],
   "source": [
    "# linear search\n",
    "5 in arr"
   ]
  },
  {
   "cell_type": "code",
   "execution_count": 26,
   "id": "2a8ccff3",
   "metadata": {},
   "outputs": [
    {
     "data": {
      "text/plain": [
       "True"
      ]
     },
     "execution_count": 26,
     "metadata": {},
     "output_type": "execute_result"
    }
   ],
   "source": [
    "7 in arr"
   ]
  },
  {
   "cell_type": "code",
   "execution_count": 27,
   "id": "062fe7dd",
   "metadata": {},
   "outputs": [
    {
     "data": {
      "text/plain": [
       "True"
      ]
     },
     "execution_count": 27,
     "metadata": {},
     "output_type": "execute_result"
    }
   ],
   "source": [
    "1 in arr"
   ]
  },
  {
   "cell_type": "code",
   "execution_count": 42,
   "id": "3d971c9f",
   "metadata": {},
   "outputs": [],
   "source": [
    "def binary_search(arr, target):\n",
    "    \n",
    "    n = len(arr)\n",
    "    \n",
    "    start = 0\n",
    "    end = n - 1\n",
    "    \n",
    "    while(start <= end):\n",
    "        mid = (start+ end)//2\n",
    "        \n",
    "        print(\"Array to be searched :\", arr[start: end+1])\n",
    "        print(start, mid, end )\n",
    "        print(\"mid :\",arr[mid])\n",
    "        print(\"-\"*50)\n",
    "        \n",
    "        if arr[mid] == target:\n",
    "            return \"Found at \" + str(mid)\n",
    "        elif target > arr[mid]:\n",
    "            start = mid+1\n",
    "        else:\n",
    "            end = mid - 1\n",
    "            \n",
    "    return \"Not found\""
   ]
  },
  {
   "cell_type": "code",
   "execution_count": 43,
   "id": "5e07a226",
   "metadata": {},
   "outputs": [],
   "source": [
    "arr = [2, 4, 6, 7, 9, 10, 15]\n",
    "target = 4"
   ]
  },
  {
   "cell_type": "code",
   "execution_count": 44,
   "id": "afde8b21",
   "metadata": {},
   "outputs": [
    {
     "name": "stdout",
     "output_type": "stream",
     "text": [
      "Array to be searched : [2, 4, 6, 7, 9, 10, 15]\n",
      "0 3 6\n",
      "mid : 7\n",
      "--------------------------------------------------\n",
      "Array to be searched : [2, 4, 6]\n",
      "0 1 2\n",
      "mid : 4\n",
      "--------------------------------------------------\n"
     ]
    },
    {
     "data": {
      "text/plain": [
       "'Found at 1'"
      ]
     },
     "execution_count": 44,
     "metadata": {},
     "output_type": "execute_result"
    }
   ],
   "source": [
    "target = 4\n",
    "binary_search(arr, target)"
   ]
  },
  {
   "cell_type": "code",
   "execution_count": 45,
   "id": "b9cb6113",
   "metadata": {},
   "outputs": [
    {
     "name": "stdout",
     "output_type": "stream",
     "text": [
      "Array to be searched : [2, 4, 6, 7, 9, 10, 15]\n",
      "0 3 6\n",
      "mid : 7\n",
      "--------------------------------------------------\n",
      "Array to be searched : [9, 10, 15]\n",
      "4 5 6\n",
      "mid : 10\n",
      "--------------------------------------------------\n"
     ]
    },
    {
     "data": {
      "text/plain": [
       "'Found at 5'"
      ]
     },
     "execution_count": 45,
     "metadata": {},
     "output_type": "execute_result"
    }
   ],
   "source": [
    "target = 10\n",
    "binary_search(arr, target)"
   ]
  },
  {
   "cell_type": "code",
   "execution_count": 46,
   "id": "517e0a46",
   "metadata": {},
   "outputs": [
    {
     "name": "stdout",
     "output_type": "stream",
     "text": [
      "Array to be searched : [2, 4, 6, 7, 9, 10, 15]\n",
      "0 3 6\n",
      "mid : 7\n",
      "--------------------------------------------------\n",
      "Array to be searched : [9, 10, 15]\n",
      "4 5 6\n",
      "mid : 10\n",
      "--------------------------------------------------\n",
      "Array to be searched : [15]\n",
      "6 6 6\n",
      "mid : 15\n",
      "--------------------------------------------------\n"
     ]
    },
    {
     "data": {
      "text/plain": [
       "'Found at 6'"
      ]
     },
     "execution_count": 46,
     "metadata": {},
     "output_type": "execute_result"
    }
   ],
   "source": [
    "target = 15\n",
    "binary_search(arr, target)"
   ]
  },
  {
   "cell_type": "code",
   "execution_count": 47,
   "id": "5cda3ccb",
   "metadata": {},
   "outputs": [
    {
     "name": "stdout",
     "output_type": "stream",
     "text": [
      "Array to be searched : [2, 4, 6, 7, 9, 10, 15]\n",
      "0 3 6\n",
      "mid : 7\n",
      "--------------------------------------------------\n",
      "Array to be searched : [9, 10, 15]\n",
      "4 5 6\n",
      "mid : 10\n",
      "--------------------------------------------------\n",
      "Array to be searched : [9]\n",
      "4 4 4\n",
      "mid : 9\n",
      "--------------------------------------------------\n"
     ]
    },
    {
     "data": {
      "text/plain": [
       "'Not found'"
      ]
     },
     "execution_count": 47,
     "metadata": {},
     "output_type": "execute_result"
    }
   ],
   "source": [
    "target = 8\n",
    "binary_search(arr, target)"
   ]
  },
  {
   "cell_type": "code",
   "execution_count": null,
   "id": "170111ac",
   "metadata": {},
   "outputs": [],
   "source": [
    "end = mid - 1"
   ]
  },
  {
   "cell_type": "code",
   "execution_count": null,
   "id": "ea64c7b4",
   "metadata": {},
   "outputs": [],
   "source": []
  },
  {
   "cell_type": "markdown",
   "id": "c12e6d1a",
   "metadata": {},
   "source": [
    "# Doubts\n"
   ]
  },
  {
   "cell_type": "code",
   "execution_count": 48,
   "id": "0de41d4f",
   "metadata": {},
   "outputs": [],
   "source": [
    "a = [1,3,6,10]\n",
    "b = a"
   ]
  },
  {
   "cell_type": "code",
   "execution_count": 49,
   "id": "cbc87c19",
   "metadata": {},
   "outputs": [
    {
     "name": "stdout",
     "output_type": "stream",
     "text": [
      "[1, 3, 6, 10]\n"
     ]
    }
   ],
   "source": [
    "print(a)"
   ]
  },
  {
   "cell_type": "code",
   "execution_count": 50,
   "id": "1c914736",
   "metadata": {},
   "outputs": [
    {
     "name": "stdout",
     "output_type": "stream",
     "text": [
      "[1, 3, 6, 10]\n"
     ]
    }
   ],
   "source": [
    "print(b)"
   ]
  },
  {
   "cell_type": "code",
   "execution_count": 51,
   "id": "7c1e6d40",
   "metadata": {},
   "outputs": [],
   "source": [
    "b[0] = 100"
   ]
  },
  {
   "cell_type": "code",
   "execution_count": 52,
   "id": "be65ec74",
   "metadata": {},
   "outputs": [
    {
     "name": "stdout",
     "output_type": "stream",
     "text": [
      "[100, 3, 6, 10]\n"
     ]
    }
   ],
   "source": [
    "print(b)"
   ]
  },
  {
   "cell_type": "code",
   "execution_count": 53,
   "id": "b9a1e0ec",
   "metadata": {},
   "outputs": [
    {
     "name": "stdout",
     "output_type": "stream",
     "text": [
      "[100, 3, 6, 10]\n"
     ]
    }
   ],
   "source": [
    "print(a)"
   ]
  },
  {
   "cell_type": "code",
   "execution_count": 54,
   "id": "5cd74898",
   "metadata": {},
   "outputs": [],
   "source": [
    "# created a deep copy.\n",
    "c = a.copy()"
   ]
  },
  {
   "cell_type": "code",
   "execution_count": 55,
   "id": "ee6a9f06",
   "metadata": {},
   "outputs": [
    {
     "name": "stdout",
     "output_type": "stream",
     "text": [
      "[100, 3, 6, 10]\n"
     ]
    }
   ],
   "source": [
    "print(c)"
   ]
  },
  {
   "cell_type": "code",
   "execution_count": 56,
   "id": "a3dbfbb5",
   "metadata": {},
   "outputs": [
    {
     "name": "stdout",
     "output_type": "stream",
     "text": [
      "[100, 3, 6, 10]\n"
     ]
    }
   ],
   "source": [
    "print(a)"
   ]
  },
  {
   "cell_type": "code",
   "execution_count": 57,
   "id": "551d17c2",
   "metadata": {},
   "outputs": [],
   "source": [
    "c[0] = -1"
   ]
  },
  {
   "cell_type": "code",
   "execution_count": 58,
   "id": "249dc26e",
   "metadata": {},
   "outputs": [
    {
     "name": "stdout",
     "output_type": "stream",
     "text": [
      "[-1, 3, 6, 10]\n"
     ]
    }
   ],
   "source": [
    "print(c)"
   ]
  },
  {
   "cell_type": "code",
   "execution_count": 59,
   "id": "ed8c03f4",
   "metadata": {},
   "outputs": [
    {
     "name": "stdout",
     "output_type": "stream",
     "text": [
      "[100, 3, 6, 10]\n"
     ]
    }
   ],
   "source": [
    "print(a)"
   ]
  },
  {
   "cell_type": "code",
   "execution_count": 60,
   "id": "0b35af7c",
   "metadata": {},
   "outputs": [
    {
     "data": {
      "text/plain": [
       "False"
      ]
     },
     "execution_count": 60,
     "metadata": {},
     "output_type": "execute_result"
    }
   ],
   "source": [
    "\"Akhil\"> \"Mohit\""
   ]
  },
  {
   "cell_type": "code",
   "execution_count": 61,
   "id": "5f9ab814",
   "metadata": {},
   "outputs": [
    {
     "data": {
      "text/plain": [
       "65"
      ]
     },
     "execution_count": 61,
     "metadata": {},
     "output_type": "execute_result"
    }
   ],
   "source": [
    "ord('A')"
   ]
  },
  {
   "cell_type": "code",
   "execution_count": 62,
   "id": "2ba4ca2a",
   "metadata": {},
   "outputs": [
    {
     "data": {
      "text/plain": [
       "77"
      ]
     },
     "execution_count": 62,
     "metadata": {},
     "output_type": "execute_result"
    }
   ],
   "source": [
    "ord('M')"
   ]
  },
  {
   "cell_type": "code",
   "execution_count": 63,
   "id": "04e90e77",
   "metadata": {},
   "outputs": [
    {
     "ename": "TypeError",
     "evalue": "'>' not supported between instances of 'float' and 'str'",
     "output_type": "error",
     "traceback": [
      "\u001b[0;31m---------------------------------------------------------------------------\u001b[0m",
      "\u001b[0;31mTypeError\u001b[0m                                 Traceback (most recent call last)",
      "\u001b[0;32m<ipython-input-63-1562e4086a01>\u001b[0m in \u001b[0;36m<module>\u001b[0;34m\u001b[0m\n\u001b[0;32m----> 1\u001b[0;31m \u001b[0;36m8.2\u001b[0m \u001b[0;34m>\u001b[0m \u001b[0;34m\"Akhil\"\u001b[0m\u001b[0;34m\u001b[0m\u001b[0;34m\u001b[0m\u001b[0m\n\u001b[0m",
      "\u001b[0;31mTypeError\u001b[0m: '>' not supported between instances of 'float' and 'str'"
     ]
    }
   ],
   "source": [
    "8.2 > \"Akhil\""
   ]
  },
  {
   "cell_type": "code",
   "execution_count": 64,
   "id": "e242128a",
   "metadata": {},
   "outputs": [],
   "source": [
    "a = [1,2,3,4]"
   ]
  },
  {
   "cell_type": "code",
   "execution_count": 66,
   "id": "b3815e16",
   "metadata": {},
   "outputs": [],
   "source": [
    "# a.replace"
   ]
  },
  {
   "cell_type": "code",
   "execution_count": 67,
   "id": "af77afa3",
   "metadata": {},
   "outputs": [],
   "source": [
    "s = \"Hello World\""
   ]
  },
  {
   "cell_type": "code",
   "execution_count": 68,
   "id": "91511098",
   "metadata": {},
   "outputs": [
    {
     "data": {
      "text/plain": [
       "'Yello World'"
      ]
     },
     "execution_count": 68,
     "metadata": {},
     "output_type": "execute_result"
    }
   ],
   "source": [
    "s.replace('H', 'Y')"
   ]
  },
  {
   "cell_type": "code",
   "execution_count": 69,
   "id": "a8b2507a",
   "metadata": {},
   "outputs": [
    {
     "ename": "TypeError",
     "evalue": "'str' object does not support item assignment",
     "output_type": "error",
     "traceback": [
      "\u001b[0;31m---------------------------------------------------------------------------\u001b[0m",
      "\u001b[0;31mTypeError\u001b[0m                                 Traceback (most recent call last)",
      "\u001b[0;32m<ipython-input-69-397b8c6e90bd>\u001b[0m in \u001b[0;36m<module>\u001b[0;34m\u001b[0m\n\u001b[1;32m      1\u001b[0m \u001b[0ms\u001b[0m \u001b[0;34m=\u001b[0m \u001b[0;34m\"hello\"\u001b[0m\u001b[0;34m\u001b[0m\u001b[0;34m\u001b[0m\u001b[0m\n\u001b[0;32m----> 2\u001b[0;31m \u001b[0ms\u001b[0m\u001b[0;34m[\u001b[0m\u001b[0;36m0\u001b[0m\u001b[0;34m]\u001b[0m \u001b[0;34m=\u001b[0m \u001b[0;34m'y'\u001b[0m\u001b[0;34m\u001b[0m\u001b[0;34m\u001b[0m\u001b[0m\n\u001b[0m\u001b[1;32m      3\u001b[0m \u001b[0mprint\u001b[0m\u001b[0;34m(\u001b[0m\u001b[0ms\u001b[0m\u001b[0;34m)\u001b[0m\u001b[0;34m\u001b[0m\u001b[0;34m\u001b[0m\u001b[0m\n",
      "\u001b[0;31mTypeError\u001b[0m: 'str' object does not support item assignment"
     ]
    }
   ],
   "source": [
    "s = \"hello\"\n",
    "s[0] = 'y'\n",
    "print(s)"
   ]
  },
  {
   "cell_type": "code",
   "execution_count": 71,
   "id": "5c7d0953",
   "metadata": {},
   "outputs": [
    {
     "name": "stdout",
     "output_type": "stream",
     "text": [
      "140705290144368\n",
      "140705290545584\n",
      "yello\n"
     ]
    }
   ],
   "source": [
    "s = \"hello\"\n",
    "print(id(s))\n",
    "s = s.replace('h', 'y')\n",
    "print(id(s))\n",
    "print(s)"
   ]
  },
  {
   "cell_type": "code",
   "execution_count": 72,
   "id": "11a2f6e8",
   "metadata": {},
   "outputs": [],
   "source": [
    "arr = [5, 7, 4, 2, 1, 0, 8, 2]"
   ]
  },
  {
   "cell_type": "code",
   "execution_count": 75,
   "id": "39366e1b",
   "metadata": {},
   "outputs": [],
   "source": [
    "def isprime(n):\n",
    "    # complete the function\n",
    "    return None"
   ]
  },
  {
   "cell_type": "code",
   "execution_count": null,
   "id": "ea3c6d3f",
   "metadata": {},
   "outputs": [],
   "source": []
  },
  {
   "cell_type": "code",
   "execution_count": 74,
   "id": "9f523b33",
   "metadata": {},
   "outputs": [
    {
     "data": {
      "text/plain": [
       "[4, 2, 0, 8, 2]"
      ]
     },
     "execution_count": 74,
     "metadata": {},
     "output_type": "execute_result"
    }
   ],
   "source": [
    "[ele for ele in arr if isprime(ele)]"
   ]
  },
  {
   "cell_type": "code",
   "execution_count": null,
   "id": "fa203535",
   "metadata": {},
   "outputs": [],
   "source": []
  }
 ],
 "metadata": {
  "kernelspec": {
   "display_name": "Python 3",
   "language": "python",
   "name": "python3"
  },
  "language_info": {
   "codemirror_mode": {
    "name": "ipython",
    "version": 3
   },
   "file_extension": ".py",
   "mimetype": "text/x-python",
   "name": "python",
   "nbconvert_exporter": "python",
   "pygments_lexer": "ipython3",
   "version": "3.8.8"
  }
 },
 "nbformat": 4,
 "nbformat_minor": 5
}
