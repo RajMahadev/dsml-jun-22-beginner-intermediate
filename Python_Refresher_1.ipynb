{
 "cells": [
  {
   "cell_type": "markdown",
   "id": "6b9e9402",
   "metadata": {},
   "source": [
    "## DSML Intermediate 1: Python Refresher"
   ]
  },
  {
   "cell_type": "code",
   "execution_count": 2,
   "id": "e8c66547",
   "metadata": {
    "slideshow": {
     "slide_type": "slide"
    }
   },
   "outputs": [
    {
     "name": "stdout",
     "output_type": "stream",
     "text": [
      "10 + 10\n"
     ]
    }
   ],
   "source": [
    "print(\"10 + 10\")"
   ]
  },
  {
   "cell_type": "code",
   "execution_count": 3,
   "id": "a5e0ccb2",
   "metadata": {
    "slideshow": {
     "slide_type": "fragment"
    }
   },
   "outputs": [],
   "source": [
    "# string"
   ]
  },
  {
   "cell_type": "code",
   "execution_count": 4,
   "id": "35a47cab",
   "metadata": {},
   "outputs": [
    {
     "name": "stdout",
     "output_type": "stream",
     "text": [
      "Hello world!!\n"
     ]
    }
   ],
   "source": [
    "print(\"Hello world!!\")"
   ]
  },
  {
   "cell_type": "markdown",
   "id": "efe5b845",
   "metadata": {},
   "source": [
    "## Data Types"
   ]
  },
  {
   "cell_type": "markdown",
   "id": "385522bb",
   "metadata": {},
   "source": [
    "- int\n",
    "- float\n",
    "- str\n",
    "- bool\n"
   ]
  },
  {
   "cell_type": "code",
   "execution_count": 6,
   "id": "d7c0bc6d",
   "metadata": {},
   "outputs": [],
   "source": [
    "# int a = 3"
   ]
  },
  {
   "cell_type": "code",
   "execution_count": 7,
   "id": "5f2801ca",
   "metadata": {},
   "outputs": [],
   "source": [
    "a = 3"
   ]
  },
  {
   "cell_type": "code",
   "execution_count": 8,
   "id": "af8abc56",
   "metadata": {},
   "outputs": [
    {
     "name": "stdout",
     "output_type": "stream",
     "text": [
      "3\n"
     ]
    }
   ],
   "source": [
    "print(a)"
   ]
  },
  {
   "cell_type": "code",
   "execution_count": 9,
   "id": "03c28ce9",
   "metadata": {},
   "outputs": [
    {
     "data": {
      "text/plain": [
       "int"
      ]
     },
     "execution_count": 9,
     "metadata": {},
     "output_type": "execute_result"
    }
   ],
   "source": [
    "type(a)"
   ]
  },
  {
   "cell_type": "markdown",
   "id": "dc559b8f",
   "metadata": {},
   "source": [
    "## Mutability / Immutability in Python"
   ]
  },
  {
   "cell_type": "code",
   "execution_count": 10,
   "id": "780c76d4",
   "metadata": {},
   "outputs": [
    {
     "name": "stdout",
     "output_type": "stream",
     "text": [
      "3\n"
     ]
    }
   ],
   "source": [
    "a = 3\n",
    "print(a)"
   ]
  },
  {
   "cell_type": "code",
   "execution_count": 12,
   "id": "104ad517",
   "metadata": {},
   "outputs": [
    {
     "name": "stdout",
     "output_type": "stream",
     "text": [
      "140637764774256\n"
     ]
    }
   ],
   "source": [
    "print(id(a)) # unique value / address of object a"
   ]
  },
  {
   "cell_type": "code",
   "execution_count": 14,
   "id": "f5a0fb59",
   "metadata": {},
   "outputs": [
    {
     "name": "stdout",
     "output_type": "stream",
     "text": [
      "5\n"
     ]
    }
   ],
   "source": [
    "a = 5\n",
    "print(a)"
   ]
  },
  {
   "cell_type": "code",
   "execution_count": 15,
   "id": "5435c895",
   "metadata": {},
   "outputs": [
    {
     "name": "stdout",
     "output_type": "stream",
     "text": [
      "140637764774320\n"
     ]
    }
   ],
   "source": [
    "print(id(a))"
   ]
  },
  {
   "cell_type": "markdown",
   "id": "9adac740",
   "metadata": {},
   "source": [
    "## List"
   ]
  },
  {
   "cell_type": "code",
   "execution_count": 16,
   "id": "c63e91d7",
   "metadata": {},
   "outputs": [
    {
     "name": "stdout",
     "output_type": "stream",
     "text": [
      "140636690961152\n"
     ]
    }
   ],
   "source": [
    "a = [2, 5, 6]\n",
    "print(id(a))"
   ]
  },
  {
   "cell_type": "code",
   "execution_count": 17,
   "id": "b0ef1090",
   "metadata": {},
   "outputs": [
    {
     "name": "stdout",
     "output_type": "stream",
     "text": [
      "[3, 5, 6]\n"
     ]
    }
   ],
   "source": [
    "a[0] = 3\n",
    "print(a)"
   ]
  },
  {
   "cell_type": "code",
   "execution_count": 18,
   "id": "7f342f85",
   "metadata": {},
   "outputs": [
    {
     "name": "stdout",
     "output_type": "stream",
     "text": [
      "140636690961152\n"
     ]
    }
   ],
   "source": [
    "print(id(a))"
   ]
  },
  {
   "cell_type": "code",
   "execution_count": 20,
   "id": "78ca660e",
   "metadata": {},
   "outputs": [
    {
     "name": "stdout",
     "output_type": "stream",
     "text": [
      "141241521735075817510374318074394171571047\n"
     ]
    }
   ],
   "source": [
    "a = 141241521735075817510374318074394171571047 # special data types\n",
    "# int, float, bool, str => FCC\n",
    "print(a)"
   ]
  },
  {
   "cell_type": "code",
   "execution_count": 21,
   "id": "e7ddea9a",
   "metadata": {},
   "outputs": [
    {
     "name": "stdout",
     "output_type": "stream",
     "text": [
      "-131412954198471418047174\n"
     ]
    }
   ],
   "source": [
    "a = -131412954198471418047174\n",
    "print(a)"
   ]
  },
  {
   "cell_type": "code",
   "execution_count": 22,
   "id": "d66d033b",
   "metadata": {},
   "outputs": [
    {
     "data": {
      "text/plain": [
       "int"
      ]
     },
     "execution_count": 22,
     "metadata": {},
     "output_type": "execute_result"
    }
   ],
   "source": [
    "type(a)\n"
   ]
  },
  {
   "cell_type": "code",
   "execution_count": 23,
   "id": "acdc00de",
   "metadata": {},
   "outputs": [
    {
     "data": {
      "text/plain": [
       "float"
      ]
     },
     "execution_count": 23,
     "metadata": {},
     "output_type": "execute_result"
    }
   ],
   "source": [
    "type(5.7)"
   ]
  },
  {
   "cell_type": "markdown",
   "id": "69f74840",
   "metadata": {},
   "source": [
    "## Operators\n",
    "\n",
    "- add (+)\n",
    "- sub (-)\n",
    "- mul (*)\n",
    "- div (/)\n",
    "- floored div (//)\n",
    "- exponentiation (**)\n",
    "- modulus (%)"
   ]
  },
  {
   "cell_type": "code",
   "execution_count": 25,
   "id": "f5f4dcda",
   "metadata": {},
   "outputs": [
    {
     "name": "stdout",
     "output_type": "stream",
     "text": [
      "12\n"
     ]
    }
   ],
   "source": [
    "print(5 + 7)"
   ]
  },
  {
   "cell_type": "code",
   "execution_count": 28,
   "id": "6b5d3396",
   "metadata": {},
   "outputs": [
    {
     "name": "stdout",
     "output_type": "stream",
     "text": [
      "2\n"
     ]
    }
   ],
   "source": [
    "print(5 // 2) # integer division => result is an int"
   ]
  },
  {
   "cell_type": "code",
   "execution_count": 29,
   "id": "74fd2341",
   "metadata": {},
   "outputs": [
    {
     "name": "stdout",
     "output_type": "stream",
     "text": [
      "2.5\n"
     ]
    }
   ],
   "source": [
    "print(5 / 2) # normal division"
   ]
  },
  {
   "cell_type": "code",
   "execution_count": 30,
   "id": "83b1b848",
   "metadata": {},
   "outputs": [
    {
     "name": "stdout",
     "output_type": "stream",
     "text": [
      "9\n"
     ]
    }
   ],
   "source": [
    "print(3 ** 2)"
   ]
  },
  {
   "cell_type": "code",
   "execution_count": 31,
   "id": "a1abb08f",
   "metadata": {},
   "outputs": [
    {
     "name": "stdout",
     "output_type": "stream",
     "text": [
      "6\n"
     ]
    }
   ],
   "source": [
    "print(3 * 2)"
   ]
  },
  {
   "cell_type": "code",
   "execution_count": 33,
   "id": "ed1ee29e",
   "metadata": {},
   "outputs": [
    {
     "name": "stdout",
     "output_type": "stream",
     "text": [
      "1\n"
     ]
    }
   ],
   "source": [
    "print(3 % 2) # remainder when 3 divided by 2"
   ]
  },
  {
   "cell_type": "code",
   "execution_count": 34,
   "id": "ff74c961",
   "metadata": {},
   "outputs": [
    {
     "data": {
      "text/plain": [
       "'iaminevitable!'"
      ]
     },
     "execution_count": 34,
     "metadata": {},
     "output_type": "execute_result"
    }
   ],
   "source": [
    "\"i\" + \"am\" + \"inevitable!\""
   ]
  },
  {
   "cell_type": "code",
   "execution_count": 37,
   "id": "7f0ccfb6",
   "metadata": {},
   "outputs": [
    {
     "data": {
      "text/plain": [
       "'randomrandomrandomrandomrandomrandom'"
      ]
     },
     "execution_count": 37,
     "metadata": {},
     "output_type": "execute_result"
    }
   ],
   "source": [
    "\"random\"*2*3"
   ]
  },
  {
   "cell_type": "markdown",
   "id": "54bde563",
   "metadata": {},
   "source": [
    "## Identifiers (variable naming)\n",
    "\n",
    "1. Start the name with an **alphabet (A-Z, a-z) or an underscore (_)**\n",
    "2. Use alphanumerics **(A-Z, a-z, 0-9)** and underscores within the name\n",
    "3. Can't have spaces within the name of variable"
   ]
  },
  {
   "cell_type": "code",
   "execution_count": 38,
   "id": "e5202549",
   "metadata": {},
   "outputs": [
    {
     "name": "stdout",
     "output_type": "stream",
     "text": [
      "45\n"
     ]
    }
   ],
   "source": [
    "number1 = 45\n",
    "print(number1)"
   ]
  },
  {
   "cell_type": "code",
   "execution_count": 42,
   "id": "f3c1b5e3",
   "metadata": {},
   "outputs": [],
   "source": [
    "number_one = 45 # snake_case"
   ]
  },
  {
   "cell_type": "code",
   "execution_count": 43,
   "id": "eb0365e9",
   "metadata": {},
   "outputs": [],
   "source": [
    "numberOne = 67 # camelCase"
   ]
  },
  {
   "cell_type": "code",
   "execution_count": 44,
   "id": "ebef1f4b",
   "metadata": {},
   "outputs": [],
   "source": [
    "NumberOne = 68 # PascalCase"
   ]
  },
  {
   "cell_type": "code",
   "execution_count": 47,
   "id": "da3dc9e3",
   "metadata": {},
   "outputs": [],
   "source": [
    "_number = \"what?\""
   ]
  },
  {
   "cell_type": "code",
   "execution_count": null,
   "id": "362291ed",
   "metadata": {},
   "outputs": [],
   "source": []
  },
  {
   "cell_type": "code",
   "execution_count": 52,
   "id": "0892b9af",
   "metadata": {},
   "outputs": [],
   "source": [
    "hELLO = 123"
   ]
  },
  {
   "cell_type": "code",
   "execution_count": 9,
   "id": "c9e5b51d",
   "metadata": {},
   "outputs": [],
   "source": [
    "# _ = \"what???\""
   ]
  },
  {
   "cell_type": "code",
   "execution_count": 17,
   "id": "5a6e7b5c",
   "metadata": {},
   "outputs": [
    {
     "data": {
      "text/plain": [
       "7"
      ]
     },
     "execution_count": 17,
     "metadata": {},
     "output_type": "execute_result"
    }
   ],
   "source": [
    "3 + 4"
   ]
  },
  {
   "cell_type": "code",
   "execution_count": 18,
   "id": "c2ae171a",
   "metadata": {},
   "outputs": [
    {
     "name": "stdout",
     "output_type": "stream",
     "text": [
      "7\n"
     ]
    }
   ],
   "source": [
    "print(_)"
   ]
  },
  {
   "cell_type": "code",
   "execution_count": 19,
   "id": "5d3f5269",
   "metadata": {},
   "outputs": [
    {
     "data": {
      "text/plain": [
       "11"
      ]
     },
     "execution_count": 19,
     "metadata": {},
     "output_type": "execute_result"
    }
   ],
   "source": [
    "5 + 6"
   ]
  },
  {
   "cell_type": "code",
   "execution_count": 20,
   "id": "68efd6fd",
   "metadata": {},
   "outputs": [
    {
     "name": "stdout",
     "output_type": "stream",
     "text": [
      "11\n"
     ]
    }
   ],
   "source": [
    "print(_) # _ is a special identifier, it stores the values of last\n",
    "# evaluated expression"
   ]
  },
  {
   "cell_type": "code",
   "execution_count": 21,
   "id": "42f70e91",
   "metadata": {},
   "outputs": [
    {
     "data": {
      "text/plain": [
       "15"
      ]
     },
     "execution_count": 21,
     "metadata": {},
     "output_type": "execute_result"
    }
   ],
   "source": [
    "3 + 5 + 7"
   ]
  },
  {
   "cell_type": "code",
   "execution_count": 22,
   "id": "0486cfb2",
   "metadata": {},
   "outputs": [
    {
     "data": {
      "text/plain": [
       "15"
      ]
     },
     "execution_count": 22,
     "metadata": {},
     "output_type": "execute_result"
    }
   ],
   "source": [
    "_"
   ]
  },
  {
   "cell_type": "code",
   "execution_count": 24,
   "id": "2e1882e3",
   "metadata": {},
   "outputs": [
    {
     "data": {
      "text/plain": [
       "32603"
      ]
     },
     "execution_count": 24,
     "metadata": {},
     "output_type": "execute_result"
    }
   ],
   "source": [
    "32598 + 10 - 5"
   ]
  },
  {
   "cell_type": "code",
   "execution_count": 25,
   "id": "a8bc22ec",
   "metadata": {},
   "outputs": [
    {
     "name": "stdout",
     "output_type": "stream",
     "text": [
      "32603\n"
     ]
    }
   ],
   "source": [
    "print(_)"
   ]
  },
  {
   "cell_type": "code",
   "execution_count": 26,
   "id": "00ae1d63",
   "metadata": {},
   "outputs": [
    {
     "data": {
      "text/plain": [
       "32606"
      ]
     },
     "execution_count": 26,
     "metadata": {},
     "output_type": "execute_result"
    }
   ],
   "source": [
    "_ + 3"
   ]
  },
  {
   "cell_type": "code",
   "execution_count": 27,
   "id": "500e8660",
   "metadata": {},
   "outputs": [
    {
     "name": "stdout",
     "output_type": "stream",
     "text": [
      "77\n"
     ]
    }
   ],
   "source": [
    "print(77)"
   ]
  },
  {
   "cell_type": "code",
   "execution_count": 28,
   "id": "32896f54",
   "metadata": {},
   "outputs": [
    {
     "data": {
      "text/plain": [
       "32606"
      ]
     },
     "execution_count": 28,
     "metadata": {},
     "output_type": "execute_result"
    }
   ],
   "source": [
    "_"
   ]
  },
  {
   "cell_type": "code",
   "execution_count": 29,
   "id": "84a546ae",
   "metadata": {},
   "outputs": [
    {
     "data": {
      "text/plain": [
       "50"
      ]
     },
     "execution_count": 29,
     "metadata": {},
     "output_type": "execute_result"
    }
   ],
   "source": [
    "56 - 6"
   ]
  },
  {
   "cell_type": "code",
   "execution_count": 30,
   "id": "465b128c",
   "metadata": {},
   "outputs": [
    {
     "name": "stdout",
     "output_type": "stream",
     "text": [
      "50\n"
     ]
    }
   ],
   "source": [
    "print(_)"
   ]
  },
  {
   "cell_type": "markdown",
   "id": "6bd83012",
   "metadata": {},
   "source": [
    "## Small integer caching"
   ]
  },
  {
   "cell_type": "code",
   "execution_count": 37,
   "id": "37ea2db2",
   "metadata": {},
   "outputs": [],
   "source": [
    "# [-5, 256]\n",
    "# stores these numbers as soon as you\n",
    "# run your python program\n",
    "# they are frequently used in your programs\n",
    "a = 5\n",
    "b = 5"
   ]
  },
  {
   "cell_type": "code",
   "execution_count": 32,
   "id": "fcca8dab",
   "metadata": {},
   "outputs": [
    {
     "name": "stdout",
     "output_type": "stream",
     "text": [
      "140547436112304\n",
      "140547436112304\n"
     ]
    }
   ],
   "source": [
    "print(id(a))\n",
    "print(id(b))"
   ]
  },
  {
   "cell_type": "code",
   "execution_count": 34,
   "id": "2e2008f9",
   "metadata": {},
   "outputs": [
    {
     "data": {
      "text/plain": [
       "True"
      ]
     },
     "execution_count": 34,
     "metadata": {},
     "output_type": "execute_result"
    }
   ],
   "source": [
    "id(a) == id(b)"
   ]
  },
  {
   "cell_type": "code",
   "execution_count": 35,
   "id": "4344f567",
   "metadata": {},
   "outputs": [
    {
     "data": {
      "text/plain": [
       "False"
      ]
     },
     "execution_count": 35,
     "metadata": {},
     "output_type": "execute_result"
    }
   ],
   "source": [
    "b = 7\n",
    "c = 8\n",
    "id(b) == id(c)"
   ]
  },
  {
   "cell_type": "code",
   "execution_count": 36,
   "id": "582643d6",
   "metadata": {},
   "outputs": [
    {
     "name": "stdout",
     "output_type": "stream",
     "text": [
      "140547436112368\n",
      "140547436112368\n",
      "140547436112368\n"
     ]
    }
   ],
   "source": [
    "d = 7\n",
    "e = 7\n",
    "print(id(b))\n",
    "print(id(d))\n",
    "print(id(e))"
   ]
  },
  {
   "cell_type": "code",
   "execution_count": 38,
   "id": "4dbfd8a1",
   "metadata": {},
   "outputs": [
    {
     "name": "stdout",
     "output_type": "stream",
     "text": [
      "140547712925488\n"
     ]
    }
   ],
   "source": [
    "a = \"hello\"\n",
    "print(id(a))"
   ]
  },
  {
   "cell_type": "code",
   "execution_count": 40,
   "id": "7fd77f78",
   "metadata": {},
   "outputs": [
    {
     "name": "stdout",
     "output_type": "stream",
     "text": [
      "140547712925488\n"
     ]
    }
   ],
   "source": [
    "b = \"hello\"\n",
    "print(id(b)) # python it understands that its the same string\n",
    "# so used the same memory"
   ]
  },
  {
   "cell_type": "code",
   "execution_count": 41,
   "id": "2943d70a",
   "metadata": {},
   "outputs": [],
   "source": [
    "# homework : try to explore a bit about this optimisation"
   ]
  },
  {
   "cell_type": "markdown",
   "id": "63d1d4d6",
   "metadata": {},
   "source": [
    "## Control Flow\n"
   ]
  },
  {
   "cell_type": "code",
   "execution_count": 43,
   "id": "261b0576",
   "metadata": {},
   "outputs": [
    {
     "name": "stdout",
     "output_type": "stream",
     "text": [
      "I am true!\n",
      "5\n"
     ]
    }
   ],
   "source": [
    "if True:\n",
    "    print('I am true!')\n",
    "    print(2 + 3)"
   ]
  },
  {
   "cell_type": "code",
   "execution_count": 47,
   "id": "bb01adfa",
   "metadata": {},
   "outputs": [],
   "source": [
    "if False:\n",
    "    print('I am false!')\n",
    "    print(2 + 3)"
   ]
  },
  {
   "cell_type": "code",
   "execution_count": 44,
   "id": "40133f5f",
   "metadata": {},
   "outputs": [
    {
     "name": "stdout",
     "output_type": "stream",
     "text": [
      "I am false!\n"
     ]
    }
   ],
   "source": [
    "a = 50\n",
    "\n",
    "if a > 60:\n",
    "    print('I am true!')\n",
    "else:\n",
    "    print('I am false!')"
   ]
  },
  {
   "cell_type": "code",
   "execution_count": 46,
   "id": "fa0cbe24",
   "metadata": {},
   "outputs": [
    {
     "data": {
      "text/plain": [
       "False"
      ]
     },
     "execution_count": 46,
     "metadata": {},
     "output_type": "execute_result"
    }
   ],
   "source": [
    "a = 50\n",
    "a > 60 # comparison operator"
   ]
  },
  {
   "cell_type": "code",
   "execution_count": 48,
   "id": "017c42f3",
   "metadata": {},
   "outputs": [],
   "source": [
    "# multiple conditions"
   ]
  },
  {
   "cell_type": "code",
   "execution_count": 49,
   "id": "132c01b6",
   "metadata": {},
   "outputs": [
    {
     "name": "stdout",
     "output_type": "stream",
     "text": [
      "Now I am also true!\n"
     ]
    }
   ],
   "source": [
    "a = 50\n",
    "\n",
    "if a > 60:\n",
    "    print('I am true')\n",
    "elif a > 40:\n",
    "    print('Now I am also true!')\n",
    "else:\n",
    "    print('I am false!')"
   ]
  },
  {
   "cell_type": "code",
   "execution_count": 51,
   "id": "1a01f9cc",
   "metadata": {},
   "outputs": [
    {
     "name": "stdout",
     "output_type": "stream",
     "text": [
      "Now I am also true!\n"
     ]
    }
   ],
   "source": [
    "a = 50\n",
    "\n",
    "if a > 60:\n",
    "    print('I am true')\n",
    "elif a > 40:\n",
    "    print('Now I am also true!')\n",
    "elif a > 30:\n",
    "    print('I am false!')\n",
    "else:\n",
    "    print('Now I am very false!')"
   ]
  },
  {
   "cell_type": "code",
   "execution_count": 52,
   "id": "5abfc428",
   "metadata": {},
   "outputs": [
    {
     "name": "stdout",
     "output_type": "stream",
     "text": [
      "FIRST\n",
      "SECOND\n"
     ]
    }
   ],
   "source": [
    "a = 60\n",
    "\n",
    "if a > 50:\n",
    "    print(\"FIRST\")\n",
    "if a > 40:\n",
    "    print(\"SECOND\")"
   ]
  },
  {
   "cell_type": "code",
   "execution_count": 54,
   "id": "4d23218b",
   "metadata": {},
   "outputs": [
    {
     "name": "stdout",
     "output_type": "stream",
     "text": [
      "FIRST\n"
     ]
    }
   ],
   "source": [
    "a = 60\n",
    "\n",
    "if a > 50: # True\n",
    "    print(\"FIRST\")\n",
    "elif a > 40: # Not even checked\n",
    "    print(\"SECOND\")"
   ]
  },
  {
   "cell_type": "code",
   "execution_count": 56,
   "id": "f3976294",
   "metadata": {},
   "outputs": [
    {
     "data": {
      "text/plain": [
       "11"
      ]
     },
     "execution_count": 56,
     "metadata": {},
     "output_type": "execute_result"
    }
   ],
   "source": [
    "5 + 6"
   ]
  },
  {
   "cell_type": "code",
   "execution_count": 57,
   "id": "2ee7fa78",
   "metadata": {},
   "outputs": [
    {
     "data": {
      "text/plain": [
       "11"
      ]
     },
     "execution_count": 57,
     "metadata": {},
     "output_type": "execute_result"
    }
   ],
   "source": [
    "_"
   ]
  },
  {
   "cell_type": "markdown",
   "id": "76b9acec",
   "metadata": {},
   "source": [
    "## Function"
   ]
  },
  {
   "cell_type": "code",
   "execution_count": 63,
   "id": "8d9cf8ee",
   "metadata": {},
   "outputs": [],
   "source": [
    "def sheldon_knock(name): # name is a parameter\n",
    "    print(\"Knock Knock Knock\", name)\n",
    "    print(\"Knock Knock Knock\", name)\n",
    "    print(\"Knock Knock Knock\", name)"
   ]
  },
  {
   "cell_type": "code",
   "execution_count": 65,
   "id": "dfb830f7",
   "metadata": {},
   "outputs": [
    {
     "name": "stdout",
     "output_type": "stream",
     "text": [
      "Knock Knock Knock Penny\n",
      "Knock Knock Knock Penny\n",
      "Knock Knock Knock Penny\n"
     ]
    }
   ],
   "source": [
    "sheldon_knock('Penny') # 'Penny' is an argument => actual argument"
   ]
  },
  {
   "cell_type": "code",
   "execution_count": 66,
   "id": "e1268d9c",
   "metadata": {},
   "outputs": [
    {
     "name": "stdout",
     "output_type": "stream",
     "text": [
      "Knock Knock Knock Leonard\n",
      "Knock Knock Knock Leonard\n",
      "Knock Knock Knock Leonard\n"
     ]
    }
   ],
   "source": [
    "sheldon_knock('Leonard')"
   ]
  },
  {
   "cell_type": "markdown",
   "id": "4eaaebc8",
   "metadata": {},
   "source": [
    "## Everything in python is an object"
   ]
  },
  {
   "cell_type": "code",
   "execution_count": 67,
   "id": "bd013c81",
   "metadata": {},
   "outputs": [
    {
     "data": {
      "text/plain": [
       "True"
      ]
     },
     "execution_count": 67,
     "metadata": {},
     "output_type": "execute_result"
    }
   ],
   "source": [
    "isinstance(3, int)"
   ]
  },
  {
   "cell_type": "code",
   "execution_count": 68,
   "id": "97457a62",
   "metadata": {},
   "outputs": [
    {
     "data": {
      "text/plain": [
       "False"
      ]
     },
     "execution_count": 68,
     "metadata": {},
     "output_type": "execute_result"
    }
   ],
   "source": [
    "isinstance(3, float)"
   ]
  },
  {
   "cell_type": "code",
   "execution_count": 69,
   "id": "3c19a4a2",
   "metadata": {},
   "outputs": [
    {
     "data": {
      "text/plain": [
       "True"
      ]
     },
     "execution_count": 69,
     "metadata": {},
     "output_type": "execute_result"
    }
   ],
   "source": [
    "isinstance(3.5, float)"
   ]
  },
  {
   "cell_type": "code",
   "execution_count": 71,
   "id": "c363c67e",
   "metadata": {},
   "outputs": [
    {
     "data": {
      "text/plain": [
       "True"
      ]
     },
     "execution_count": 71,
     "metadata": {},
     "output_type": "execute_result"
    }
   ],
   "source": [
    "isinstance('sahil', str)"
   ]
  },
  {
   "cell_type": "code",
   "execution_count": 72,
   "id": "1aa44d5e",
   "metadata": {},
   "outputs": [
    {
     "data": {
      "text/plain": [
       "True"
      ]
     },
     "execution_count": 72,
     "metadata": {},
     "output_type": "execute_result"
    }
   ],
   "source": [
    "isinstance(3, object)"
   ]
  },
  {
   "cell_type": "code",
   "execution_count": 73,
   "id": "e41fd387",
   "metadata": {},
   "outputs": [
    {
     "data": {
      "text/plain": [
       "True"
      ]
     },
     "execution_count": 73,
     "metadata": {},
     "output_type": "execute_result"
    }
   ],
   "source": [
    "isinstance(3.5, object)"
   ]
  },
  {
   "cell_type": "code",
   "execution_count": 74,
   "id": "818bcbfa",
   "metadata": {},
   "outputs": [
    {
     "data": {
      "text/plain": [
       "True"
      ]
     },
     "execution_count": 74,
     "metadata": {},
     "output_type": "execute_result"
    }
   ],
   "source": [
    "isinstance('sahil', object)"
   ]
  },
  {
   "cell_type": "code",
   "execution_count": 75,
   "id": "647038da",
   "metadata": {},
   "outputs": [
    {
     "name": "stdout",
     "output_type": "stream",
     "text": [
      "True\n"
     ]
    }
   ],
   "source": [
    "print(isinstance(print, object))"
   ]
  },
  {
   "cell_type": "code",
   "execution_count": 76,
   "id": "d8667aa8",
   "metadata": {},
   "outputs": [
    {
     "name": "stdout",
     "output_type": "stream",
     "text": [
      "True\n"
     ]
    }
   ],
   "source": [
    "print(isinstance(True, object))"
   ]
  },
  {
   "cell_type": "code",
   "execution_count": 77,
   "id": "436c595d",
   "metadata": {},
   "outputs": [
    {
     "name": "stdout",
     "output_type": "stream",
     "text": [
      "True\n"
     ]
    }
   ],
   "source": [
    "print(isinstance(False, object))"
   ]
  },
  {
   "cell_type": "code",
   "execution_count": 80,
   "id": "e9e18d4d",
   "metadata": {},
   "outputs": [
    {
     "name": "stdout",
     "output_type": "stream",
     "text": [
      "[1, 2, 3, 4, 5]\n"
     ]
    }
   ],
   "source": [
    "l = [1, 2, 3, 4, 5]\n",
    "print(l)"
   ]
  },
  {
   "cell_type": "code",
   "execution_count": 83,
   "id": "07cb1a6e",
   "metadata": {},
   "outputs": [],
   "source": [
    "l = ['hello', print, 4.5, 6, True, [3, 4]]"
   ]
  },
  {
   "cell_type": "code",
   "execution_count": 84,
   "id": "65e954b6",
   "metadata": {},
   "outputs": [
    {
     "name": "stdout",
     "output_type": "stream",
     "text": [
      "['hello', <built-in function print>, 4.5, 6, True, [3, 4]]\n"
     ]
    }
   ],
   "source": [
    "print(l)"
   ]
  },
  {
   "cell_type": "code",
   "execution_count": 85,
   "id": "fc6b3a60",
   "metadata": {},
   "outputs": [
    {
     "name": "stdout",
     "output_type": "stream",
     "text": [
      "hello\n"
     ]
    }
   ],
   "source": [
    "print(l[0])"
   ]
  },
  {
   "cell_type": "code",
   "execution_count": 86,
   "id": "1fc69ae7",
   "metadata": {},
   "outputs": [
    {
     "name": "stdout",
     "output_type": "stream",
     "text": [
      "<built-in function print>\n"
     ]
    }
   ],
   "source": [
    "print(l[1])"
   ]
  },
  {
   "cell_type": "code",
   "execution_count": 88,
   "id": "5a9b1730",
   "metadata": {},
   "outputs": [
    {
     "name": "stdout",
     "output_type": "stream",
     "text": [
      "hello world\n"
     ]
    }
   ],
   "source": [
    "l[1](\"hello world\")"
   ]
  },
  {
   "cell_type": "code",
   "execution_count": null,
   "id": "16f52909",
   "metadata": {},
   "outputs": [],
   "source": []
  },
  {
   "cell_type": "markdown",
   "id": "53ad7a25",
   "metadata": {},
   "source": [
    "## Doubts"
   ]
  },
  {
   "cell_type": "code",
   "execution_count": 89,
   "id": "a5626ace",
   "metadata": {},
   "outputs": [],
   "source": [
    "l = [1, 2, print, 4.5]"
   ]
  },
  {
   "cell_type": "code",
   "execution_count": 94,
   "id": "80bee369",
   "metadata": {},
   "outputs": [
    {
     "name": "stdout",
     "output_type": "stream",
     "text": [
      "<built-in function print>\n"
     ]
    }
   ],
   "source": [
    "print(l[2])"
   ]
  },
  {
   "cell_type": "code",
   "execution_count": 95,
   "id": "d1d7da0d",
   "metadata": {},
   "outputs": [
    {
     "data": {
      "text/plain": [
       "<function print>"
      ]
     },
     "execution_count": 95,
     "metadata": {},
     "output_type": "execute_result"
    }
   ],
   "source": [
    "l[2]"
   ]
  },
  {
   "cell_type": "code",
   "execution_count": 96,
   "id": "407a2550",
   "metadata": {},
   "outputs": [
    {
     "data": {
      "text/plain": [
       "builtin_function_or_method"
      ]
     },
     "execution_count": 96,
     "metadata": {},
     "output_type": "execute_result"
    }
   ],
   "source": [
    "type(l[2])"
   ]
  },
  {
   "cell_type": "code",
   "execution_count": 97,
   "id": "f4278d9c",
   "metadata": {},
   "outputs": [
    {
     "name": "stdout",
     "output_type": "stream",
     "text": [
      "hello world\n"
     ]
    }
   ],
   "source": [
    "l[2]('hello world')"
   ]
  },
  {
   "cell_type": "code",
   "execution_count": 98,
   "id": "564d1dd9",
   "metadata": {},
   "outputs": [
    {
     "name": "stdout",
     "output_type": "stream",
     "text": [
      "9\n"
     ]
    }
   ],
   "source": [
    "l[2](3 + 6)"
   ]
  },
  {
   "cell_type": "code",
   "execution_count": 99,
   "id": "2bf6d277",
   "metadata": {},
   "outputs": [
    {
     "data": {
      "text/plain": [
       "True"
      ]
     },
     "execution_count": 99,
     "metadata": {},
     "output_type": "execute_result"
    }
   ],
   "source": [
    "a = 5\n",
    "b = 5\n",
    "id(a) == id(b)"
   ]
  },
  {
   "cell_type": "code",
   "execution_count": 100,
   "id": "4d7155b7",
   "metadata": {},
   "outputs": [
    {
     "data": {
      "text/plain": [
       "False"
      ]
     },
     "execution_count": 100,
     "metadata": {},
     "output_type": "execute_result"
    }
   ],
   "source": [
    "a = 6\n",
    "b = 7\n",
    "id(a) == id(b)"
   ]
  },
  {
   "cell_type": "code",
   "execution_count": 105,
   "id": "a65fe066",
   "metadata": {},
   "outputs": [],
   "source": [
    "# [-5, 256] => small integer caching"
   ]
  },
  {
   "cell_type": "code",
   "execution_count": 103,
   "id": "342678a8",
   "metadata": {},
   "outputs": [
    {
     "name": "stdout",
     "output_type": "stream",
     "text": [
      "140547436112336\n",
      "140547436112400\n"
     ]
    }
   ],
   "source": [
    "a = 6\n",
    "print(id(a))\n",
    "a = 8\n",
    "print(id(a))"
   ]
  },
  {
   "cell_type": "code",
   "execution_count": 104,
   "id": "79a04006",
   "metadata": {},
   "outputs": [
    {
     "name": "stdout",
     "output_type": "stream",
     "text": [
      "140547436112400\n"
     ]
    }
   ],
   "source": [
    "b = 8\n",
    "print(id(8))"
   ]
  },
  {
   "cell_type": "code",
   "execution_count": 111,
   "id": "aec2b6d3",
   "metadata": {},
   "outputs": [
    {
     "name": "stdout",
     "output_type": "stream",
     "text": [
      "True\n"
     ]
    }
   ],
   "source": [
    "print # is it variable or an object?\n",
    "# it's an object\n",
    "print(isinstance(print, object))"
   ]
  },
  {
   "cell_type": "code",
   "execution_count": 112,
   "id": "1dd44e78",
   "metadata": {},
   "outputs": [
    {
     "name": "stdout",
     "output_type": "stream",
     "text": [
      "True\n"
     ]
    }
   ],
   "source": [
    "a = 3 # a is an object, also a variable\n",
    "print(isinstance(a, object))"
   ]
  },
  {
   "cell_type": "code",
   "execution_count": 114,
   "id": "166f6ade",
   "metadata": {},
   "outputs": [
    {
     "name": "stdout",
     "output_type": "stream",
     "text": [
      "[1, 2, 3]\n",
      "[1, 2]\n"
     ]
    }
   ],
   "source": [
    "a = [1, 2, 3]\n",
    "print(a)\n",
    "a.pop()\n",
    "print(a)"
   ]
  },
  {
   "cell_type": "code",
   "execution_count": 115,
   "id": "0c955b74",
   "metadata": {},
   "outputs": [],
   "source": [
    "a = [132, 15, 6, 7, 8]\n",
    "\n",
    "a.remove(15)"
   ]
  },
  {
   "cell_type": "code",
   "execution_count": 116,
   "id": "7dbb9e82",
   "metadata": {},
   "outputs": [
    {
     "name": "stdout",
     "output_type": "stream",
     "text": [
      "[132, 6, 7, 8]\n"
     ]
    }
   ],
   "source": [
    "print(a)"
   ]
  },
  {
   "cell_type": "code",
   "execution_count": 117,
   "id": "2216680d",
   "metadata": {},
   "outputs": [],
   "source": [
    "del a[3]"
   ]
  },
  {
   "cell_type": "code",
   "execution_count": 118,
   "id": "1e23138e",
   "metadata": {},
   "outputs": [
    {
     "name": "stdout",
     "output_type": "stream",
     "text": [
      "[132, 6, 7]\n"
     ]
    }
   ],
   "source": [
    "print(a)"
   ]
  },
  {
   "cell_type": "code",
   "execution_count": 119,
   "id": "8dc8ab7a",
   "metadata": {},
   "outputs": [],
   "source": [
    "a.append(sheldon_knock)"
   ]
  },
  {
   "cell_type": "code",
   "execution_count": 120,
   "id": "a6ccbd6d",
   "metadata": {},
   "outputs": [
    {
     "name": "stdout",
     "output_type": "stream",
     "text": [
      "[132, 6, 7, <function sheldon_knock at 0x7fd3b07f4b80>]\n"
     ]
    }
   ],
   "source": [
    "print(a)"
   ]
  },
  {
   "cell_type": "code",
   "execution_count": 122,
   "id": "201ec8a3",
   "metadata": {},
   "outputs": [
    {
     "name": "stdout",
     "output_type": "stream",
     "text": [
      "Knock Knock Knock penny\n",
      "Knock Knock Knock penny\n",
      "Knock Knock Knock penny\n"
     ]
    }
   ],
   "source": [
    "a[-1]('penny')\n"
   ]
  },
  {
   "cell_type": "code",
   "execution_count": 123,
   "id": "54dccfeb",
   "metadata": {},
   "outputs": [
    {
     "data": {
      "text/plain": [
       "14"
      ]
     },
     "execution_count": 123,
     "metadata": {},
     "output_type": "execute_result"
    }
   ],
   "source": [
    "5 + 9"
   ]
  },
  {
   "cell_type": "code",
   "execution_count": 124,
   "id": "d71b11ae",
   "metadata": {},
   "outputs": [
    {
     "data": {
      "text/plain": [
       "14"
      ]
     },
     "execution_count": 124,
     "metadata": {},
     "output_type": "execute_result"
    }
   ],
   "source": [
    "_"
   ]
  },
  {
   "cell_type": "code",
   "execution_count": 140,
   "id": "0cac2b0b",
   "metadata": {},
   "outputs": [
    {
     "name": "stdout",
     "output_type": "stream",
     "text": [
      "140547178378864\n"
     ]
    },
    {
     "data": {
      "text/plain": [
       "'sohil bonsol'"
      ]
     },
     "execution_count": 140,
     "metadata": {},
     "output_type": "execute_result"
    }
   ],
   "source": [
    "s = \"sahil bansal\"\n",
    "print(id(s))\n",
    "\n",
    "s.replace('a', 'o') # giving a copy as the return value"
   ]
  },
  {
   "cell_type": "code",
   "execution_count": 141,
   "id": "9754626c",
   "metadata": {},
   "outputs": [
    {
     "name": "stdout",
     "output_type": "stream",
     "text": [
      "sahil bansal\n",
      "140547178378864\n"
     ]
    }
   ],
   "source": [
    "print(s)\n",
    "print(id(s))"
   ]
  },
  {
   "cell_type": "raw",
   "id": "6efec451",
   "metadata": {},
   "source": []
  },
  {
   "cell_type": "code",
   "execution_count": null,
   "id": "123f0cfa",
   "metadata": {},
   "outputs": [],
   "source": []
  }
 ],
 "metadata": {
  "kernelspec": {
   "display_name": "Python 3 (ipykernel)",
   "language": "python",
   "name": "python3"
  },
  "language_info": {
   "codemirror_mode": {
    "name": "ipython",
    "version": 3
   },
   "file_extension": ".py",
   "mimetype": "text/x-python",
   "name": "python",
   "nbconvert_exporter": "python",
   "pygments_lexer": "ipython3",
   "version": "3.9.12"
  }
 },
 "nbformat": 4,
 "nbformat_minor": 5
}
