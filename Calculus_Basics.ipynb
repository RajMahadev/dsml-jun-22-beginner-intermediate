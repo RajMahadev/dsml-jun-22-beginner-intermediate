{
 "cells": [
  {
   "cell_type": "markdown",
   "id": "2e2767d2",
   "metadata": {},
   "source": [
    "## Calculus"
   ]
  },
  {
   "cell_type": "markdown",
   "id": "d88ac559",
   "metadata": {},
   "source": [
    "## Functions"
   ]
  },
  {
   "cell_type": "code",
   "execution_count": 1,
   "id": "d85b02cd",
   "metadata": {},
   "outputs": [],
   "source": [
    "def f(x):\n",
    "    return x**2"
   ]
  },
  {
   "cell_type": "code",
   "execution_count": 8,
   "id": "ebf0d7cb",
   "metadata": {},
   "outputs": [
    {
     "name": "stdout",
     "output_type": "stream",
     "text": [
      "Inputs:  [0, 1, 2, 3, 4, 5]\n",
      "Outputs:  [0, 1, 4, 9, 16, 25]\n"
     ]
    }
   ],
   "source": [
    "inputs = [0, 1, 2, 3, 4, 5]\n",
    "outputs = []\n",
    "\n",
    "# method 1\n",
    "for x in inputs:\n",
    "    outputs.append(f(x))\n",
    "\n",
    "print(\"Inputs: \", inputs)\n",
    "print(\"Outputs: \", outputs)"
   ]
  },
  {
   "cell_type": "code",
   "execution_count": 9,
   "id": "ee8c5993",
   "metadata": {},
   "outputs": [
    {
     "name": "stdout",
     "output_type": "stream",
     "text": [
      "[0, 1, 4, 9, 16, 25]\n"
     ]
    }
   ],
   "source": [
    "# method 2 - using list comprehension\n",
    "outputs1 = [f(x) for x in inputs]\n",
    "print(outputs1)"
   ]
  },
  {
   "cell_type": "code",
   "execution_count": 10,
   "id": "05227426",
   "metadata": {},
   "outputs": [
    {
     "name": "stdout",
     "output_type": "stream",
     "text": [
      "[0, 1, 4, 9, 16, 25]\n"
     ]
    }
   ],
   "source": [
    "# method 3 - using functional programming - map\n",
    "outputs2 = list(map(f, inputs))\n",
    "print(outputs2)"
   ]
  },
  {
   "cell_type": "markdown",
   "id": "463a4724",
   "metadata": {},
   "source": [
    "## Limits"
   ]
  },
  {
   "cell_type": "code",
   "execution_count": 11,
   "id": "a2f3df46",
   "metadata": {},
   "outputs": [],
   "source": [
    "def f(x):\n",
    "    if x > 2:\n",
    "        return x**2\n",
    "    else:\n",
    "        return x"
   ]
  },
  {
   "cell_type": "code",
   "execution_count": 20,
   "id": "387f00a2",
   "metadata": {},
   "outputs": [
    {
     "name": "stdout",
     "output_type": "stream",
     "text": [
      "[1.5, 1.9, 1.99, 1.9999]\n"
     ]
    }
   ],
   "source": [
    "a = 2\n",
    "left_hand_inputs = [1.5, 1.9, 1.99, 1.9999]\n",
    "right_hand_inputs = [2.5, 2.1, 2.01, 2.0001]\n",
    "\n",
    "print(left_hand_inputs) # as close to 2 as possible from left side"
   ]
  },
  {
   "cell_type": "code",
   "execution_count": 18,
   "id": "7ed66499",
   "metadata": {},
   "outputs": [
    {
     "name": "stdout",
     "output_type": "stream",
     "text": [
      "[2.5, 2.1, 2.01, 2.0001]\n"
     ]
    }
   ],
   "source": [
    "print(right_hand_inputs) # as close to 2 as possible from right side"
   ]
  },
  {
   "cell_type": "code",
   "execution_count": 19,
   "id": "b779bf26",
   "metadata": {},
   "outputs": [
    {
     "name": "stdout",
     "output_type": "stream",
     "text": [
      "Left Hand outputs:  [1.5, 1.9, 1.99, 1.9999]\n",
      "Right hand outputs:  [6.25, 4.41, 4.040099999999999, 4.000400010000001]\n"
     ]
    }
   ],
   "source": [
    "left_hand_outputs = [f(x) for x in left_hand_inputs]\n",
    "right_hand_outputs = [f(x) for x in right_hand_inputs]\n",
    "\n",
    "print(\"Left Hand outputs: \", left_hand_outputs)\n",
    "print(\"Right hand outputs: \", right_hand_outputs)"
   ]
  },
  {
   "cell_type": "markdown",
   "id": "fc3aa479",
   "metadata": {},
   "source": [
    "## Limits again"
   ]
  },
  {
   "cell_type": "code",
   "execution_count": 31,
   "id": "a96dc3c9",
   "metadata": {},
   "outputs": [],
   "source": [
    "def f(x):\n",
    "    if x > 2:\n",
    "        return x**2\n",
    "    else:\n",
    "        return x"
   ]
  },
  {
   "cell_type": "code",
   "execution_count": 33,
   "id": "88aac453",
   "metadata": {},
   "outputs": [
    {
     "name": "stdout",
     "output_type": "stream",
     "text": [
      "[0.5, 0.9, 0.999, 0.9999]\n",
      "[1.5, 1.1, 1.001, 1.0001]\n"
     ]
    }
   ],
   "source": [
    "a = 1\n",
    "left_hand_inputs = [a - i for i in [0.5, 0.1, 0.001, 0.0001]]\n",
    "right_hand_inputs = [a + i for i in [0.5, 0.1, 0.001, 0.0001]]\n",
    "\n",
    "print(left_hand_inputs) # as close to 2 as possible from left side\n",
    "print(right_hand_inputs)"
   ]
  },
  {
   "cell_type": "code",
   "execution_count": 34,
   "id": "89cd38bd",
   "metadata": {},
   "outputs": [
    {
     "name": "stdout",
     "output_type": "stream",
     "text": [
      "Left Hand outputs:  [0.5, 0.9, 0.999, 0.9999]\n",
      "Right hand outputs:  [1.5, 1.1, 1.001, 1.0001]\n"
     ]
    }
   ],
   "source": [
    "left_hand_outputs = [f(x) for x in left_hand_inputs]\n",
    "right_hand_outputs = [f(x) for x in right_hand_inputs]\n",
    "\n",
    "print(\"Left Hand outputs: \", left_hand_outputs)\n",
    "print(\"Right hand outputs: \", right_hand_outputs)"
   ]
  },
  {
   "cell_type": "markdown",
   "id": "98cfeeab",
   "metadata": {},
   "source": [
    "## Doubts"
   ]
  },
  {
   "cell_type": "code",
   "execution_count": 57,
   "id": "9cecc564",
   "metadata": {},
   "outputs": [],
   "source": [
    "class ThirdPartyAPI:\n",
    "    def send_message(self, phone_num):\n",
    "        if (phone_num[-1] == \"0\"):\n",
    "            return False\n",
    "        return True\n",
    "        "
   ]
  },
  {
   "cell_type": "code",
   "execution_count": 58,
   "id": "31776be2",
   "metadata": {},
   "outputs": [],
   "source": [
    "thirdPartyAPI = ThirdPartyAPI()\n",
    "\n",
    "def send_sms(phone_num):\n",
    "    res = thirdPartyAPI.send_message(phone_num)\n",
    "    if res == False:\n",
    "        raise Exception(\"Message was not sent\")\n",
    "    return res"
   ]
  },
  {
   "cell_type": "code",
   "execution_count": 59,
   "id": "6e40af37",
   "metadata": {},
   "outputs": [
    {
     "data": {
      "text/plain": [
       "True"
      ]
     },
     "execution_count": 59,
     "metadata": {},
     "output_type": "execute_result"
    }
   ],
   "source": [
    "send_sms(\"9034138061\")"
   ]
  },
  {
   "cell_type": "code",
   "execution_count": 60,
   "id": "36144f0c",
   "metadata": {},
   "outputs": [
    {
     "ename": "Exception",
     "evalue": "Message was not sent",
     "output_type": "error",
     "traceback": [
      "\u001b[0;31m---------------------------------------------------------------------------\u001b[0m",
      "\u001b[0;31mException\u001b[0m                                 Traceback (most recent call last)",
      "Input \u001b[0;32mIn [60]\u001b[0m, in \u001b[0;36m<cell line: 1>\u001b[0;34m()\u001b[0m\n\u001b[0;32m----> 1\u001b[0m \u001b[43msend_sms\u001b[49m\u001b[43m(\u001b[49m\u001b[38;5;124;43m\"\u001b[39;49m\u001b[38;5;124;43m9034138060\u001b[39;49m\u001b[38;5;124;43m\"\u001b[39;49m\u001b[43m)\u001b[49m\n",
      "Input \u001b[0;32mIn [58]\u001b[0m, in \u001b[0;36msend_sms\u001b[0;34m(phone_num)\u001b[0m\n\u001b[1;32m      4\u001b[0m res \u001b[38;5;241m=\u001b[39m thirdPartyAPI\u001b[38;5;241m.\u001b[39msend_message(phone_num)\n\u001b[1;32m      5\u001b[0m \u001b[38;5;28;01mif\u001b[39;00m res \u001b[38;5;241m==\u001b[39m \u001b[38;5;28;01mFalse\u001b[39;00m:\n\u001b[0;32m----> 6\u001b[0m     \u001b[38;5;28;01mraise\u001b[39;00m \u001b[38;5;167;01mException\u001b[39;00m(\u001b[38;5;124m\"\u001b[39m\u001b[38;5;124mMessage was not sent\u001b[39m\u001b[38;5;124m\"\u001b[39m)\n\u001b[1;32m      7\u001b[0m \u001b[38;5;28;01mreturn\u001b[39;00m res\n",
      "\u001b[0;31mException\u001b[0m: Message was not sent"
     ]
    }
   ],
   "source": [
    "send_sms(\"9034138060\")"
   ]
  },
  {
   "cell_type": "code",
   "execution_count": null,
   "id": "8fabd787",
   "metadata": {},
   "outputs": [],
   "source": []
  },
  {
   "cell_type": "markdown",
   "id": "5e8d303c",
   "metadata": {},
   "source": []
  },
  {
   "cell_type": "code",
   "execution_count": 69,
   "id": "aa9be3f0",
   "metadata": {},
   "outputs": [],
   "source": [
    "class ThirdPartyAPI:\n",
    "    def send_message(self, phone_num):\n",
    "        if (phone_num[-1] == \"0\"):\n",
    "            raise Exception(\"Bug in 3rd party code\")\n",
    "        return True"
   ]
  },
  {
   "cell_type": "code",
   "execution_count": 79,
   "id": "3a1d7554",
   "metadata": {},
   "outputs": [],
   "source": [
    "thirdPartyAPI = ThirdPartyAPI()\n",
    "\n",
    "def send_sms(phone_num):\n",
    "    try:\n",
    "        res = thirdPartyAPI.send_message(phone_num)\n",
    "        return 20\n",
    "    except Exception as e:\n",
    "        print(e)\n",
    "    finally:\n",
    "        print(\"All done\")"
   ]
  },
  {
   "cell_type": "code",
   "execution_count": 80,
   "id": "957e8277",
   "metadata": {},
   "outputs": [
    {
     "name": "stdout",
     "output_type": "stream",
     "text": [
      "All done\n"
     ]
    },
    {
     "data": {
      "text/plain": [
       "20"
      ]
     },
     "execution_count": 80,
     "metadata": {},
     "output_type": "execute_result"
    }
   ],
   "source": [
    "send_sms(\"9034138061\")"
   ]
  },
  {
   "cell_type": "code",
   "execution_count": 81,
   "id": "b5ba0ccb",
   "metadata": {},
   "outputs": [
    {
     "name": "stdout",
     "output_type": "stream",
     "text": [
      "Bug in 3rd party code\n",
      "All done\n"
     ]
    }
   ],
   "source": [
    "send_sms(\"9034138060\")"
   ]
  },
  {
   "cell_type": "code",
   "execution_count": 89,
   "id": "cc7406cb",
   "metadata": {},
   "outputs": [],
   "source": [
    "\n",
    "def f():\n",
    "    try:\n",
    "        x = 0\n",
    "        y = 1\n",
    "        return x + y\n",
    "    except:\n",
    "        print('exception')\n",
    "    finally:\n",
    "        x += 2\n",
    "        print(x)\n",
    "        y += 3\n",
    "        print(y)"
   ]
  },
  {
   "cell_type": "code",
   "execution_count": 90,
   "id": "0f05fe06",
   "metadata": {},
   "outputs": [
    {
     "name": "stdout",
     "output_type": "stream",
     "text": [
      "2\n",
      "4\n"
     ]
    },
    {
     "data": {
      "text/plain": [
       "1"
      ]
     },
     "execution_count": 90,
     "metadata": {},
     "output_type": "execute_result"
    }
   ],
   "source": [
    "f()"
   ]
  },
  {
   "cell_type": "code",
   "execution_count": null,
   "id": "30a27c4c",
   "metadata": {},
   "outputs": [],
   "source": []
  }
 ],
 "metadata": {
  "kernelspec": {
   "display_name": "Python 3 (ipykernel)",
   "language": "python",
   "name": "python3"
  },
  "language_info": {
   "codemirror_mode": {
    "name": "ipython",
    "version": 3
   },
   "file_extension": ".py",
   "mimetype": "text/x-python",
   "name": "python",
   "nbconvert_exporter": "python",
   "pygments_lexer": "ipython3",
   "version": "3.9.12"
  }
 },
 "nbformat": 4,
 "nbformat_minor": 5
}
