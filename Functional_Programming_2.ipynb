{
 "cells": [
  {
   "cell_type": "markdown",
   "id": "73c3f320",
   "metadata": {},
   "source": [
    "## Functional Programming - 2"
   ]
  },
  {
   "cell_type": "markdown",
   "id": "da0db442",
   "metadata": {},
   "source": [
    "## Recap"
   ]
  },
  {
   "cell_type": "code",
   "execution_count": null,
   "id": "c9d41615",
   "metadata": {},
   "outputs": [],
   "source": [
    "#CodeA\n",
    "@f\n",
    "def f1():\n",
    "    print(“Hello”)\n",
    "\n",
    "#CodeB\n",
    "def f1():\n",
    "     print(“Hello”)\n",
    "f1 = f(f1)\n"
   ]
  },
  {
   "cell_type": "markdown",
   "id": "14fd2219",
   "metadata": {},
   "source": [
    "## Why functional programming?"
   ]
  },
  {
   "cell_type": "code",
   "execution_count": 3,
   "id": "c8ad9aa3",
   "metadata": {},
   "outputs": [
    {
     "name": "stdout",
     "output_type": "stream",
     "text": [
      "17\n"
     ]
    }
   ],
   "source": [
    "x = 5 # initial data\n",
    "\n",
    "# hidden mutations => changing the state, but can't track them\n",
    "x = 3*x\n",
    "x += 2\n",
    "\n",
    "print(x)\n",
    "# print(previous_x?)\n",
    "# can you rollback (go back to a previous state) of the variable x?"
   ]
  },
  {
   "cell_type": "code",
   "execution_count": 6,
   "id": "166e18e7",
   "metadata": {},
   "outputs": [
    {
     "name": "stdout",
     "output_type": "stream",
     "text": [
      "5 15 17\n"
     ]
    }
   ],
   "source": [
    "x = 5\n",
    "\n",
    "# Mutation 1\n",
    "x1 = 3*x\n",
    "\n",
    "# Mutation 2\n",
    "x2 = x1 + 2\n",
    "\n",
    "# Can you get back to the previous states now?\n",
    "\n",
    "print(x, x1, x2)\n",
    "\n",
    "# PROBLEM : TOO MANY VARIABLES"
   ]
  },
  {
   "cell_type": "markdown",
   "id": "d934fa86",
   "metadata": {},
   "source": [
    "Best of both worlds => tracking but with less no of variables"
   ]
  },
  {
   "cell_type": "code",
   "execution_count": 8,
   "id": "3c2412b7",
   "metadata": {},
   "outputs": [
    {
     "name": "stdout",
     "output_type": "stream",
     "text": [
      "5 16\n"
     ]
    }
   ],
   "source": [
    "x = 5\n",
    "\n",
    "# what are the pros of making changes to data via calling functions\n",
    "# 1. reusability of the changes will increase\n",
    "# 2. tracking the data\n",
    "def mutation_1(x): # x is a parameter, different from the global x\n",
    "    x = 3*x\n",
    "    x += 1\n",
    "    return x\n",
    "\n",
    "x1 = mutation_1(x)\n",
    "\n",
    "print(x, x1)"
   ]
  },
  {
   "cell_type": "markdown",
   "id": "32ce0cea",
   "metadata": {},
   "source": [
    "## Map function"
   ]
  },
  {
   "cell_type": "code",
   "execution_count": 9,
   "id": "b7daec32",
   "metadata": {},
   "outputs": [],
   "source": [
    "a = [1, 2, 3, 4, 5]"
   ]
  },
  {
   "cell_type": "code",
   "execution_count": 10,
   "id": "81a7af2a",
   "metadata": {},
   "outputs": [],
   "source": [
    "# give me the squares of elements in the list"
   ]
  },
  {
   "cell_type": "code",
   "execution_count": 13,
   "id": "0ebf981f",
   "metadata": {},
   "outputs": [],
   "source": [
    "# code 1\n",
    "res = [ i**2 for i in a ]"
   ]
  },
  {
   "cell_type": "code",
   "execution_count": 12,
   "id": "d4af4812",
   "metadata": {},
   "outputs": [
    {
     "name": "stdout",
     "output_type": "stream",
     "text": [
      "[1, 4, 9, 16, 25]\n"
     ]
    }
   ],
   "source": [
    "print(res)"
   ]
  },
  {
   "cell_type": "code",
   "execution_count": 16,
   "id": "25220d12",
   "metadata": {},
   "outputs": [],
   "source": [
    "# same code without list comprehension\n",
    "# code2\n",
    "res2 = []\n",
    "for i in a:\n",
    "    res2.append(i*i)\n",
    "\n",
    "# they work using iteration protocol => iter and next"
   ]
  },
  {
   "cell_type": "code",
   "execution_count": 15,
   "id": "0b11c045",
   "metadata": {},
   "outputs": [
    {
     "name": "stdout",
     "output_type": "stream",
     "text": [
      "[1, 4, 9, 16, 25]\n"
     ]
    }
   ],
   "source": [
    "print(res2)"
   ]
  },
  {
   "cell_type": "code",
   "execution_count": 18,
   "id": "c01d046c",
   "metadata": {},
   "outputs": [],
   "source": [
    "# __iter__\n",
    "# __next__\n",
    "\n",
    "# they are actually behaviors in python => dunder method"
   ]
  },
  {
   "cell_type": "code",
   "execution_count": null,
   "id": "30d95bf2",
   "metadata": {},
   "outputs": [],
   "source": []
  },
  {
   "cell_type": "markdown",
   "id": "8edf8110",
   "metadata": {},
   "source": [
    "### Functional way"
   ]
  },
  {
   "cell_type": "code",
   "execution_count": 19,
   "id": "40ad1890",
   "metadata": {},
   "outputs": [],
   "source": [
    "map?"
   ]
  },
  {
   "cell_type": "code",
   "execution_count": 20,
   "id": "eb9d82fb",
   "metadata": {},
   "outputs": [],
   "source": [
    "a = [1, 2, 3, 4, 5]"
   ]
  },
  {
   "cell_type": "code",
   "execution_count": 21,
   "id": "bb8be0d8",
   "metadata": {},
   "outputs": [],
   "source": [
    "res = map(lambda x: x**2, a)"
   ]
  },
  {
   "cell_type": "code",
   "execution_count": 22,
   "id": "0496174a",
   "metadata": {},
   "outputs": [
    {
     "name": "stdout",
     "output_type": "stream",
     "text": [
      "<map object at 0x7fb768d769a0>\n"
     ]
    }
   ],
   "source": [
    "print(res)"
   ]
  },
  {
   "cell_type": "code",
   "execution_count": 23,
   "id": "46381903",
   "metadata": {},
   "outputs": [],
   "source": [
    "res_list = list(res)"
   ]
  },
  {
   "cell_type": "code",
   "execution_count": 24,
   "id": "8d5d4cfa",
   "metadata": {},
   "outputs": [
    {
     "name": "stdout",
     "output_type": "stream",
     "text": [
      "[1, 4, 9, 16, 25]\n"
     ]
    }
   ],
   "source": [
    "print(res_list)"
   ]
  },
  {
   "cell_type": "code",
   "execution_count": 27,
   "id": "49f54fba",
   "metadata": {},
   "outputs": [
    {
     "name": "stdout",
     "output_type": "stream",
     "text": [
      "[1, 4, 9, 16, 25]\n"
     ]
    }
   ],
   "source": [
    "# doing in a single line => very elegant\n",
    "res_direct = list(map(lambda x: x**2, a))\n",
    "print(res_direct)"
   ]
  },
  {
   "cell_type": "code",
   "execution_count": 28,
   "id": "d344e983",
   "metadata": {},
   "outputs": [],
   "source": [
    "sqr = lambda x: x**2"
   ]
  },
  {
   "cell_type": "code",
   "execution_count": 29,
   "id": "9f963aba",
   "metadata": {},
   "outputs": [
    {
     "data": {
      "text/plain": [
       "16"
      ]
     },
     "execution_count": 29,
     "metadata": {},
     "output_type": "execute_result"
    }
   ],
   "source": [
    "sqr(4)"
   ]
  },
  {
   "cell_type": "code",
   "execution_count": 32,
   "id": "43a77e92",
   "metadata": {},
   "outputs": [
    {
     "name": "stdout",
     "output_type": "stream",
     "text": [
      "[1, 4, 9, 16, 25]\n"
     ]
    }
   ],
   "source": [
    "# we can pass a named function as well\n",
    "res_2 = list(map(sqr(), a))\n",
    "print(res_2)"
   ]
  },
  {
   "cell_type": "markdown",
   "id": "9449023b",
   "metadata": {},
   "source": [
    "## Map Challenges"
   ]
  },
  {
   "cell_type": "code",
   "execution_count": 45,
   "id": "44567b82",
   "metadata": {},
   "outputs": [],
   "source": [
    "# Convert given height (assume integers) to t-shirt size\n",
    "# h < 150 -> M\n",
    "# h >= 150 -> L\n",
    "\n",
    "heights = [144, 167, 189, 170, 190, 150, 165, 178, 200, 130]"
   ]
  },
  {
   "cell_type": "code",
   "execution_count": 34,
   "id": "dd6ec333",
   "metadata": {},
   "outputs": [],
   "source": [
    "def complex_logic(height):\n",
    "    if height < 150:\n",
    "        return \"M\"\n",
    "    else:\n",
    "        return \"L\""
   ]
  },
  {
   "cell_type": "code",
   "execution_count": 35,
   "id": "c7e139a5",
   "metadata": {},
   "outputs": [],
   "source": [
    "sizes = list(map(complex_logic, heights))"
   ]
  },
  {
   "cell_type": "code",
   "execution_count": 36,
   "id": "0efd3f74",
   "metadata": {},
   "outputs": [
    {
     "name": "stdout",
     "output_type": "stream",
     "text": [
      "['M', 'L', 'L', 'L', 'L', 'L', 'L', 'L', 'L', 'M']\n"
     ]
    }
   ],
   "source": [
    "print(sizes)"
   ]
  },
  {
   "cell_type": "code",
   "execution_count": 37,
   "id": "3125dc95",
   "metadata": {},
   "outputs": [],
   "source": [
    "# can we do it in one line?"
   ]
  },
  {
   "cell_type": "code",
   "execution_count": 41,
   "id": "564fcae6",
   "metadata": {},
   "outputs": [],
   "source": [
    "def complex_logic_one_liner(height):\n",
    "    # shorthand if else, TERNARY IF-ELSE\n",
    "    return \"M\" if height < 150 else \"L\""
   ]
  },
  {
   "cell_type": "code",
   "execution_count": 39,
   "id": "d6547f05",
   "metadata": {},
   "outputs": [
    {
     "data": {
      "text/plain": [
       "'L'"
      ]
     },
     "execution_count": 39,
     "metadata": {},
     "output_type": "execute_result"
    }
   ],
   "source": [
    "complex_logic_one_liner(150)"
   ]
  },
  {
   "cell_type": "code",
   "execution_count": 42,
   "id": "d4086345",
   "metadata": {},
   "outputs": [
    {
     "data": {
      "text/plain": [
       "'M'"
      ]
     },
     "execution_count": 42,
     "metadata": {},
     "output_type": "execute_result"
    }
   ],
   "source": [
    "complex_logic_one_liner(149)"
   ]
  },
  {
   "cell_type": "code",
   "execution_count": 44,
   "id": "6322f970",
   "metadata": {},
   "outputs": [
    {
     "name": "stdout",
     "output_type": "stream",
     "text": [
      "['M', 'L', 'L', 'L', 'L', 'L', 'L', 'L', 'L', 'M']\n"
     ]
    }
   ],
   "source": [
    "sizes = list(map(complex_logic_one_liner, heights))\n",
    "print(sizes)"
   ]
  },
  {
   "cell_type": "markdown",
   "id": "edffc71d",
   "metadata": {},
   "source": [
    "### With lambda function"
   ]
  },
  {
   "cell_type": "code",
   "execution_count": null,
   "id": "0666120d",
   "metadata": {},
   "outputs": [],
   "source": [
    "sizes = list(map(complex_logic_one_liner, heights))"
   ]
  },
  {
   "cell_type": "code",
   "execution_count": 49,
   "id": "5a0fa691",
   "metadata": {},
   "outputs": [],
   "source": [
    "sizes = list(map(lambda x: \"M\" if x < 150 else \"L\", heights))"
   ]
  },
  {
   "cell_type": "code",
   "execution_count": 50,
   "id": "5831bf12",
   "metadata": {},
   "outputs": [
    {
     "name": "stdout",
     "output_type": "stream",
     "text": [
      "['M', 'L', 'L', 'L', 'L', 'L', 'L', 'L', 'L', 'M']\n"
     ]
    }
   ],
   "source": [
    "print(sizes)"
   ]
  },
  {
   "cell_type": "code",
   "execution_count": 47,
   "id": "6904bbf4",
   "metadata": {},
   "outputs": [],
   "source": [
    "## Problem\n",
    "\n",
    "# Convert given height (assume integers) to t-shirt size\n",
    "# h < 150 -> S\n",
    "# h >= 150 and h < 180 -> M\n",
    "# h > 180 -> L\n"
   ]
  },
  {
   "cell_type": "code",
   "execution_count": null,
   "id": "bd1f5e35",
   "metadata": {},
   "outputs": [],
   "source": []
  },
  {
   "cell_type": "code",
   "execution_count": null,
   "id": "c7cdbc53",
   "metadata": {},
   "outputs": [],
   "source": []
  },
  {
   "cell_type": "code",
   "execution_count": null,
   "id": "c122a501",
   "metadata": {},
   "outputs": [],
   "source": []
  },
  {
   "cell_type": "code",
   "execution_count": null,
   "id": "3c87169a",
   "metadata": {},
   "outputs": [],
   "source": []
  },
  {
   "cell_type": "code",
   "execution_count": null,
   "id": "af3af460",
   "metadata": {},
   "outputs": [],
   "source": []
  },
  {
   "cell_type": "code",
   "execution_count": null,
   "id": "8957c5b6",
   "metadata": {},
   "outputs": [],
   "source": []
  },
  {
   "cell_type": "code",
   "execution_count": null,
   "id": "63bffb5b",
   "metadata": {},
   "outputs": [],
   "source": []
  },
  {
   "cell_type": "code",
   "execution_count": null,
   "id": "0cefc8ed",
   "metadata": {},
   "outputs": [],
   "source": []
  }
 ],
 "metadata": {
  "kernelspec": {
   "display_name": "Python 3 (ipykernel)",
   "language": "python",
   "name": "python3"
  },
  "language_info": {
   "codemirror_mode": {
    "name": "ipython",
    "version": 3
   },
   "file_extension": ".py",
   "mimetype": "text/x-python",
   "name": "python",
   "nbconvert_exporter": "python",
   "pygments_lexer": "ipython3",
   "version": "3.9.12"
  }
 },
 "nbformat": 4,
 "nbformat_minor": 5
}
