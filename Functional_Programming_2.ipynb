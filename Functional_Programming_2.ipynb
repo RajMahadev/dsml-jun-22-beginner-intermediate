{
 "cells": [
  {
   "cell_type": "markdown",
   "id": "4af46559",
   "metadata": {},
   "source": [
    "## Functional Programming - 2"
   ]
  },
  {
   "cell_type": "markdown",
   "id": "e5a39585",
   "metadata": {},
   "source": [
    "## Recap"
   ]
  },
  {
   "cell_type": "code",
   "execution_count": null,
   "id": "531eded5",
   "metadata": {},
   "outputs": [],
   "source": [
    "#CodeA\n",
    "@f\n",
    "def f1():\n",
    "    print(“Hello”)\n",
    "\n",
    "#CodeB\n",
    "def f1():\n",
    "     print(“Hello”)\n",
    "f1 = f(f1)\n"
   ]
  },
  {
   "cell_type": "markdown",
   "id": "8573c8db",
   "metadata": {},
   "source": [
    "## Why functional programming?"
   ]
  },
  {
   "cell_type": "code",
   "execution_count": 3,
   "id": "01c7b1b7",
   "metadata": {},
   "outputs": [
    {
     "name": "stdout",
     "output_type": "stream",
     "text": [
      "17\n"
     ]
    }
   ],
   "source": [
    "x = 5 # initial data\n",
    "\n",
    "# hidden mutations => changing the state, but can't track them\n",
    "x = 3*x\n",
    "x += 2\n",
    "\n",
    "print(x)\n",
    "# print(previous_x?)\n",
    "# can you rollback (go back to a previous state) of the variable x?"
   ]
  },
  {
   "cell_type": "code",
   "execution_count": 6,
   "id": "43d6c872",
   "metadata": {},
   "outputs": [
    {
     "name": "stdout",
     "output_type": "stream",
     "text": [
      "5 15 17\n"
     ]
    }
   ],
   "source": [
    "x = 5\n",
    "\n",
    "# Mutation 1\n",
    "x1 = 3*x\n",
    "\n",
    "# Mutation 2\n",
    "x2 = x1 + 2\n",
    "\n",
    "# Can you get back to the previous states now?\n",
    "\n",
    "print(x, x1, x2)\n",
    "\n",
    "# PROBLEM : TOO MANY VARIABLES"
   ]
  },
  {
   "cell_type": "markdown",
   "id": "abfd3222",
   "metadata": {},
   "source": [
    "Best of both worlds => tracking but with less no of variables"
   ]
  },
  {
   "cell_type": "code",
   "execution_count": 8,
   "id": "3e5b8b75",
   "metadata": {},
   "outputs": [
    {
     "name": "stdout",
     "output_type": "stream",
     "text": [
      "5 16\n"
     ]
    }
   ],
   "source": [
    "x = 5\n",
    "\n",
    "# what are the pros of making changes to data via calling functions\n",
    "# 1. reusability of the changes will increase\n",
    "# 2. tracking the data\n",
    "def mutation_1(x): # x is a parameter, different from the global x\n",
    "    x = 3*x\n",
    "    x += 1\n",
    "    return x\n",
    "\n",
    "x1 = mutation_1(x)\n",
    "\n",
    "print(x, x1)"
   ]
  },
  {
   "cell_type": "markdown",
   "id": "f23f68dd",
   "metadata": {},
   "source": [
    "## Map function"
   ]
  },
  {
   "cell_type": "code",
   "execution_count": 9,
   "id": "5ce05c87",
   "metadata": {},
   "outputs": [],
   "source": [
    "a = [1, 2, 3, 4, 5]"
   ]
  },
  {
   "cell_type": "code",
   "execution_count": 10,
   "id": "06df788a",
   "metadata": {},
   "outputs": [],
   "source": [
    "# give me the squares of elements in the list"
   ]
  },
  {
   "cell_type": "code",
   "execution_count": 13,
   "id": "0c355dd9",
   "metadata": {},
   "outputs": [],
   "source": [
    "# code 1\n",
    "res = [ i**2 for i in a ]"
   ]
  },
  {
   "cell_type": "code",
   "execution_count": 12,
   "id": "f7a9dda1",
   "metadata": {},
   "outputs": [
    {
     "name": "stdout",
     "output_type": "stream",
     "text": [
      "[1, 4, 9, 16, 25]\n"
     ]
    }
   ],
   "source": [
    "print(res)"
   ]
  },
  {
   "cell_type": "code",
   "execution_count": 16,
   "id": "f7930bfc",
   "metadata": {},
   "outputs": [],
   "source": [
    "# same code without list comprehension\n",
    "# code2\n",
    "res2 = []\n",
    "for i in a:\n",
    "    res2.append(i*i)\n",
    "\n",
    "# they work using iteration protocol => iter and next"
   ]
  },
  {
   "cell_type": "code",
   "execution_count": 15,
   "id": "fe9a1079",
   "metadata": {},
   "outputs": [
    {
     "name": "stdout",
     "output_type": "stream",
     "text": [
      "[1, 4, 9, 16, 25]\n"
     ]
    }
   ],
   "source": [
    "print(res2)"
   ]
  },
  {
   "cell_type": "code",
   "execution_count": 18,
   "id": "90ea3037",
   "metadata": {},
   "outputs": [],
   "source": [
    "# __iter__\n",
    "# __next__\n",
    "\n",
    "# they are actually behaviors in python => dunder method"
   ]
  },
  {
   "cell_type": "code",
   "execution_count": null,
   "id": "231ee4d1",
   "metadata": {},
   "outputs": [],
   "source": []
  },
  {
   "cell_type": "markdown",
   "id": "7950b653",
   "metadata": {},
   "source": [
    "### Functional way"
   ]
  },
  {
   "cell_type": "code",
   "execution_count": 19,
   "id": "da7390e3",
   "metadata": {},
   "outputs": [],
   "source": [
    "map?"
   ]
  },
  {
   "cell_type": "code",
   "execution_count": 20,
   "id": "7e19a713",
   "metadata": {},
   "outputs": [],
   "source": [
    "a = [1, 2, 3, 4, 5]"
   ]
  },
  {
   "cell_type": "code",
   "execution_count": 21,
   "id": "a8941767",
   "metadata": {},
   "outputs": [],
   "source": [
    "res = map(lambda x: x**2, a)"
   ]
  },
  {
   "cell_type": "code",
   "execution_count": 22,
   "id": "44e08e3e",
   "metadata": {},
   "outputs": [
    {
     "name": "stdout",
     "output_type": "stream",
     "text": [
      "<map object at 0x7fb768d769a0>\n"
     ]
    }
   ],
   "source": [
    "print(res)"
   ]
  },
  {
   "cell_type": "code",
   "execution_count": 23,
   "id": "53901a66",
   "metadata": {},
   "outputs": [],
   "source": [
    "res_list = list(res)"
   ]
  },
  {
   "cell_type": "code",
   "execution_count": 24,
   "id": "631c2371",
   "metadata": {},
   "outputs": [
    {
     "name": "stdout",
     "output_type": "stream",
     "text": [
      "[1, 4, 9, 16, 25]\n"
     ]
    }
   ],
   "source": [
    "print(res_list)"
   ]
  },
  {
   "cell_type": "code",
   "execution_count": 27,
   "id": "fbcea95f",
   "metadata": {},
   "outputs": [
    {
     "name": "stdout",
     "output_type": "stream",
     "text": [
      "[1, 4, 9, 16, 25]\n"
     ]
    }
   ],
   "source": [
    "# doing in a single line => very elegant\n",
    "res_direct = list(map(lambda x: x**2, a))\n",
    "print(res_direct)"
   ]
  },
  {
   "cell_type": "code",
   "execution_count": 28,
   "id": "eb8df31b",
   "metadata": {},
   "outputs": [],
   "source": [
    "sqr = lambda x: x**2"
   ]
  },
  {
   "cell_type": "code",
   "execution_count": 29,
   "id": "31d59bdd",
   "metadata": {},
   "outputs": [
    {
     "data": {
      "text/plain": [
       "16"
      ]
     },
     "execution_count": 29,
     "metadata": {},
     "output_type": "execute_result"
    }
   ],
   "source": [
    "sqr(4)"
   ]
  },
  {
   "cell_type": "code",
   "execution_count": 32,
   "id": "c0e4b5e2",
   "metadata": {},
   "outputs": [
    {
     "name": "stdout",
     "output_type": "stream",
     "text": [
      "[1, 4, 9, 16, 25]\n"
     ]
    }
   ],
   "source": [
    "# we can pass a named function as well\n",
    "res_2 = list(map(sqr(), a))\n",
    "print(res_2)"
   ]
  },
  {
   "cell_type": "markdown",
   "id": "5dcc8a67",
   "metadata": {},
   "source": [
    "## Map Challenges"
   ]
  },
  {
   "cell_type": "code",
   "execution_count": 45,
   "id": "22815757",
   "metadata": {},
   "outputs": [],
   "source": [
    "# Convert given height (assume integers) to t-shirt size\n",
    "# h < 150 -> M\n",
    "# h >= 150 -> L\n",
    "\n",
    "heights = [144, 167, 189, 170, 190, 150, 165, 178, 200, 130]"
   ]
  },
  {
   "cell_type": "code",
   "execution_count": 34,
   "id": "d4bd5a8e",
   "metadata": {},
   "outputs": [],
   "source": [
    "def complex_logic(height):\n",
    "    if height < 150:\n",
    "        return \"M\"\n",
    "    else:\n",
    "        return \"L\""
   ]
  },
  {
   "cell_type": "code",
   "execution_count": 35,
   "id": "cb0667f1",
   "metadata": {},
   "outputs": [],
   "source": [
    "sizes = list(map(complex_logic, heights))"
   ]
  },
  {
   "cell_type": "code",
   "execution_count": 36,
   "id": "664c4623",
   "metadata": {},
   "outputs": [
    {
     "name": "stdout",
     "output_type": "stream",
     "text": [
      "['M', 'L', 'L', 'L', 'L', 'L', 'L', 'L', 'L', 'M']\n"
     ]
    }
   ],
   "source": [
    "print(sizes)"
   ]
  },
  {
   "cell_type": "code",
   "execution_count": 37,
   "id": "389bd3cb",
   "metadata": {},
   "outputs": [],
   "source": [
    "# can we do it in one line?"
   ]
  },
  {
   "cell_type": "code",
   "execution_count": 41,
   "id": "55263959",
   "metadata": {},
   "outputs": [],
   "source": [
    "def complex_logic_one_liner(height):\n",
    "    # shorthand if else, TERNARY IF-ELSE\n",
    "    return \"M\" if height < 150 else \"L\""
   ]
  },
  {
   "cell_type": "code",
   "execution_count": 39,
   "id": "f3b053fb",
   "metadata": {},
   "outputs": [
    {
     "data": {
      "text/plain": [
       "'L'"
      ]
     },
     "execution_count": 39,
     "metadata": {},
     "output_type": "execute_result"
    }
   ],
   "source": [
    "complex_logic_one_liner(150)"
   ]
  },
  {
   "cell_type": "code",
   "execution_count": 42,
   "id": "c1dd1696",
   "metadata": {},
   "outputs": [
    {
     "data": {
      "text/plain": [
       "'M'"
      ]
     },
     "execution_count": 42,
     "metadata": {},
     "output_type": "execute_result"
    }
   ],
   "source": [
    "complex_logic_one_liner(149)"
   ]
  },
  {
   "cell_type": "code",
   "execution_count": 44,
   "id": "d1ec1f90",
   "metadata": {},
   "outputs": [
    {
     "name": "stdout",
     "output_type": "stream",
     "text": [
      "['M', 'L', 'L', 'L', 'L', 'L', 'L', 'L', 'L', 'M']\n"
     ]
    }
   ],
   "source": [
    "sizes = list(map(complex_logic_one_liner, heights))\n",
    "print(sizes)"
   ]
  },
  {
   "cell_type": "markdown",
   "id": "33966f18",
   "metadata": {},
   "source": [
    "### With lambda function"
   ]
  },
  {
   "cell_type": "code",
   "execution_count": null,
   "id": "8a6bc40b",
   "metadata": {},
   "outputs": [],
   "source": [
    "sizes = list(map(complex_logic_one_liner, heights))"
   ]
  },
  {
   "cell_type": "code",
   "execution_count": 49,
   "id": "0bc0dbf6",
   "metadata": {},
   "outputs": [],
   "source": [
    "sizes = list(map(lambda x: \"M\" if x < 150 else \"L\", heights))"
   ]
  },
  {
   "cell_type": "code",
   "execution_count": 50,
   "id": "4f613f14",
   "metadata": {},
   "outputs": [
    {
     "name": "stdout",
     "output_type": "stream",
     "text": [
      "['M', 'L', 'L', 'L', 'L', 'L', 'L', 'L', 'L', 'M']\n"
     ]
    }
   ],
   "source": [
    "print(sizes)"
   ]
  },
  {
   "cell_type": "code",
   "execution_count": 54,
   "id": "4d44496e",
   "metadata": {},
   "outputs": [],
   "source": [
    "## Problem\n",
    "\n",
    "# Convert given height (assume integers) to t-shirt size\n",
    "# h < 150 -> S\n",
    "# h >= 150 and h < 180 -> M\n",
    "# h > 180 -> L\n",
    "heights = [144, 167, 189, 170, 190, 150, 165, 178, 200, 130]"
   ]
  },
  {
   "cell_type": "markdown",
   "id": "892d5d3e",
   "metadata": {},
   "source": [
    "### SOLVE"
   ]
  },
  {
   "cell_type": "code",
   "execution_count": 51,
   "id": "c82987da",
   "metadata": {},
   "outputs": [],
   "source": [
    "def complex_logic(height):\n",
    "    if height < 150:\n",
    "        return \"S\"\n",
    "    elif height >= 150 and height < 180:\n",
    "        return \"M\"\n",
    "    else:\n",
    "        return \"L\""
   ]
  },
  {
   "cell_type": "code",
   "execution_count": 52,
   "id": "95167887",
   "metadata": {},
   "outputs": [],
   "source": [
    "sizes = list(map(complex_logic, heights))"
   ]
  },
  {
   "cell_type": "code",
   "execution_count": 53,
   "id": "2748897f",
   "metadata": {},
   "outputs": [
    {
     "name": "stdout",
     "output_type": "stream",
     "text": [
      "['S', 'M', 'L', 'M', 'L', 'M', 'M', 'M', 'L', 'S']\n"
     ]
    }
   ],
   "source": [
    "print(sizes)"
   ]
  },
  {
   "cell_type": "code",
   "execution_count": 57,
   "id": "fc7d89a8",
   "metadata": {},
   "outputs": [],
   "source": [
    "sizes2 = list(map(lambda x: \"S\" if x < 150 else \"M\"\n",
    "                 if x >= 150 and x < 180 else \"L\", heights))"
   ]
  },
  {
   "cell_type": "code",
   "execution_count": 58,
   "id": "30f5ba63",
   "metadata": {},
   "outputs": [
    {
     "name": "stdout",
     "output_type": "stream",
     "text": [
      "['S', 'M', 'L', 'M', 'L', 'M', 'M', 'M', 'L', 'S']\n"
     ]
    }
   ],
   "source": [
    "print(sizes2)"
   ]
  },
  {
   "cell_type": "markdown",
   "id": "7ba114e4",
   "metadata": {},
   "source": [
    "### Problem coming up"
   ]
  },
  {
   "cell_type": "code",
   "execution_count": 61,
   "id": "74e6d00a",
   "metadata": {},
   "outputs": [],
   "source": [
    "random1 = [1, 2, 3]\n",
    "random2 = [4, 5, 6]\n",
    "\n",
    "# Add the 2 lists using map function\n",
    "# res = [5, 7, 9]"
   ]
  },
  {
   "cell_type": "code",
   "execution_count": 62,
   "id": "15d85bdc",
   "metadata": {},
   "outputs": [],
   "source": [
    "map?"
   ]
  },
  {
   "cell_type": "code",
   "execution_count": 63,
   "id": "5d4da8b0",
   "metadata": {},
   "outputs": [
    {
     "name": "stdout",
     "output_type": "stream",
     "text": [
      "[5, 7, 9]\n"
     ]
    }
   ],
   "source": [
    "res = list(map(lambda x, y: x + y, random1, random2))\n",
    "print(res)"
   ]
  },
  {
   "cell_type": "markdown",
   "id": "a779218d",
   "metadata": {},
   "source": [
    "### Quiz"
   ]
  },
  {
   "cell_type": "code",
   "execution_count": 64,
   "id": "28696e91",
   "metadata": {},
   "outputs": [],
   "source": [
    "list1 = [1, 0, 1]\n",
    "list2 = [0, 0, 1]\n",
    "\n",
    "res = list(map(lambda x, y:  x == y, list1, list2))"
   ]
  },
  {
   "cell_type": "code",
   "execution_count": 65,
   "id": "034ebff2",
   "metadata": {},
   "outputs": [
    {
     "name": "stdout",
     "output_type": "stream",
     "text": [
      "[False, True, True]\n"
     ]
    }
   ],
   "source": [
    "print(res)"
   ]
  },
  {
   "cell_type": "code",
   "execution_count": 66,
   "id": "697a1306",
   "metadata": {},
   "outputs": [],
   "source": [
    "list1 = [1, 0, 1, 0]\n",
    "list2 = [0, 0, 1]\n",
    "\n",
    "res = list(map(lambda x, y:  x == y, list1, list2))"
   ]
  },
  {
   "cell_type": "code",
   "execution_count": 67,
   "id": "68e5a5eb",
   "metadata": {},
   "outputs": [
    {
     "name": "stdout",
     "output_type": "stream",
     "text": [
      "[False, True, True]\n"
     ]
    }
   ],
   "source": [
    "print(res)"
   ]
  },
  {
   "cell_type": "code",
   "execution_count": 68,
   "id": "f657e5b3",
   "metadata": {},
   "outputs": [],
   "source": [
    "list1 = [1, 0, 1, 0]\n",
    "list2 = [0, 0, 1, 1, 1]\n",
    "\n",
    "res = list(map(lambda x, y:  x == y, list1, list2))"
   ]
  },
  {
   "cell_type": "code",
   "execution_count": 69,
   "id": "56c4d639",
   "metadata": {},
   "outputs": [
    {
     "name": "stdout",
     "output_type": "stream",
     "text": [
      "[False, True, True, False]\n"
     ]
    }
   ],
   "source": [
    "print(res)"
   ]
  },
  {
   "cell_type": "markdown",
   "id": "5f54e8b7",
   "metadata": {},
   "source": [
    "## Filter function"
   ]
  },
  {
   "cell_type": "code",
   "execution_count": 70,
   "id": "7c336bf0",
   "metadata": {},
   "outputs": [],
   "source": [
    "a = [1, 2, 3, 4, 5]\n"
   ]
  },
  {
   "cell_type": "code",
   "execution_count": 71,
   "id": "5f37420a",
   "metadata": {},
   "outputs": [],
   "source": [
    "filter?"
   ]
  },
  {
   "cell_type": "code",
   "execution_count": 72,
   "id": "d2a4f4c8",
   "metadata": {},
   "outputs": [],
   "source": [
    "res = filter(lambda x: x % 2 == 0, a)"
   ]
  },
  {
   "cell_type": "code",
   "execution_count": 73,
   "id": "4b3ff314",
   "metadata": {},
   "outputs": [
    {
     "name": "stdout",
     "output_type": "stream",
     "text": [
      "<filter object at 0x7fb748ff1760>\n"
     ]
    }
   ],
   "source": [
    "print(res)"
   ]
  },
  {
   "cell_type": "code",
   "execution_count": 74,
   "id": "3918ef80",
   "metadata": {},
   "outputs": [],
   "source": [
    "res_list = list(res)"
   ]
  },
  {
   "cell_type": "code",
   "execution_count": 75,
   "id": "0ce2bc57",
   "metadata": {},
   "outputs": [
    {
     "name": "stdout",
     "output_type": "stream",
     "text": [
      "[2, 4]\n"
     ]
    }
   ],
   "source": [
    "print(res_list)"
   ]
  },
  {
   "cell_type": "code",
   "execution_count": 77,
   "id": "04329db1",
   "metadata": {},
   "outputs": [],
   "source": [
    "# single line with typecasting\n",
    "f_direct = list(filter(lambda x: x % 2 == 0, a))"
   ]
  },
  {
   "cell_type": "code",
   "execution_count": 78,
   "id": "a17f7d44",
   "metadata": {},
   "outputs": [
    {
     "name": "stdout",
     "output_type": "stream",
     "text": [
      "[2, 4]\n"
     ]
    }
   ],
   "source": [
    "print(f_direct)"
   ]
  },
  {
   "cell_type": "markdown",
   "id": "2f798ffc",
   "metadata": {},
   "source": [
    "### Quizzes"
   ]
  },
  {
   "cell_type": "code",
   "execution_count": 80,
   "id": "4db553e0",
   "metadata": {},
   "outputs": [
    {
     "name": "stdout",
     "output_type": "stream",
     "text": [
      "[1, -3, 4]\n"
     ]
    }
   ],
   "source": [
    "l = [1, 10, -3, 4, 15]\n",
    "\n",
    "def f1(x):\n",
    "    return x<6\n",
    "\n",
    "# m1 = ????\n",
    "\n",
    "m1 = filter(f1, l)\n",
    "\n",
    "print(list(m1))\n",
    "\n",
    "# Replace ??? to print all numbers less than 6 in the list."
   ]
  },
  {
   "cell_type": "code",
   "execution_count": 82,
   "id": "9037c730",
   "metadata": {},
   "outputs": [
    {
     "ename": "TypeError",
     "evalue": "'function' object is not iterable",
     "output_type": "error",
     "traceback": [
      "\u001b[0;31m---------------------------------------------------------------------------\u001b[0m",
      "\u001b[0;31mTypeError\u001b[0m                                 Traceback (most recent call last)",
      "Input \u001b[0;32mIn [82]\u001b[0m, in \u001b[0;36m<cell line: 1>\u001b[0;34m()\u001b[0m\n\u001b[0;32m----> 1\u001b[0m m1 \u001b[38;5;241m=\u001b[39m \u001b[38;5;28;43mfilter\u001b[39;49m\u001b[43m(\u001b[49m\u001b[43ml\u001b[49m\u001b[43m,\u001b[49m\u001b[43m \u001b[49m\u001b[43mf1\u001b[49m\u001b[43m)\u001b[49m\n",
      "\u001b[0;31mTypeError\u001b[0m: 'function' object is not iterable"
     ]
    }
   ],
   "source": [
    "m1 = filter(l, f1)\n",
    "# first argument should be the function\n",
    "# second argument should be the iterable"
   ]
  },
  {
   "cell_type": "code",
   "execution_count": 86,
   "id": "71c70c11",
   "metadata": {},
   "outputs": [
    {
     "name": "stdout",
     "output_type": "stream",
     "text": [
      "{1, 2, 5}\n",
      "[1, 2, 5]\n"
     ]
    }
   ],
   "source": [
    "s = {1, 2, 2, 5}\n",
    "print(s)\n",
    "\n",
    "def f1(x):\n",
    "    return x<6\n",
    "\n",
    "m1 = filter(f1, s)\n",
    "print(list(m1))"
   ]
  },
  {
   "cell_type": "markdown",
   "id": "11e60403",
   "metadata": {},
   "source": [
    "## Reduce"
   ]
  },
  {
   "cell_type": "code",
   "execution_count": 87,
   "id": "251a9af7",
   "metadata": {},
   "outputs": [
    {
     "name": "stdout",
     "output_type": "stream",
     "text": [
      "Object `reduce` not found.\n"
     ]
    }
   ],
   "source": [
    "reduce?"
   ]
  },
  {
   "cell_type": "code",
   "execution_count": 88,
   "id": "3c43762c",
   "metadata": {},
   "outputs": [],
   "source": [
    "from functools import reduce\n",
    "\n",
    "# this line will bring the reduce function into our current code"
   ]
  },
  {
   "cell_type": "code",
   "execution_count": 89,
   "id": "f50f24db",
   "metadata": {},
   "outputs": [],
   "source": [
    "reduce?"
   ]
  },
  {
   "cell_type": "code",
   "execution_count": 90,
   "id": "2e517f95",
   "metadata": {},
   "outputs": [],
   "source": [
    "a = [1, 2, 3, 4, 5]"
   ]
  },
  {
   "cell_type": "code",
   "execution_count": 91,
   "id": "66fe4013",
   "metadata": {},
   "outputs": [],
   "source": [
    "# 1st arg: function with 2 arguments\n",
    "# 2nd arg: the iterable\n",
    "res = reduce(lambda x, y: x + y, a)"
   ]
  },
  {
   "cell_type": "code",
   "execution_count": 92,
   "id": "e82a86f5",
   "metadata": {},
   "outputs": [
    {
     "name": "stdout",
     "output_type": "stream",
     "text": [
      "15\n"
     ]
    }
   ],
   "source": [
    "print(res)"
   ]
  },
  {
   "cell_type": "markdown",
   "id": "9e779080",
   "metadata": {},
   "source": [
    "## Quizzes"
   ]
  },
  {
   "cell_type": "code",
   "execution_count": 93,
   "id": "18927616",
   "metadata": {},
   "outputs": [],
   "source": [
    "a = list(range(1, 11))"
   ]
  },
  {
   "cell_type": "code",
   "execution_count": 94,
   "id": "26b62d0b",
   "metadata": {},
   "outputs": [
    {
     "name": "stdout",
     "output_type": "stream",
     "text": [
      "[1, 2, 3, 4, 5, 6, 7, 8, 9, 10]\n"
     ]
    }
   ],
   "source": [
    "print(a)"
   ]
  },
  {
   "cell_type": "code",
   "execution_count": 95,
   "id": "a7e052e5",
   "metadata": {},
   "outputs": [
    {
     "name": "stdout",
     "output_type": "stream",
     "text": [
      "55\n"
     ]
    }
   ],
   "source": [
    "res = reduce(lambda x, y: x + y, a)\n",
    "print(res)"
   ]
  },
  {
   "cell_type": "code",
   "execution_count": 96,
   "id": "aa736685",
   "metadata": {},
   "outputs": [
    {
     "name": "stdout",
     "output_type": "stream",
     "text": [
      "[10, 9, 8, 7, 6, 5, 4, 3, 2, 1]\n"
     ]
    }
   ],
   "source": [
    "b = a[::-1]\n",
    "print(b)"
   ]
  },
  {
   "cell_type": "code",
   "execution_count": 98,
   "id": "ae7d86f6",
   "metadata": {},
   "outputs": [
    {
     "name": "stdout",
     "output_type": "stream",
     "text": [
      "55\n"
     ]
    }
   ],
   "source": [
    "res = reduce(lambda x, y: x + y, b)\n",
    "print(res)"
   ]
  },
  {
   "cell_type": "markdown",
   "id": "e2e53e73",
   "metadata": {},
   "source": [
    "## Tricky Quizzes"
   ]
  },
  {
   "cell_type": "code",
   "execution_count": 99,
   "id": "e5692ae5",
   "metadata": {},
   "outputs": [
    {
     "name": "stdout",
     "output_type": "stream",
     "text": [
      "{1, 2, 33}\n",
      "36\n"
     ]
    }
   ],
   "source": [
    "from functools import reduce\n",
    "\n",
    "list = {1, 2, 33, 2}\n",
    "print(list)\n",
    "\n",
    "print(reduce(lambda x, y: x+y, list))"
   ]
  },
  {
   "cell_type": "code",
   "execution_count": null,
   "id": "857fabdc",
   "metadata": {},
   "outputs": [],
   "source": [
    "from functools import reduce\n",
    "\n",
    "list = {1, 2, 33, 2}\n",
    "print(list)\n",
    "\n",
    "print(reduce(lambda x, y: x+y, list))"
   ]
  },
  {
   "cell_type": "code",
   "execution_count": 100,
   "id": "919ecd3b",
   "metadata": {},
   "outputs": [],
   "source": [
    "reduce?"
   ]
  },
  {
   "cell_type": "code",
   "execution_count": 101,
   "id": "ed2c447d",
   "metadata": {},
   "outputs": [],
   "source": [
    "# initial value => might be useful when carry over from some\n",
    "# previous operations"
   ]
  },
  {
   "cell_type": "code",
   "execution_count": 102,
   "id": "a6e94c20",
   "metadata": {},
   "outputs": [
    {
     "name": "stdout",
     "output_type": "stream",
     "text": [
      "41\n"
     ]
    }
   ],
   "source": [
    "print(reduce(lambda x, y: x+y, list, 5))"
   ]
  },
  {
   "cell_type": "code",
   "execution_count": 103,
   "id": "f050b724",
   "metadata": {},
   "outputs": [
    {
     "name": "stdout",
     "output_type": "stream",
     "text": [
      "48\n"
     ]
    }
   ],
   "source": [
    "from functools import reduce\n",
    "list = [1, 2, 33, 2]\n",
    "print(reduce(lambda x, y: x+y, list, 10))"
   ]
  },
  {
   "cell_type": "code",
   "execution_count": 104,
   "id": "a2c37c6c",
   "metadata": {},
   "outputs": [
    {
     "name": "stdout",
     "output_type": "stream",
     "text": [
      "{1, 2, 33}\n",
      "37\n"
     ]
    }
   ],
   "source": [
    "from functools import reduce\n",
    "\n",
    "list = {1, 2, 33, 2}\n",
    "print(list)\n",
    "\n",
    "print(reduce(lambda x, y: x+y, list, 1))"
   ]
  },
  {
   "cell_type": "markdown",
   "id": "ff08daf3",
   "metadata": {},
   "source": [
    "## zip function"
   ]
  },
  {
   "cell_type": "markdown",
   "id": "e69c0ee0",
   "metadata": {},
   "source": [
    "will be covered again in next class problem solving beginning"
   ]
  },
  {
   "cell_type": "code",
   "execution_count": 106,
   "id": "0ab10fab",
   "metadata": {},
   "outputs": [],
   "source": [
    "a = [\"sachin\", \"shreyash\", \"needa\", \"harshita\", \"anwesh\"]"
   ]
  },
  {
   "cell_type": "code",
   "execution_count": 107,
   "id": "66b55661",
   "metadata": {},
   "outputs": [
    {
     "name": "stdout",
     "output_type": "stream",
     "text": [
      "(0, 'sachin')\n",
      "(1, 'shreyash')\n",
      "(2, 'needa')\n",
      "(3, 'harshita')\n",
      "(4, 'anwesh')\n"
     ]
    }
   ],
   "source": [
    "for i in enumerate(a):\n",
    "    print(i)"
   ]
  },
  {
   "cell_type": "code",
   "execution_count": 1,
   "id": "5ecc9d2b",
   "metadata": {},
   "outputs": [],
   "source": [
    "states = ['Haryana', 'Uttarakhand', 'Punjab', 'Uttar Pradesh']\n",
    "capitals = ['Chandigarh', 'Dehradun', 'Chandigarh', 'Lucknow']\n",
    "\n",
    "res = zip(states, capitals)"
   ]
  },
  {
   "cell_type": "code",
   "execution_count": 2,
   "id": "bb8d6096",
   "metadata": {},
   "outputs": [
    {
     "name": "stdout",
     "output_type": "stream",
     "text": [
      "<zip object at 0x7fde080925c0>\n"
     ]
    }
   ],
   "source": [
    "print(res)"
   ]
  },
  {
   "cell_type": "code",
   "execution_count": 3,
   "id": "10aeaadd",
   "metadata": {},
   "outputs": [],
   "source": [
    "res_list = list(res)"
   ]
  },
  {
   "cell_type": "code",
   "execution_count": 4,
   "id": "7d811a26",
   "metadata": {},
   "outputs": [
    {
     "name": "stdout",
     "output_type": "stream",
     "text": [
      "[('Haryana', 'Chandigarh'), ('Uttarakhand', 'Dehradun'), ('Punjab', 'Chandigarh'), ('Uttar Pradesh', 'Lucknow')]\n"
     ]
    }
   ],
   "source": [
    "print(res_list)"
   ]
  },
  {
   "cell_type": "markdown",
   "id": "7a004c01",
   "metadata": {},
   "source": [
    "## Iterate on list of tuples"
   ]
  },
  {
   "cell_type": "code",
   "execution_count": 5,
   "id": "a75e9491",
   "metadata": {},
   "outputs": [
    {
     "name": "stdout",
     "output_type": "stream",
     "text": [
      "('Haryana', 'Chandigarh')\n",
      "('Uttarakhand', 'Dehradun')\n",
      "('Punjab', 'Chandigarh')\n",
      "('Uttar Pradesh', 'Lucknow')\n"
     ]
    }
   ],
   "source": [
    "res = list(zip(states, capitals))\n",
    "\n",
    "for state_capital_pair in res:\n",
    "    print(state_capital_pair)"
   ]
  },
  {
   "cell_type": "code",
   "execution_count": 6,
   "id": "06447887",
   "metadata": {},
   "outputs": [
    {
     "name": "stdout",
     "output_type": "stream",
     "text": [
      "{'Haryana': 'Chandigarh', 'Uttarakhand': 'Dehradun', 'Punjab': 'Chandigarh', 'Uttar Pradesh': 'Lucknow'}\n"
     ]
    }
   ],
   "source": [
    "res = dict(zip(states, capitals))\n",
    "\n",
    "print(res)"
   ]
  },
  {
   "cell_type": "code",
   "execution_count": null,
   "id": "f79c2495",
   "metadata": {},
   "outputs": [],
   "source": []
  }
 ],
 "metadata": {
  "kernelspec": {
   "display_name": "Python 3 (ipykernel)",
   "language": "python",
   "name": "python3"
  },
  "language_info": {
   "codemirror_mode": {
    "name": "ipython",
    "version": 3
   },
   "file_extension": ".py",
   "mimetype": "text/x-python",
   "name": "python",
   "nbconvert_exporter": "python",
   "pygments_lexer": "ipython3",
   "version": "3.9.12"
  }
 },
 "nbformat": 4,
 "nbformat_minor": 5
}
