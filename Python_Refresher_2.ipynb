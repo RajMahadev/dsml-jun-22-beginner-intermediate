{
 "cells": [
  {
   "cell_type": "markdown",
   "id": "029006e7",
   "metadata": {},
   "source": [
    "# DSML Intermediate : Python Refresher - 2\n"
   ]
  },
  {
   "cell_type": "markdown",
   "id": "61374745",
   "metadata": {},
   "source": [
    "## Recap"
   ]
  },
  {
   "cell_type": "code",
   "execution_count": 1,
   "id": "9ab95347",
   "metadata": {},
   "outputs": [
    {
     "name": "stdout",
     "output_type": "stream",
     "text": [
      "Hello world\n"
     ]
    }
   ],
   "source": [
    "print('Hello world')"
   ]
  },
  {
   "cell_type": "code",
   "execution_count": 2,
   "id": "a99e0c51",
   "metadata": {},
   "outputs": [
    {
     "name": "stdout",
     "output_type": "stream",
     "text": [
      "2\n"
     ]
    }
   ],
   "source": [
    "print(8 // 3)"
   ]
  },
  {
   "cell_type": "code",
   "execution_count": 3,
   "id": "910e8d50",
   "metadata": {},
   "outputs": [
    {
     "name": "stdout",
     "output_type": "stream",
     "text": [
      "2.6666666666666665\n"
     ]
    }
   ],
   "source": [
    "print(8 / 3)"
   ]
  },
  {
   "cell_type": "code",
   "execution_count": 5,
   "id": "5e77f096",
   "metadata": {},
   "outputs": [
    {
     "name": "stdout",
     "output_type": "stream",
     "text": [
      "-3\n"
     ]
    }
   ],
   "source": [
    "print(-8//3)"
   ]
  },
  {
   "cell_type": "code",
   "execution_count": 6,
   "id": "5bf0fa02",
   "metadata": {},
   "outputs": [
    {
     "name": "stdout",
     "output_type": "stream",
     "text": [
      "-2.6666666666666665\n"
     ]
    }
   ],
   "source": [
    "print(-8/3)"
   ]
  },
  {
   "cell_type": "code",
   "execution_count": 7,
   "id": "a26ad689",
   "metadata": {},
   "outputs": [
    {
     "name": "stdout",
     "output_type": "stream",
     "text": [
      "-3\n"
     ]
    }
   ],
   "source": [
    "print(8//-3)"
   ]
  },
  {
   "cell_type": "code",
   "execution_count": 8,
   "id": "2f84756e",
   "metadata": {},
   "outputs": [
    {
     "name": "stdout",
     "output_type": "stream",
     "text": [
      "-2\n"
     ]
    }
   ],
   "source": [
    "print(-(8//3))"
   ]
  },
  {
   "cell_type": "code",
   "execution_count": 9,
   "id": "51a2d394",
   "metadata": {},
   "outputs": [
    {
     "name": "stdout",
     "output_type": "stream",
     "text": [
      "FIRST\n",
      "SECOND\n"
     ]
    }
   ],
   "source": [
    "a = 60\n",
    "if a > 50:\n",
    "    print(\"FIRST\")\n",
    "if a > 40:\n",
    "    print(\"SECOND\")"
   ]
  },
  {
   "cell_type": "code",
   "execution_count": 10,
   "id": "8b218696",
   "metadata": {},
   "outputs": [
    {
     "name": "stdout",
     "output_type": "stream",
     "text": [
      "FIRST\n"
     ]
    }
   ],
   "source": [
    "a = 60\n",
    "if a > 50:\n",
    "    print(\"FIRST\")\n",
    "elif a > 40:\n",
    "    print(\"SECOND\")"
   ]
  },
  {
   "cell_type": "markdown",
   "id": "0fccb6d7",
   "metadata": {},
   "source": [
    "## Data Structures"
   ]
  },
  {
   "cell_type": "markdown",
   "id": "bdc170dd",
   "metadata": {},
   "source": [
    "### Lists"
   ]
  },
  {
   "cell_type": "code",
   "execution_count": 11,
   "id": "fd463a49",
   "metadata": {},
   "outputs": [],
   "source": [
    "a = [\"akash\", 5, True, print, 5.67, [1, 2, 3]]"
   ]
  },
  {
   "cell_type": "code",
   "execution_count": 12,
   "id": "0700023f",
   "metadata": {},
   "outputs": [
    {
     "data": {
      "text/plain": [
       "list"
      ]
     },
     "execution_count": 12,
     "metadata": {},
     "output_type": "execute_result"
    }
   ],
   "source": [
    "type(a)"
   ]
  },
  {
   "cell_type": "code",
   "execution_count": 13,
   "id": "7ea02aae",
   "metadata": {},
   "outputs": [
    {
     "data": {
      "text/plain": [
       "6"
      ]
     },
     "execution_count": 13,
     "metadata": {},
     "output_type": "execute_result"
    }
   ],
   "source": [
    "len(a)"
   ]
  },
  {
   "cell_type": "code",
   "execution_count": 16,
   "id": "886576da",
   "metadata": {},
   "outputs": [
    {
     "data": {
      "text/plain": [
       "'akash'"
      ]
     },
     "execution_count": 16,
     "metadata": {},
     "output_type": "execute_result"
    }
   ],
   "source": [
    "a[0] # 0th index"
   ]
  },
  {
   "cell_type": "code",
   "execution_count": 17,
   "id": "22f655e4",
   "metadata": {},
   "outputs": [
    {
     "data": {
      "text/plain": [
       "5"
      ]
     },
     "execution_count": 17,
     "metadata": {},
     "output_type": "execute_result"
    }
   ],
   "source": [
    "a[1] # 1st index"
   ]
  },
  {
   "cell_type": "code",
   "execution_count": 18,
   "id": "41928108",
   "metadata": {},
   "outputs": [
    {
     "data": {
      "text/plain": [
       "[1, 2, 3]"
      ]
     },
     "execution_count": 18,
     "metadata": {},
     "output_type": "execute_result"
    }
   ],
   "source": [
    "a[-1]"
   ]
  },
  {
   "cell_type": "code",
   "execution_count": 19,
   "id": "d171e446",
   "metadata": {},
   "outputs": [
    {
     "data": {
      "text/plain": [
       "1"
      ]
     },
     "execution_count": 19,
     "metadata": {},
     "output_type": "execute_result"
    }
   ],
   "source": [
    "a[-1][0]"
   ]
  },
  {
   "cell_type": "code",
   "execution_count": 20,
   "id": "8f0a2ea6",
   "metadata": {},
   "outputs": [
    {
     "data": {
      "text/plain": [
       "2"
      ]
     },
     "execution_count": 20,
     "metadata": {},
     "output_type": "execute_result"
    }
   ],
   "source": [
    "a[-1][1]"
   ]
  },
  {
   "cell_type": "code",
   "execution_count": 21,
   "id": "da0b077e",
   "metadata": {},
   "outputs": [],
   "source": [
    "l = [5, 1, 2, 3, 7, 8]"
   ]
  },
  {
   "cell_type": "code",
   "execution_count": 22,
   "id": "40e9440c",
   "metadata": {},
   "outputs": [
    {
     "data": {
      "text/plain": [
       "26"
      ]
     },
     "execution_count": 22,
     "metadata": {},
     "output_type": "execute_result"
    }
   ],
   "source": [
    "sum(l)"
   ]
  },
  {
   "cell_type": "code",
   "execution_count": 23,
   "id": "3ce4c306",
   "metadata": {},
   "outputs": [
    {
     "data": {
      "text/plain": [
       "8"
      ]
     },
     "execution_count": 23,
     "metadata": {},
     "output_type": "execute_result"
    }
   ],
   "source": [
    "max(l)"
   ]
  },
  {
   "cell_type": "code",
   "execution_count": 24,
   "id": "ce61b25a",
   "metadata": {},
   "outputs": [
    {
     "data": {
      "text/plain": [
       "1"
      ]
     },
     "execution_count": 24,
     "metadata": {},
     "output_type": "execute_result"
    }
   ],
   "source": [
    "min(l)"
   ]
  },
  {
   "cell_type": "markdown",
   "id": "c2fb03d6",
   "metadata": {},
   "source": [
    "## List Slicing"
   ]
  },
  {
   "cell_type": "code",
   "execution_count": null,
   "id": "d0ae51e6",
   "metadata": {},
   "outputs": [],
   "source": [
    "a = [1,2,3,4,5,6,7,8,9,10]\n",
    "\n",
    "a[3:8:-1]"
   ]
  },
  {
   "cell_type": "code",
   "execution_count": 28,
   "id": "bdbe9231",
   "metadata": {},
   "outputs": [
    {
     "name": "stdout",
     "output_type": "stream",
     "text": [
      "[5, 1, 2]\n",
      "140477777661760\n"
     ]
    }
   ],
   "source": [
    "l = [5, 1, 2, 3, 7, 8]\n",
    "\n",
    "res = l[0:3:1]\n",
    "print(res)\n",
    "print(id(res))"
   ]
  },
  {
   "cell_type": "code",
   "execution_count": 29,
   "id": "3929d383",
   "metadata": {},
   "outputs": [
    {
     "name": "stdout",
     "output_type": "stream",
     "text": [
      "140477777771328\n"
     ]
    }
   ],
   "source": [
    "l\n",
    "print(id(l))"
   ]
  },
  {
   "cell_type": "code",
   "execution_count": 31,
   "id": "6428ebf7",
   "metadata": {},
   "outputs": [
    {
     "name": "stdout",
     "output_type": "stream",
     "text": [
      "[2, 3, 7]\n"
     ]
    }
   ],
   "source": [
    "res = l[2:5] # default jump, inc = 1\n",
    "print(res)"
   ]
  },
  {
   "cell_type": "code",
   "execution_count": 33,
   "id": "b8594523",
   "metadata": {},
   "outputs": [
    {
     "name": "stdout",
     "output_type": "stream",
     "text": [
      "[5, 1, 2, 3, 7]\n"
     ]
    }
   ],
   "source": [
    "res = l[:5] # default start = 0, default jump = 1\n",
    "print(res)"
   ]
  },
  {
   "cell_type": "code",
   "execution_count": 35,
   "id": "c9b1d916",
   "metadata": {},
   "outputs": [
    {
     "name": "stdout",
     "output_type": "stream",
     "text": [
      "[5, 1, 2, 3, 7, 8]\n"
     ]
    }
   ],
   "source": [
    "res = l[:] # default start = 0, end = len(l), jump = 1\n",
    "print(res)"
   ]
  },
  {
   "cell_type": "code",
   "execution_count": 36,
   "id": "2dc3a9f4",
   "metadata": {},
   "outputs": [
    {
     "data": {
      "text/plain": [
       "[5, 2, 7]"
      ]
     },
     "execution_count": 36,
     "metadata": {},
     "output_type": "execute_result"
    }
   ],
   "source": [
    "l[::2]"
   ]
  },
  {
   "cell_type": "code",
   "execution_count": 37,
   "id": "758b611f",
   "metadata": {},
   "outputs": [
    {
     "name": "stdout",
     "output_type": "stream",
     "text": [
      "[5, 1, 2, 3, 7, 8]\n"
     ]
    }
   ],
   "source": [
    "print(l)"
   ]
  },
  {
   "cell_type": "code",
   "execution_count": 38,
   "id": "cf156362",
   "metadata": {},
   "outputs": [
    {
     "data": {
      "text/plain": [
       "[5]"
      ]
     },
     "execution_count": 38,
     "metadata": {},
     "output_type": "execute_result"
    }
   ],
   "source": [
    "l[::15]"
   ]
  },
  {
   "cell_type": "markdown",
   "id": "dfa69a38",
   "metadata": {},
   "source": [
    "## Negative Indexing"
   ]
  },
  {
   "cell_type": "code",
   "execution_count": 39,
   "id": "6ee6483f",
   "metadata": {},
   "outputs": [],
   "source": [
    "numbers = [5, 1, 2, 3, 7, 8]*2"
   ]
  },
  {
   "cell_type": "code",
   "execution_count": 40,
   "id": "18c650c2",
   "metadata": {},
   "outputs": [
    {
     "name": "stdout",
     "output_type": "stream",
     "text": [
      "[5, 1, 2, 3, 7, 8, 5, 1, 2, 3, 7, 8]\n"
     ]
    }
   ],
   "source": [
    "print(numbers)"
   ]
  },
  {
   "cell_type": "code",
   "execution_count": 41,
   "id": "3a3ee0de",
   "metadata": {},
   "outputs": [
    {
     "data": {
      "text/plain": [
       "[8, 7, 3, 2]"
      ]
     },
     "execution_count": 41,
     "metadata": {},
     "output_type": "execute_result"
    }
   ],
   "source": [
    "numbers[-1:-5:-1]"
   ]
  },
  {
   "cell_type": "code",
   "execution_count": 42,
   "id": "fbdd832c",
   "metadata": {},
   "outputs": [
    {
     "data": {
      "text/plain": [
       "[8, 7, 3, 2, 1, 5, 8, 7, 3, 2, 1, 5]"
      ]
     },
     "execution_count": 42,
     "metadata": {},
     "output_type": "execute_result"
    }
   ],
   "source": [
    "numbers[-1::-1] # negative increment, default end = -len(l) - 1 (till the start)"
   ]
  },
  {
   "cell_type": "code",
   "execution_count": 45,
   "id": "6f52a272",
   "metadata": {},
   "outputs": [
    {
     "data": {
      "text/plain": [
       "[8, 7, 3, 2, 1, 5, 8, 7, 3, 2, 1, 5]"
      ]
     },
     "execution_count": 45,
     "metadata": {},
     "output_type": "execute_result"
    }
   ],
   "source": [
    "numbers[::-1] # default start = -1, default end = -len(l) - 1, inc = -1"
   ]
  },
  {
   "cell_type": "code",
   "execution_count": 47,
   "id": "9222f6f6",
   "metadata": {},
   "outputs": [
    {
     "data": {
      "text/plain": [
       "[8, 7, 3, 2, 1, 5, 8, 7, 3, 2, 1]"
      ]
     },
     "execution_count": 47,
     "metadata": {},
     "output_type": "execute_result"
    }
   ],
   "source": [
    "numbers[-1:-12:-1]"
   ]
  },
  {
   "cell_type": "code",
   "execution_count": null,
   "id": "f8fed077",
   "metadata": {},
   "outputs": [],
   "source": []
  },
  {
   "cell_type": "markdown",
   "id": "e94e9512",
   "metadata": {},
   "source": [
    "## Quizzes"
   ]
  },
  {
   "cell_type": "code",
   "execution_count": 50,
   "id": "2ad31606",
   "metadata": {},
   "outputs": [
    {
     "name": "stdout",
     "output_type": "stream",
     "text": [
      "[5, 1, 2, 3, 7, 8, 5, 1, 2, 3, 7, 8]\n"
     ]
    }
   ],
   "source": [
    "numbers = [5, 1, 2, 3, 7, 8]*2\n",
    "\n",
    "print(numbers)"
   ]
  },
  {
   "cell_type": "code",
   "execution_count": 52,
   "id": "1743defd",
   "metadata": {},
   "outputs": [
    {
     "data": {
      "text/plain": [
       "[8]"
      ]
     },
     "execution_count": 52,
     "metadata": {},
     "output_type": "execute_result"
    }
   ],
   "source": [
    "numbers[-1::] "
   ]
  },
  {
   "cell_type": "code",
   "execution_count": 56,
   "id": "a86bb6bd",
   "metadata": {},
   "outputs": [],
   "source": [
    "numbers = [5, 1, 2, 3, 7, 8]"
   ]
  },
  {
   "cell_type": "code",
   "execution_count": 57,
   "id": "fa805143",
   "metadata": {},
   "outputs": [
    {
     "data": {
      "text/plain": [
       "[]"
      ]
     },
     "execution_count": 57,
     "metadata": {},
     "output_type": "execute_result"
    }
   ],
   "source": [
    "numbers[3:5:-1] "
   ]
  },
  {
   "cell_type": "markdown",
   "id": "e6186ca0",
   "metadata": {},
   "source": [
    "## Mix negative and postive index"
   ]
  },
  {
   "cell_type": "code",
   "execution_count": 59,
   "id": "fce38877",
   "metadata": {},
   "outputs": [],
   "source": [
    "numbers = [5, 1, 2, 3, 7, 8]"
   ]
  },
  {
   "cell_type": "code",
   "execution_count": 60,
   "id": "911a5170",
   "metadata": {},
   "outputs": [
    {
     "data": {
      "text/plain": [
       "[]"
      ]
     },
     "execution_count": 60,
     "metadata": {},
     "output_type": "execute_result"
    }
   ],
   "source": [
    "numbers[-2:4:-1]"
   ]
  },
  {
   "cell_type": "code",
   "execution_count": 61,
   "id": "b53b0352",
   "metadata": {},
   "outputs": [
    {
     "data": {
      "text/plain": [
       "[]"
      ]
     },
     "execution_count": 61,
     "metadata": {},
     "output_type": "execute_result"
    }
   ],
   "source": [
    "numbers[-2:5:-1]"
   ]
  },
  {
   "cell_type": "code",
   "execution_count": 62,
   "id": "5600bc57",
   "metadata": {},
   "outputs": [
    {
     "data": {
      "text/plain": [
       "[7, 3]"
      ]
     },
     "execution_count": 62,
     "metadata": {},
     "output_type": "execute_result"
    }
   ],
   "source": [
    "numbers[-2:2:-1]"
   ]
  },
  {
   "cell_type": "code",
   "execution_count": 67,
   "id": "e8ff6d72",
   "metadata": {},
   "outputs": [],
   "source": [
    "numbers = [5, 1, 2, 3, 7, 8, 5, 1, 2, 3, 7, 8]"
   ]
  },
  {
   "cell_type": "code",
   "execution_count": 68,
   "id": "a5dcbfb5",
   "metadata": {},
   "outputs": [
    {
     "data": {
      "text/plain": [
       "[8, 5, 1, 2]"
      ]
     },
     "execution_count": 68,
     "metadata": {},
     "output_type": "execute_result"
    }
   ],
   "source": [
    "# see the index as a position not number\n",
    "numbers[5:-3:1]"
   ]
  },
  {
   "cell_type": "markdown",
   "id": "37d3c2bd",
   "metadata": {},
   "source": [
    "## Iterate on Lists\n"
   ]
  },
  {
   "cell_type": "code",
   "execution_count": 75,
   "id": "702cec90",
   "metadata": {},
   "outputs": [
    {
     "name": "stdout",
     "output_type": "stream",
     "text": [
      "5 1 2 3 7 8 5 1 2 3 7 8 "
     ]
    }
   ],
   "source": [
    "numbers = [5, 1, 2, 3, 7, 8, 5, 1, 2, 3, 7, 8]\n",
    "\n",
    "for i in numbers:\n",
    "    print(i, end=' ')"
   ]
  },
  {
   "cell_type": "markdown",
   "id": "193b0f2d",
   "metadata": {},
   "source": [
    "## Mutability"
   ]
  },
  {
   "cell_type": "code",
   "execution_count": 85,
   "id": "475531b2",
   "metadata": {},
   "outputs": [],
   "source": [
    "bank_accounts_used_by_me = [3000, 0, 5000]"
   ]
  },
  {
   "cell_type": "code",
   "execution_count": 86,
   "id": "d2119dd7",
   "metadata": {},
   "outputs": [],
   "source": [
    "bank_accounts_used_by_dad = bank_accounts_used_by_me"
   ]
  },
  {
   "cell_type": "code",
   "execution_count": 87,
   "id": "a6bef348",
   "metadata": {},
   "outputs": [],
   "source": [
    "bank_accounts_used_by_me[0] -= 1000"
   ]
  },
  {
   "cell_type": "code",
   "execution_count": 88,
   "id": "5d5d635d",
   "metadata": {},
   "outputs": [
    {
     "name": "stdout",
     "output_type": "stream",
     "text": [
      "[2000, 0, 5000]\n"
     ]
    }
   ],
   "source": [
    "print(bank_accounts_used_by_me)"
   ]
  },
  {
   "cell_type": "code",
   "execution_count": 89,
   "id": "0657bf7e",
   "metadata": {},
   "outputs": [
    {
     "name": "stdout",
     "output_type": "stream",
     "text": [
      "[2000, 0, 5000]\n"
     ]
    }
   ],
   "source": [
    "print(bank_accounts_used_by_dad)"
   ]
  },
  {
   "cell_type": "markdown",
   "id": "fcbc8238",
   "metadata": {},
   "source": [
    "## What?\n"
   ]
  },
  {
   "cell_type": "code",
   "execution_count": 90,
   "id": "dded885d",
   "metadata": {},
   "outputs": [
    {
     "name": "stdout",
     "output_type": "stream",
     "text": [
      "[2000, 0, 5000]\n"
     ]
    }
   ],
   "source": [
    "l1 = [3000, 0, 5000] # me\n",
    "l2 = l1 # dad\n",
    "\n",
    "l1[0] -= 1000 # I used money\n",
    "print(l1) # my copy changes"
   ]
  },
  {
   "cell_type": "code",
   "execution_count": 91,
   "id": "f7a60e9b",
   "metadata": {},
   "outputs": [
    {
     "name": "stdout",
     "output_type": "stream",
     "text": [
      "[2000, 0, 5000]\n"
     ]
    }
   ],
   "source": [
    "print(l2)"
   ]
  },
  {
   "cell_type": "markdown",
   "id": "0a1e12b3",
   "metadata": {},
   "source": [
    "## Shallow Copy"
   ]
  },
  {
   "cell_type": "code",
   "execution_count": 92,
   "id": "55e2e0c3",
   "metadata": {},
   "outputs": [],
   "source": [
    "# same object being used"
   ]
  },
  {
   "cell_type": "code",
   "execution_count": 97,
   "id": "0b8a7ea0",
   "metadata": {},
   "outputs": [
    {
     "name": "stdout",
     "output_type": "stream",
     "text": [
      "True\n"
     ]
    }
   ],
   "source": [
    "l1 = [3, 4, 1, 2, 5]\n",
    "\n",
    "l2 = l1\n",
    "print(id(l1) == id(l2))"
   ]
  },
  {
   "cell_type": "code",
   "execution_count": 99,
   "id": "23a127b2",
   "metadata": {},
   "outputs": [
    {
     "name": "stdout",
     "output_type": "stream",
     "text": [
      "True\n"
     ]
    }
   ],
   "source": [
    "l1[0] = 7 # lists are mutable, changing the same object\n",
    "\n",
    "print(id(l1) == id(l2))"
   ]
  },
  {
   "cell_type": "code",
   "execution_count": 101,
   "id": "975bc673",
   "metadata": {},
   "outputs": [
    {
     "name": "stdout",
     "output_type": "stream",
     "text": [
      "[7, 4, 1, 2, 5]\n"
     ]
    }
   ],
   "source": [
    "print(l1)"
   ]
  },
  {
   "cell_type": "code",
   "execution_count": 102,
   "id": "68c00d24",
   "metadata": {},
   "outputs": [
    {
     "name": "stdout",
     "output_type": "stream",
     "text": [
      "[7, 4, 1, 2, 5]\n"
     ]
    }
   ],
   "source": [
    "print(l2)"
   ]
  },
  {
   "cell_type": "code",
   "execution_count": 93,
   "id": "cf36f7ec",
   "metadata": {},
   "outputs": [
    {
     "name": "stdout",
     "output_type": "stream",
     "text": [
      "True\n"
     ]
    }
   ],
   "source": [
    "a = 1234\n",
    "b = a\n",
    "\n",
    "print(id(a) == id(b))"
   ]
  },
  {
   "cell_type": "code",
   "execution_count": 100,
   "id": "04bf7afd",
   "metadata": {},
   "outputs": [
    {
     "name": "stdout",
     "output_type": "stream",
     "text": [
      "False\n",
      "1234\n",
      "3\n"
     ]
    }
   ],
   "source": [
    "a = 1234\n",
    "b = a\n",
    "b = 3 # immutable, creating a new object\n",
    "print(id(a) == id(b))\n",
    "\n",
    "print(a)\n",
    "print(b)"
   ]
  },
  {
   "cell_type": "code",
   "execution_count": 144,
   "id": "be5855ff",
   "metadata": {},
   "outputs": [
    {
     "name": "stdout",
     "output_type": "stream",
     "text": [
      "False\n",
      "3\n",
      "1234\n"
     ]
    }
   ],
   "source": [
    "a = 1234\n",
    "b = a\n",
    "a = 3\n",
    "print(id(a) == id(b))\n",
    "print(a)\n",
    "print(b)"
   ]
  },
  {
   "cell_type": "markdown",
   "id": "dc7a8ba6",
   "metadata": {},
   "source": [
    "## MCQ"
   ]
  },
  {
   "cell_type": "code",
   "execution_count": 103,
   "id": "4f2b7a65",
   "metadata": {},
   "outputs": [
    {
     "name": "stdout",
     "output_type": "stream",
     "text": [
      "True\n"
     ]
    }
   ],
   "source": [
    "my_teams = ['Raptors', 'Heat', 'Nets']\n",
    "your_teams = my_teams \n",
    "print(id(my_teams) == id(your_teams))"
   ]
  },
  {
   "cell_type": "code",
   "execution_count": 105,
   "id": "59f4ed10",
   "metadata": {},
   "outputs": [
    {
     "name": "stdout",
     "output_type": "stream",
     "text": [
      "True\n"
     ]
    }
   ],
   "source": [
    "my_teams[1] = 'Lakers'\n",
    "print(id(my_teams) == id(your_teams))"
   ]
  },
  {
   "cell_type": "code",
   "execution_count": 106,
   "id": "3ae5e2d5",
   "metadata": {},
   "outputs": [
    {
     "name": "stdout",
     "output_type": "stream",
     "text": [
      "My teams are: ['Raptors', 'Lakers', 'Nets']\n",
      "Your teams are: ['Raptors', 'Lakers', 'Nets']\n"
     ]
    }
   ],
   "source": [
    "print('My teams are:', my_teams)\n",
    "print('Your teams are:', your_teams) "
   ]
  },
  {
   "cell_type": "markdown",
   "id": "b46a8b3d",
   "metadata": {},
   "source": [
    "## HW"
   ]
  },
  {
   "cell_type": "code",
   "execution_count": 109,
   "id": "c618ca52",
   "metadata": {},
   "outputs": [],
   "source": [
    "board = [[\"\", \"\", \"\"], [\"\", \"\", \"\"], [\"\", \"\", \"\"]]"
   ]
  },
  {
   "cell_type": "code",
   "execution_count": 110,
   "id": "e2c255eb",
   "metadata": {},
   "outputs": [],
   "source": [
    "board[0][0] = '0'"
   ]
  },
  {
   "cell_type": "code",
   "execution_count": 111,
   "id": "44a03b1d",
   "metadata": {},
   "outputs": [
    {
     "name": "stdout",
     "output_type": "stream",
     "text": [
      "[['0', '', ''], ['', '', ''], ['', '', '']]\n"
     ]
    }
   ],
   "source": [
    "print(board)"
   ]
  },
  {
   "cell_type": "code",
   "execution_count": null,
   "id": "9e67314f",
   "metadata": {},
   "outputs": [],
   "source": []
  },
  {
   "cell_type": "code",
   "execution_count": 112,
   "id": "551a5ff6",
   "metadata": {},
   "outputs": [],
   "source": [
    "board = [\"\"]*3"
   ]
  },
  {
   "cell_type": "code",
   "execution_count": 113,
   "id": "2c397b6a",
   "metadata": {},
   "outputs": [
    {
     "name": "stdout",
     "output_type": "stream",
     "text": [
      "['', '', '']\n"
     ]
    }
   ],
   "source": [
    "print(board)"
   ]
  },
  {
   "cell_type": "code",
   "execution_count": 115,
   "id": "481d4ed7",
   "metadata": {},
   "outputs": [],
   "source": [
    "# ['', '', ''] * 3"
   ]
  },
  {
   "cell_type": "code",
   "execution_count": 117,
   "id": "68f28135",
   "metadata": {},
   "outputs": [
    {
     "data": {
      "text/plain": [
       "[['', '', '']]"
      ]
     },
     "execution_count": 117,
     "metadata": {},
     "output_type": "execute_result"
    }
   ],
   "source": [
    "[[''] * 3] "
   ]
  },
  {
   "cell_type": "markdown",
   "id": "a2fe310a",
   "metadata": {},
   "source": [
    "## Magic"
   ]
  },
  {
   "cell_type": "code",
   "execution_count": 120,
   "id": "15b3b8c9",
   "metadata": {},
   "outputs": [],
   "source": [
    "board = [[''] * 3] * 3"
   ]
  },
  {
   "cell_type": "code",
   "execution_count": 121,
   "id": "a6934b92",
   "metadata": {},
   "outputs": [
    {
     "name": "stdout",
     "output_type": "stream",
     "text": [
      "[['', '', ''], ['', '', ''], ['', '', '']]\n"
     ]
    }
   ],
   "source": [
    "print(board)"
   ]
  },
  {
   "cell_type": "code",
   "execution_count": 123,
   "id": "d2d04574",
   "metadata": {},
   "outputs": [],
   "source": [
    "board[0][0] = '0'"
   ]
  },
  {
   "cell_type": "code",
   "execution_count": 124,
   "id": "a54812c3",
   "metadata": {},
   "outputs": [
    {
     "name": "stdout",
     "output_type": "stream",
     "text": [
      "[['0', '', ''], ['0', '', ''], ['0', '', '']]\n"
     ]
    }
   ],
   "source": [
    "print(board)"
   ]
  },
  {
   "cell_type": "code",
   "execution_count": 125,
   "id": "bd54aa68",
   "metadata": {},
   "outputs": [],
   "source": [
    "board[1][1] = 'X'"
   ]
  },
  {
   "cell_type": "code",
   "execution_count": 126,
   "id": "d07a4aa8",
   "metadata": {},
   "outputs": [
    {
     "name": "stdout",
     "output_type": "stream",
     "text": [
      "[['0', 'X', ''], ['0', 'X', ''], ['0', 'X', '']]\n"
     ]
    }
   ],
   "source": [
    "print(board)"
   ]
  },
  {
   "cell_type": "markdown",
   "id": "7f312263",
   "metadata": {},
   "source": [
    "Hint: Think about mutability and immutability\n",
    "\n",
    "Strings => Immutable\n",
    "\n",
    "Lists => Mutable\n",
    "\n",
    "List Multiplication"
   ]
  },
  {
   "cell_type": "markdown",
   "id": "43be0ba3",
   "metadata": {},
   "source": [
    "### Up Next\n",
    "\n",
    "0. HW to be discussed\n",
    "1. Tuples\n",
    "2. Sets and Dictionaries\n",
    "3. Lists => Deep Copy\n",
    "4. Comprehension\n",
    "5. Some more important methods in the list, set, tuples, dict"
   ]
  },
  {
   "cell_type": "markdown",
   "id": "22996658",
   "metadata": {},
   "source": [
    "## Doubts"
   ]
  },
  {
   "cell_type": "code",
   "execution_count": 127,
   "id": "38cb384d",
   "metadata": {},
   "outputs": [
    {
     "name": "stdout",
     "output_type": "stream",
     "text": [
      "[30]\n"
     ]
    }
   ],
   "source": [
    "L = [10, 20, 30, 40, 50, 60]\n",
    "print(L[2:4:15])"
   ]
  },
  {
   "cell_type": "code",
   "execution_count": 128,
   "id": "23e1a653",
   "metadata": {},
   "outputs": [
    {
     "name": "stdout",
     "output_type": "stream",
     "text": [
      "[]\n"
     ]
    }
   ],
   "source": [
    "print(L[2:4:-1])"
   ]
  },
  {
   "cell_type": "code",
   "execution_count": 129,
   "id": "adefd9af",
   "metadata": {},
   "outputs": [
    {
     "name": "stdout",
     "output_type": "stream",
     "text": [
      "[60]\n"
     ]
    }
   ],
   "source": [
    "print(L[-1:4:-1]) "
   ]
  },
  {
   "cell_type": "code",
   "execution_count": 133,
   "id": "f6975447",
   "metadata": {},
   "outputs": [
    {
     "name": "stdout",
     "output_type": "stream",
     "text": [
      "[]\n"
     ]
    }
   ],
   "source": [
    "print(L[-3:-1:-1]) "
   ]
  },
  {
   "cell_type": "code",
   "execution_count": 134,
   "id": "0a1eb2c9",
   "metadata": {},
   "outputs": [
    {
     "name": "stdout",
     "output_type": "stream",
     "text": [
      "[40, 50]\n"
     ]
    }
   ],
   "source": [
    "print(L[-3:-1:1]) "
   ]
  },
  {
   "cell_type": "code",
   "execution_count": 140,
   "id": "05eb6a7a",
   "metadata": {},
   "outputs": [
    {
     "data": {
      "text/plain": [
       "[10]"
      ]
     },
     "execution_count": 140,
     "metadata": {},
     "output_type": "execute_result"
    }
   ],
   "source": [
    "L = [10, 20, 30, 40, 50, 60]\n",
    "\n",
    "L[0::-1]\n",
    "L[0::-2]"
   ]
  },
  {
   "cell_type": "code",
   "execution_count": 137,
   "id": "4e4dd8d3",
   "metadata": {},
   "outputs": [
    {
     "data": {
      "text/plain": [
       "[]"
      ]
     },
     "execution_count": 137,
     "metadata": {},
     "output_type": "execute_result"
    }
   ],
   "source": [
    "L[0:0:-1]"
   ]
  },
  {
   "cell_type": "code",
   "execution_count": 138,
   "id": "efe2f6b8",
   "metadata": {},
   "outputs": [
    {
     "data": {
      "text/plain": [
       "[10]"
      ]
     },
     "execution_count": 138,
     "metadata": {},
     "output_type": "execute_result"
    }
   ],
   "source": [
    "L[0:(-len(L) - 1):-1]"
   ]
  },
  {
   "cell_type": "code",
   "execution_count": 139,
   "id": "39d035c2",
   "metadata": {},
   "outputs": [
    {
     "data": {
      "text/plain": [
       "[10, 20, 30, 40, 50, 60]"
      ]
     },
     "execution_count": 139,
     "metadata": {},
     "output_type": "execute_result"
    }
   ],
   "source": [
    "L[0::1]"
   ]
  },
  {
   "cell_type": "code",
   "execution_count": 146,
   "id": "1ec2e9d9",
   "metadata": {},
   "outputs": [
    {
     "data": {
      "text/plain": [
       "[60, 60]"
      ]
     },
     "execution_count": 146,
     "metadata": {},
     "output_type": "execute_result"
    }
   ],
   "source": [
    "L[-1::]*2"
   ]
  },
  {
   "cell_type": "code",
   "execution_count": 148,
   "id": "2e4fb663",
   "metadata": {},
   "outputs": [
    {
     "data": {
      "text/plain": [
       "[60, 60]"
      ]
     },
     "execution_count": 148,
     "metadata": {},
     "output_type": "execute_result"
    }
   ],
   "source": [
    "[60]*2"
   ]
  },
  {
   "cell_type": "code",
   "execution_count": 149,
   "id": "f95b62eb",
   "metadata": {},
   "outputs": [],
   "source": [
    "l = [[1, 2, 3], [4, 5, 6], [7, 8, 9]]"
   ]
  },
  {
   "cell_type": "code",
   "execution_count": 154,
   "id": "01b3c71a",
   "metadata": {},
   "outputs": [
    {
     "data": {
      "text/plain": [
       "[7, 8, 9]"
      ]
     },
     "execution_count": 154,
     "metadata": {},
     "output_type": "execute_result"
    }
   ],
   "source": [
    "max(l)"
   ]
  },
  {
   "cell_type": "code",
   "execution_count": 155,
   "id": "03504213",
   "metadata": {},
   "outputs": [
    {
     "data": {
      "text/plain": [
       "[1, 2, 3]"
      ]
     },
     "execution_count": 155,
     "metadata": {},
     "output_type": "execute_result"
    }
   ],
   "source": [
    "min(l)"
   ]
  },
  {
   "cell_type": "code",
   "execution_count": 162,
   "id": "0118713c",
   "metadata": {},
   "outputs": [],
   "source": [
    "a = [1,2,3,4]\n",
    "b = a\n",
    "c = [4,5,6]\n",
    "a.append(c)\n",
    "# a = a.append(c) -> append method returns None"
   ]
  },
  {
   "cell_type": "code",
   "execution_count": 160,
   "id": "f4f19bc4",
   "metadata": {},
   "outputs": [
    {
     "name": "stdout",
     "output_type": "stream",
     "text": [
      "[1, 2, 3, 4, [4, 5, 6]]\n"
     ]
    }
   ],
   "source": [
    "print(a)"
   ]
  },
  {
   "cell_type": "code",
   "execution_count": 161,
   "id": "6efb8f0b",
   "metadata": {},
   "outputs": [
    {
     "name": "stdout",
     "output_type": "stream",
     "text": [
      "[1, 2, 3, 4, [4, 5, 6]]\n"
     ]
    }
   ],
   "source": [
    "print(b)"
   ]
  },
  {
   "cell_type": "code",
   "execution_count": 165,
   "id": "8e54d3b1",
   "metadata": {},
   "outputs": [
    {
     "data": {
      "text/plain": [
       "False"
      ]
     },
     "execution_count": 165,
     "metadata": {},
     "output_type": "execute_result"
    }
   ],
   "source": [
    "a=1234\n",
    "b=1234\n",
    "id(a)==id(b)"
   ]
  },
  {
   "cell_type": "code",
   "execution_count": 164,
   "id": "39f818b6",
   "metadata": {},
   "outputs": [
    {
     "data": {
      "text/plain": [
       "True"
      ]
     },
     "execution_count": 164,
     "metadata": {},
     "output_type": "execute_result"
    }
   ],
   "source": [
    "a = 1234\n",
    "b = a\n",
    "id(a) == id(b)"
   ]
  },
  {
   "cell_type": "code",
   "execution_count": 166,
   "id": "796fba83",
   "metadata": {},
   "outputs": [
    {
     "name": "stdout",
     "output_type": "stream",
     "text": [
      "False\n"
     ]
    }
   ],
   "source": [
    "a = 257\n",
    "b = 257\n",
    "print(id(a) == id(b))"
   ]
  },
  {
   "cell_type": "code",
   "execution_count": 168,
   "id": "3707c7ce",
   "metadata": {},
   "outputs": [
    {
     "name": "stdout",
     "output_type": "stream",
     "text": [
      "True\n"
     ]
    }
   ],
   "source": [
    "# small integer caching\n",
    "a = 256\n",
    "b = 256\n",
    "print(id(a) == id(b))"
   ]
  },
  {
   "cell_type": "code",
   "execution_count": 169,
   "id": "1b0ed85f",
   "metadata": {},
   "outputs": [
    {
     "ename": "IndexError",
     "evalue": "list assignment index out of range",
     "output_type": "error",
     "traceback": [
      "\u001b[0;31m---------------------------------------------------------------------------\u001b[0m",
      "\u001b[0;31mIndexError\u001b[0m                                Traceback (most recent call last)",
      "Input \u001b[0;32mIn [169]\u001b[0m, in \u001b[0;36m<cell line: 2>\u001b[0;34m()\u001b[0m\n\u001b[1;32m      1\u001b[0m numbers \u001b[38;5;241m=\u001b[39m [\u001b[38;5;241m5\u001b[39m, \u001b[38;5;241m1\u001b[39m, \u001b[38;5;241m2\u001b[39m, \u001b[38;5;241m3\u001b[39m, \u001b[38;5;241m7\u001b[39m, \u001b[38;5;241m8\u001b[39m]\n\u001b[0;32m----> 2\u001b[0m numbers[\u001b[38;5;241m6\u001b[39m] \u001b[38;5;241m=\u001b[39m [\u001b[38;5;241m100\u001b[39m]\n",
      "\u001b[0;31mIndexError\u001b[0m: list assignment index out of range"
     ]
    }
   ],
   "source": [
    "numbers = [5, 1, 2, 3, 7, 8]\n",
    "numbers[6] = [100] "
   ]
  },
  {
   "cell_type": "code",
   "execution_count": 172,
   "id": "33f93266",
   "metadata": {},
   "outputs": [
    {
     "data": {
      "text/plain": [
       "[5, 1, 2, 3, 7, 8, 100]"
      ]
     },
     "execution_count": 172,
     "metadata": {},
     "output_type": "execute_result"
    }
   ],
   "source": [
    "# add the data to the list\n",
    "numbers[6:] = [100] \n",
    "numbers"
   ]
  },
  {
   "cell_type": "code",
   "execution_count": 173,
   "id": "1e35b86a",
   "metadata": {},
   "outputs": [],
   "source": [
    "numbers = [1, 2, 3, 4, 5, 7]"
   ]
  },
  {
   "cell_type": "code",
   "execution_count": 176,
   "id": "2e9eb1a4",
   "metadata": {},
   "outputs": [],
   "source": [
    "numbers = [i*2 for i in numbers] # comprehension => in next class"
   ]
  },
  {
   "cell_type": "code",
   "execution_count": 177,
   "id": "fc950b29",
   "metadata": {},
   "outputs": [
    {
     "data": {
      "text/plain": [
       "[4, 8, 12, 16, 20, 28]"
      ]
     },
     "execution_count": 177,
     "metadata": {},
     "output_type": "execute_result"
    }
   ],
   "source": [
    "numbers"
   ]
  },
  {
   "cell_type": "code",
   "execution_count": null,
   "id": "c4f62e29",
   "metadata": {},
   "outputs": [],
   "source": []
  },
  {
   "cell_type": "code",
   "execution_count": null,
   "id": "2d784a44",
   "metadata": {},
   "outputs": [],
   "source": []
  }
 ],
 "metadata": {
  "kernelspec": {
   "display_name": "Python 3 (ipykernel)",
   "language": "python",
   "name": "python3"
  },
  "language_info": {
   "codemirror_mode": {
    "name": "ipython",
    "version": 3
   },
   "file_extension": ".py",
   "mimetype": "text/x-python",
   "name": "python",
   "nbconvert_exporter": "python",
   "pygments_lexer": "ipython3",
   "version": "3.9.12"
  }
 },
 "nbformat": 4,
 "nbformat_minor": 5
}
