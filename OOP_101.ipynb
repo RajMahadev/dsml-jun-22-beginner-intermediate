{
  "cells": [
    {
      "cell_type": "markdown",
      "metadata": {
        "id": "view-in-github",
        "colab_type": "text"
      },
      "source": [
        "<a href=\"https://colab.research.google.com/github/scaleracademy/dsml-jun-22-beginner-intermediate/blob/main/OOP_101.ipynb\" target=\"_parent\"><img src=\"https://colab.research.google.com/assets/colab-badge.svg\" alt=\"Open In Colab\"/></a>"
      ]
    },
    {
      "cell_type": "markdown",
      "id": "94dcde6b",
      "metadata": {
        "id": "94dcde6b"
      },
      "source": [
        "## Python OOP 101"
      ]
    },
    {
      "cell_type": "markdown",
      "id": "d215c477",
      "metadata": {
        "id": "d215c477"
      },
      "source": [
        "Class => Blue print (template)"
      ]
    },
    {
      "cell_type": "code",
      "execution_count": null,
      "id": "d85f2801",
      "metadata": {
        "id": "d85f2801"
      },
      "outputs": [],
      "source": [
        "class Student:\n",
        "    pass"
      ]
    },
    {
      "cell_type": "markdown",
      "id": "1e5e0854",
      "metadata": {
        "id": "1e5e0854"
      },
      "source": [
        "Objects => specific instance of a class"
      ]
    },
    {
      "cell_type": "code",
      "execution_count": null,
      "id": "a90c829e",
      "metadata": {
        "id": "a90c829e"
      },
      "outputs": [],
      "source": [
        "s1 = Student() # creates the object"
      ]
    },
    {
      "cell_type": "code",
      "execution_count": null,
      "id": "76ef62dd",
      "metadata": {
        "id": "76ef62dd",
        "outputId": "715bb505-e3a0-4c33-975d-41461b4088b8"
      },
      "outputs": [
        {
          "data": {
            "text/plain": [
              "__main__.Student"
            ]
          },
          "execution_count": 12,
          "metadata": {},
          "output_type": "execute_result"
        }
      ],
      "source": [
        "type(s1)"
      ]
    },
    {
      "cell_type": "code",
      "execution_count": null,
      "id": "3b1bc07e",
      "metadata": {
        "id": "3b1bc07e",
        "outputId": "b507762a-3c52-473e-d210-830bbf06eb6c"
      },
      "outputs": [
        {
          "data": {
            "text/plain": [
              "__main__.Student"
            ]
          },
          "execution_count": 13,
          "metadata": {},
          "output_type": "execute_result"
        }
      ],
      "source": [
        "s2 = Student()\n",
        "type(s2)"
      ]
    },
    {
      "cell_type": "code",
      "execution_count": null,
      "id": "187fec21",
      "metadata": {
        "id": "187fec21",
        "outputId": "c99c782b-1f00-430e-87c4-3834c4c301fe"
      },
      "outputs": [
        {
          "data": {
            "text/plain": [
              "False"
            ]
          },
          "execution_count": 14,
          "metadata": {},
          "output_type": "execute_result"
        }
      ],
      "source": [
        "id(s1) == id(s2)"
      ]
    },
    {
      "cell_type": "markdown",
      "id": "bcc5bc49",
      "metadata": {
        "id": "bcc5bc49"
      },
      "source": [
        "### object of int class"
      ]
    },
    {
      "cell_type": "code",
      "execution_count": null,
      "id": "4fc6211c",
      "metadata": {
        "id": "4fc6211c",
        "outputId": "5b42943a-4a97-4a85-9b27-c30810e71498"
      },
      "outputs": [
        {
          "data": {
            "text/plain": [
              "int"
            ]
          },
          "execution_count": 4,
          "metadata": {},
          "output_type": "execute_result"
        }
      ],
      "source": [
        "a = 3\n",
        "type(a)"
      ]
    },
    {
      "cell_type": "code",
      "execution_count": null,
      "id": "18b36b50",
      "metadata": {
        "id": "18b36b50",
        "outputId": "da0ed961-e096-45c5-fa09-b0e3bb666888"
      },
      "outputs": [
        {
          "name": "stdout",
          "output_type": "stream",
          "text": [
            "<class 'int'>\n"
          ]
        }
      ],
      "source": [
        "print(type(a)) # a is an object of class int"
      ]
    },
    {
      "cell_type": "code",
      "execution_count": null,
      "id": "d44b6f83",
      "metadata": {
        "id": "d44b6f83",
        "outputId": "814d07e8-fe65-40ab-a29f-330f2edecb22"
      },
      "outputs": [
        {
          "data": {
            "text/plain": [
              "int"
            ]
          },
          "execution_count": 9,
          "metadata": {},
          "output_type": "execute_result"
        }
      ],
      "source": [
        "b = 5\n",
        "type(b)"
      ]
    },
    {
      "cell_type": "markdown",
      "id": "0829e5db",
      "metadata": {
        "id": "0829e5db"
      },
      "source": [
        "### Encapuslation"
      ]
    },
    {
      "cell_type": "code",
      "execution_count": null,
      "id": "4e4577c0",
      "metadata": {
        "id": "4e4577c0"
      },
      "outputs": [],
      "source": [
        "class Student:\n",
        "    def study(time):\n",
        "        print(f'I am studying for {time} hours!! Yeah!!')"
      ]
    },
    {
      "cell_type": "code",
      "execution_count": null,
      "id": "c5e803fc",
      "metadata": {
        "id": "c5e803fc"
      },
      "outputs": [],
      "source": [
        "s = Student()"
      ]
    },
    {
      "cell_type": "code",
      "execution_count": null,
      "id": "0e2339d3",
      "metadata": {
        "id": "0e2339d3"
      },
      "outputs": [],
      "source": [
        "# data for the object\n",
        "s.name = 'Rahul'"
      ]
    },
    {
      "cell_type": "code",
      "execution_count": null,
      "id": "2cd9efc8",
      "metadata": {
        "id": "2cd9efc8",
        "outputId": "9772da96-e0ac-4f17-b02d-3c2883bec561"
      },
      "outputs": [
        {
          "ename": "TypeError",
          "evalue": "study() takes 1 positional argument but 2 were given",
          "output_type": "error",
          "traceback": [
            "\u001b[0;31m---------------------------------------------------------------------------\u001b[0m",
            "\u001b[0;31mTypeError\u001b[0m                                 Traceback (most recent call last)",
            "Input \u001b[0;32mIn [38]\u001b[0m, in \u001b[0;36m<cell line: 2>\u001b[0;34m()\u001b[0m\n\u001b[1;32m      1\u001b[0m \u001b[38;5;66;03m# call method\u001b[39;00m\n\u001b[0;32m----> 2\u001b[0m \u001b[43ms\u001b[49m\u001b[38;5;241;43m.\u001b[39;49m\u001b[43mstudy\u001b[49m\u001b[43m(\u001b[49m\u001b[38;5;241;43m2\u001b[39;49m\u001b[43m)\u001b[49m\n",
            "\u001b[0;31mTypeError\u001b[0m: study() takes 1 positional argument but 2 were given"
          ]
        }
      ],
      "source": [
        "# call method\n",
        "s.study(2) # python is automatically adding the object s as 1st arg"
      ]
    },
    {
      "cell_type": "markdown",
      "id": "6146d8ea",
      "metadata": {
        "id": "6146d8ea"
      },
      "source": [
        "### Making it work and decode self"
      ]
    },
    {
      "cell_type": "code",
      "execution_count": null,
      "id": "605edcfa",
      "metadata": {
        "id": "605edcfa"
      },
      "outputs": [],
      "source": [
        "class Student:\n",
        "    def study(a, time):\n",
        "        # a is the same object that is calling\n",
        "        # always the 1st argment is the object that is calling the function\n",
        "        print(f'a is: {a}')\n",
        "        print(f'I am studying for {time} hours!! Yeah!!')"
      ]
    },
    {
      "cell_type": "code",
      "execution_count": null,
      "id": "72167d5c",
      "metadata": {
        "id": "72167d5c"
      },
      "outputs": [],
      "source": [
        "s = Student()"
      ]
    },
    {
      "cell_type": "code",
      "execution_count": null,
      "id": "c9cc6f55",
      "metadata": {
        "id": "c9cc6f55"
      },
      "outputs": [],
      "source": [
        "s.name = 'Pradeep'"
      ]
    },
    {
      "cell_type": "code",
      "execution_count": null,
      "id": "02770a4c",
      "metadata": {
        "id": "02770a4c",
        "outputId": "cf04c959-f068-42c5-80f3-415b193fc347"
      },
      "outputs": [
        {
          "name": "stdout",
          "output_type": "stream",
          "text": [
            "Pradeep\n"
          ]
        }
      ],
      "source": [
        "print(s.name)"
      ]
    },
    {
      "cell_type": "code",
      "execution_count": null,
      "id": "6a37856b",
      "metadata": {
        "id": "6a37856b",
        "outputId": "9d93b420-83ea-4913-bc04-6c18315f7b84"
      },
      "outputs": [
        {
          "name": "stdout",
          "output_type": "stream",
          "text": [
            "a is: <__main__.Student object at 0x7fdea06fd070>\n",
            "I am studying for 1 hours!! Yeah!!\n"
          ]
        }
      ],
      "source": [
        "s.study(1)"
      ]
    },
    {
      "cell_type": "code",
      "execution_count": null,
      "id": "82d7822d",
      "metadata": {
        "id": "82d7822d",
        "outputId": "1084c050-f7ca-4877-e75b-2ee11189e939"
      },
      "outputs": [
        {
          "name": "stdout",
          "output_type": "stream",
          "text": [
            "<__main__.Student object at 0x7fdea06fd070>\n"
          ]
        }
      ],
      "source": [
        "print(s)"
      ]
    },
    {
      "cell_type": "code",
      "execution_count": null,
      "id": "f0d05e3f",
      "metadata": {
        "id": "f0d05e3f",
        "outputId": "d937d98f-6dc1-478d-9e0f-b468378d00f6"
      },
      "outputs": [
        {
          "name": "stdout",
          "output_type": "stream",
          "text": [
            "a is: <__main__.Student object at 0x7fdea06fd070>\n",
            "I am studying for 1 hours!! Yeah!!\n"
          ]
        }
      ],
      "source": [
        "Student.study(s, 1)"
      ]
    },
    {
      "cell_type": "markdown",
      "id": "08d5b87e",
      "metadata": {
        "id": "08d5b87e"
      },
      "source": [
        "### Convention: self is the 1st argument name"
      ]
    },
    {
      "cell_type": "code",
      "execution_count": null,
      "id": "22b54ef6",
      "metadata": {
        "id": "22b54ef6"
      },
      "outputs": [],
      "source": [
        "class Student:\n",
        "    def study(self, time):\n",
        "        print(self)\n",
        "        # self is the object that is calling this method\n",
        "        print(f'{self.name} ({self.age}) is studying for {time} hours!! Yeah!!')"
      ]
    },
    {
      "cell_type": "code",
      "execution_count": null,
      "id": "c1dff7b2",
      "metadata": {
        "id": "c1dff7b2"
      },
      "outputs": [],
      "source": [
        "s = Student()"
      ]
    },
    {
      "cell_type": "code",
      "execution_count": null,
      "id": "e09813e9",
      "metadata": {
        "id": "e09813e9"
      },
      "outputs": [],
      "source": [
        "s.name = 'Annivarya'\n",
        "s.age = 27"
      ]
    },
    {
      "cell_type": "code",
      "execution_count": null,
      "id": "e8840cbf",
      "metadata": {
        "id": "e8840cbf",
        "outputId": "37ab96bb-716d-49ee-cbfb-f76ee620d4d3"
      },
      "outputs": [
        {
          "name": "stdout",
          "output_type": "stream",
          "text": [
            "<__main__.Student object at 0x7fdea06fde20>\n",
            "Annivarya (27) is studying for 5 hours!! Yeah!!\n"
          ]
        }
      ],
      "source": [
        "s.study(5) # Student.study(s, 5)"
      ]
    },
    {
      "cell_type": "code",
      "execution_count": null,
      "id": "e29440a5",
      "metadata": {
        "id": "e29440a5"
      },
      "outputs": [],
      "source": [
        "s2 = Student()"
      ]
    },
    {
      "cell_type": "code",
      "execution_count": null,
      "id": "83ab7965",
      "metadata": {
        "id": "83ab7965"
      },
      "outputs": [],
      "source": [
        "s2.name = \"Mamta\"\n",
        "s2.age = 27"
      ]
    },
    {
      "cell_type": "code",
      "execution_count": null,
      "id": "2ae2b08f",
      "metadata": {
        "id": "2ae2b08f",
        "outputId": "63206f5b-8cdf-4f60-f4ab-80db09d4686f"
      },
      "outputs": [
        {
          "name": "stdout",
          "output_type": "stream",
          "text": [
            "<__main__.Student object at 0x7fde70f442b0>\n",
            "Mamta (27) is studying for 3 hours!! Yeah!!\n"
          ]
        }
      ],
      "source": [
        "s2.study(3) # Student.study(s2, 3)"
      ]
    },
    {
      "cell_type": "markdown",
      "id": "26770da3",
      "metadata": {
        "id": "26770da3"
      },
      "source": [
        "### Quiz - 2"
      ]
    },
    {
      "cell_type": "code",
      "execution_count": null,
      "id": "886601fc",
      "metadata": {
        "id": "886601fc"
      },
      "outputs": [],
      "source": [
        "class Counter:\n",
        "    def call(self):\n",
        "        print(self.count)"
      ]
    },
    {
      "cell_type": "code",
      "execution_count": null,
      "id": "a95e8eb0",
      "metadata": {
        "id": "a95e8eb0"
      },
      "outputs": [],
      "source": [
        "c = Counter()"
      ]
    },
    {
      "cell_type": "code",
      "execution_count": null,
      "id": "49cfa989",
      "metadata": {
        "id": "49cfa989"
      },
      "outputs": [],
      "source": [
        "c.count = 5"
      ]
    },
    {
      "cell_type": "code",
      "execution_count": null,
      "id": "bdcad952",
      "metadata": {
        "id": "bdcad952",
        "outputId": "a5aa9ee7-ea40-4dc7-e84e-ebf941af686c"
      },
      "outputs": [
        {
          "name": "stdout",
          "output_type": "stream",
          "text": [
            "5\n"
          ]
        }
      ],
      "source": [
        "c.call()"
      ]
    },
    {
      "cell_type": "markdown",
      "id": "730ec187",
      "metadata": {
        "id": "730ec187"
      },
      "source": [
        "## Construction"
      ]
    },
    {
      "cell_type": "code",
      "execution_count": null,
      "id": "56c8f67e",
      "metadata": {
        "id": "56c8f67e"
      },
      "outputs": [],
      "source": [
        "class Student:\n",
        "    pass"
      ]
    },
    {
      "cell_type": "code",
      "execution_count": null,
      "id": "b5b5afea",
      "metadata": {
        "id": "b5b5afea"
      },
      "outputs": [],
      "source": [
        "s = Student() # the object is created"
      ]
    },
    {
      "cell_type": "code",
      "execution_count": null,
      "id": "7c58c788",
      "metadata": {
        "id": "7c58c788",
        "outputId": "1c624a7d-0754-4108-99eb-d42358550edb"
      },
      "outputs": [
        {
          "name": "stdout",
          "output_type": "stream",
          "text": [
            "<__main__.Student object at 0x7fde809eec10>\n"
          ]
        }
      ],
      "source": [
        "print(s)"
      ]
    },
    {
      "cell_type": "code",
      "execution_count": null,
      "id": "2f451b6f",
      "metadata": {
        "id": "2f451b6f"
      },
      "outputs": [],
      "source": [
        "s2 = Student()"
      ]
    },
    {
      "cell_type": "code",
      "execution_count": null,
      "id": "bafa99af",
      "metadata": {
        "id": "bafa99af",
        "outputId": "8f594a4a-4930-4060-e9cf-a31f3c1607e2"
      },
      "outputs": [
        {
          "name": "stdout",
          "output_type": "stream",
          "text": [
            "<__main__.Student object at 0x7fde80a584c0>\n"
          ]
        }
      ],
      "source": [
        "print(s2)"
      ]
    },
    {
      "cell_type": "code",
      "execution_count": null,
      "id": "2a0e2f34",
      "metadata": {
        "id": "2a0e2f34",
        "outputId": "896bc5cb-c5c4-4764-bee8-68124b381eab"
      },
      "outputs": [
        {
          "ename": "AttributeError",
          "evalue": "'Student' object has no attribute 'name'",
          "output_type": "error",
          "traceback": [
            "\u001b[0;31m---------------------------------------------------------------------------\u001b[0m",
            "\u001b[0;31mAttributeError\u001b[0m                            Traceback (most recent call last)",
            "Input \u001b[0;32mIn [96]\u001b[0m, in \u001b[0;36m<cell line: 1>\u001b[0;34m()\u001b[0m\n\u001b[0;32m----> 1\u001b[0m \u001b[38;5;28mprint\u001b[39m(\u001b[43ms2\u001b[49m\u001b[38;5;241;43m.\u001b[39;49m\u001b[43mname\u001b[49m)\n",
            "\u001b[0;31mAttributeError\u001b[0m: 'Student' object has no attribute 'name'"
          ]
        }
      ],
      "source": [
        "print(s2.name)"
      ]
    },
    {
      "cell_type": "markdown",
      "id": "7bb80418",
      "metadata": {
        "id": "7bb80418"
      },
      "source": [
        "`__init__` initialiser"
      ]
    },
    {
      "cell_type": "code",
      "execution_count": null,
      "id": "8ffb2cfa",
      "metadata": {
        "id": "8ffb2cfa"
      },
      "outputs": [],
      "source": [
        "class Student:\n",
        "    def __init__(self, n, a):\n",
        "        # assign the values\n",
        "        self.name = n\n",
        "        self.age = a"
      ]
    },
    {
      "cell_type": "code",
      "execution_count": null,
      "id": "0db5f5fd",
      "metadata": {
        "id": "0db5f5fd",
        "outputId": "6891a513-4863-43b7-8c70-4169f162cd8e"
      },
      "outputs": [
        {
          "ename": "TypeError",
          "evalue": "__init__() missing 2 required positional arguments: 'n' and 'a'",
          "output_type": "error",
          "traceback": [
            "\u001b[0;31m---------------------------------------------------------------------------\u001b[0m",
            "\u001b[0;31mTypeError\u001b[0m                                 Traceback (most recent call last)",
            "Input \u001b[0;32mIn [98]\u001b[0m, in \u001b[0;36m<cell line: 1>\u001b[0;34m()\u001b[0m\n\u001b[0;32m----> 1\u001b[0m s \u001b[38;5;241m=\u001b[39m \u001b[43mStudent\u001b[49m\u001b[43m(\u001b[49m\u001b[43m)\u001b[49m\n",
            "\u001b[0;31mTypeError\u001b[0m: __init__() missing 2 required positional arguments: 'n' and 'a'"
          ]
        }
      ],
      "source": [
        "s = Student()"
      ]
    },
    {
      "cell_type": "code",
      "execution_count": null,
      "id": "23b84216",
      "metadata": {
        "id": "23b84216",
        "outputId": "e0d95e58-d393-4b07-ee55-f2f4c681c6d6"
      },
      "outputs": [
        {
          "ename": "TypeError",
          "evalue": "__init__() missing 1 required positional argument: 'a'",
          "output_type": "error",
          "traceback": [
            "\u001b[0;31m---------------------------------------------------------------------------\u001b[0m",
            "\u001b[0;31mTypeError\u001b[0m                                 Traceback (most recent call last)",
            "Input \u001b[0;32mIn [99]\u001b[0m, in \u001b[0;36m<cell line: 1>\u001b[0;34m()\u001b[0m\n\u001b[0;32m----> 1\u001b[0m s \u001b[38;5;241m=\u001b[39m \u001b[43mStudent\u001b[49m\u001b[43m(\u001b[49m\u001b[38;5;124;43m'\u001b[39;49m\u001b[38;5;124;43mRama\u001b[39;49m\u001b[38;5;124;43m'\u001b[39;49m\u001b[43m)\u001b[49m\n",
            "\u001b[0;31mTypeError\u001b[0m: __init__() missing 1 required positional argument: 'a'"
          ]
        }
      ],
      "source": [
        "s = Student('Rama')"
      ]
    },
    {
      "cell_type": "code",
      "execution_count": null,
      "id": "809b1c8f",
      "metadata": {
        "id": "809b1c8f"
      },
      "outputs": [],
      "source": [
        "s = Student('Rama', 25)"
      ]
    },
    {
      "cell_type": "code",
      "execution_count": null,
      "id": "2c572f03",
      "metadata": {
        "id": "2c572f03",
        "outputId": "9cc03c29-e90b-4831-8eaf-e4749959a7b1"
      },
      "outputs": [
        {
          "ename": "AttributeError",
          "evalue": "'Student' object has no attribute 'n'",
          "output_type": "error",
          "traceback": [
            "\u001b[0;31m---------------------------------------------------------------------------\u001b[0m",
            "\u001b[0;31mAttributeError\u001b[0m                            Traceback (most recent call last)",
            "Input \u001b[0;32mIn [101]\u001b[0m, in \u001b[0;36m<cell line: 1>\u001b[0;34m()\u001b[0m\n\u001b[0;32m----> 1\u001b[0m \u001b[38;5;28mprint\u001b[39m(\u001b[43ms\u001b[49m\u001b[38;5;241;43m.\u001b[39;49m\u001b[43mn\u001b[49m)\n",
            "\u001b[0;31mAttributeError\u001b[0m: 'Student' object has no attribute 'n'"
          ]
        }
      ],
      "source": [
        "print(s.n)"
      ]
    },
    {
      "cell_type": "code",
      "execution_count": null,
      "id": "cd62fa72",
      "metadata": {
        "id": "cd62fa72",
        "outputId": "f63443bc-a09e-45f5-a042-5fbd06adfb5f"
      },
      "outputs": [
        {
          "name": "stdout",
          "output_type": "stream",
          "text": [
            "Rama\n"
          ]
        }
      ],
      "source": [
        "print(s.name)"
      ]
    },
    {
      "cell_type": "code",
      "execution_count": null,
      "id": "1507a675",
      "metadata": {
        "id": "1507a675",
        "outputId": "a60234d9-2d6d-47e7-fe28-1d8bab8b9577"
      },
      "outputs": [
        {
          "name": "stdout",
          "output_type": "stream",
          "text": [
            "25\n"
          ]
        }
      ],
      "source": [
        "print(s.age)"
      ]
    },
    {
      "cell_type": "markdown",
      "id": "c918cda8",
      "metadata": {
        "id": "c918cda8"
      },
      "source": [
        "## Is object already created before calling init?\n",
        "\n",
        "Yes"
      ]
    },
    {
      "cell_type": "code",
      "execution_count": null,
      "id": "b0afa01c",
      "metadata": {
        "id": "b0afa01c"
      },
      "outputs": [],
      "source": [
        "class Student:\n",
        "    def __init__(self, n, a):\n",
        "        print(f'Printing self inside: {self}')\n",
        "        # assign the values\n",
        "        self.name = n\n",
        "        self.age = a"
      ]
    },
    {
      "cell_type": "code",
      "execution_count": null,
      "id": "09049093",
      "metadata": {
        "id": "09049093",
        "outputId": "e698a9b9-f232-490b-d784-2179c8aa0484"
      },
      "outputs": [
        {
          "name": "stdout",
          "output_type": "stream",
          "text": [
            "Printing self inside: <__main__.Student object at 0x7fde70e0ecd0>\n",
            "<__main__.Student object at 0x7fde70e0ecd0>\n"
          ]
        }
      ],
      "source": [
        "s = Student('Rama', 25) # python auto calls initialiser => init\n",
        "print(s)"
      ]
    },
    {
      "cell_type": "code",
      "execution_count": null,
      "id": "4820de8b",
      "metadata": {
        "id": "4820de8b",
        "outputId": "8d06b970-4115-4a4d-f3b9-09fcd6e0e0d2"
      },
      "outputs": [
        {
          "name": "stdout",
          "output_type": "stream",
          "text": [
            "Printing self inside: <__main__.Student object at 0x7fde70e0e790>\n"
          ]
        }
      ],
      "source": [
        "s2 = Student('Nikhil', 23)"
      ]
    },
    {
      "cell_type": "markdown",
      "id": "2452a0f2",
      "metadata": {
        "id": "2452a0f2"
      },
      "source": [
        "## 2 objectS"
      ]
    },
    {
      "cell_type": "code",
      "execution_count": null,
      "id": "5dba0e8e",
      "metadata": {
        "id": "5dba0e8e"
      },
      "outputs": [],
      "source": [
        "class Student:\n",
        "    def __init__(self, n, a): # magic method\n",
        "        # assign the values\n",
        "        self.name = n\n",
        "        self.age = a\n",
        "        \n",
        "    def study(self, time):\n",
        "        print(f'{self.name} is studying for {time} hours')"
      ]
    },
    {
      "cell_type": "code",
      "execution_count": null,
      "id": "b4cc628d",
      "metadata": {
        "id": "b4cc628d"
      },
      "outputs": [],
      "source": [
        "s = Student('Rama', 25) # python calls __init__ by itself => abstraction"
      ]
    },
    {
      "cell_type": "code",
      "execution_count": null,
      "id": "aca7bb63",
      "metadata": {
        "id": "aca7bb63"
      },
      "outputs": [],
      "source": [
        "s2 = Student('Nikhil', 23)"
      ]
    },
    {
      "cell_type": "code",
      "execution_count": null,
      "id": "fbd1884d",
      "metadata": {
        "id": "fbd1884d",
        "outputId": "3fbef0ea-5f8a-46c9-bb25-6d4361069cc2"
      },
      "outputs": [
        {
          "name": "stdout",
          "output_type": "stream",
          "text": [
            "Rama\n"
          ]
        }
      ],
      "source": [
        "print(s.name)"
      ]
    },
    {
      "cell_type": "code",
      "execution_count": null,
      "id": "56cfbd69",
      "metadata": {
        "id": "56cfbd69",
        "outputId": "f26db4bb-9d76-4dbb-8f66-48a7a1165672"
      },
      "outputs": [
        {
          "name": "stdout",
          "output_type": "stream",
          "text": [
            "Nikhil\n"
          ]
        }
      ],
      "source": [
        "print(s2.name)"
      ]
    },
    {
      "cell_type": "code",
      "execution_count": null,
      "id": "fe34d0c2",
      "metadata": {
        "id": "fe34d0c2",
        "outputId": "3c8f71a3-7193-4024-9f9b-7e712db43b6e"
      },
      "outputs": [
        {
          "name": "stdout",
          "output_type": "stream",
          "text": [
            "25\n"
          ]
        }
      ],
      "source": [
        "print(s.age)"
      ]
    },
    {
      "cell_type": "code",
      "execution_count": null,
      "id": "4048d293",
      "metadata": {
        "id": "4048d293",
        "outputId": "c5aa9bd0-9a0f-4cac-ee41-74be8dc7d5ef"
      },
      "outputs": [
        {
          "name": "stdout",
          "output_type": "stream",
          "text": [
            "23\n"
          ]
        }
      ],
      "source": [
        "print(s2.age)"
      ]
    },
    {
      "cell_type": "code",
      "execution_count": null,
      "id": "7e0e681c",
      "metadata": {
        "id": "7e0e681c",
        "outputId": "5bb131e1-c289-4bd5-fef2-b199e2fd627b"
      },
      "outputs": [
        {
          "name": "stdout",
          "output_type": "stream",
          "text": [
            "Rama is studying for 1 hours\n"
          ]
        }
      ],
      "source": [
        "s.study(1)"
      ]
    },
    {
      "cell_type": "code",
      "execution_count": null,
      "id": "21c323dd",
      "metadata": {
        "id": "21c323dd",
        "outputId": "0b4e0ab6-3d54-413b-fda6-d8c2e31ba6de"
      },
      "outputs": [
        {
          "name": "stdout",
          "output_type": "stream",
          "text": [
            "Nikhil is studying for 2 hours\n"
          ]
        }
      ],
      "source": [
        "s2.study(2)"
      ]
    },
    {
      "cell_type": "markdown",
      "id": "d6fb41a8",
      "metadata": {
        "id": "d6fb41a8"
      },
      "source": [
        "## Quiz"
      ]
    },
    {
      "cell_type": "code",
      "execution_count": null,
      "id": "31ec4433",
      "metadata": {
        "id": "31ec4433"
      },
      "outputs": [],
      "source": [
        "class Counter:\n",
        "    def __init__(self):\n",
        "        self.count = 5\n",
        "        self.count = count + 1\n",
        "\n"
      ]
    },
    {
      "cell_type": "code",
      "execution_count": null,
      "id": "3aa40668",
      "metadata": {
        "id": "3aa40668",
        "outputId": "d47093bb-0131-4339-be75-7268e0e0e70d"
      },
      "outputs": [
        {
          "ename": "NameError",
          "evalue": "name 'count' is not defined",
          "output_type": "error",
          "traceback": [
            "\u001b[0;31m---------------------------------------------------------------------------\u001b[0m",
            "\u001b[0;31mNameError\u001b[0m                                 Traceback (most recent call last)",
            "Input \u001b[0;32mIn [149]\u001b[0m, in \u001b[0;36m<cell line: 1>\u001b[0;34m()\u001b[0m\n\u001b[0;32m----> 1\u001b[0m c \u001b[38;5;241m=\u001b[39m \u001b[43mCounter\u001b[49m\u001b[43m(\u001b[49m\u001b[43m)\u001b[49m\n",
            "Input \u001b[0;32mIn [147]\u001b[0m, in \u001b[0;36mCounter.__init__\u001b[0;34m(self)\u001b[0m\n\u001b[1;32m      2\u001b[0m \u001b[38;5;28;01mdef\u001b[39;00m \u001b[38;5;21m__init__\u001b[39m(\u001b[38;5;28mself\u001b[39m):\n\u001b[1;32m      3\u001b[0m     \u001b[38;5;28mself\u001b[39m\u001b[38;5;241m.\u001b[39mcount \u001b[38;5;241m=\u001b[39m \u001b[38;5;241m5\u001b[39m\n\u001b[0;32m----> 4\u001b[0m     \u001b[38;5;28mself\u001b[39m\u001b[38;5;241m.\u001b[39mcount \u001b[38;5;241m=\u001b[39m \u001b[43mcount\u001b[49m \u001b[38;5;241m+\u001b[39m \u001b[38;5;241m1\u001b[39m\n",
            "\u001b[0;31mNameError\u001b[0m: name 'count' is not defined"
          ]
        }
      ],
      "source": [
        "c = Counter()"
      ]
    },
    {
      "cell_type": "code",
      "execution_count": null,
      "id": "e33ab6a6",
      "metadata": {
        "id": "e33ab6a6",
        "outputId": "5b78e1f5-83fd-42c0-a8cc-f065ad962cef"
      },
      "outputs": [
        {
          "name": "stdout",
          "output_type": "stream",
          "text": [
            "5\n"
          ]
        }
      ],
      "source": [
        "print(c.count)"
      ]
    },
    {
      "cell_type": "code",
      "execution_count": null,
      "id": "90412963",
      "metadata": {
        "id": "90412963",
        "outputId": "c73f9e7d-8c31-4ae7-d9fd-9a092cc9c1e9"
      },
      "outputs": [
        {
          "ename": "NameError",
          "evalue": "name 'count' is not defined",
          "output_type": "error",
          "traceback": [
            "\u001b[0;31m---------------------------------------------------------------------------\u001b[0m",
            "\u001b[0;31mNameError\u001b[0m                                 Traceback (most recent call last)",
            "Input \u001b[0;32mIn [151]\u001b[0m, in \u001b[0;36m<cell line: 1>\u001b[0;34m()\u001b[0m\n\u001b[0;32m----> 1\u001b[0m c \u001b[38;5;241m=\u001b[39m \u001b[43mCounter\u001b[49m\u001b[43m(\u001b[49m\u001b[43m)\u001b[49m\n\u001b[1;32m      2\u001b[0m \u001b[38;5;28mprint\u001b[39m(c\u001b[38;5;241m.\u001b[39mcount)\n",
            "Input \u001b[0;32mIn [147]\u001b[0m, in \u001b[0;36mCounter.__init__\u001b[0;34m(self)\u001b[0m\n\u001b[1;32m      2\u001b[0m \u001b[38;5;28;01mdef\u001b[39;00m \u001b[38;5;21m__init__\u001b[39m(\u001b[38;5;28mself\u001b[39m):\n\u001b[1;32m      3\u001b[0m     \u001b[38;5;28mself\u001b[39m\u001b[38;5;241m.\u001b[39mcount \u001b[38;5;241m=\u001b[39m \u001b[38;5;241m5\u001b[39m\n\u001b[0;32m----> 4\u001b[0m     \u001b[38;5;28mself\u001b[39m\u001b[38;5;241m.\u001b[39mcount \u001b[38;5;241m=\u001b[39m \u001b[43mcount\u001b[49m \u001b[38;5;241m+\u001b[39m \u001b[38;5;241m1\u001b[39m\n",
            "\u001b[0;31mNameError\u001b[0m: name 'count' is not defined"
          ]
        }
      ],
      "source": [
        "c = Counter()\n",
        "print(c.count)"
      ]
    },
    {
      "cell_type": "markdown",
      "id": "5b3e5cce",
      "metadata": {
        "id": "5b3e5cce"
      },
      "source": [
        "### Quiz - 3"
      ]
    },
    {
      "cell_type": "code",
      "execution_count": null,
      "id": "c6bb77d2",
      "metadata": {
        "id": "c6bb77d2"
      },
      "outputs": [],
      "source": [
        "class Vehicle:\n",
        "    def __init__(self, name):\n",
        "        self.name = name"
      ]
    },
    {
      "cell_type": "code",
      "execution_count": null,
      "id": "67d2d88e",
      "metadata": {
        "id": "67d2d88e"
      },
      "outputs": [],
      "source": [
        "v = Vehicle('minivan')"
      ]
    },
    {
      "cell_type": "code",
      "execution_count": null,
      "id": "ffeb9a51",
      "metadata": {
        "id": "ffeb9a51",
        "outputId": "94b40e84-cac9-41a7-8267-ddf93401407d"
      },
      "outputs": [
        {
          "name": "stdout",
          "output_type": "stream",
          "text": [
            "minivan\n"
          ]
        }
      ],
      "source": [
        "print(v.name)"
      ]
    },
    {
      "cell_type": "markdown",
      "id": "f00dd3ad",
      "metadata": {
        "id": "f00dd3ad"
      },
      "source": [
        "### Quiz - 4"
      ]
    },
    {
      "cell_type": "code",
      "execution_count": null,
      "id": "67ff83a0",
      "metadata": {
        "id": "67ff83a0"
      },
      "outputs": [],
      "source": [
        "class Dog:\n",
        "    def __init__(self, name, age):\n",
        "        self.name = name\n",
        "        self.age = age"
      ]
    },
    {
      "cell_type": "code",
      "execution_count": null,
      "id": "cfcade32",
      "metadata": {
        "id": "cfcade32"
      },
      "outputs": [],
      "source": [
        "d = Dog('Toby', 5) # C"
      ]
    },
    {
      "cell_type": "code",
      "execution_count": null,
      "id": "e7476b14",
      "metadata": {
        "id": "e7476b14",
        "outputId": "41c5224f-9bc1-4bfd-c1f6-cfe1b03a3bdc"
      },
      "outputs": [
        {
          "name": "stdout",
          "output_type": "stream",
          "text": [
            "Toby\n"
          ]
        }
      ],
      "source": [
        "print(d.name)"
      ]
    },
    {
      "cell_type": "code",
      "execution_count": null,
      "id": "7d1c61e2",
      "metadata": {
        "id": "7d1c61e2",
        "outputId": "dda0cb5e-1047-4e9a-c81f-14d37ec99521"
      },
      "outputs": [
        {
          "name": "stdout",
          "output_type": "stream",
          "text": [
            "5\n"
          ]
        }
      ],
      "source": [
        "print(d.age)"
      ]
    },
    {
      "cell_type": "code",
      "execution_count": null,
      "id": "2df7edbf",
      "metadata": {
        "id": "2df7edbf",
        "outputId": "02e170c2-2901-42db-f445-84cd3794702b"
      },
      "outputs": [
        {
          "ename": "NameError",
          "evalue": "name 'self' is not defined",
          "output_type": "error",
          "traceback": [
            "\u001b[0;31m---------------------------------------------------------------------------\u001b[0m",
            "\u001b[0;31mNameError\u001b[0m                                 Traceback (most recent call last)",
            "Input \u001b[0;32mIn [167]\u001b[0m, in \u001b[0;36m<cell line: 1>\u001b[0;34m()\u001b[0m\n\u001b[0;32m----> 1\u001b[0m obj \u001b[38;5;241m=\u001b[39m Dog(\u001b[38;5;28;43mself\u001b[39;49m, \u001b[38;5;124m'\u001b[39m\u001b[38;5;124mTobi\u001b[39m\u001b[38;5;124m'\u001b[39m)\n",
            "\u001b[0;31mNameError\u001b[0m: name 'self' is not defined"
          ]
        }
      ],
      "source": [
        "obj = Dog(self, 'Tobi') # A"
      ]
    },
    {
      "cell_type": "code",
      "execution_count": null,
      "id": "d3bd1d01",
      "metadata": {
        "id": "d3bd1d01",
        "outputId": "2189874e-00ce-49ff-e0e3-c3efb00ee301"
      },
      "outputs": [
        {
          "ename": "TypeError",
          "evalue": "__init__() missing 1 required positional argument: 'age'",
          "output_type": "error",
          "traceback": [
            "\u001b[0;31m---------------------------------------------------------------------------\u001b[0m",
            "\u001b[0;31mTypeError\u001b[0m                                 Traceback (most recent call last)",
            "Input \u001b[0;32mIn [169]\u001b[0m, in \u001b[0;36m<cell line: 1>\u001b[0;34m()\u001b[0m\n\u001b[0;32m----> 1\u001b[0m obj \u001b[38;5;241m=\u001b[39m \u001b[43mDog\u001b[49m\u001b[43m(\u001b[49m\u001b[38;5;124;43m'\u001b[39;49m\u001b[38;5;124;43mTobi\u001b[39;49m\u001b[38;5;124;43m'\u001b[39;49m\u001b[43m)\u001b[49m\n",
            "\u001b[0;31mTypeError\u001b[0m: __init__() missing 1 required positional argument: 'age'"
          ]
        }
      ],
      "source": [
        "obj = Dog('Tobi') # Dog.__init__(obj, 'Tobi')"
      ]
    },
    {
      "cell_type": "code",
      "execution_count": null,
      "id": "843e89f2",
      "metadata": {
        "id": "843e89f2"
      },
      "outputs": [],
      "source": [
        "# class variables\n",
        "\n",
        "class Student:\n",
        "    batch_name = 'DSML June22' # class variable\n",
        "    \n",
        "    def __init__(self, n, a): # magic method\n",
        "        # assign the values\n",
        "        self.name = n # instance variable\n",
        "        self.age = a \n",
        "        \n",
        "    def study(self, time):\n",
        "        print(f'{self.name} is studying for {time} hours')"
      ]
    },
    {
      "cell_type": "code",
      "execution_count": null,
      "id": "1c211ff8",
      "metadata": {
        "id": "1c211ff8"
      },
      "outputs": [],
      "source": [
        "s1 = Student('Zaheer', 26)\n",
        "s2 = Student('Surya', 27)"
      ]
    },
    {
      "cell_type": "code",
      "execution_count": null,
      "id": "f1d9265a",
      "metadata": {
        "id": "f1d9265a",
        "outputId": "35797005-6640-4870-d53a-0e3e032877c2"
      },
      "outputs": [
        {
          "name": "stdout",
          "output_type": "stream",
          "text": [
            "DSML June22\n"
          ]
        }
      ],
      "source": [
        "print(s1.batch_name)"
      ]
    },
    {
      "cell_type": "code",
      "execution_count": null,
      "id": "b8c2ac7a",
      "metadata": {
        "id": "b8c2ac7a",
        "outputId": "4c74060e-6940-4f56-9cca-a5421350ab60"
      },
      "outputs": [
        {
          "name": "stdout",
          "output_type": "stream",
          "text": [
            "DSML June22\n"
          ]
        }
      ],
      "source": [
        "print(s2.batch_name)"
      ]
    },
    {
      "cell_type": "code",
      "execution_count": null,
      "id": "2861bc88",
      "metadata": {
        "id": "2861bc88"
      },
      "outputs": [],
      "source": [
        "class Dog:\n",
        "    # name => d\n",
        "    # self => 'Toby'\n",
        "    # age => 5\n",
        "    def __init__(name, self, age):\n",
        "        print(self)\n",
        "        self.name = name\n",
        "        self.age = age"
      ]
    },
    {
      "cell_type": "code",
      "execution_count": null,
      "id": "57f93930",
      "metadata": {
        "id": "57f93930",
        "outputId": "5b0e3341-1182-4960-f716-3add6134e6f2"
      },
      "outputs": [
        {
          "name": "stdout",
          "output_type": "stream",
          "text": [
            "Toby\n"
          ]
        },
        {
          "ename": "AttributeError",
          "evalue": "'str' object has no attribute 'name'",
          "output_type": "error",
          "traceback": [
            "\u001b[0;31m---------------------------------------------------------------------------\u001b[0m",
            "\u001b[0;31mAttributeError\u001b[0m                            Traceback (most recent call last)",
            "Input \u001b[0;32mIn [178]\u001b[0m, in \u001b[0;36m<cell line: 1>\u001b[0;34m()\u001b[0m\n\u001b[0;32m----> 1\u001b[0m d \u001b[38;5;241m=\u001b[39m \u001b[43mDog\u001b[49m\u001b[43m(\u001b[49m\u001b[38;5;124;43m'\u001b[39;49m\u001b[38;5;124;43mToby\u001b[39;49m\u001b[38;5;124;43m'\u001b[39;49m\u001b[43m,\u001b[49m\u001b[43m \u001b[49m\u001b[38;5;241;43m5\u001b[39;49m\u001b[43m)\u001b[49m\n",
            "Input \u001b[0;32mIn [176]\u001b[0m, in \u001b[0;36mDog.__init__\u001b[0;34m(name, self, age)\u001b[0m\n\u001b[1;32m      5\u001b[0m \u001b[38;5;28;01mdef\u001b[39;00m \u001b[38;5;21m__init__\u001b[39m(name, \u001b[38;5;28mself\u001b[39m, age):\n\u001b[1;32m      6\u001b[0m     \u001b[38;5;28mprint\u001b[39m(\u001b[38;5;28mself\u001b[39m)\n\u001b[0;32m----> 7\u001b[0m     \u001b[38;5;28mself\u001b[39m\u001b[38;5;241m.\u001b[39mname \u001b[38;5;241m=\u001b[39m name\n\u001b[1;32m      8\u001b[0m     \u001b[38;5;28mself\u001b[39m\u001b[38;5;241m.\u001b[39mage \u001b[38;5;241m=\u001b[39m age\n",
            "\u001b[0;31mAttributeError\u001b[0m: 'str' object has no attribute 'name'"
          ]
        }
      ],
      "source": [
        "d = Dog('Toby', 5) # Dog.__init__(d, 'Toby', 5)"
      ]
    },
    {
      "cell_type": "code",
      "execution_count": null,
      "id": "7d9d3f32",
      "metadata": {
        "id": "7d9d3f32",
        "outputId": "9497681f-d390-45b4-c8a0-301d79c23b00"
      },
      "outputs": [
        {
          "name": "stdout",
          "output_type": "stream",
          "text": [
            "Printing self inside: <__main__.Student object at 0x7fde70e08a30>\n",
            "<__main__.Student object at 0x7fde70e08a30>\n",
            "Printing self inside: <__main__.Student object at 0x7fde70e08c10>\n"
          ]
        }
      ],
      "source": [
        "class Student:\n",
        "    def __init__(self, n, a):\n",
        "        print(f'Printing self inside: {self}')\n",
        "        # assign the values\n",
        "        self.name = n\n",
        "        self.age = a\n",
        "\n",
        "    def study(self, time):\n",
        "        print(time)\n",
        "        \n",
        "s = Student('Rama', 25) # python auto calls initialiser => init\n",
        "print(s)\n",
        "s.marks = 20\n",
        "\n",
        "s2 = Student('Harish', 27)"
      ]
    },
    {
      "cell_type": "code",
      "execution_count": null,
      "id": "da917c5b",
      "metadata": {
        "id": "da917c5b",
        "outputId": "c9e482d6-0996-4abf-aef3-fac432152bd5"
      },
      "outputs": [
        {
          "data": {
            "text/plain": [
              "2005"
            ]
          },
          "execution_count": 183,
          "metadata": {},
          "output_type": "execute_result"
        }
      ],
      "source": [
        "int(\"2005\") # function"
      ]
    },
    {
      "cell_type": "code",
      "execution_count": null,
      "id": "bb730952",
      "metadata": {
        "id": "bb730952",
        "outputId": "529504a5-730e-4031-bd88-cdab4ecf81c8"
      },
      "outputs": [
        {
          "name": "stdout",
          "output_type": "stream",
          "text": [
            "5\n"
          ]
        }
      ],
      "source": [
        "s.study(5) # method => function inside class"
      ]
    },
    {
      "cell_type": "code",
      "execution_count": null,
      "id": "9e707930",
      "metadata": {
        "id": "9e707930"
      },
      "outputs": [],
      "source": [
        "class Student:\n",
        "    def __init__(self, name):\n",
        "        self.name = name\n",
        "#     def __str__(self):\n",
        "#         return f'My name is: {self.name}'"
      ]
    },
    {
      "cell_type": "code",
      "execution_count": null,
      "id": "334bda57",
      "metadata": {
        "id": "334bda57"
      },
      "outputs": [],
      "source": [
        "s = Student('Gaurav')"
      ]
    },
    {
      "cell_type": "code",
      "execution_count": null,
      "id": "12c9c1ca",
      "metadata": {
        "id": "12c9c1ca",
        "outputId": "bf0c01d6-b869-4482-b481-4b35526e98a2"
      },
      "outputs": [
        {
          "name": "stdout",
          "output_type": "stream",
          "text": [
            "<__main__.Student object at 0x7fde70ee4f40>\n"
          ]
        }
      ],
      "source": [
        "print(s)"
      ]
    },
    {
      "cell_type": "code",
      "execution_count": null,
      "id": "515dd883",
      "metadata": {
        "id": "515dd883"
      },
      "outputs": [],
      "source": [
        "class Student:\n",
        "    def __init__(self, name):\n",
        "        self.name = name\n"
      ]
    },
    {
      "cell_type": "code",
      "execution_count": null,
      "id": "cf755eda",
      "metadata": {
        "id": "cf755eda"
      },
      "outputs": [],
      "source": [
        "s = Student('Gaurav')"
      ]
    },
    {
      "cell_type": "code",
      "execution_count": null,
      "id": "e6e3a9e2",
      "metadata": {
        "id": "e6e3a9e2",
        "outputId": "b59d4c34-bdaf-4869-a3b0-2c8501486c34"
      },
      "outputs": [
        {
          "name": "stdout",
          "output_type": "stream",
          "text": [
            "<__main__.Student object at 0x7fde70e77880>\n"
          ]
        }
      ],
      "source": [
        "print(s)"
      ]
    },
    {
      "cell_type": "code",
      "execution_count": null,
      "id": "9c945b18",
      "metadata": {
        "id": "9c945b18",
        "outputId": "16bf2b4d-9da8-4895-bc89-d1c0d4ed8cb4"
      },
      "outputs": [
        {
          "name": "stdout",
          "output_type": "stream",
          "text": [
            "5\n"
          ]
        }
      ],
      "source": [
        "class Counter:\n",
        "    def call(self):\n",
        "        print(self.count)\n",
        "\n",
        "c = Counter # class, not an object\n",
        "c.count = 5 # class variable\n",
        "print(c.count)"
      ]
    },
    {
      "cell_type": "code",
      "execution_count": null,
      "id": "3be34654",
      "metadata": {
        "id": "3be34654",
        "outputId": "c18f7216-c044-49b9-abda-d96f5ef8af85"
      },
      "outputs": [
        {
          "name": "stdout",
          "output_type": "stream",
          "text": [
            "<class '__main__.Counter'>\n"
          ]
        }
      ],
      "source": [
        "print(c)"
      ]
    },
    {
      "cell_type": "code",
      "execution_count": null,
      "id": "70b040cf",
      "metadata": {
        "id": "70b040cf"
      },
      "outputs": [],
      "source": [
        "c2 = Counter()"
      ]
    },
    {
      "cell_type": "code",
      "execution_count": null,
      "id": "d051f8c7",
      "metadata": {
        "id": "d051f8c7",
        "outputId": "19670fe7-371e-4a10-8eb1-72f1aba176d5"
      },
      "outputs": [
        {
          "name": "stdout",
          "output_type": "stream",
          "text": [
            "5\n"
          ]
        }
      ],
      "source": [
        "print(c2.count)"
      ]
    },
    {
      "cell_type": "code",
      "execution_count": null,
      "id": "fef85fab",
      "metadata": {
        "id": "fef85fab",
        "outputId": "42d19db5-900b-4c7a-bdb0-1a5d824aad19"
      },
      "outputs": [
        {
          "name": "stdout",
          "output_type": "stream",
          "text": [
            "5\n"
          ]
        }
      ],
      "source": [
        "c3 = Counter()\n",
        "print(c3.count)"
      ]
    },
    {
      "cell_type": "code",
      "execution_count": null,
      "id": "2ea710a8",
      "metadata": {
        "id": "2ea710a8"
      },
      "outputs": [],
      "source": []
    }
  ],
  "metadata": {
    "kernelspec": {
      "display_name": "Python 3 (ipykernel)",
      "language": "python",
      "name": "python3"
    },
    "language_info": {
      "codemirror_mode": {
        "name": "ipython",
        "version": 3
      },
      "file_extension": ".py",
      "mimetype": "text/x-python",
      "name": "python",
      "nbconvert_exporter": "python",
      "pygments_lexer": "ipython3",
      "version": "3.9.12"
    },
    "colab": {
      "provenance": [],
      "include_colab_link": true
    }
  },
  "nbformat": 4,
  "nbformat_minor": 5
}