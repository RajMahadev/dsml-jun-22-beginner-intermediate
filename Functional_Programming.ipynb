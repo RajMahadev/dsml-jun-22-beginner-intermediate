{
  "cells": [
    {
      "cell_type": "markdown",
      "metadata": {
        "id": "view-in-github",
        "colab_type": "text"
      },
      "source": [
        "<a href=\"https://colab.research.google.com/github/scaleracademy/dsml-jun-22-beginner-intermediate/blob/main/Functional_Programming.ipynb\" target=\"_parent\"><img src=\"https://colab.research.google.com/assets/colab-badge.svg\" alt=\"Open In Colab\"/></a>"
      ]
    },
    {
      "cell_type": "markdown",
      "id": "a1f7ba5d",
      "metadata": {
        "id": "a1f7ba5d"
      },
      "source": [
        "## Functional Programming"
      ]
    },
    {
      "cell_type": "code",
      "execution_count": null,
      "id": "d211f1db",
      "metadata": {
        "id": "d211f1db"
      },
      "outputs": [],
      "source": [
        "def square_number(a):\n",
        "    return a**2"
      ]
    },
    {
      "cell_type": "code",
      "execution_count": null,
      "id": "f4f203c1",
      "metadata": {
        "id": "f4f203c1",
        "outputId": "0a8d5cd3-280b-4e24-efb0-cbd818f370ea"
      },
      "outputs": [
        {
          "data": {
            "text/plain": [
              "16"
            ]
          },
          "execution_count": 2,
          "metadata": {},
          "output_type": "execute_result"
        }
      ],
      "source": [
        "square_number(4)"
      ]
    },
    {
      "cell_type": "code",
      "execution_count": null,
      "id": "28185aff",
      "metadata": {
        "id": "28185aff"
      },
      "outputs": [],
      "source": [
        "square = lambda x: x**2\n",
        "# lambda is creating a function which can be stored in a variable"
      ]
    },
    {
      "cell_type": "code",
      "execution_count": null,
      "id": "e72f046e",
      "metadata": {
        "id": "e72f046e",
        "outputId": "9ebd38e8-aa06-42ba-88ce-0e3451f8b15d"
      },
      "outputs": [
        {
          "data": {
            "text/plain": [
              "9"
            ]
          },
          "execution_count": 4,
          "metadata": {},
          "output_type": "execute_result"
        }
      ],
      "source": [
        "square(3)"
      ]
    },
    {
      "cell_type": "code",
      "execution_count": null,
      "id": "ec390749",
      "metadata": {
        "id": "ec390749",
        "outputId": "d7e84b20-a154-457c-a00c-3c6f2e652429"
      },
      "outputs": [
        {
          "data": {
            "text/plain": [
              "81"
            ]
          },
          "execution_count": 5,
          "metadata": {},
          "output_type": "execute_result"
        }
      ],
      "source": [
        "square(9)"
      ]
    },
    {
      "cell_type": "code",
      "execution_count": null,
      "id": "7ebd023d",
      "metadata": {
        "id": "7ebd023d"
      },
      "outputs": [],
      "source": [
        "add = lambda x, y: x + y"
      ]
    },
    {
      "cell_type": "code",
      "execution_count": null,
      "id": "a225636a",
      "metadata": {
        "id": "a225636a",
        "outputId": "dc889d47-4e45-4d6a-d2bd-914b90e1ee27"
      },
      "outputs": [
        {
          "data": {
            "text/plain": [
              "8"
            ]
          },
          "execution_count": 8,
          "metadata": {},
          "output_type": "execute_result"
        }
      ],
      "source": [
        "add(3, 5)"
      ]
    },
    {
      "cell_type": "markdown",
      "id": "c8e9bb30",
      "metadata": {
        "id": "c8e9bb30"
      },
      "source": [
        "### Anonymous functions\n",
        "\n",
        "Lambda functions are known as anonymous functions, i.e.\n",
        "functions without any name"
      ]
    },
    {
      "cell_type": "code",
      "execution_count": null,
      "id": "fcbfdf5a",
      "metadata": {
        "id": "fcbfdf5a",
        "outputId": "e32ae51c-ba06-4e2f-c0aa-2a5365a0162f"
      },
      "outputs": [
        {
          "data": {
            "text/plain": [
              "<function __main__.<lambda>(x)>"
            ]
          },
          "execution_count": 9,
          "metadata": {},
          "output_type": "execute_result"
        }
      ],
      "source": [
        "(lambda x: x**3)"
      ]
    },
    {
      "cell_type": "code",
      "execution_count": null,
      "id": "541f6051",
      "metadata": {
        "id": "541f6051"
      },
      "outputs": [],
      "source": [
        "y = (lambda x: x**3)"
      ]
    },
    {
      "cell_type": "code",
      "execution_count": null,
      "id": "df63f7e4",
      "metadata": {
        "id": "df63f7e4",
        "outputId": "a987cda8-43c2-4abb-de97-d249afa0995a"
      },
      "outputs": [
        {
          "data": {
            "text/plain": [
              "function"
            ]
          },
          "execution_count": 11,
          "metadata": {},
          "output_type": "execute_result"
        }
      ],
      "source": [
        "type(y)"
      ]
    },
    {
      "cell_type": "code",
      "execution_count": null,
      "id": "7f20d015",
      "metadata": {
        "id": "7f20d015",
        "outputId": "e7f68d03-02a0-46d8-a2d3-d10c5dcd48da"
      },
      "outputs": [
        {
          "data": {
            "text/plain": [
              "8"
            ]
          },
          "execution_count": 12,
          "metadata": {},
          "output_type": "execute_result"
        }
      ],
      "source": [
        "(lambda x: x**3)(2)"
      ]
    },
    {
      "cell_type": "code",
      "execution_count": null,
      "id": "ae301347",
      "metadata": {
        "id": "ae301347",
        "outputId": "212fa9d1-e4a3-4ad6-90da-8a4937302b97"
      },
      "outputs": [
        {
          "data": {
            "text/plain": [
              "125"
            ]
          },
          "execution_count": 13,
          "metadata": {},
          "output_type": "execute_result"
        }
      ],
      "source": [
        "(lambda x: x**3)(5)"
      ]
    },
    {
      "cell_type": "code",
      "execution_count": null,
      "id": "d40ef077",
      "metadata": {
        "id": "d40ef077",
        "outputId": "71838cd4-ca6b-4ecf-ec43-e3d80fd5b219"
      },
      "outputs": [
        {
          "data": {
            "text/plain": [
              "<function __main__.<lambda>(lst)>"
            ]
          },
          "execution_count": 14,
          "metadata": {},
          "output_type": "execute_result"
        }
      ],
      "source": [
        "lambda lst: lst[0]"
      ]
    },
    {
      "cell_type": "code",
      "execution_count": null,
      "id": "f3f4c416",
      "metadata": {
        "id": "f3f4c416",
        "outputId": "945a22bf-6ee3-42e3-b6cf-d1120e07c4d1"
      },
      "outputs": [
        {
          "data": {
            "text/plain": [
              "9"
            ]
          },
          "execution_count": 16,
          "metadata": {},
          "output_type": "execute_result"
        }
      ],
      "source": [
        "(lambda lst: lst[0])([9, 5, 6])"
      ]
    },
    {
      "cell_type": "code",
      "execution_count": null,
      "id": "874cd0a1",
      "metadata": {
        "id": "874cd0a1"
      },
      "outputs": [],
      "source": [
        "def get_first(lst):\n",
        "    return lst[0]"
      ]
    },
    {
      "cell_type": "code",
      "execution_count": null,
      "id": "fdfe4905",
      "metadata": {
        "id": "fdfe4905",
        "outputId": "cfbf393b-d524-4776-e1e5-5aaa450482e1"
      },
      "outputs": [
        {
          "data": {
            "text/plain": [
              "9"
            ]
          },
          "execution_count": 18,
          "metadata": {},
          "output_type": "execute_result"
        }
      ],
      "source": [
        "get_first([9, 5, 6])"
      ]
    },
    {
      "cell_type": "code",
      "execution_count": null,
      "id": "c6f0b10f",
      "metadata": {
        "id": "c6f0b10f",
        "outputId": "4f4e53fe-b615-4080-8959-51c754bb82f0"
      },
      "outputs": [
        {
          "data": {
            "text/plain": [
              "9"
            ]
          },
          "execution_count": 19,
          "metadata": {},
          "output_type": "execute_result"
        }
      ],
      "source": [
        "(lambda lst: lst[0])([9, 5, 6])"
      ]
    },
    {
      "cell_type": "code",
      "execution_count": null,
      "id": "ac6c74c5",
      "metadata": {
        "id": "ac6c74c5"
      },
      "outputs": [],
      "source": []
    },
    {
      "cell_type": "markdown",
      "id": "b0bbb8b8",
      "metadata": {
        "id": "b0bbb8b8"
      },
      "source": [
        "### Use case"
      ]
    },
    {
      "cell_type": "code",
      "execution_count": null,
      "id": "37fe090b",
      "metadata": {
        "id": "37fe090b"
      },
      "outputs": [],
      "source": [
        "coordinates = [(1, -1), (-1, 2), (3, 5), (5, 3), (7, 7), (2, 1)]"
      ]
    },
    {
      "cell_type": "code",
      "execution_count": null,
      "id": "90084594",
      "metadata": {
        "id": "90084594"
      },
      "outputs": [],
      "source": [
        "# we want to sort them on the basis of x coordinate"
      ]
    },
    {
      "cell_type": "code",
      "execution_count": null,
      "id": "b6544206",
      "metadata": {
        "id": "b6544206"
      },
      "outputs": [],
      "source": [
        "res = sorted(coordinates)"
      ]
    },
    {
      "cell_type": "code",
      "execution_count": null,
      "id": "deb1b553",
      "metadata": {
        "id": "deb1b553",
        "outputId": "f1d77f89-1105-4119-f658-8ed7f0120089"
      },
      "outputs": [
        {
          "name": "stdout",
          "output_type": "stream",
          "text": [
            "[(-1, 2), (1, -1), (2, 1), (3, 5), (5, 3), (7, 7)]\n"
          ]
        }
      ],
      "source": [
        "print(res)"
      ]
    },
    {
      "cell_type": "code",
      "execution_count": null,
      "id": "e1546487",
      "metadata": {
        "id": "e1546487"
      },
      "outputs": [],
      "source": [
        "# we want to sort them on the basis of y coordinate"
      ]
    },
    {
      "cell_type": "markdown",
      "id": "78c186fd",
      "metadata": {
        "id": "78c186fd"
      },
      "source": [
        "#### sort vs sorted"
      ]
    },
    {
      "cell_type": "code",
      "execution_count": null,
      "id": "33e123e0",
      "metadata": {
        "id": "33e123e0"
      },
      "outputs": [],
      "source": [
        "l = [1, 4, 3, 2, 5]"
      ]
    },
    {
      "cell_type": "code",
      "execution_count": null,
      "id": "2d4681fc",
      "metadata": {
        "id": "2d4681fc",
        "outputId": "7f4a6274-348a-4807-a267-46e5c97dfcbf"
      },
      "outputs": [
        {
          "name": "stdout",
          "output_type": "stream",
          "text": [
            "[1, 2, 3, 4, 5]\n",
            "[1, 2, 3, 4, 5]\n"
          ]
        }
      ],
      "source": [
        "x = sorted(l) # creates a copy (new list) of the list which is sorted\n",
        "print(x)\n",
        "print(l)"
      ]
    },
    {
      "cell_type": "code",
      "execution_count": null,
      "id": "961fef21",
      "metadata": {
        "id": "961fef21"
      },
      "outputs": [],
      "source": [
        "l.sort()"
      ]
    },
    {
      "cell_type": "code",
      "execution_count": null,
      "id": "da6567c3",
      "metadata": {
        "id": "da6567c3",
        "outputId": "caf9f06d-cbb0-4b11-d450-1e01d654d878"
      },
      "outputs": [
        {
          "name": "stdout",
          "output_type": "stream",
          "text": [
            "[1, 2, 3, 4, 5]\n"
          ]
        }
      ],
      "source": [
        "print(l)"
      ]
    },
    {
      "cell_type": "markdown",
      "id": "52fec12a",
      "metadata": {
        "id": "52fec12a"
      },
      "source": [
        "### Solution"
      ]
    },
    {
      "cell_type": "code",
      "execution_count": null,
      "id": "1ea9f394",
      "metadata": {
        "id": "1ea9f394"
      },
      "outputs": [],
      "source": [
        "sorted?"
      ]
    },
    {
      "cell_type": "code",
      "execution_count": null,
      "id": "65c57a71",
      "metadata": {
        "id": "65c57a71"
      },
      "outputs": [],
      "source": [
        "coordinates = [(1, -1), (-1, 2), (3, 5), (5, 3), (7, 7), (2, 1)]"
      ]
    },
    {
      "cell_type": "code",
      "execution_count": null,
      "id": "5549bbfc",
      "metadata": {
        "id": "5549bbfc"
      },
      "outputs": [],
      "source": [
        "def get_y(lst):\n",
        "    return lst[1]"
      ]
    },
    {
      "cell_type": "code",
      "execution_count": null,
      "id": "e95610e2",
      "metadata": {
        "id": "e95610e2",
        "outputId": "23f1647c-fb92-4dec-f251-5d79cbbaa85f"
      },
      "outputs": [
        {
          "data": {
            "text/plain": [
              "[(1, -1), (2, 1), (-1, 2), (5, 3), (3, 5), (7, 7)]"
            ]
          },
          "execution_count": 38,
          "metadata": {},
          "output_type": "execute_result"
        }
      ],
      "source": [
        "sorted(coordinates, key=get_y)"
      ]
    },
    {
      "cell_type": "code",
      "execution_count": null,
      "id": "100ea4b5",
      "metadata": {
        "id": "100ea4b5"
      },
      "outputs": [],
      "source": [
        "def bubble_sort(arr):\n",
        "    n = len(arr)\n",
        "    for i in range(n - 1):\n",
        "        for j in range(n - i - 1):\n",
        "            if arr[j] > arr[j + 1]:\n",
        "                arr[j], arr[j + 1] = arr[j + 1], arr[j]\n",
        "    return arr"
      ]
    },
    {
      "cell_type": "code",
      "execution_count": null,
      "id": "0279ff03",
      "metadata": {
        "id": "0279ff03",
        "outputId": "f17c9203-ad99-402f-c4fe-bfff237809df"
      },
      "outputs": [
        {
          "data": {
            "text/plain": [
              "[1, 2, 3, 4, 5]"
            ]
          },
          "execution_count": 44,
          "metadata": {},
          "output_type": "execute_result"
        }
      ],
      "source": [
        "l = [5, 1, 2, 3, 4]\n",
        "bubble_sort(l)"
      ]
    },
    {
      "cell_type": "code",
      "execution_count": null,
      "id": "3bcf6a30",
      "metadata": {
        "id": "3bcf6a30",
        "outputId": "38059876-13bc-4357-8a26-d6d6156cb999"
      },
      "outputs": [
        {
          "data": {
            "text/plain": [
              "True"
            ]
          },
          "execution_count": 45,
          "metadata": {},
          "output_type": "execute_result"
        }
      ],
      "source": [
        "(1, -1) > (-1, 2)"
      ]
    },
    {
      "cell_type": "code",
      "execution_count": null,
      "id": "d286ddeb",
      "metadata": {
        "id": "d286ddeb",
        "outputId": "569fd846-58d1-4fa2-ed68-c64ab49c7ac0"
      },
      "outputs": [
        {
          "data": {
            "text/plain": [
              "[(-1, 2), (1, -1), (2, 1), (3, 5), (5, 3), (7, 7)]"
            ]
          },
          "execution_count": 46,
          "metadata": {},
          "output_type": "execute_result"
        }
      ],
      "source": [
        "bubble_sort(coordinates)"
      ]
    },
    {
      "cell_type": "markdown",
      "id": "279c0627",
      "metadata": {
        "id": "279c0627"
      },
      "source": [
        "### Modified bubble sort to sort based on y"
      ]
    },
    {
      "cell_type": "code",
      "execution_count": null,
      "id": "b3dabde4",
      "metadata": {
        "id": "b3dabde4"
      },
      "outputs": [],
      "source": [
        "def get_y(lst):\n",
        "    return lst[1]"
      ]
    },
    {
      "cell_type": "code",
      "execution_count": null,
      "id": "42d37446",
      "metadata": {
        "id": "42d37446"
      },
      "outputs": [],
      "source": [
        "def bubble_sort(arr):\n",
        "    n = len(arr)\n",
        "    for i in range(n - 1):\n",
        "        for j in range(n - i - 1):\n",
        "            if get_y(arr[j]) > get_y(arr[j + 1]):\n",
        "                arr[j], arr[j + 1] = arr[j + 1], arr[j]\n",
        "    return arr"
      ]
    },
    {
      "cell_type": "code",
      "execution_count": null,
      "id": "dff7b3ca",
      "metadata": {
        "id": "dff7b3ca"
      },
      "outputs": [],
      "source": [
        "coordinates = [(1, -1), (-1, 2), (3, 5), (5, 3), (7, 7), (2, 1)]"
      ]
    },
    {
      "cell_type": "code",
      "execution_count": null,
      "id": "27b069f4",
      "metadata": {
        "id": "27b069f4",
        "outputId": "0f16f0d0-3b9f-4c7b-c184-1bb3074d41f3"
      },
      "outputs": [
        {
          "data": {
            "text/plain": [
              "[(1, -1), (2, 1), (-1, 2), (5, 3), (3, 5), (7, 7)]"
            ]
          },
          "execution_count": 50,
          "metadata": {},
          "output_type": "execute_result"
        }
      ],
      "source": [
        "bubble_sort(coordinates)"
      ]
    },
    {
      "cell_type": "markdown",
      "id": "edb0312d",
      "metadata": {
        "id": "edb0312d"
      },
      "source": [
        "### One more example"
      ]
    },
    {
      "cell_type": "code",
      "execution_count": null,
      "id": "ccddefc8",
      "metadata": {
        "id": "ccddefc8"
      },
      "outputs": [],
      "source": [
        "coordinates = [(1, -1), (-1, 2), (3, 5), (5, 3), (7, 7), (2, 1)]"
      ]
    },
    {
      "cell_type": "code",
      "execution_count": null,
      "id": "19851736",
      "metadata": {
        "id": "19851736",
        "outputId": "c35de98d-cc75-4d03-bb0b-b2b25e5543f4"
      },
      "outputs": [
        {
          "data": {
            "text/plain": [
              "[(1, -1), (2, 1), (-1, 2), (5, 3), (3, 5), (7, 7)]"
            ]
          },
          "execution_count": 51,
          "metadata": {},
          "output_type": "execute_result"
        }
      ],
      "source": [
        "sorted(coordinates, key= lambda l: l[1])"
      ]
    },
    {
      "cell_type": "code",
      "execution_count": null,
      "id": "d56ef850",
      "metadata": {
        "id": "d56ef850"
      },
      "outputs": [],
      "source": [
        "students = [\n",
        "    {\"name\": \"A\", \"marks\": 50},\n",
        "    {\"name\": \"B\", \"marks\": 100},\n",
        "    {\"name\": \"C\", \"marks\": 40},\n",
        "    {\"name\": \"D\", \"marks\": 70},\n",
        "    {\"name\": \"E\", \"marks\": 60},\n",
        "]"
      ]
    },
    {
      "cell_type": "code",
      "execution_count": null,
      "id": "488ba1ed",
      "metadata": {
        "id": "488ba1ed"
      },
      "outputs": [],
      "source": [
        "## HW : Sort based on the marks"
      ]
    },
    {
      "cell_type": "code",
      "execution_count": null,
      "id": "d1a9bae8",
      "metadata": {
        "id": "d1a9bae8",
        "outputId": "839aff0c-f118-42ac-cb71-04116d1403ea"
      },
      "outputs": [
        {
          "data": {
            "text/plain": [
              "[{'name': 'C', 'marks': 40},\n",
              " {'name': 'A', 'marks': 50},\n",
              " {'name': 'E', 'marks': 60},\n",
              " {'name': 'D', 'marks': 70},\n",
              " {'name': 'B', 'marks': 100}]"
            ]
          },
          "execution_count": 54,
          "metadata": {},
          "output_type": "execute_result"
        }
      ],
      "source": [
        "sorted(students, key = lambda x: x['marks'])"
      ]
    },
    {
      "cell_type": "code",
      "execution_count": null,
      "id": "f9f1fa6c",
      "metadata": {
        "id": "f9f1fa6c",
        "outputId": "e2cfda9f-505d-4ead-d2c8-e68772860eab"
      },
      "outputs": [
        {
          "data": {
            "text/plain": [
              "[{'name': 'B', 'marks': 100},\n",
              " {'name': 'D', 'marks': 70},\n",
              " {'name': 'E', 'marks': 60},\n",
              " {'name': 'A', 'marks': 50},\n",
              " {'name': 'C', 'marks': 40}]"
            ]
          },
          "execution_count": 56,
          "metadata": {},
          "output_type": "execute_result"
        }
      ],
      "source": [
        "sorted(students, key = lambda x: x['marks'], reverse=True)"
      ]
    },
    {
      "cell_type": "code",
      "execution_count": null,
      "id": "5f5b0fe5",
      "metadata": {
        "id": "5f5b0fe5"
      },
      "outputs": [],
      "source": [
        "sorted?"
      ]
    },
    {
      "cell_type": "markdown",
      "id": "6156fbc1",
      "metadata": {
        "id": "6156fbc1"
      },
      "source": [
        "### Higher Order Functions"
      ]
    },
    {
      "cell_type": "code",
      "execution_count": null,
      "id": "111eeb42",
      "metadata": {
        "id": "111eeb42"
      },
      "outputs": [],
      "source": [
        "# a function that returns another functions"
      ]
    },
    {
      "cell_type": "code",
      "execution_count": null,
      "id": "7bcb8e72",
      "metadata": {
        "id": "7bcb8e72"
      },
      "outputs": [],
      "source": [
        "def gen_exp(n):\n",
        "    def exp(x):\n",
        "        return x**n\n",
        "    \n",
        "    return exp"
      ]
    },
    {
      "cell_type": "code",
      "execution_count": null,
      "id": "8da30ef1",
      "metadata": {
        "id": "8da30ef1"
      },
      "outputs": [],
      "source": [
        "exp_5 = gen_exp(5)"
      ]
    },
    {
      "cell_type": "code",
      "execution_count": null,
      "id": "520f13a8",
      "metadata": {
        "id": "520f13a8",
        "outputId": "82b1f53f-35ba-4dac-ef2e-e97ac19518e8"
      },
      "outputs": [
        {
          "data": {
            "text/plain": [
              "function"
            ]
          },
          "execution_count": 60,
          "metadata": {},
          "output_type": "execute_result"
        }
      ],
      "source": [
        "type(exp_5)"
      ]
    },
    {
      "cell_type": "code",
      "execution_count": null,
      "id": "4f99915c",
      "metadata": {
        "id": "4f99915c",
        "outputId": "79795bda-a194-4e90-c409-175d23e7c953"
      },
      "outputs": [
        {
          "data": {
            "text/plain": [
              "32"
            ]
          },
          "execution_count": 61,
          "metadata": {},
          "output_type": "execute_result"
        }
      ],
      "source": [
        "exp_5(2)"
      ]
    },
    {
      "cell_type": "markdown",
      "id": "1724697d",
      "metadata": {
        "id": "1724697d"
      },
      "source": [
        "### Quiz"
      ]
    },
    {
      "cell_type": "code",
      "execution_count": null,
      "id": "68d38045",
      "metadata": {
        "id": "68d38045",
        "outputId": "9dea83e2-9012-4ce9-d05d-b0345d32d0e5"
      },
      "outputs": [
        {
          "name": "stdout",
          "output_type": "stream",
          "text": [
            "(1, 4)\n"
          ]
        }
      ],
      "source": [
        "def func2(c, d):\n",
        "    return c, d\n",
        "\n",
        "def func1(a, b):\n",
        "    c = a**1\n",
        "    d = b**2\n",
        "    x = lambda: func2(c,d)\n",
        "    return x\n",
        "\n",
        "result = func1(1, 2)\n",
        "\n",
        "print(result())"
      ]
    },
    {
      "cell_type": "code",
      "execution_count": null,
      "id": "98c64814",
      "metadata": {
        "id": "98c64814",
        "outputId": "c669fbad-a6d8-4a66-e230-05f007531832"
      },
      "outputs": [
        {
          "ename": "TypeError",
          "evalue": "'tuple' object is not callable",
          "output_type": "error",
          "traceback": [
            "\u001b[0;31m---------------------------------------------------------------------------\u001b[0m",
            "\u001b[0;31mTypeError\u001b[0m                                 Traceback (most recent call last)",
            "Input \u001b[0;32mIn [66]\u001b[0m, in \u001b[0;36m<cell line: 11>\u001b[0;34m()\u001b[0m\n\u001b[1;32m      7\u001b[0m     \u001b[38;5;28;01mreturn\u001b[39;00m func2(c,d)\n\u001b[1;32m      9\u001b[0m result \u001b[38;5;241m=\u001b[39m func1(\u001b[38;5;241m1\u001b[39m, \u001b[38;5;241m2\u001b[39m)\n\u001b[0;32m---> 11\u001b[0m \u001b[38;5;28mprint\u001b[39m(\u001b[43mresult\u001b[49m\u001b[43m(\u001b[49m\u001b[43m)\u001b[49m)\n",
            "\u001b[0;31mTypeError\u001b[0m: 'tuple' object is not callable"
          ]
        }
      ],
      "source": [
        "def func2(c, d):\n",
        "    return c, d\n",
        "\n",
        "def func1(a, b):\n",
        "    c = a**1\n",
        "    d = b**2\n",
        "    return func2(c,d)\n",
        "\n",
        "result = func1(1, 2)\n",
        "\n",
        "print(result())"
      ]
    },
    {
      "cell_type": "markdown",
      "id": "b4c7b0e0",
      "metadata": {
        "id": "b4c7b0e0"
      },
      "source": [
        "### Example 2"
      ]
    },
    {
      "cell_type": "code",
      "execution_count": null,
      "id": "49894aee",
      "metadata": {
        "id": "49894aee"
      },
      "outputs": [],
      "source": [
        "def multiply_n(n):\n",
        "    def multiply(x):\n",
        "        return x*n\n",
        "    \n",
        "    return multiply"
      ]
    },
    {
      "cell_type": "code",
      "execution_count": null,
      "id": "941987e9",
      "metadata": {
        "id": "941987e9"
      },
      "outputs": [],
      "source": [
        "mul_5 = multiply_n(5)"
      ]
    },
    {
      "cell_type": "code",
      "execution_count": null,
      "id": "64d6fde5",
      "metadata": {
        "id": "64d6fde5",
        "outputId": "0739aee4-d9de-4b25-dae2-2450c7f232fc"
      },
      "outputs": [
        {
          "data": {
            "text/plain": [
              "50"
            ]
          },
          "execution_count": 71,
          "metadata": {},
          "output_type": "execute_result"
        }
      ],
      "source": [
        "mul_5(10)"
      ]
    },
    {
      "cell_type": "code",
      "execution_count": null,
      "id": "ddffe1bf",
      "metadata": {
        "id": "ddffe1bf"
      },
      "outputs": [],
      "source": [
        "mul_6 = multiply_n(6)"
      ]
    },
    {
      "cell_type": "code",
      "execution_count": null,
      "id": "af61821d",
      "metadata": {
        "id": "af61821d",
        "outputId": "78d04856-a292-472a-b3ed-1e63a4fc4fb9"
      },
      "outputs": [
        {
          "data": {
            "text/plain": [
              "60"
            ]
          },
          "execution_count": 72,
          "metadata": {},
          "output_type": "execute_result"
        }
      ],
      "source": [
        "mul_6(10)"
      ]
    },
    {
      "cell_type": "code",
      "execution_count": null,
      "id": "868fac17",
      "metadata": {
        "id": "868fac17"
      },
      "outputs": [],
      "source": []
    },
    {
      "cell_type": "code",
      "execution_count": null,
      "id": "3fc1cc6d",
      "metadata": {
        "id": "3fc1cc6d"
      },
      "outputs": [],
      "source": []
    },
    {
      "cell_type": "code",
      "execution_count": null,
      "id": "114d0367",
      "metadata": {
        "id": "114d0367"
      },
      "outputs": [],
      "source": []
    },
    {
      "cell_type": "markdown",
      "id": "dd6e3812",
      "metadata": {
        "id": "dd6e3812"
      },
      "source": [
        "### Decorators"
      ]
    },
    {
      "cell_type": "code",
      "execution_count": null,
      "id": "6fc2383a",
      "metadata": {
        "id": "6fc2383a"
      },
      "outputs": [],
      "source": [
        "def foo():\n",
        "    print('-'*50)\n",
        "    print('Hello Everyone! How are you doing?')\n",
        "    print('-'*50)"
      ]
    },
    {
      "cell_type": "code",
      "execution_count": null,
      "id": "e7a14b18",
      "metadata": {
        "id": "e7a14b18",
        "outputId": "45380b74-b789-44ad-fae9-551437df0986"
      },
      "outputs": [
        {
          "name": "stdout",
          "output_type": "stream",
          "text": [
            "--------------------------------------------------\n",
            "Hello Everyone! How are you doing?\n",
            "--------------------------------------------------\n"
          ]
        }
      ],
      "source": [
        "foo()"
      ]
    },
    {
      "cell_type": "code",
      "execution_count": null,
      "id": "12a428fc",
      "metadata": {
        "id": "12a428fc"
      },
      "outputs": [],
      "source": [
        "def bar():\n",
        "    print('-'*50)\n",
        "    print('Random cliche print statement!')\n",
        "    print('-'*50)"
      ]
    },
    {
      "cell_type": "code",
      "execution_count": null,
      "id": "5654ee83",
      "metadata": {
        "id": "5654ee83",
        "outputId": "c67c2d53-f294-4f43-9381-1305d6bfdd89"
      },
      "outputs": [
        {
          "name": "stdout",
          "output_type": "stream",
          "text": [
            "--------------------------------------------------\n",
            "Random cliche print statement!\n",
            "--------------------------------------------------\n"
          ]
        }
      ],
      "source": [
        "bar()"
      ]
    },
    {
      "cell_type": "code",
      "execution_count": null,
      "id": "e87935b3",
      "metadata": {
        "id": "e87935b3"
      },
      "outputs": [],
      "source": [
        "# can I pass a function as argument also?"
      ]
    },
    {
      "cell_type": "code",
      "execution_count": null,
      "id": "a0574f0e",
      "metadata": {
        "id": "a0574f0e"
      },
      "outputs": [],
      "source": [
        "def pretty(func):\n",
        "    def inner():\n",
        "        print('-'*50)\n",
        "        func()\n",
        "        print('-'*50)\n",
        "    return inner"
      ]
    },
    {
      "cell_type": "code",
      "execution_count": null,
      "id": "b8a6c977",
      "metadata": {
        "id": "b8a6c977"
      },
      "outputs": [],
      "source": [
        "# is pretty a Higher order function? Yes because it returns another func"
      ]
    },
    {
      "cell_type": "code",
      "execution_count": null,
      "id": "56115b0e",
      "metadata": {
        "id": "56115b0e"
      },
      "outputs": [],
      "source": [
        "def foo():\n",
        "    print(\"Hello Everyone! How are you doing?\")"
      ]
    },
    {
      "cell_type": "code",
      "execution_count": null,
      "id": "8ab48cf1",
      "metadata": {
        "id": "8ab48cf1"
      },
      "outputs": [],
      "source": [
        "new_foo = pretty(foo)"
      ]
    },
    {
      "cell_type": "code",
      "execution_count": null,
      "id": "0d088f0d",
      "metadata": {
        "id": "0d088f0d",
        "outputId": "208feefd-b5fe-4923-8704-46ee93b0c6ae"
      },
      "outputs": [
        {
          "name": "stdout",
          "output_type": "stream",
          "text": [
            "--------------------------------------------------\n",
            "Hello Everyon! How are you doing?\n",
            "--------------------------------------------------\n"
          ]
        }
      ],
      "source": [
        "new_foo()"
      ]
    },
    {
      "cell_type": "code",
      "execution_count": null,
      "id": "59e5a2e3",
      "metadata": {
        "id": "59e5a2e3"
      },
      "outputs": [],
      "source": [
        "def bar():\n",
        "    print(\"Random Cliche Statement!\")"
      ]
    },
    {
      "cell_type": "code",
      "execution_count": null,
      "id": "98acb0ba",
      "metadata": {
        "id": "98acb0ba"
      },
      "outputs": [],
      "source": [
        "new_bar = pretty(bar)"
      ]
    },
    {
      "cell_type": "code",
      "execution_count": null,
      "id": "1533dd4c",
      "metadata": {
        "id": "1533dd4c",
        "outputId": "9f2ce05f-ad5a-4ab0-e7ad-fe253258b411"
      },
      "outputs": [
        {
          "name": "stdout",
          "output_type": "stream",
          "text": [
            "--------------------------------------------------\n",
            "Random Cliche Statement!\n",
            "--------------------------------------------------\n"
          ]
        }
      ],
      "source": [
        "new_bar()"
      ]
    },
    {
      "cell_type": "markdown",
      "id": "e386878b",
      "metadata": {
        "id": "e386878b"
      },
      "source": [
        "## Decorator"
      ]
    },
    {
      "cell_type": "code",
      "execution_count": null,
      "id": "79e436e5",
      "metadata": {
        "id": "79e436e5"
      },
      "outputs": [],
      "source": [
        "@pretty\n",
        "def magical_foo():\n",
        "    print(\"WHHAAAATTTT?\")"
      ]
    },
    {
      "cell_type": "code",
      "execution_count": null,
      "id": "7c6f5053",
      "metadata": {
        "id": "7c6f5053",
        "outputId": "e96a7b58-edf7-409a-b5bd-4f32b1517667"
      },
      "outputs": [
        {
          "name": "stdout",
          "output_type": "stream",
          "text": [
            "--------------------------------------------------\n",
            "WHHAAAATTTT?\n",
            "--------------------------------------------------\n"
          ]
        }
      ],
      "source": [
        "magical_foo()"
      ]
    },
    {
      "cell_type": "code",
      "execution_count": null,
      "id": "883e0569",
      "metadata": {
        "id": "883e0569"
      },
      "outputs": [],
      "source": [
        "@pretty\n",
        "def magical_bar():\n",
        "    print(\"I AM AMAZED RIGHT NOW!! MIGHT JUST CRY!!!\")"
      ]
    },
    {
      "cell_type": "code",
      "execution_count": null,
      "id": "4ef99d5b",
      "metadata": {
        "id": "4ef99d5b",
        "outputId": "37782d99-d937-41dd-be46-a6bec7d94135"
      },
      "outputs": [
        {
          "name": "stdout",
          "output_type": "stream",
          "text": [
            "--------------------------------------------------\n",
            "I AM AMAZED RIGHT NOW!! MIGHT JUST CRY!!!\n",
            "--------------------------------------------------\n"
          ]
        }
      ],
      "source": [
        "magical_bar()"
      ]
    },
    {
      "cell_type": "code",
      "execution_count": null,
      "id": "7377e94f",
      "metadata": {
        "id": "7377e94f"
      },
      "outputs": [],
      "source": []
    }
  ],
  "metadata": {
    "kernelspec": {
      "display_name": "Python 3 (ipykernel)",
      "language": "python",
      "name": "python3"
    },
    "language_info": {
      "codemirror_mode": {
        "name": "ipython",
        "version": 3
      },
      "file_extension": ".py",
      "mimetype": "text/x-python",
      "name": "python",
      "nbconvert_exporter": "python",
      "pygments_lexer": "ipython3",
      "version": "3.9.12"
    },
    "colab": {
      "provenance": [],
      "include_colab_link": true
    }
  },
  "nbformat": 4,
  "nbformat_minor": 5
}