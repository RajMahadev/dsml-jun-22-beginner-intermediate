{
  "cells": [
    {
      "cell_type": "markdown",
      "metadata": {
        "id": "view-in-github",
        "colab_type": "text"
      },
      "source": [
        "<a href=\"https://colab.research.google.com/github/scaleracademy/dsml-jun-22-beginner-intermediate/blob/main/Functional_Programming.ipynb\" target=\"_parent\"><img src=\"https://colab.research.google.com/assets/colab-badge.svg\" alt=\"Open In Colab\"/></a>"
      ]
    },
    {
      "cell_type": "markdown",
      "id": "f9cbbeb7",
      "metadata": {
        "id": "f9cbbeb7"
      },
      "source": [
        "## Functional Programming"
      ]
    },
    {
      "cell_type": "code",
      "execution_count": null,
      "id": "f370a2d2",
      "metadata": {
        "id": "f370a2d2"
      },
      "outputs": [],
      "source": [
        "def square_number(a):\n",
        "    return a**2"
      ]
    },
    {
      "cell_type": "code",
      "execution_count": null,
      "id": "0d7be131",
      "metadata": {
        "id": "0d7be131",
        "outputId": "e6a7874e-95d9-4511-af9c-fc345da5c504"
      },
      "outputs": [
        {
          "data": {
            "text/plain": [
              "16"
            ]
          },
          "execution_count": 2,
          "metadata": {},
          "output_type": "execute_result"
        }
      ],
      "source": [
        "square_number(4)"
      ]
    },
    {
      "cell_type": "code",
      "execution_count": null,
      "id": "4eedae87",
      "metadata": {
        "id": "4eedae87"
      },
      "outputs": [],
      "source": [
        "square = lambda x: x**2\n",
        "# lambda is creating a function which can be stored in a variable"
      ]
    },
    {
      "cell_type": "code",
      "execution_count": null,
      "id": "32555113",
      "metadata": {
        "id": "32555113",
        "outputId": "2a2fa11d-0b14-4998-d870-a981ee11d9c8"
      },
      "outputs": [
        {
          "data": {
            "text/plain": [
              "9"
            ]
          },
          "execution_count": 4,
          "metadata": {},
          "output_type": "execute_result"
        }
      ],
      "source": [
        "square(3)"
      ]
    },
    {
      "cell_type": "code",
      "execution_count": null,
      "id": "c45a27c5",
      "metadata": {
        "id": "c45a27c5",
        "outputId": "264705ba-45f6-4348-b7e3-32f0dfe043a0"
      },
      "outputs": [
        {
          "data": {
            "text/plain": [
              "81"
            ]
          },
          "execution_count": 5,
          "metadata": {},
          "output_type": "execute_result"
        }
      ],
      "source": [
        "square(9)"
      ]
    },
    {
      "cell_type": "code",
      "execution_count": null,
      "id": "0a0cac8e",
      "metadata": {
        "id": "0a0cac8e"
      },
      "outputs": [],
      "source": [
        "add = lambda x, y: x + y"
      ]
    },
    {
      "cell_type": "code",
      "execution_count": null,
      "id": "5e16ce75",
      "metadata": {
        "id": "5e16ce75",
        "outputId": "63ed30e1-9222-4092-a452-8d9dfba04be2"
      },
      "outputs": [
        {
          "data": {
            "text/plain": [
              "8"
            ]
          },
          "execution_count": 8,
          "metadata": {},
          "output_type": "execute_result"
        }
      ],
      "source": [
        "add(3, 5)"
      ]
    },
    {
      "cell_type": "markdown",
      "id": "573b876a",
      "metadata": {
        "id": "573b876a"
      },
      "source": [
        "### Anonymous functions\n",
        "\n",
        "Lambda functions are known as anonymous functions, i.e.\n",
        "functions without any name"
      ]
    },
    {
      "cell_type": "code",
      "execution_count": null,
      "id": "6d3865b7",
      "metadata": {
        "id": "6d3865b7",
        "outputId": "ef2835f0-ba67-4bc6-e630-2f6b03588d5e"
      },
      "outputs": [
        {
          "data": {
            "text/plain": [
              "<function __main__.<lambda>(x)>"
            ]
          },
          "execution_count": 9,
          "metadata": {},
          "output_type": "execute_result"
        }
      ],
      "source": [
        "(lambda x: x**3)"
      ]
    },
    {
      "cell_type": "code",
      "execution_count": null,
      "id": "0f6a7e5d",
      "metadata": {
        "id": "0f6a7e5d"
      },
      "outputs": [],
      "source": [
        "y = (lambda x: x**3)"
      ]
    },
    {
      "cell_type": "code",
      "execution_count": null,
      "id": "6ebbec34",
      "metadata": {
        "id": "6ebbec34",
        "outputId": "85108147-a0d8-47a4-a82a-fbfaca24a278"
      },
      "outputs": [
        {
          "data": {
            "text/plain": [
              "function"
            ]
          },
          "execution_count": 11,
          "metadata": {},
          "output_type": "execute_result"
        }
      ],
      "source": [
        "type(y)"
      ]
    },
    {
      "cell_type": "code",
      "execution_count": null,
      "id": "da3ac6be",
      "metadata": {
        "id": "da3ac6be",
        "outputId": "9c223267-792c-46f4-c6e6-efb6740ced0f"
      },
      "outputs": [
        {
          "data": {
            "text/plain": [
              "8"
            ]
          },
          "execution_count": 12,
          "metadata": {},
          "output_type": "execute_result"
        }
      ],
      "source": [
        "(lambda x: x**3)(2)"
      ]
    },
    {
      "cell_type": "code",
      "execution_count": null,
      "id": "ce1df5f5",
      "metadata": {
        "id": "ce1df5f5",
        "outputId": "f8b72013-ef3e-46a5-f595-bfc55a738940"
      },
      "outputs": [
        {
          "data": {
            "text/plain": [
              "125"
            ]
          },
          "execution_count": 13,
          "metadata": {},
          "output_type": "execute_result"
        }
      ],
      "source": [
        "(lambda x: x**3)(5)"
      ]
    },
    {
      "cell_type": "code",
      "execution_count": null,
      "id": "0c21fc90",
      "metadata": {
        "id": "0c21fc90",
        "outputId": "a2faf406-deea-4233-f9f8-c5a25ae0743f"
      },
      "outputs": [
        {
          "data": {
            "text/plain": [
              "<function __main__.<lambda>(lst)>"
            ]
          },
          "execution_count": 14,
          "metadata": {},
          "output_type": "execute_result"
        }
      ],
      "source": [
        "lambda lst: lst[0]"
      ]
    },
    {
      "cell_type": "code",
      "execution_count": null,
      "id": "740aab86",
      "metadata": {
        "id": "740aab86",
        "outputId": "83e01d1d-6ecf-453f-c4b3-200e73a73436"
      },
      "outputs": [
        {
          "data": {
            "text/plain": [
              "9"
            ]
          },
          "execution_count": 16,
          "metadata": {},
          "output_type": "execute_result"
        }
      ],
      "source": [
        "(lambda lst: lst[0])([9, 5, 6])"
      ]
    },
    {
      "cell_type": "code",
      "execution_count": null,
      "id": "3a08708f",
      "metadata": {
        "id": "3a08708f"
      },
      "outputs": [],
      "source": [
        "def get_first(lst):\n",
        "    return lst[0]"
      ]
    },
    {
      "cell_type": "code",
      "execution_count": null,
      "id": "fc0c0309",
      "metadata": {
        "id": "fc0c0309",
        "outputId": "1872b5dc-c05e-4eee-97a7-0ecba6e0e091"
      },
      "outputs": [
        {
          "data": {
            "text/plain": [
              "9"
            ]
          },
          "execution_count": 18,
          "metadata": {},
          "output_type": "execute_result"
        }
      ],
      "source": [
        "get_first([9, 5, 6])"
      ]
    },
    {
      "cell_type": "code",
      "execution_count": null,
      "id": "a8aa59cf",
      "metadata": {
        "id": "a8aa59cf",
        "outputId": "fac0c26c-ee67-4c78-bf19-b9d126e798ba"
      },
      "outputs": [
        {
          "data": {
            "text/plain": [
              "9"
            ]
          },
          "execution_count": 19,
          "metadata": {},
          "output_type": "execute_result"
        }
      ],
      "source": [
        "(lambda lst: lst[0])([9, 5, 6])"
      ]
    },
    {
      "cell_type": "code",
      "execution_count": null,
      "id": "b2ffa7d2",
      "metadata": {
        "id": "b2ffa7d2"
      },
      "outputs": [],
      "source": []
    },
    {
      "cell_type": "markdown",
      "id": "02506133",
      "metadata": {
        "id": "02506133"
      },
      "source": [
        "### Use case"
      ]
    },
    {
      "cell_type": "code",
      "execution_count": null,
      "id": "2a0a88df",
      "metadata": {
        "id": "2a0a88df"
      },
      "outputs": [],
      "source": [
        "coordinates = [(1, -1), (-1, 2), (3, 5), (5, 3), (7, 7), (2, 1)]"
      ]
    },
    {
      "cell_type": "code",
      "execution_count": null,
      "id": "f3824380",
      "metadata": {
        "id": "f3824380"
      },
      "outputs": [],
      "source": [
        "# we want to sort them on the basis of x coordinate"
      ]
    },
    {
      "cell_type": "code",
      "execution_count": null,
      "id": "b5574910",
      "metadata": {
        "id": "b5574910"
      },
      "outputs": [],
      "source": [
        "res = sorted(coordinates)"
      ]
    },
    {
      "cell_type": "code",
      "execution_count": null,
      "id": "86b3a3f5",
      "metadata": {
        "id": "86b3a3f5",
        "outputId": "8bc14d9e-678d-479a-ddc5-4d46dcab5612"
      },
      "outputs": [
        {
          "name": "stdout",
          "output_type": "stream",
          "text": [
            "[(-1, 2), (1, -1), (2, 1), (3, 5), (5, 3), (7, 7)]\n"
          ]
        }
      ],
      "source": [
        "print(res)"
      ]
    },
    {
      "cell_type": "code",
      "execution_count": null,
      "id": "136ff09f",
      "metadata": {
        "id": "136ff09f"
      },
      "outputs": [],
      "source": [
        "# we want to sort them on the basis of y coordinate"
      ]
    },
    {
      "cell_type": "markdown",
      "id": "13862e20",
      "metadata": {
        "id": "13862e20"
      },
      "source": [
        "#### sort vs sorted"
      ]
    },
    {
      "cell_type": "code",
      "execution_count": null,
      "id": "b170b6b3",
      "metadata": {
        "id": "b170b6b3"
      },
      "outputs": [],
      "source": [
        "l = [1, 4, 3, 2, 5]"
      ]
    },
    {
      "cell_type": "code",
      "execution_count": null,
      "id": "a1f9ea2a",
      "metadata": {
        "id": "a1f9ea2a",
        "outputId": "0fb58405-f952-47c0-e712-3ba23cd9c30d"
      },
      "outputs": [
        {
          "name": "stdout",
          "output_type": "stream",
          "text": [
            "[1, 2, 3, 4, 5]\n",
            "[1, 2, 3, 4, 5]\n"
          ]
        }
      ],
      "source": [
        "x = sorted(l) # creates a copy (new list) of the list which is sorted\n",
        "print(x)\n",
        "print(l)"
      ]
    },
    {
      "cell_type": "code",
      "execution_count": null,
      "id": "0b44d38e",
      "metadata": {
        "id": "0b44d38e"
      },
      "outputs": [],
      "source": [
        "l.sort()"
      ]
    },
    {
      "cell_type": "code",
      "execution_count": null,
      "id": "3389fbc4",
      "metadata": {
        "id": "3389fbc4",
        "outputId": "421b95e9-5390-415f-ac76-388b7267068f"
      },
      "outputs": [
        {
          "name": "stdout",
          "output_type": "stream",
          "text": [
            "[1, 2, 3, 4, 5]\n"
          ]
        }
      ],
      "source": [
        "print(l)"
      ]
    },
    {
      "cell_type": "markdown",
      "id": "b23afc1c",
      "metadata": {
        "id": "b23afc1c"
      },
      "source": [
        "### Solution"
      ]
    },
    {
      "cell_type": "code",
      "execution_count": null,
      "id": "83ed2e1e",
      "metadata": {
        "id": "83ed2e1e"
      },
      "outputs": [],
      "source": [
        "sorted?"
      ]
    },
    {
      "cell_type": "code",
      "execution_count": null,
      "id": "116bb21e",
      "metadata": {
        "id": "116bb21e"
      },
      "outputs": [],
      "source": [
        "coordinates = [(1, -1), (-1, 2), (3, 5), (5, 3), (7, 7), (2, 1)]"
      ]
    },
    {
      "cell_type": "code",
      "execution_count": null,
      "id": "d19bdd86",
      "metadata": {
        "id": "d19bdd86"
      },
      "outputs": [],
      "source": [
        "def get_y(lst):\n",
        "    return lst[1]"
      ]
    },
    {
      "cell_type": "code",
      "execution_count": null,
      "id": "756d9d92",
      "metadata": {
        "id": "756d9d92",
        "outputId": "853ec693-adc1-4ecb-b7db-bc48ab45c554"
      },
      "outputs": [
        {
          "data": {
            "text/plain": [
              "[(1, -1), (2, 1), (-1, 2), (5, 3), (3, 5), (7, 7)]"
            ]
          },
          "execution_count": 38,
          "metadata": {},
          "output_type": "execute_result"
        }
      ],
      "source": [
        "sorted(coordinates, key=get_y)"
      ]
    },
    {
      "cell_type": "code",
      "execution_count": null,
      "id": "171c28f1",
      "metadata": {
        "id": "171c28f1"
      },
      "outputs": [],
      "source": [
        "def bubble_sort(arr):\n",
        "    n = len(arr)\n",
        "    for i in range(n - 1):\n",
        "        for j in range(n - i - 1):\n",
        "            if arr[j] > arr[j + 1]:\n",
        "                arr[j], arr[j + 1] = arr[j + 1], arr[j]\n",
        "    return arr"
      ]
    },
    {
      "cell_type": "code",
      "execution_count": null,
      "id": "e38f4a24",
      "metadata": {
        "id": "e38f4a24",
        "outputId": "5b125f1f-1472-4bd2-d91e-2b00aa066a39"
      },
      "outputs": [
        {
          "data": {
            "text/plain": [
              "[1, 2, 3, 4, 5]"
            ]
          },
          "execution_count": 44,
          "metadata": {},
          "output_type": "execute_result"
        }
      ],
      "source": [
        "l = [5, 1, 2, 3, 4]\n",
        "bubble_sort(l)"
      ]
    },
    {
      "cell_type": "code",
      "execution_count": null,
      "id": "523165d8",
      "metadata": {
        "id": "523165d8",
        "outputId": "cb2f88e0-71f4-48c7-f951-8ce3be4b4d62"
      },
      "outputs": [
        {
          "data": {
            "text/plain": [
              "True"
            ]
          },
          "execution_count": 45,
          "metadata": {},
          "output_type": "execute_result"
        }
      ],
      "source": [
        "(1, -1) > (-1, 2)"
      ]
    },
    {
      "cell_type": "code",
      "execution_count": null,
      "id": "2bf1358d",
      "metadata": {
        "id": "2bf1358d",
        "outputId": "df5da6a3-5a96-4a18-e6e6-9f23b1992e78"
      },
      "outputs": [
        {
          "data": {
            "text/plain": [
              "[(-1, 2), (1, -1), (2, 1), (3, 5), (5, 3), (7, 7)]"
            ]
          },
          "execution_count": 46,
          "metadata": {},
          "output_type": "execute_result"
        }
      ],
      "source": [
        "bubble_sort(coordinates)"
      ]
    },
    {
      "cell_type": "markdown",
      "id": "67c99b1e",
      "metadata": {
        "id": "67c99b1e"
      },
      "source": [
        "### Modified bubble sort to sort based on y"
      ]
    },
    {
      "cell_type": "code",
      "execution_count": null,
      "id": "b8307537",
      "metadata": {
        "id": "b8307537"
      },
      "outputs": [],
      "source": [
        "def get_y(lst):\n",
        "    return lst[1]"
      ]
    },
    {
      "cell_type": "code",
      "execution_count": null,
      "id": "c778e0dc",
      "metadata": {
        "id": "c778e0dc"
      },
      "outputs": [],
      "source": [
        "def bubble_sort(arr):\n",
        "    n = len(arr)\n",
        "    for i in range(n - 1):\n",
        "        for j in range(n - i - 1):\n",
        "            if get_y(arr[j]) > get_y(arr[j + 1]):\n",
        "                arr[j], arr[j + 1] = arr[j + 1], arr[j]\n",
        "    return arr"
      ]
    },
    {
      "cell_type": "code",
      "execution_count": null,
      "id": "210619dc",
      "metadata": {
        "id": "210619dc"
      },
      "outputs": [],
      "source": [
        "coordinates = [(1, -1), (-1, 2), (3, 5), (5, 3), (7, 7), (2, 1)]"
      ]
    },
    {
      "cell_type": "code",
      "execution_count": null,
      "id": "118b627e",
      "metadata": {
        "id": "118b627e",
        "outputId": "951345fe-ce12-441e-a6f8-9235a674ce98"
      },
      "outputs": [
        {
          "data": {
            "text/plain": [
              "[(1, -1), (2, 1), (-1, 2), (5, 3), (3, 5), (7, 7)]"
            ]
          },
          "execution_count": 50,
          "metadata": {},
          "output_type": "execute_result"
        }
      ],
      "source": [
        "bubble_sort(coordinates)"
      ]
    },
    {
      "cell_type": "markdown",
      "id": "59a11e0f",
      "metadata": {
        "id": "59a11e0f"
      },
      "source": [
        "### One more example"
      ]
    },
    {
      "cell_type": "code",
      "execution_count": null,
      "id": "bb99ff2c",
      "metadata": {
        "id": "bb99ff2c"
      },
      "outputs": [],
      "source": [
        "coordinates = [(1, -1), (-1, 2), (3, 5), (5, 3), (7, 7), (2, 1)]"
      ]
    },
    {
      "cell_type": "code",
      "execution_count": null,
      "id": "fc0b9515",
      "metadata": {
        "id": "fc0b9515",
        "outputId": "6eec62fe-41d8-4bef-9306-fd861983581c"
      },
      "outputs": [
        {
          "data": {
            "text/plain": [
              "[(1, -1), (2, 1), (-1, 2), (5, 3), (3, 5), (7, 7)]"
            ]
          },
          "execution_count": 51,
          "metadata": {},
          "output_type": "execute_result"
        }
      ],
      "source": [
        "sorted(coordinates, key= lambda l: l[1])"
      ]
    },
    {
      "cell_type": "code",
      "execution_count": null,
      "id": "bd967a1e",
      "metadata": {
        "id": "bd967a1e"
      },
      "outputs": [],
      "source": [
        "students = [\n",
        "    {\"name\": \"A\", \"marks\": 50},\n",
        "    {\"name\": \"B\", \"marks\": 100},\n",
        "    {\"name\": \"C\", \"marks\": 40},\n",
        "    {\"name\": \"D\", \"marks\": 70},\n",
        "    {\"name\": \"E\", \"marks\": 60},\n",
        "]"
      ]
    },
    {
      "cell_type": "code",
      "execution_count": null,
      "id": "51773447",
      "metadata": {
        "id": "51773447"
      },
      "outputs": [],
      "source": [
        "## HW : Sort based on the marks"
      ]
    },
    {
      "cell_type": "code",
      "execution_count": null,
      "id": "a618e1b8",
      "metadata": {
        "id": "a618e1b8"
      },
      "outputs": [],
      "source": []
    },
    {
      "cell_type": "code",
      "execution_count": null,
      "id": "437b24cb",
      "metadata": {
        "id": "437b24cb"
      },
      "outputs": [],
      "source": []
    },
    {
      "cell_type": "code",
      "execution_count": null,
      "id": "1ffe4d8a",
      "metadata": {
        "id": "1ffe4d8a"
      },
      "outputs": [],
      "source": []
    }
  ],
  "metadata": {
    "kernelspec": {
      "display_name": "Python 3 (ipykernel)",
      "language": "python",
      "name": "python3"
    },
    "language_info": {
      "codemirror_mode": {
        "name": "ipython",
        "version": 3
      },
      "file_extension": ".py",
      "mimetype": "text/x-python",
      "name": "python",
      "nbconvert_exporter": "python",
      "pygments_lexer": "ipython3",
      "version": "3.9.12"
    },
    "colab": {
      "provenance": [],
      "include_colab_link": true
    }
  },
  "nbformat": 4,
  "nbformat_minor": 5
}