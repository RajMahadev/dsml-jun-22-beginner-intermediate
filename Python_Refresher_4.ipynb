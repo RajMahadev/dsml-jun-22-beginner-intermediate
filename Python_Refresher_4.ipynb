{
 "cells": [
  {
   "cell_type": "markdown",
   "id": "0b5195ac",
   "metadata": {},
   "source": [
    "# DSML Intermediate : Python Refresher - 4"
   ]
  },
  {
   "cell_type": "markdown",
   "id": "9e48f5e7",
   "metadata": {},
   "source": [
    "## Recap"
   ]
  },
  {
   "cell_type": "markdown",
   "id": "e16aeb31",
   "metadata": {},
   "source": [
    "## How to solve a problem?\n"
   ]
  },
  {
   "cell_type": "markdown",
   "id": "af07777b",
   "metadata": {},
   "source": [
    "1. **Before implementing the code =>**\n",
    "\n",
    "- try on paper,\n",
    "- take examples,\n",
    "- think the logic,\n",
    "- plan the solution"
   ]
  },
  {
   "cell_type": "markdown",
   "id": "32a3d1ad",
   "metadata": {},
   "source": [
    "2. **Write the code, test it (dry run on an example) and submit it**"
   ]
  },
  {
   "cell_type": "markdown",
   "id": "7f211e13",
   "metadata": {},
   "source": [
    "3. **You will get errors, how to get past those hurdles?**\n",
    "\n",
    "Before reaching out to TAs:\n",
    "- If the problem has a video solution or a hint 1 / hint 2 => try to use it\n",
    "- If it's a syntax error => try to google, stackoverflow => finding / debugging code is a process which develops over time\n",
    "\n",
    "Then still if not resolved, reach out to TAs / peers in slack / whatsapp"
   ]
  },
  {
   "cell_type": "markdown",
   "id": "c1d1e39b",
   "metadata": {},
   "source": [
    "If it's a MCQ problem\n",
    "- try running the code in IDE and figuring out what is happening"
   ]
  },
  {
   "cell_type": "markdown",
   "id": "cd787a9c",
   "metadata": {},
   "source": [
    "4. **Say you finally solved problem with helps of peers / TAs what next?**\n",
    "\n",
    "- Don't jump to the next problem yet!!!!\n",
    "- Checkout the hints (they are now free - no score deduction)\n",
    "- Maybe your post solution on slack / whatsapp group and get feedback from peers\n",
    "- reach out TAs to know how can you have made your own solution much better"
   ]
  },
  {
   "cell_type": "markdown",
   "id": "3d52d03d",
   "metadata": {},
   "source": [
    "5. **(Optional - for revision)**\n",
    "\n",
    "- bookmark a set of problems which you found out slightly challenging (where you learnt something new)\n",
    "\n",
    "- make your own notes of what you learnt while solving a problem"
   ]
  },
  {
   "cell_type": "markdown",
   "id": "be64846a",
   "metadata": {},
   "source": [
    "## Goal => \n",
    "\n",
    "1. PSP => 70+\n",
    "2. PSP => 80+\n",
    "3. PSP => 85+\n",
    "4. PSP => 90+\n"
   ]
  },
  {
   "cell_type": "code",
   "execution_count": 38,
   "id": "9af7e949",
   "metadata": {},
   "outputs": [
    {
     "name": "stdout",
     "output_type": "stream",
     "text": [
      "[['', '', ''], ['', '', ''], ['', '', '']]\n"
     ]
    }
   ],
   "source": [
    "board = [[\"\"]*3]*3\n",
    "\n",
    "print(board)"
   ]
  },
  {
   "cell_type": "code",
   "execution_count": 39,
   "id": "12161c2e",
   "metadata": {},
   "outputs": [
    {
     "name": "stdout",
     "output_type": "stream",
     "text": [
      "True\n"
     ]
    }
   ],
   "source": [
    "\n",
    "print(id(board[0][0]) == id(board[1][1]) == id(board[2][2]))"
   ]
  },
  {
   "cell_type": "code",
   "execution_count": 40,
   "id": "962c5ff6",
   "metadata": {},
   "outputs": [
    {
     "name": "stdout",
     "output_type": "stream",
     "text": [
      "False\n"
     ]
    }
   ],
   "source": [
    "tup1 = (1,2)\n",
    "tup2 = (1,2)\n",
    "\n",
    "print(id(tup1) == id(tup2))"
   ]
  },
  {
   "cell_type": "code",
   "execution_count": 224,
   "id": "0d88de04",
   "metadata": {},
   "outputs": [
    {
     "name": "stdout",
     "output_type": "stream",
     "text": [
      "140474019014960\n",
      "140474019014960\n"
     ]
    }
   ],
   "source": [
    "l1 = [1, 2, 3]\n",
    "l2 = [1, 2, 3]\n",
    "\n",
    "print(id(l1[0]))\n",
    "print(id(l2[0]))"
   ]
  },
  {
   "cell_type": "code",
   "execution_count": 225,
   "id": "86222f4b",
   "metadata": {},
   "outputs": [
    {
     "name": "stdout",
     "output_type": "stream",
     "text": [
      "140474305431168\n",
      "140474305243136\n"
     ]
    }
   ],
   "source": [
    "print(id(l1))\n",
    "print(id(l2))"
   ]
  },
  {
   "cell_type": "code",
   "execution_count": 222,
   "id": "8b24ec26",
   "metadata": {},
   "outputs": [
    {
     "data": {
      "text/plain": [
       "False"
      ]
     },
     "execution_count": 222,
     "metadata": {},
     "output_type": "execute_result"
    }
   ],
   "source": [
    "id(l1) == id(l2)"
   ]
  },
  {
   "cell_type": "markdown",
   "id": "5e7ab204",
   "metadata": {},
   "source": [
    "## Comprehension"
   ]
  },
  {
   "cell_type": "code",
   "execution_count": 43,
   "id": "e3300f63",
   "metadata": {},
   "outputs": [],
   "source": [
    "fruits = ['apples', 'bananas', 'strawberries', 'grapes',\n",
    "         'mango', 'oranges', 'cherry']"
   ]
  },
  {
   "cell_type": "code",
   "execution_count": 44,
   "id": "6ba3748d",
   "metadata": {},
   "outputs": [
    {
     "name": "stdout",
     "output_type": "stream",
     "text": [
      "apples\n",
      "bananas\n",
      "strawberries\n",
      "grapes\n",
      "mango\n",
      "oranges\n",
      "cherry\n"
     ]
    }
   ],
   "source": [
    "for i in fruits:\n",
    "    print(i)"
   ]
  },
  {
   "cell_type": "code",
   "execution_count": 45,
   "id": "4f79d852",
   "metadata": {},
   "outputs": [
    {
     "name": "stdout",
     "output_type": "stream",
     "text": [
      "apples\n",
      "bananas\n",
      "strawberries\n",
      "grapes\n",
      "mango\n",
      "oranges\n",
      "cherry\n"
     ]
    },
    {
     "data": {
      "text/plain": [
       "[None, None, None, None, None, None, None]"
      ]
     },
     "execution_count": 45,
     "metadata": {},
     "output_type": "execute_result"
    }
   ],
   "source": [
    "[print(i) for i in fruits]"
   ]
  },
  {
   "cell_type": "code",
   "execution_count": 46,
   "id": "4de2fc90",
   "metadata": {},
   "outputs": [
    {
     "name": "stdout",
     "output_type": "stream",
     "text": [
      "5\n"
     ]
    }
   ],
   "source": [
    "x = print(5)"
   ]
  },
  {
   "cell_type": "code",
   "execution_count": 47,
   "id": "c5055cf1",
   "metadata": {},
   "outputs": [
    {
     "name": "stdout",
     "output_type": "stream",
     "text": [
      "None\n"
     ]
    }
   ],
   "source": [
    "print(x)"
   ]
  },
  {
   "cell_type": "code",
   "execution_count": 48,
   "id": "20926860",
   "metadata": {},
   "outputs": [
    {
     "name": "stdout",
     "output_type": "stream",
     "text": [
      "apples\n",
      "bananas\n",
      "strawberries\n",
      "grapes\n",
      "mango\n",
      "oranges\n",
      "cherry\n"
     ]
    }
   ],
   "source": [
    "res = [print(i) for i in fruits]"
   ]
  },
  {
   "cell_type": "code",
   "execution_count": 49,
   "id": "5b67b0fe",
   "metadata": {},
   "outputs": [
    {
     "name": "stdout",
     "output_type": "stream",
     "text": [
      "[None, None, None, None, None, None, None]\n"
     ]
    }
   ],
   "source": [
    "print(res)"
   ]
  },
  {
   "cell_type": "markdown",
   "id": "d128294c",
   "metadata": {},
   "source": [
    "### Squares of all elements"
   ]
  },
  {
   "cell_type": "code",
   "execution_count": 51,
   "id": "56990f06",
   "metadata": {},
   "outputs": [],
   "source": [
    "a = [5, 1, 2, 3, 7]"
   ]
  },
  {
   "cell_type": "code",
   "execution_count": 53,
   "id": "4de20348",
   "metadata": {},
   "outputs": [],
   "source": [
    "b = []\n",
    "\n",
    "for i in a:\n",
    "    b.append(i*i)"
   ]
  },
  {
   "cell_type": "code",
   "execution_count": 54,
   "id": "4580d094",
   "metadata": {},
   "outputs": [
    {
     "name": "stdout",
     "output_type": "stream",
     "text": [
      "[25, 1, 4, 9, 49]\n"
     ]
    }
   ],
   "source": [
    "print(b)"
   ]
  },
  {
   "cell_type": "code",
   "execution_count": 55,
   "id": "ff43d56d",
   "metadata": {},
   "outputs": [],
   "source": [
    "b_cool = [i**2 for i in a]"
   ]
  },
  {
   "cell_type": "code",
   "execution_count": 56,
   "id": "7a4d3b49",
   "metadata": {},
   "outputs": [
    {
     "name": "stdout",
     "output_type": "stream",
     "text": [
      "[25, 1, 4, 9, 49]\n"
     ]
    }
   ],
   "source": [
    "print(b_cool)"
   ]
  },
  {
   "cell_type": "code",
   "execution_count": 57,
   "id": "20eb2d04",
   "metadata": {},
   "outputs": [],
   "source": [
    "c = [i for i in a]"
   ]
  },
  {
   "cell_type": "code",
   "execution_count": 58,
   "id": "af9c47ba",
   "metadata": {},
   "outputs": [
    {
     "name": "stdout",
     "output_type": "stream",
     "text": [
      "[5, 1, 2, 3, 7]\n"
     ]
    }
   ],
   "source": [
    "print(c)"
   ]
  },
  {
   "cell_type": "markdown",
   "id": "b4f4b34c",
   "metadata": {},
   "source": [
    "### Quiz"
   ]
  },
  {
   "cell_type": "code",
   "execution_count": 66,
   "id": "f2787ed4",
   "metadata": {},
   "outputs": [],
   "source": [
    "a = [1, 2, 3]\n",
    "\n",
    "l = [0 for i in a]"
   ]
  },
  {
   "cell_type": "code",
   "execution_count": 67,
   "id": "5110de60",
   "metadata": {},
   "outputs": [
    {
     "name": "stdout",
     "output_type": "stream",
     "text": [
      "[0, 0, 0]\n"
     ]
    }
   ],
   "source": [
    "print(l)"
   ]
  },
  {
   "cell_type": "code",
   "execution_count": 69,
   "id": "86fef249",
   "metadata": {},
   "outputs": [
    {
     "name": "stdout",
     "output_type": "stream",
     "text": [
      "0\n"
     ]
    }
   ],
   "source": [
    "print(sum(l))"
   ]
  },
  {
   "cell_type": "markdown",
   "id": "6b394130",
   "metadata": {},
   "source": [
    "### With condition"
   ]
  },
  {
   "cell_type": "code",
   "execution_count": 70,
   "id": "7d4d01fa",
   "metadata": {},
   "outputs": [
    {
     "name": "stdout",
     "output_type": "stream",
     "text": [
      "[5, 1, 4, 3, 7, 36]\n"
     ]
    }
   ],
   "source": [
    "a = [5, 1, 2, 3, 7, 6]\n",
    "\n",
    "b = []\n",
    "\n",
    "for i in a:\n",
    "    if i % 2 == 0: # divisible by 2 => even\n",
    "        b.append(i*i)\n",
    "    else:\n",
    "        b.append(i)\n",
    "    \n",
    "print(b)"
   ]
  },
  {
   "cell_type": "code",
   "execution_count": 71,
   "id": "33db5d7a",
   "metadata": {},
   "outputs": [],
   "source": [
    "def my_logic(i):\n",
    "    if i % 2 == 0:\n",
    "        return i*i\n",
    "    else:\n",
    "        return i"
   ]
  },
  {
   "cell_type": "code",
   "execution_count": 73,
   "id": "d89ab94f",
   "metadata": {},
   "outputs": [
    {
     "data": {
      "text/plain": [
       "5"
      ]
     },
     "execution_count": 73,
     "metadata": {},
     "output_type": "execute_result"
    }
   ],
   "source": [
    "my_logic(5)"
   ]
  },
  {
   "cell_type": "code",
   "execution_count": 75,
   "id": "9ec46ccd",
   "metadata": {},
   "outputs": [
    {
     "name": "stdout",
     "output_type": "stream",
     "text": [
      "[5, 1, 4, 3, 7, 36]\n"
     ]
    }
   ],
   "source": [
    "b = []\n",
    "\n",
    "for i in a:\n",
    "    b.append(my_logic(i))\n",
    "    \n",
    "print(b)"
   ]
  },
  {
   "cell_type": "code",
   "execution_count": 78,
   "id": "5b291de5",
   "metadata": {},
   "outputs": [
    {
     "name": "stdout",
     "output_type": "stream",
     "text": [
      "[5, 1, 4, 3, 7, 36]\n"
     ]
    }
   ],
   "source": [
    "b = [my_logic(i) for i in a]\n",
    "\n",
    "print(b)"
   ]
  },
  {
   "cell_type": "code",
   "execution_count": 79,
   "id": "9a3dffd4",
   "metadata": {},
   "outputs": [
    {
     "name": "stdout",
     "output_type": "stream",
     "text": [
      "[5, 1, 4, 3, 7, 36]\n"
     ]
    }
   ],
   "source": [
    "b = [i*i if i % 2 == 0 else i for i in a]\n",
    "\n",
    "print(b)"
   ]
  },
  {
   "cell_type": "code",
   "execution_count": 80,
   "id": "2ba6e13d",
   "metadata": {},
   "outputs": [
    {
     "name": "stdout",
     "output_type": "stream",
     "text": [
      "True\n"
     ]
    }
   ],
   "source": [
    "i = 5\n",
    "\n",
    "if i == 5:\n",
    "    print('True')\n",
    "else:\n",
    "    print('False')"
   ]
  },
  {
   "cell_type": "code",
   "execution_count": 82,
   "id": "363444e3",
   "metadata": {},
   "outputs": [
    {
     "data": {
      "text/plain": [
       "'True'"
      ]
     },
     "execution_count": 82,
     "metadata": {},
     "output_type": "execute_result"
    }
   ],
   "source": [
    "i = 5\n",
    "'True' if i == 5 else 'False'"
   ]
  },
  {
   "cell_type": "code",
   "execution_count": 83,
   "id": "45f789a9",
   "metadata": {},
   "outputs": [],
   "source": [
    "def my_print(i):\n",
    "    print(i)\n",
    "    return None"
   ]
  },
  {
   "cell_type": "code",
   "execution_count": 84,
   "id": "2f83ed6a",
   "metadata": {},
   "outputs": [
    {
     "name": "stdout",
     "output_type": "stream",
     "text": [
      "apples\n",
      "bananas\n",
      "strawberries\n",
      "grapes\n",
      "mango\n",
      "oranges\n",
      "cherry\n"
     ]
    }
   ],
   "source": [
    "res = [my_print(i) for i in fruits]"
   ]
  },
  {
   "cell_type": "code",
   "execution_count": 85,
   "id": "2b565257",
   "metadata": {},
   "outputs": [
    {
     "name": "stdout",
     "output_type": "stream",
     "text": [
      "[None, None, None, None, None, None, None]\n"
     ]
    }
   ],
   "source": [
    "print(res)"
   ]
  },
  {
   "cell_type": "markdown",
   "id": "4d531ab3",
   "metadata": {},
   "source": [
    "### Quizzes"
   ]
  },
  {
   "cell_type": "code",
   "execution_count": 86,
   "id": "ea4bbd36",
   "metadata": {},
   "outputs": [],
   "source": [
    "fruits = [\"apples\", \"bananas\", \"strawberries\"]\n",
    "fruits = [fruit.upper() for fruit in fruits]"
   ]
  },
  {
   "cell_type": "code",
   "execution_count": 87,
   "id": "1047e0ab",
   "metadata": {
    "scrolled": true
   },
   "outputs": [
    {
     "name": "stdout",
     "output_type": "stream",
     "text": [
      "['APPLES', 'BANANAS', 'STRAWBERRIES']\n"
     ]
    }
   ],
   "source": [
    "print(fruits)"
   ]
  },
  {
   "cell_type": "code",
   "execution_count": 89,
   "id": "927c3038",
   "metadata": {},
   "outputs": [],
   "source": [
    "s = \"Rahul\""
   ]
  },
  {
   "cell_type": "code",
   "execution_count": 92,
   "id": "311ea3bd",
   "metadata": {},
   "outputs": [
    {
     "name": "stdout",
     "output_type": "stream",
     "text": [
      "RAHUL\n"
     ]
    }
   ],
   "source": [
    "s2 = s.upper()\n",
    "print(s2)"
   ]
  },
  {
   "cell_type": "code",
   "execution_count": 93,
   "id": "02208124",
   "metadata": {},
   "outputs": [
    {
     "name": "stdout",
     "output_type": "stream",
     "text": [
      "Rahul\n"
     ]
    }
   ],
   "source": [
    "print(s)"
   ]
  },
  {
   "cell_type": "code",
   "execution_count": 94,
   "id": "ddb3b2c8",
   "metadata": {},
   "outputs": [],
   "source": [
    "bits = [False, True, False, False, True, False, False, True]\n",
    "bits = [1 if b==True else 0 for b in bits]"
   ]
  },
  {
   "cell_type": "code",
   "execution_count": 95,
   "id": "3aae130a",
   "metadata": {},
   "outputs": [
    {
     "name": "stdout",
     "output_type": "stream",
     "text": [
      "[0, 1, 0, 0, 1, 0, 0, 1]\n"
     ]
    }
   ],
   "source": [
    "print(bits)"
   ]
  },
  {
   "cell_type": "markdown",
   "id": "eea6c354",
   "metadata": {},
   "source": [
    "## More fun on comprehension"
   ]
  },
  {
   "cell_type": "code",
   "execution_count": 97,
   "id": "834e353b",
   "metadata": {},
   "outputs": [
    {
     "name": "stdout",
     "output_type": "stream",
     "text": [
      "[1, 2, 3, 4]\n"
     ]
    }
   ],
   "source": [
    "l = [i for i in range(1, 5)]\n",
    "print(l)"
   ]
  },
  {
   "cell_type": "code",
   "execution_count": 104,
   "id": "186665c6",
   "metadata": {},
   "outputs": [
    {
     "name": "stdout",
     "output_type": "stream",
     "text": [
      "{1, 2, 3, 4, 5, 6, 7, 8, 9}\n"
     ]
    }
   ],
   "source": [
    "s = { i for i in range(1, 10) }\n",
    "print(s)"
   ]
  },
  {
   "cell_type": "code",
   "execution_count": 106,
   "id": "5db078b0",
   "metadata": {},
   "outputs": [
    {
     "name": "stdout",
     "output_type": "stream",
     "text": [
      "<generator object <genexpr> at 0x7fc2b90727b0>\n"
     ]
    }
   ],
   "source": [
    "t = ( i for i in range(1, 5) )\n",
    "print(t)"
   ]
  },
  {
   "cell_type": "code",
   "execution_count": 107,
   "id": "99964129",
   "metadata": {},
   "outputs": [
    {
     "data": {
      "text/plain": [
       "(1, 2, 3, 4)"
      ]
     },
     "execution_count": 107,
     "metadata": {},
     "output_type": "execute_result"
    }
   ],
   "source": [
    "tuple(t)"
   ]
  },
  {
   "cell_type": "code",
   "execution_count": 109,
   "id": "d27b6baa",
   "metadata": {},
   "outputs": [
    {
     "name": "stdout",
     "output_type": "stream",
     "text": [
      "{1: 1, 2: 4, 3: 9, 4: 16}\n"
     ]
    }
   ],
   "source": [
    "d = { i : i**2 for i in range(1, 5)}\n",
    "print(d)"
   ]
  },
  {
   "cell_type": "code",
   "execution_count": 110,
   "id": "0b78ad47",
   "metadata": {},
   "outputs": [
    {
     "data": {
      "text/plain": [
       "(1, 2, 3, 4)"
      ]
     },
     "execution_count": 110,
     "metadata": {},
     "output_type": "execute_result"
    }
   ],
   "source": [
    "tuple([1, 2, 3, 4])"
   ]
  },
  {
   "cell_type": "code",
   "execution_count": 112,
   "id": "277b139b",
   "metadata": {},
   "outputs": [
    {
     "name": "stdout",
     "output_type": "stream",
     "text": [
      "{1: 5, 2: 5}\n"
     ]
    }
   ],
   "source": [
    "d = { i : 5 for i in range(1, 3)}\n",
    "print(d)"
   ]
  },
  {
   "cell_type": "code",
   "execution_count": 114,
   "id": "ea4c8ee1",
   "metadata": {},
   "outputs": [
    {
     "name": "stdout",
     "output_type": "stream",
     "text": [
      "{5: 2}\n"
     ]
    }
   ],
   "source": [
    "d = { 5 : i for i in range(1, 3)}\n",
    "print(d)"
   ]
  },
  {
   "cell_type": "code",
   "execution_count": 115,
   "id": "f361161b",
   "metadata": {},
   "outputs": [
    {
     "name": "stdout",
     "output_type": "stream",
     "text": [
      "{5: 3}\n"
     ]
    }
   ],
   "source": [
    "d = { 5 : i for i in range(10, 2, -1)}\n",
    "print(d)"
   ]
  },
  {
   "cell_type": "markdown",
   "id": "d90a841b",
   "metadata": {},
   "source": [
    "## Fun part of list comprehension"
   ]
  },
  {
   "cell_type": "code",
   "execution_count": 116,
   "id": "b4a0109b",
   "metadata": {},
   "outputs": [],
   "source": [
    "l = []\n",
    "for i in range(3):\n",
    "    for j in range(2):\n",
    "        l.append(i * j)"
   ]
  },
  {
   "cell_type": "code",
   "execution_count": 117,
   "id": "be91cdef",
   "metadata": {},
   "outputs": [
    {
     "name": "stdout",
     "output_type": "stream",
     "text": [
      "[0, 0, 0, 1, 0, 2]\n"
     ]
    }
   ],
   "source": [
    "print(l)"
   ]
  },
  {
   "cell_type": "code",
   "execution_count": 120,
   "id": "6b729588",
   "metadata": {},
   "outputs": [
    {
     "name": "stdout",
     "output_type": "stream",
     "text": [
      "[0, 1, 2]\n"
     ]
    }
   ],
   "source": [
    "res = [i for i in range(3)]\n",
    "\n",
    "print(res)"
   ]
  },
  {
   "cell_type": "code",
   "execution_count": 121,
   "id": "87772a33",
   "metadata": {},
   "outputs": [
    {
     "name": "stdout",
     "output_type": "stream",
     "text": [
      "[0, 1]\n"
     ]
    }
   ],
   "source": [
    "res2 = [j for j in range(2)]\n",
    "print(res2)"
   ]
  },
  {
   "cell_type": "code",
   "execution_count": 128,
   "id": "1b38fa7a",
   "metadata": {},
   "outputs": [
    {
     "name": "stdout",
     "output_type": "stream",
     "text": [
      "[0, 0, 0, 0, 1, 2]\n"
     ]
    }
   ],
   "source": [
    "cool_res = [i*j for j in range(2) for i in range(3)]\n",
    "\n",
    "print(cool_res)"
   ]
  },
  {
   "cell_type": "code",
   "execution_count": 130,
   "id": "e68b44f2",
   "metadata": {},
   "outputs": [
    {
     "name": "stdout",
     "output_type": "stream",
     "text": [
      "[0, 0, 0, 0, 1, 2]\n"
     ]
    }
   ],
   "source": [
    "res = []\n",
    "for j in range(2):\n",
    "    for i in range(3):\n",
    "        res.append(i*j)\n",
    "        \n",
    "print(res)"
   ]
  },
  {
   "cell_type": "code",
   "execution_count": 141,
   "id": "635b4caf",
   "metadata": {},
   "outputs": [
    {
     "name": "stdout",
     "output_type": "stream",
     "text": [
      "[0, 0, 0, 1, 0, 2]\n",
      "[0, 0, 0, 1, 0, 2]\n"
     ]
    }
   ],
   "source": [
    "l = []\n",
    "for i in range(3):\n",
    "    for j in range(2):\n",
    "        l.append(i * j)\n",
    "print(l)\n",
    "\n",
    "# single comprehension\n",
    "res_cool = [i*j for i in range(3) for j in range(2)]\n",
    "print(res_cool)"
   ]
  },
  {
   "cell_type": "markdown",
   "id": "0c27ef07",
   "metadata": {},
   "source": [
    "### 2d list"
   ]
  },
  {
   "cell_type": "code",
   "execution_count": 134,
   "id": "949dba09",
   "metadata": {},
   "outputs": [
    {
     "name": "stdout",
     "output_type": "stream",
     "text": [
      "[[0, 0], [0, 1], [0, 2]]\n"
     ]
    }
   ],
   "source": [
    "a = []\n",
    "for i in range(3):\n",
    "    b = []   \n",
    "    for j in range(2):\n",
    "        b.append(i * j)\n",
    "    a.append(b)\n",
    "    \n",
    "print(a)"
   ]
  },
  {
   "cell_type": "code",
   "execution_count": 135,
   "id": "1709c1e5",
   "metadata": {},
   "outputs": [
    {
     "data": {
      "text/plain": [
       "[0, 0]"
      ]
     },
     "execution_count": 135,
     "metadata": {},
     "output_type": "execute_result"
    }
   ],
   "source": [
    "[0*j for j in range(2)]"
   ]
  },
  {
   "cell_type": "code",
   "execution_count": 136,
   "id": "b8f1ad5e",
   "metadata": {},
   "outputs": [
    {
     "data": {
      "text/plain": [
       "[0, 1]"
      ]
     },
     "execution_count": 136,
     "metadata": {},
     "output_type": "execute_result"
    }
   ],
   "source": [
    "[1*j for j in range(2)]"
   ]
  },
  {
   "cell_type": "code",
   "execution_count": 137,
   "id": "7f84a723",
   "metadata": {},
   "outputs": [
    {
     "data": {
      "text/plain": [
       "[0, 2]"
      ]
     },
     "execution_count": 137,
     "metadata": {},
     "output_type": "execute_result"
    }
   ],
   "source": [
    "[2*j for j in range(2)]"
   ]
  },
  {
   "cell_type": "code",
   "execution_count": 140,
   "id": "e31ef8bc",
   "metadata": {},
   "outputs": [],
   "source": [
    "# comprehension within comprehension\n",
    "\n",
    "super_cool = [[i*j for j in range(2)] for i in range(3)]"
   ]
  },
  {
   "cell_type": "code",
   "execution_count": 139,
   "id": "6df7fd4a",
   "metadata": {},
   "outputs": [
    {
     "name": "stdout",
     "output_type": "stream",
     "text": [
      "[[0, 0], [0, 1], [0, 2]]\n"
     ]
    }
   ],
   "source": [
    "print(super_cool)"
   ]
  },
  {
   "cell_type": "code",
   "execution_count": 143,
   "id": "ebdaac6a",
   "metadata": {},
   "outputs": [],
   "source": [
    "# multiplication tables of all numbers from 1 to 7"
   ]
  },
  {
   "cell_type": "code",
   "execution_count": 147,
   "id": "bf71b409",
   "metadata": {},
   "outputs": [
    {
     "name": "stdout",
     "output_type": "stream",
     "text": [
      "[1, 2, 3, 4, 5, 6, 7, 8, 9, 10]\n",
      "[2, 4, 6, 8, 10, 12, 14, 16, 18, 20]\n",
      "[3, 6, 9, 12, 15, 18, 21, 24, 27, 30]\n",
      "[4, 8, 12, 16, 20, 24, 28, 32, 36, 40]\n",
      "[5, 10, 15, 20, 25, 30, 35, 40, 45, 50]\n",
      "[6, 12, 18, 24, 30, 36, 42, 48, 54, 60]\n",
      "[7, 14, 21, 28, 35, 42, 49, 56, 63, 70]\n"
     ]
    }
   ],
   "source": [
    "res = []\n",
    "for i in range(1, 8):\n",
    "    c = []\n",
    "    for j in range(1, 11):\n",
    "        c.append(i * j)\n",
    "    res.append(c)\n",
    "\n",
    "for i in res:\n",
    "    print(i)"
   ]
  },
  {
   "cell_type": "code",
   "execution_count": 149,
   "id": "1cce7b9b",
   "metadata": {},
   "outputs": [
    {
     "name": "stdout",
     "output_type": "stream",
     "text": [
      "[1, 2, 3, 4, 5, 6, 7, 8, 9, 10]\n",
      "[2, 4, 6, 8, 10, 12, 14, 16, 18, 20]\n",
      "[3, 6, 9, 12, 15, 18, 21, 24, 27, 30]\n",
      "[4, 8, 12, 16, 20, 24, 28, 32, 36, 40]\n",
      "[5, 10, 15, 20, 25, 30, 35, 40, 45, 50]\n",
      "[6, 12, 18, 24, 30, 36, 42, 48, 54, 60]\n",
      "[7, 14, 21, 28, 35, 42, 49, 56, 63, 70]\n"
     ]
    }
   ],
   "source": [
    "multiplication_table = [[i*j for j in range(1, 11)] for i in range(1, 8)]\n",
    "\n",
    "for i in multiplication_table:\n",
    "    print(i)"
   ]
  },
  {
   "cell_type": "code",
   "execution_count": null,
   "id": "7a8d75ae",
   "metadata": {},
   "outputs": [],
   "source": []
  },
  {
   "cell_type": "code",
   "execution_count": null,
   "id": "5c744949",
   "metadata": {},
   "outputs": [],
   "source": []
  },
  {
   "cell_type": "code",
   "execution_count": null,
   "id": "6ece2ab0",
   "metadata": {},
   "outputs": [],
   "source": []
  },
  {
   "cell_type": "code",
   "execution_count": null,
   "id": "d9e14d70",
   "metadata": {},
   "outputs": [],
   "source": []
  },
  {
   "cell_type": "code",
   "execution_count": null,
   "id": "727e2be2",
   "metadata": {},
   "outputs": [],
   "source": []
  },
  {
   "cell_type": "code",
   "execution_count": null,
   "id": "bbd329ab",
   "metadata": {},
   "outputs": [],
   "source": []
  },
  {
   "cell_type": "markdown",
   "id": "c94790c5",
   "metadata": {},
   "source": [
    "## Dictionaries"
   ]
  },
  {
   "cell_type": "code",
   "execution_count": 154,
   "id": "440dc296",
   "metadata": {},
   "outputs": [],
   "source": [
    "person = {\n",
    "    \"name\": \"Numan\",\n",
    "    \"age\": 5000,\n",
    "    \"greatest_avenger\": True\n",
    "}"
   ]
  },
  {
   "cell_type": "code",
   "execution_count": 155,
   "id": "d47b6e23",
   "metadata": {},
   "outputs": [
    {
     "data": {
      "text/plain": [
       "'Numan'"
      ]
     },
     "execution_count": 155,
     "metadata": {},
     "output_type": "execute_result"
    }
   ],
   "source": [
    "person['name']"
   ]
  },
  {
   "cell_type": "code",
   "execution_count": 159,
   "id": "45b13bb6",
   "metadata": {},
   "outputs": [],
   "source": [
    "# add a new key or update value at a key\n",
    "\n",
    "person['weapons'] = [\"mjolnir\", \"stormbreaker\", \"good looks\"]"
   ]
  },
  {
   "cell_type": "code",
   "execution_count": 158,
   "id": "2dd99e53",
   "metadata": {},
   "outputs": [
    {
     "name": "stdout",
     "output_type": "stream",
     "text": [
      "{'name': 'Numan', 'age': 5000, 'greatest_avenger': True, 'weapons': ['mjolnir', 'stormbreaker', 'good looks']}\n"
     ]
    }
   ],
   "source": [
    "print(person)"
   ]
  },
  {
   "cell_type": "code",
   "execution_count": 160,
   "id": "6abe7dcc",
   "metadata": {},
   "outputs": [
    {
     "data": {
      "text/plain": [
       "'good looks'"
      ]
     },
     "execution_count": 160,
     "metadata": {},
     "output_type": "execute_result"
    }
   ],
   "source": [
    "person['weapons'].pop()"
   ]
  },
  {
   "cell_type": "code",
   "execution_count": 161,
   "id": "d083c5a3",
   "metadata": {},
   "outputs": [
    {
     "name": "stdout",
     "output_type": "stream",
     "text": [
      "['mjolnir', 'stormbreaker']\n"
     ]
    }
   ],
   "source": [
    "print(person['weapons'])"
   ]
  },
  {
   "cell_type": "code",
   "execution_count": 164,
   "id": "bb611244",
   "metadata": {},
   "outputs": [],
   "source": [
    "# update many keys or add new keys\n",
    "\n",
    "person.update({\n",
    "    'age': 100000,\n",
    "    'weapons': ['stormbreaker'],\n",
    "    'random_info': (\"random\", \"info\")\n",
    "})"
   ]
  },
  {
   "cell_type": "code",
   "execution_count": 165,
   "id": "feed6545",
   "metadata": {},
   "outputs": [
    {
     "name": "stdout",
     "output_type": "stream",
     "text": [
      "{'name': 'Numan', 'age': 100000, 'greatest_avenger': True, 'weapons': ['stormbreaker'], 'radom_info': ('random', 'info'), 'random_info': ('random', 'info')}\n"
     ]
    }
   ],
   "source": [
    "print(person)"
   ]
  },
  {
   "cell_type": "code",
   "execution_count": 167,
   "id": "b460354f",
   "metadata": {},
   "outputs": [
    {
     "ename": "KeyError",
     "evalue": "0",
     "output_type": "error",
     "traceback": [
      "\u001b[0;31m---------------------------------------------------------------------------\u001b[0m",
      "\u001b[0;31mKeyError\u001b[0m                                  Traceback (most recent call last)",
      "Input \u001b[0;32mIn [167]\u001b[0m, in \u001b[0;36m<cell line: 1>\u001b[0;34m()\u001b[0m\n\u001b[0;32m----> 1\u001b[0m \u001b[43mperson\u001b[49m\u001b[43m[\u001b[49m\u001b[38;5;241;43m0\u001b[39;49m\u001b[43m]\u001b[49m\n",
      "\u001b[0;31mKeyError\u001b[0m: 0"
     ]
    }
   ],
   "source": [
    "person[0] # only keys can be used as an index"
   ]
  },
  {
   "cell_type": "code",
   "execution_count": 168,
   "id": "97cab329",
   "metadata": {},
   "outputs": [
    {
     "ename": "TypeError",
     "evalue": "unhashable type: 'list'",
     "output_type": "error",
     "traceback": [
      "\u001b[0;31m---------------------------------------------------------------------------\u001b[0m",
      "\u001b[0;31mTypeError\u001b[0m                                 Traceback (most recent call last)",
      "Input \u001b[0;32mIn [168]\u001b[0m, in \u001b[0;36m<cell line: 1>\u001b[0;34m()\u001b[0m\n\u001b[0;32m----> 1\u001b[0m person\u001b[38;5;241m.\u001b[39mupdate({\n\u001b[1;32m      2\u001b[0m     [\u001b[38;5;241m1\u001b[39m, \u001b[38;5;241m2\u001b[39m, \u001b[38;5;241m3\u001b[39m]: \u001b[38;5;124m\"\u001b[39m\u001b[38;5;124mlist\u001b[39m\u001b[38;5;124m\"\u001b[39m\n\u001b[1;32m      3\u001b[0m })\n",
      "\u001b[0;31mTypeError\u001b[0m: unhashable type: 'list'"
     ]
    }
   ],
   "source": [
    "person.update({\n",
    "    [1, 2, 3]: \"list\"\n",
    "})"
   ]
  },
  {
   "cell_type": "code",
   "execution_count": 169,
   "id": "e3bf372d",
   "metadata": {},
   "outputs": [],
   "source": [
    "person.update({\n",
    "    (1, 2, 3): 'valid value'\n",
    "})"
   ]
  },
  {
   "cell_type": "code",
   "execution_count": 170,
   "id": "da6b4e8e",
   "metadata": {},
   "outputs": [
    {
     "name": "stdout",
     "output_type": "stream",
     "text": [
      "{'name': 'Numan', 'age': 100000, 'greatest_avenger': True, 'weapons': ['stormbreaker'], 'radom_info': ('random', 'info'), 'random_info': ('random', 'info'), (1, 2, 3): 'valid value'}\n"
     ]
    }
   ],
   "source": [
    "print(person)"
   ]
  },
  {
   "cell_type": "code",
   "execution_count": 171,
   "id": "ae23beb8",
   "metadata": {},
   "outputs": [],
   "source": [
    "avengers = [\n",
    "    'bruce',\n",
    "    {\n",
    "        'foo': 1,\n",
    "        'bar':\n",
    "        {\n",
    "            'z' : 30\n",
    "        },\n",
    "        'baz': 3\n",
    "    }\n",
    "]\n"
   ]
  },
  {
   "cell_type": "code",
   "execution_count": 177,
   "id": "bf189440",
   "metadata": {},
   "outputs": [
    {
     "data": {
      "text/plain": [
       "30"
      ]
     },
     "execution_count": 177,
     "metadata": {},
     "output_type": "execute_result"
    }
   ],
   "source": [
    "avengers[1]['bar']['z']"
   ]
  },
  {
   "cell_type": "code",
   "execution_count": 178,
   "id": "f118c7c5",
   "metadata": {},
   "outputs": [
    {
     "data": {
      "text/plain": [
       "{'z': 30}"
      ]
     },
     "execution_count": 178,
     "metadata": {},
     "output_type": "execute_result"
    }
   ],
   "source": [
    "avengers[1]['bar']"
   ]
  },
  {
   "cell_type": "code",
   "execution_count": 183,
   "id": "d2b91631",
   "metadata": {},
   "outputs": [
    {
     "data": {
      "text/plain": [
       "0"
      ]
     },
     "execution_count": 183,
     "metadata": {},
     "output_type": "execute_result"
    }
   ],
   "source": [
    "# avengers[1]['bar']['a']\n",
    "\n",
    "avengers[1]['bar'].get('a', 0)"
   ]
  },
  {
   "cell_type": "code",
   "execution_count": 184,
   "id": "034e5708",
   "metadata": {},
   "outputs": [
    {
     "data": {
      "text/plain": [
       "30"
      ]
     },
     "execution_count": 184,
     "metadata": {},
     "output_type": "execute_result"
    }
   ],
   "source": [
    "avengers[1]['bar'].get('z')"
   ]
  },
  {
   "cell_type": "code",
   "execution_count": 185,
   "id": "cf1f9e6f",
   "metadata": {},
   "outputs": [
    {
     "data": {
      "text/plain": [
       "0"
      ]
     },
     "execution_count": 185,
     "metadata": {},
     "output_type": "execute_result"
    }
   ],
   "source": [
    "avengers[1]['bar'].get('a', 0)"
   ]
  },
  {
   "cell_type": "code",
   "execution_count": null,
   "id": "33cdfb11",
   "metadata": {},
   "outputs": [],
   "source": []
  },
  {
   "cell_type": "code",
   "execution_count": null,
   "id": "eaf1a3ad",
   "metadata": {},
   "outputs": [],
   "source": []
  },
  {
   "cell_type": "markdown",
   "id": "bb43d9c8",
   "metadata": {},
   "source": [
    "## Sets"
   ]
  },
  {
   "cell_type": "code",
   "execution_count": 186,
   "id": "730b4fe4",
   "metadata": {},
   "outputs": [],
   "source": [
    "a = {5, 1, 2, 4, 5, 5, 2, 4, 5, 6, 67}"
   ]
  },
  {
   "cell_type": "code",
   "execution_count": 187,
   "id": "7f793110",
   "metadata": {},
   "outputs": [
    {
     "name": "stdout",
     "output_type": "stream",
     "text": [
      "{1, 2, 67, 4, 5, 6}\n"
     ]
    }
   ],
   "source": [
    "print(a)"
   ]
  },
  {
   "cell_type": "code",
   "execution_count": 188,
   "id": "f16e72bf",
   "metadata": {},
   "outputs": [
    {
     "name": "stdout",
     "output_type": "stream",
     "text": [
      "2\n"
     ]
    }
   ],
   "source": [
    "s = { (1, 2), (1, 2), (1, 3)}\n",
    "\n",
    "print(len(s))"
   ]
  },
  {
   "cell_type": "code",
   "execution_count": 189,
   "id": "92c3a7ce",
   "metadata": {},
   "outputs": [
    {
     "name": "stdout",
     "output_type": "stream",
     "text": [
      "{(1, 2), (1, 3)}\n"
     ]
    }
   ],
   "source": [
    "print(s)"
   ]
  },
  {
   "cell_type": "code",
   "execution_count": 190,
   "id": "ce13f680",
   "metadata": {},
   "outputs": [
    {
     "data": {
      "text/plain": [
       "True"
      ]
     },
     "execution_count": 190,
     "metadata": {},
     "output_type": "execute_result"
    }
   ],
   "source": [
    "(1, 2) == (1, 2)"
   ]
  },
  {
   "cell_type": "code",
   "execution_count": 192,
   "id": "e3a7ebe1",
   "metadata": {},
   "outputs": [
    {
     "data": {
      "text/plain": [
       "True"
      ]
     },
     "execution_count": 192,
     "metadata": {},
     "output_type": "execute_result"
    }
   ],
   "source": [
    "{1, 2, 3} == {3, 2, 1, 3, 2, 3, 1, 2}"
   ]
  },
  {
   "cell_type": "code",
   "execution_count": null,
   "id": "5e133f9e",
   "metadata": {},
   "outputs": [],
   "source": []
  },
  {
   "cell_type": "code",
   "execution_count": 193,
   "id": "ba0d1e48",
   "metadata": {},
   "outputs": [
    {
     "ename": "TypeError",
     "evalue": "unhashable type: 'list'",
     "output_type": "error",
     "traceback": [
      "\u001b[0;31m---------------------------------------------------------------------------\u001b[0m",
      "\u001b[0;31mTypeError\u001b[0m                                 Traceback (most recent call last)",
      "Input \u001b[0;32mIn [193]\u001b[0m, in \u001b[0;36m<cell line: 1>\u001b[0;34m()\u001b[0m\n\u001b[0;32m----> 1\u001b[0m s \u001b[38;5;241m=\u001b[39m { [\u001b[38;5;241m1\u001b[39m, \u001b[38;5;241m2\u001b[39m], [\u001b[38;5;241m1\u001b[39m, \u001b[38;5;241m2\u001b[39m]}\n",
      "\u001b[0;31mTypeError\u001b[0m: unhashable type: 'list'"
     ]
    }
   ],
   "source": [
    "s = { [1, 2], [1, 2]}"
   ]
  },
  {
   "cell_type": "code",
   "execution_count": null,
   "id": "ea5230d0",
   "metadata": {},
   "outputs": [],
   "source": []
  },
  {
   "cell_type": "code",
   "execution_count": 195,
   "id": "9a1461df",
   "metadata": {},
   "outputs": [
    {
     "name": "stdout",
     "output_type": "stream",
     "text": [
      "{'HELLO', (1, 2), 'hello', 7}\n"
     ]
    }
   ],
   "source": [
    "# empty set\n",
    "s = set()\n",
    "s.add(7)\n",
    "s.add(7)\n",
    "\n",
    "s.add((1, 2))\n",
    "s.add(\"hello\")\n",
    "s.add(\"HELLO\")\n",
    "\n",
    "print(s)\n",
    "\n",
    "# sets are unordered"
   ]
  },
  {
   "cell_type": "markdown",
   "id": "1d1998f2",
   "metadata": {},
   "source": [
    "## Set Theory"
   ]
  },
  {
   "cell_type": "code",
   "execution_count": 196,
   "id": "b4e8c599",
   "metadata": {},
   "outputs": [],
   "source": [
    "s1 = {1, 2, 3, 7}\n",
    "\n",
    "s2 = {3, 7, 4, 5}"
   ]
  },
  {
   "cell_type": "code",
   "execution_count": 198,
   "id": "aa9ea391",
   "metadata": {},
   "outputs": [
    {
     "name": "stdout",
     "output_type": "stream",
     "text": [
      "{1, 2, 3, 4, 5, 7}\n"
     ]
    }
   ],
   "source": [
    "res = s1 | s2 # union\n",
    "print(res)"
   ]
  },
  {
   "cell_type": "code",
   "execution_count": 200,
   "id": "66ba550e",
   "metadata": {},
   "outputs": [
    {
     "name": "stdout",
     "output_type": "stream",
     "text": [
      "{1, 2, 3, 4, 5, 7}\n"
     ]
    }
   ],
   "source": [
    "res = s1.union(s2) # union\n",
    "print(res)"
   ]
  },
  {
   "cell_type": "code",
   "execution_count": 204,
   "id": "e9f58802",
   "metadata": {},
   "outputs": [
    {
     "name": "stdout",
     "output_type": "stream",
     "text": [
      "{3, 7}\n"
     ]
    }
   ],
   "source": [
    "res = s1 & s2 # intersection\n",
    "print(res)"
   ]
  },
  {
   "cell_type": "code",
   "execution_count": 205,
   "id": "c5644481",
   "metadata": {},
   "outputs": [
    {
     "name": "stdout",
     "output_type": "stream",
     "text": [
      "{1, 2}\n"
     ]
    }
   ],
   "source": [
    "res = s1 - s2 # difference, in s1 but not in s2\n",
    "print(res)"
   ]
  },
  {
   "cell_type": "code",
   "execution_count": 206,
   "id": "06cc35c1",
   "metadata": {},
   "outputs": [
    {
     "name": "stdout",
     "output_type": "stream",
     "text": [
      "{4, 5}\n"
     ]
    }
   ],
   "source": [
    "res = s2 - s1 # difference, in s2 but not in s1\n",
    "print(res)"
   ]
  },
  {
   "cell_type": "code",
   "execution_count": 207,
   "id": "2f7b19fb",
   "metadata": {},
   "outputs": [
    {
     "name": "stdout",
     "output_type": "stream",
     "text": [
      "{1, 2, 4, 5}\n"
     ]
    }
   ],
   "source": [
    "res = s1 ^ s2 # xor operator, symmetric difference\n",
    "print(res)"
   ]
  },
  {
   "cell_type": "code",
   "execution_count": 208,
   "id": "4fe8c9e0",
   "metadata": {},
   "outputs": [
    {
     "name": "stdout",
     "output_type": "stream",
     "text": [
      "{1, 2, 4, 5}\n"
     ]
    }
   ],
   "source": [
    "res = s1.symmetric_difference(s2)\n",
    "print(res)"
   ]
  },
  {
   "cell_type": "code",
   "execution_count": 209,
   "id": "fc40c7b8",
   "metadata": {},
   "outputs": [
    {
     "data": {
      "text/plain": [
       "{(1, 2), 7, 'HELLO', 'hello'}"
      ]
     },
     "execution_count": 209,
     "metadata": {},
     "output_type": "execute_result"
    }
   ],
   "source": [
    "s"
   ]
  },
  {
   "cell_type": "code",
   "execution_count": 210,
   "id": "e1851929",
   "metadata": {},
   "outputs": [],
   "source": [
    "s.remove((1, 2))"
   ]
  },
  {
   "cell_type": "code",
   "execution_count": 211,
   "id": "116ea3fc",
   "metadata": {},
   "outputs": [
    {
     "name": "stdout",
     "output_type": "stream",
     "text": [
      "{'HELLO', 'hello', 7}\n"
     ]
    }
   ],
   "source": [
    "print(s)"
   ]
  },
  {
   "cell_type": "code",
   "execution_count": null,
   "id": "6ab6e5f3",
   "metadata": {},
   "outputs": [],
   "source": []
  },
  {
   "cell_type": "code",
   "execution_count": null,
   "id": "791279c4",
   "metadata": {},
   "outputs": [],
   "source": []
  },
  {
   "cell_type": "markdown",
   "id": "9d9dcee2",
   "metadata": {},
   "source": [
    "## Challenge Problems"
   ]
  },
  {
   "cell_type": "code",
   "execution_count": null,
   "id": "6390be8a",
   "metadata": {},
   "outputs": [],
   "source": []
  },
  {
   "cell_type": "code",
   "execution_count": null,
   "id": "04cfe662",
   "metadata": {},
   "outputs": [],
   "source": []
  },
  {
   "cell_type": "code",
   "execution_count": null,
   "id": "1bbfd5e2",
   "metadata": {},
   "outputs": [],
   "source": []
  },
  {
   "cell_type": "code",
   "execution_count": null,
   "id": "5d221403",
   "metadata": {},
   "outputs": [],
   "source": []
  },
  {
   "cell_type": "code",
   "execution_count": null,
   "id": "f8998468",
   "metadata": {},
   "outputs": [],
   "source": []
  },
  {
   "cell_type": "code",
   "execution_count": null,
   "id": "35a4e36e",
   "metadata": {},
   "outputs": [],
   "source": []
  },
  {
   "cell_type": "code",
   "execution_count": null,
   "id": "8bcf86c6",
   "metadata": {},
   "outputs": [],
   "source": []
  },
  {
   "cell_type": "code",
   "execution_count": null,
   "id": "671261ec",
   "metadata": {},
   "outputs": [],
   "source": []
  },
  {
   "cell_type": "code",
   "execution_count": null,
   "id": "1213334c",
   "metadata": {},
   "outputs": [],
   "source": []
  },
  {
   "cell_type": "code",
   "execution_count": null,
   "id": "14e79ea2",
   "metadata": {},
   "outputs": [],
   "source": []
  },
  {
   "cell_type": "code",
   "execution_count": null,
   "id": "c3caea9c",
   "metadata": {},
   "outputs": [],
   "source": []
  },
  {
   "cell_type": "code",
   "execution_count": null,
   "id": "2c1601e4",
   "metadata": {},
   "outputs": [],
   "source": []
  },
  {
   "cell_type": "code",
   "execution_count": null,
   "id": "246909b7",
   "metadata": {},
   "outputs": [],
   "source": []
  },
  {
   "cell_type": "code",
   "execution_count": null,
   "id": "13e71556",
   "metadata": {},
   "outputs": [],
   "source": []
  },
  {
   "cell_type": "code",
   "execution_count": null,
   "id": "64d4d1c2",
   "metadata": {},
   "outputs": [],
   "source": []
  },
  {
   "cell_type": "code",
   "execution_count": null,
   "id": "0d205f6d",
   "metadata": {},
   "outputs": [],
   "source": []
  },
  {
   "cell_type": "markdown",
   "id": "c6cdcefa",
   "metadata": {},
   "source": [
    "## Doubts"
   ]
  },
  {
   "cell_type": "code",
   "execution_count": 216,
   "id": "0061809d",
   "metadata": {},
   "outputs": [
    {
     "data": {
      "text/plain": [
       "([10, 20, 30],)"
      ]
     },
     "execution_count": 216,
     "metadata": {},
     "output_type": "execute_result"
    }
   ],
   "source": [
    "tup = (\"Orange\", [10, 20, 30], (5, 15, 25))\n",
    "\n",
    "tup[1:2]"
   ]
  },
  {
   "cell_type": "code",
   "execution_count": 217,
   "id": "2f93501d",
   "metadata": {},
   "outputs": [
    {
     "data": {
      "text/plain": [
       "[10, 20, 30]"
      ]
     },
     "execution_count": 217,
     "metadata": {},
     "output_type": "execute_result"
    }
   ],
   "source": [
    "tup[1:2][0]"
   ]
  },
  {
   "cell_type": "code",
   "execution_count": 218,
   "id": "3afa3d06",
   "metadata": {},
   "outputs": [
    {
     "data": {
      "text/plain": [
       "30"
      ]
     },
     "execution_count": 218,
     "metadata": {},
     "output_type": "execute_result"
    }
   ],
   "source": [
    "tup[1:2][0][-1]"
   ]
  },
  {
   "cell_type": "code",
   "execution_count": 226,
   "id": "9f4d8dc3",
   "metadata": {},
   "outputs": [],
   "source": [
    "l1 = [100001214, 5, 7]\n",
    "l2 = [100001214, 5, 7]"
   ]
  },
  {
   "cell_type": "code",
   "execution_count": 227,
   "id": "87d9ba68",
   "metadata": {},
   "outputs": [
    {
     "data": {
      "text/plain": [
       "False"
      ]
     },
     "execution_count": 227,
     "metadata": {},
     "output_type": "execute_result"
    }
   ],
   "source": [
    "id(l1[0]) == id(l2[0])"
   ]
  },
  {
   "cell_type": "code",
   "execution_count": 236,
   "id": "f0f23581",
   "metadata": {},
   "outputs": [
    {
     "data": {
      "text/plain": [
       "True"
      ]
     },
     "execution_count": 236,
     "metadata": {},
     "output_type": "execute_result"
    }
   ],
   "source": [
    "l1 = [1, 5, 7]\n",
    "l2 = [1, 5, 7]\n",
    "\n",
    "id(l1[0]) == id(l2[0])"
   ]
  },
  {
   "cell_type": "code",
   "execution_count": 237,
   "id": "cafc4011",
   "metadata": {},
   "outputs": [
    {
     "data": {
      "text/plain": [
       "False"
      ]
     },
     "execution_count": 237,
     "metadata": {},
     "output_type": "execute_result"
    }
   ],
   "source": [
    "id(l1) == id(l2)"
   ]
  },
  {
   "cell_type": "code",
   "execution_count": 239,
   "id": "95682388",
   "metadata": {},
   "outputs": [
    {
     "name": "stdout",
     "output_type": "stream",
     "text": [
      "[[1, 5, 7], [1, 5, 7]]\n"
     ]
    }
   ],
   "source": [
    "l1 = [[1, 5, 7]] * 2\n",
    "print(l1)"
   ]
  },
  {
   "cell_type": "code",
   "execution_count": 240,
   "id": "762b2503",
   "metadata": {},
   "outputs": [
    {
     "data": {
      "text/plain": [
       "True"
      ]
     },
     "execution_count": 240,
     "metadata": {},
     "output_type": "execute_result"
    }
   ],
   "source": [
    "id(l1[0]) == id(l1[1])"
   ]
  },
  {
   "cell_type": "code",
   "execution_count": 241,
   "id": "f5d91b4a",
   "metadata": {},
   "outputs": [
    {
     "name": "stdout",
     "output_type": "stream",
     "text": [
      "[[1, 5, 7], [1, 5, 7]]\n"
     ]
    }
   ],
   "source": [
    "l2 = [[1, 5, 7], [1, 5, 7]]\n",
    "print(l2)"
   ]
  },
  {
   "cell_type": "code",
   "execution_count": 242,
   "id": "dcfc8cfb",
   "metadata": {},
   "outputs": [
    {
     "data": {
      "text/plain": [
       "False"
      ]
     },
     "execution_count": 242,
     "metadata": {},
     "output_type": "execute_result"
    }
   ],
   "source": [
    "id(l2[0]) == id(l2[1])"
   ]
  },
  {
   "cell_type": "code",
   "execution_count": null,
   "id": "ae75c02b",
   "metadata": {},
   "outputs": [],
   "source": []
  },
  {
   "cell_type": "code",
   "execution_count": null,
   "id": "0ec04565",
   "metadata": {},
   "outputs": [],
   "source": []
  },
  {
   "cell_type": "code",
   "execution_count": null,
   "id": "69c23c9e",
   "metadata": {},
   "outputs": [],
   "source": []
  },
  {
   "cell_type": "code",
   "execution_count": null,
   "id": "5e4b93d1",
   "metadata": {},
   "outputs": [],
   "source": []
  },
  {
   "cell_type": "code",
   "execution_count": 229,
   "id": "d6e9b02d",
   "metadata": {},
   "outputs": [],
   "source": [
    "t1 = (1, 2)\n",
    "\n",
    "t2 = (1, 2)"
   ]
  },
  {
   "cell_type": "code",
   "execution_count": 230,
   "id": "76ce4f68",
   "metadata": {},
   "outputs": [
    {
     "data": {
      "text/plain": [
       "False"
      ]
     },
     "execution_count": 230,
     "metadata": {},
     "output_type": "execute_result"
    }
   ],
   "source": [
    "id(t1) == id(t2)"
   ]
  },
  {
   "cell_type": "code",
   "execution_count": 231,
   "id": "285a0fca",
   "metadata": {},
   "outputs": [
    {
     "data": {
      "text/plain": [
       "True"
      ]
     },
     "execution_count": 231,
     "metadata": {},
     "output_type": "execute_result"
    }
   ],
   "source": [
    "id(t1[0]) == id(t2[0])"
   ]
  },
  {
   "cell_type": "code",
   "execution_count": 232,
   "id": "9c1d5016",
   "metadata": {},
   "outputs": [
    {
     "data": {
      "text/plain": [
       "False"
      ]
     },
     "execution_count": 232,
     "metadata": {},
     "output_type": "execute_result"
    }
   ],
   "source": [
    "t1 = (19491241841, 2)\n",
    "\n",
    "t2 = (19491241841, 2)\n",
    "\n",
    "id(t1[0]) == id(t2[0])"
   ]
  },
  {
   "cell_type": "code",
   "execution_count": 233,
   "id": "b6aef5ae",
   "metadata": {},
   "outputs": [
    {
     "data": {
      "text/plain": [
       "False"
      ]
     },
     "execution_count": 233,
     "metadata": {},
     "output_type": "execute_result"
    }
   ],
   "source": [
    "t1 = (257, 2)\n",
    "\n",
    "t2 = (257, 2)\n",
    "\n",
    "id(t1[0]) == id(t2[0])"
   ]
  },
  {
   "cell_type": "code",
   "execution_count": 234,
   "id": "36edeeb4",
   "metadata": {},
   "outputs": [
    {
     "data": {
      "text/plain": [
       "True"
      ]
     },
     "execution_count": 234,
     "metadata": {},
     "output_type": "execute_result"
    }
   ],
   "source": [
    "t1 = (256, 2)\n",
    "\n",
    "t2 = (256, 2)\n",
    "\n",
    "id(t1[0]) == id(t2[0])"
   ]
  },
  {
   "cell_type": "code",
   "execution_count": 245,
   "id": "97e4080b",
   "metadata": {},
   "outputs": [],
   "source": [
    "list_3d = [[[i+j+k for k in range(3)] for j in range(3)] for i in range(3)]"
   ]
  },
  {
   "cell_type": "code",
   "execution_count": 246,
   "id": "8f826c6f",
   "metadata": {},
   "outputs": [
    {
     "name": "stdout",
     "output_type": "stream",
     "text": [
      "[[[0, 1, 2], [1, 2, 3], [2, 3, 4]], [[1, 2, 3], [2, 3, 4], [3, 4, 5]], [[2, 3, 4], [3, 4, 5], [4, 5, 6]]]\n"
     ]
    }
   ],
   "source": [
    "print(list_3d)"
   ]
  },
  {
   "cell_type": "code",
   "execution_count": 247,
   "id": "4bdbe3e8",
   "metadata": {},
   "outputs": [],
   "source": [
    "fruits = [\"apples\", \"bananas\", \"strawberries\"]\n",
    "\n",
    "res = [fruit.upper() for fruit in fruits]"
   ]
  },
  {
   "cell_type": "code",
   "execution_count": 248,
   "id": "b680da47",
   "metadata": {},
   "outputs": [
    {
     "name": "stdout",
     "output_type": "stream",
     "text": [
      "['apples', 'bananas', 'strawberries']\n"
     ]
    }
   ],
   "source": [
    "print(fruits)"
   ]
  },
  {
   "cell_type": "code",
   "execution_count": 249,
   "id": "531c26f6",
   "metadata": {},
   "outputs": [
    {
     "name": "stdout",
     "output_type": "stream",
     "text": [
      "['APPLES', 'BANANAS', 'STRAWBERRIES']\n"
     ]
    }
   ],
   "source": [
    "print(res)"
   ]
  },
  {
   "cell_type": "code",
   "execution_count": 250,
   "id": "59bf74a8",
   "metadata": {},
   "outputs": [],
   "source": [
    "fruits = res"
   ]
  },
  {
   "cell_type": "code",
   "execution_count": 251,
   "id": "b26ecc57",
   "metadata": {},
   "outputs": [
    {
     "name": "stdout",
     "output_type": "stream",
     "text": [
      "['APPLES', 'BANANAS', 'STRAWBERRIES']\n"
     ]
    }
   ],
   "source": [
    "print(fruits)"
   ]
  },
  {
   "cell_type": "code",
   "execution_count": null,
   "id": "83672f05",
   "metadata": {},
   "outputs": [],
   "source": []
  }
 ],
 "metadata": {
  "kernelspec": {
   "display_name": "Python 3 (ipykernel)",
   "language": "python",
   "name": "python3"
  },
  "language_info": {
   "codemirror_mode": {
    "name": "ipython",
    "version": 3
   },
   "file_extension": ".py",
   "mimetype": "text/x-python",
   "name": "python",
   "nbconvert_exporter": "python",
   "pygments_lexer": "ipython3",
   "version": "3.9.12"
  }
 },
 "nbformat": 4,
 "nbformat_minor": 5
}
