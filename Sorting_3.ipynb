{
 "cells": [
  {
   "cell_type": "markdown",
   "id": "8e27127d",
   "metadata": {},
   "source": [
    "# DSML Intermediate : Time Complexity and Sorting III"
   ]
  },
  {
   "cell_type": "markdown",
   "id": "9189e77a",
   "metadata": {},
   "source": [
    "## Recap"
   ]
  },
  {
   "cell_type": "markdown",
   "id": "baf88995",
   "metadata": {},
   "source": [
    "### Quizzes"
   ]
  },
  {
   "cell_type": "markdown",
   "id": "5a18f9c5",
   "metadata": {},
   "source": [
    "Big-O:\n",
    "\n",
    "0. Calculate no of iterations / operations in the program\n",
    "1. Drop off constants\n",
    "2. Take only the highest power in terms of the input (N)"
   ]
  },
  {
   "cell_type": "markdown",
   "id": "c2427a5e",
   "metadata": {},
   "source": [
    "### Quiz - 2"
   ]
  },
  {
   "cell_type": "markdown",
   "id": "8edd0e11",
   "metadata": {},
   "source": [
    "for (i = 0; i < N; i++)  {\n",
    "   for (j = 0; j < N; j++) {\n",
    "      if (numbers[i] < numbers[j]) {\n",
    "         ++eqPerms\n",
    "      }\n",
    "      else {\n",
    "         ++neqPerms\n",
    "      }\n",
    "   }\n",
    "}"
   ]
  },
  {
   "cell_type": "markdown",
   "id": "dfadc62b",
   "metadata": {},
   "source": [
    "for i in range(N):\n",
    "    for j in range(N):\n",
    "        if numbers[i] < numbers[j]:\n",
    "            eqPerms += 1\n",
    "        else:\n",
    "            neqPerms += 1"
   ]
  },
  {
   "cell_type": "markdown",
   "id": "8bfcb5fa",
   "metadata": {},
   "source": [
    "### Quiz - 4"
   ]
  },
  {
   "cell_type": "markdown",
   "id": "279627b5",
   "metadata": {},
   "source": [
    "for (i = 0; i < N; ++i) {\n",
    "   if ((i % 2) == 0) {\n",
    "      outVal[i] = inVals[i] * i\n",
    "   }\n",
    "}"
   ]
  },
  {
   "cell_type": "markdown",
   "id": "fbac1d41",
   "metadata": {},
   "source": [
    "for i in range(N):\n",
    "    if i % 2 == 0:\n",
    "        outVal[i] = inVal[i] * i"
   ]
  },
  {
   "cell_type": "code",
   "execution_count": null,
   "id": "5bff07af",
   "metadata": {},
   "outputs": [],
   "source": [
    "i = 0\n",
    "while i < N:\n",
    "    if i % 2 == 0:\n",
    "        outVal[i] = inVal[i] * i\n",
    "    i += 1"
   ]
  },
  {
   "cell_type": "code",
   "execution_count": null,
   "id": "5a8b7a69",
   "metadata": {},
   "outputs": [],
   "source": []
  },
  {
   "cell_type": "code",
   "execution_count": null,
   "id": "9d58cb21",
   "metadata": {},
   "outputs": [],
   "source": []
  },
  {
   "cell_type": "code",
   "execution_count": null,
   "id": "62f1f855",
   "metadata": {},
   "outputs": [],
   "source": []
  },
  {
   "cell_type": "code",
   "execution_count": null,
   "id": "12c1a86f",
   "metadata": {},
   "outputs": [],
   "source": []
  },
  {
   "cell_type": "code",
   "execution_count": null,
   "id": "d48df211",
   "metadata": {},
   "outputs": [],
   "source": []
  },
  {
   "cell_type": "code",
   "execution_count": null,
   "id": "59ab34a2",
   "metadata": {},
   "outputs": [],
   "source": []
  },
  {
   "cell_type": "code",
   "execution_count": null,
   "id": "11729fa5",
   "metadata": {},
   "outputs": [],
   "source": []
  },
  {
   "cell_type": "markdown",
   "id": "191ee542",
   "metadata": {},
   "source": [
    "## Sorting"
   ]
  },
  {
   "cell_type": "markdown",
   "id": "242536e9",
   "metadata": {},
   "source": [
    "### Bubble Sort"
   ]
  },
  {
   "cell_type": "code",
   "execution_count": 14,
   "id": "47e8ba38",
   "metadata": {},
   "outputs": [],
   "source": [
    "def bubble_sort(a):\n",
    "    N = len(a) # get the length\n",
    "    for i in range(N - 1):\n",
    "        j = 0\n",
    "        while j < N - 1:\n",
    "            if a[j] > a[j + 1]:\n",
    "                # swap larger with smaller\n",
    "                a[j], a[j + 1] = a[j + 1], a[j]\n",
    "            j += 1\n",
    "        print(a)\n",
    "        print('-'*30)\n",
    "    return a"
   ]
  },
  {
   "cell_type": "code",
   "execution_count": 15,
   "id": "af47d2a3",
   "metadata": {},
   "outputs": [
    {
     "name": "stdout",
     "output_type": "stream",
     "text": [
      "[8, 7, 6, 5, 9]\n",
      "------------------------------\n",
      "[7, 6, 5, 8, 9]\n",
      "------------------------------\n",
      "[6, 5, 7, 8, 9]\n",
      "------------------------------\n",
      "[5, 6, 7, 8, 9]\n",
      "------------------------------\n"
     ]
    },
    {
     "data": {
      "text/plain": [
       "[5, 6, 7, 8, 9]"
      ]
     },
     "execution_count": 15,
     "metadata": {},
     "output_type": "execute_result"
    }
   ],
   "source": [
    "bubble_sort([9, 8, 7, 6, 5])"
   ]
  },
  {
   "cell_type": "code",
   "execution_count": 40,
   "id": "bdf3ee05",
   "metadata": {},
   "outputs": [],
   "source": [
    "def bubble_sort(a):\n",
    "    N = len(a) # get the length\n",
    "    for i in range(N - 1):\n",
    "        for j in range(N - 1):\n",
    "            if a[j] > a[j + 1]:\n",
    "                # swap larger with smaller\n",
    "                a[j], a[j + 1] = a[j + 1], a[j]\n",
    "        print(a)\n",
    "        print('-'*30)\n",
    "    return a"
   ]
  },
  {
   "cell_type": "code",
   "execution_count": 41,
   "id": "d45635f4",
   "metadata": {},
   "outputs": [
    {
     "name": "stdout",
     "output_type": "stream",
     "text": [
      "[10, 9, 8, 7, 6, 5, 11]\n",
      "------------------------------\n",
      "[9, 8, 7, 6, 5, 10, 11]\n",
      "------------------------------\n",
      "[8, 7, 6, 5, 9, 10, 11]\n",
      "------------------------------\n",
      "[7, 6, 5, 8, 9, 10, 11]\n",
      "------------------------------\n",
      "[6, 5, 7, 8, 9, 10, 11]\n",
      "------------------------------\n",
      "[5, 6, 7, 8, 9, 10, 11]\n",
      "------------------------------\n"
     ]
    },
    {
     "data": {
      "text/plain": [
       "[5, 6, 7, 8, 9, 10, 11]"
      ]
     },
     "execution_count": 41,
     "metadata": {},
     "output_type": "execute_result"
    }
   ],
   "source": [
    "bubble_sort([11, 10, 9, 8, 7, 6, 5])"
   ]
  },
  {
   "cell_type": "code",
   "execution_count": 42,
   "id": "530fcb0c",
   "metadata": {},
   "outputs": [],
   "source": [
    "def bubble_sort(a):\n",
    "    N = len(a) # get the length\n",
    "    for i in range(N - 1):\n",
    "        for j in range(N - i - 1):\n",
    "            if a[j] > a[j + 1]:\n",
    "                # swap larger with smaller\n",
    "                a[j], a[j + 1] = a[j + 1], a[j]\n",
    "        print(a)\n",
    "        print('-'*30)\n",
    "    return a"
   ]
  },
  {
   "cell_type": "code",
   "execution_count": 43,
   "id": "b9705b9a",
   "metadata": {},
   "outputs": [
    {
     "name": "stdout",
     "output_type": "stream",
     "text": [
      "[10, 9, 8, 7, 6, 5, 11]\n",
      "------------------------------\n",
      "[9, 8, 7, 6, 5, 10, 11]\n",
      "------------------------------\n",
      "[8, 7, 6, 5, 9, 10, 11]\n",
      "------------------------------\n",
      "[7, 6, 5, 8, 9, 10, 11]\n",
      "------------------------------\n",
      "[6, 5, 7, 8, 9, 10, 11]\n",
      "------------------------------\n",
      "[5, 6, 7, 8, 9, 10, 11]\n",
      "------------------------------\n"
     ]
    },
    {
     "data": {
      "text/plain": [
       "[5, 6, 7, 8, 9, 10, 11]"
      ]
     },
     "execution_count": 43,
     "metadata": {},
     "output_type": "execute_result"
    }
   ],
   "source": [
    "bubble_sort([11, 10, 9, 8, 7, 6, 5])"
   ]
  },
  {
   "cell_type": "code",
   "execution_count": 44,
   "id": "8cf80577",
   "metadata": {},
   "outputs": [
    {
     "name": "stdout",
     "output_type": "stream",
     "text": [
      "[4, 1, 2, 5, 7, 0, 8, 10]\n",
      "------------------------------\n",
      "[1, 2, 4, 5, 0, 7, 8, 10]\n",
      "------------------------------\n",
      "[1, 2, 4, 0, 5, 7, 8, 10]\n",
      "------------------------------\n",
      "[1, 2, 0, 4, 5, 7, 8, 10]\n",
      "------------------------------\n",
      "[1, 0, 2, 4, 5, 7, 8, 10]\n",
      "------------------------------\n",
      "[0, 1, 2, 4, 5, 7, 8, 10]\n",
      "------------------------------\n",
      "[0, 1, 2, 4, 5, 7, 8, 10]\n",
      "------------------------------\n"
     ]
    },
    {
     "data": {
      "text/plain": [
       "[0, 1, 2, 4, 5, 7, 8, 10]"
      ]
     },
     "execution_count": 44,
     "metadata": {},
     "output_type": "execute_result"
    }
   ],
   "source": [
    "bubble_sort([5, 4, 1, 2, 7, 8, 0, 10])"
   ]
  },
  {
   "cell_type": "code",
   "execution_count": 45,
   "id": "9d7e22b7",
   "metadata": {},
   "outputs": [
    {
     "name": "stdout",
     "output_type": "stream",
     "text": [
      "[1, 2, 3, 4, 5, 6, 7]\n",
      "------------------------------\n",
      "[1, 2, 3, 4, 5, 6, 7]\n",
      "------------------------------\n",
      "[1, 2, 3, 4, 5, 6, 7]\n",
      "------------------------------\n",
      "[1, 2, 3, 4, 5, 6, 7]\n",
      "------------------------------\n",
      "[1, 2, 3, 4, 5, 6, 7]\n",
      "------------------------------\n",
      "[1, 2, 3, 4, 5, 6, 7]\n",
      "------------------------------\n"
     ]
    },
    {
     "data": {
      "text/plain": [
       "[1, 2, 3, 4, 5, 6, 7]"
      ]
     },
     "execution_count": 45,
     "metadata": {},
     "output_type": "execute_result"
    }
   ],
   "source": [
    "bubble_sort([1, 2, 3, 5, 4, 7, 6])"
   ]
  },
  {
   "cell_type": "code",
   "execution_count": null,
   "id": "aab39562",
   "metadata": {},
   "outputs": [],
   "source": []
  },
  {
   "cell_type": "code",
   "execution_count": null,
   "id": "319236b0",
   "metadata": {},
   "outputs": [],
   "source": []
  },
  {
   "cell_type": "markdown",
   "id": "4cd9d797",
   "metadata": {},
   "source": [
    "### Optimized Bubble Sort"
   ]
  },
  {
   "cell_type": "code",
   "execution_count": 46,
   "id": "30764662",
   "metadata": {},
   "outputs": [],
   "source": [
    "def optimized_bubble_sort(a):\n",
    "    N = len(a) # get the length\n",
    "    for i in range(N - 1):\n",
    "        num_swaps = 0\n",
    "        for j in range(N - i - 1):\n",
    "            if a[j] > a[j + 1]:\n",
    "                # swap larger with smaller\n",
    "                a[j], a[j + 1] = a[j + 1], a[j]\n",
    "                num_swaps += 1\n",
    "        if num_swaps == 0:\n",
    "            break\n",
    "        print(a)\n",
    "        print('-'*30)\n",
    "    return a"
   ]
  },
  {
   "cell_type": "code",
   "execution_count": 47,
   "id": "093b0d83",
   "metadata": {},
   "outputs": [
    {
     "name": "stdout",
     "output_type": "stream",
     "text": [
      "[4, 4, 2, 5, 5, 6]\n",
      "------------------------------\n",
      "[4, 2, 4, 5, 5, 6]\n",
      "------------------------------\n",
      "[2, 4, 4, 5, 5, 6]\n",
      "------------------------------\n"
     ]
    },
    {
     "data": {
      "text/plain": [
       "[2, 4, 4, 5, 5, 6]"
      ]
     },
     "execution_count": 47,
     "metadata": {},
     "output_type": "execute_result"
    }
   ],
   "source": [
    "optimized_bubble_sort([4, 5, 4, 2, 5, 6])"
   ]
  },
  {
   "cell_type": "code",
   "execution_count": 49,
   "id": "914b345b",
   "metadata": {},
   "outputs": [
    {
     "name": "stdout",
     "output_type": "stream",
     "text": [
      "[6, 5, 4, 3, 2, 1, 7]\n",
      "------------------------------\n",
      "[5, 4, 3, 2, 1, 6, 7]\n",
      "------------------------------\n",
      "[4, 3, 2, 1, 5, 6, 7]\n",
      "------------------------------\n",
      "[3, 2, 1, 4, 5, 6, 7]\n",
      "------------------------------\n",
      "[2, 1, 3, 4, 5, 6, 7]\n",
      "------------------------------\n",
      "[1, 2, 3, 4, 5, 6, 7]\n",
      "------------------------------\n"
     ]
    },
    {
     "data": {
      "text/plain": [
       "[1, 2, 3, 4, 5, 6, 7]"
      ]
     },
     "execution_count": 49,
     "metadata": {},
     "output_type": "execute_result"
    }
   ],
   "source": [
    "optimized_bubble_sort([7, 6, 5, 4, 3, 2, 1])"
   ]
  },
  {
   "cell_type": "markdown",
   "id": "83d20774",
   "metadata": {},
   "source": [
    "Worst case time complexity: O(N^2)"
   ]
  },
  {
   "cell_type": "markdown",
   "id": "0005da5b",
   "metadata": {},
   "source": [
    "Best case time complexity: O(N)"
   ]
  },
  {
   "cell_type": "code",
   "execution_count": 50,
   "id": "92e3f82d",
   "metadata": {},
   "outputs": [
    {
     "data": {
      "text/plain": [
       "[1, 2, 3, 4, 5]"
      ]
     },
     "execution_count": 50,
     "metadata": {},
     "output_type": "execute_result"
    }
   ],
   "source": [
    "optimized_bubble_sort([1, 2, 3, 4, 5])"
   ]
  },
  {
   "cell_type": "code",
   "execution_count": 51,
   "id": "7b28e4b8",
   "metadata": {},
   "outputs": [
    {
     "name": "stdout",
     "output_type": "stream",
     "text": [
      "[1, 2, 3, 4, 5, 7, 10, 10, 11, 111]\n",
      "------------------------------\n"
     ]
    },
    {
     "data": {
      "text/plain": [
       "[1, 2, 3, 4, 5, 7, 10, 10, 11, 111]"
      ]
     },
     "execution_count": 51,
     "metadata": {},
     "output_type": "execute_result"
    }
   ],
   "source": [
    "optimized_bubble_sort([1, 2, 3, 4, 5, 7, 10, 10, 111, 11])"
   ]
  },
  {
   "cell_type": "code",
   "execution_count": 53,
   "id": "605f99ed",
   "metadata": {},
   "outputs": [],
   "source": [
    "# optimized_bubble_sort(list(range(1, 10000)))"
   ]
  },
  {
   "cell_type": "markdown",
   "id": "90f0211e",
   "metadata": {},
   "source": [
    "In best case, we do not take any specific N value, we take a specific\n",
    "type of input which will run faster (have lesser iterations)."
   ]
  },
  {
   "cell_type": "markdown",
   "id": "ce3f689a",
   "metadata": {},
   "source": [
    "### Selection Sort"
   ]
  },
  {
   "cell_type": "markdown",
   "id": "0af30b24",
   "metadata": {},
   "source": [
    "Examples"
   ]
  },
  {
   "cell_type": "code",
   "execution_count": 31,
   "id": "e22db304",
   "metadata": {},
   "outputs": [],
   "source": [
    "def selection_sort(a):\n",
    "    # use for loop\n",
    "    pass"
   ]
  },
  {
   "cell_type": "code",
   "execution_count": 32,
   "id": "ea98260a",
   "metadata": {},
   "outputs": [],
   "source": [
    "selection_sort([5, 4, 1, 2, 7, 8, 0, 10])"
   ]
  },
  {
   "cell_type": "code",
   "execution_count": null,
   "id": "0de0ac37",
   "metadata": {},
   "outputs": [],
   "source": []
  },
  {
   "cell_type": "code",
   "execution_count": null,
   "id": "831a505d",
   "metadata": {},
   "outputs": [],
   "source": []
  },
  {
   "cell_type": "code",
   "execution_count": null,
   "id": "83ddaca5",
   "metadata": {},
   "outputs": [],
   "source": []
  },
  {
   "cell_type": "code",
   "execution_count": null,
   "id": "11a29a0e",
   "metadata": {},
   "outputs": [],
   "source": []
  },
  {
   "cell_type": "code",
   "execution_count": null,
   "id": "397d0eae",
   "metadata": {},
   "outputs": [],
   "source": []
  },
  {
   "cell_type": "code",
   "execution_count": null,
   "id": "211792c6",
   "metadata": {},
   "outputs": [],
   "source": []
  },
  {
   "cell_type": "code",
   "execution_count": null,
   "id": "4c175a4b",
   "metadata": {},
   "outputs": [],
   "source": []
  },
  {
   "cell_type": "code",
   "execution_count": null,
   "id": "2cff8d2b",
   "metadata": {},
   "outputs": [],
   "source": []
  },
  {
   "cell_type": "code",
   "execution_count": null,
   "id": "aa7d53f8",
   "metadata": {},
   "outputs": [],
   "source": []
  },
  {
   "cell_type": "code",
   "execution_count": null,
   "id": "89663ef4",
   "metadata": {},
   "outputs": [],
   "source": []
  },
  {
   "cell_type": "code",
   "execution_count": null,
   "id": "bf061415",
   "metadata": {},
   "outputs": [],
   "source": []
  },
  {
   "cell_type": "code",
   "execution_count": null,
   "id": "d735a9fd",
   "metadata": {},
   "outputs": [],
   "source": []
  },
  {
   "cell_type": "code",
   "execution_count": null,
   "id": "355e26c4",
   "metadata": {},
   "outputs": [],
   "source": []
  },
  {
   "cell_type": "code",
   "execution_count": null,
   "id": "a4bcdf7f",
   "metadata": {},
   "outputs": [],
   "source": []
  },
  {
   "cell_type": "code",
   "execution_count": null,
   "id": "e15278c8",
   "metadata": {},
   "outputs": [],
   "source": []
  },
  {
   "cell_type": "code",
   "execution_count": null,
   "id": "0325c61d",
   "metadata": {},
   "outputs": [],
   "source": []
  },
  {
   "cell_type": "code",
   "execution_count": null,
   "id": "59973cd9",
   "metadata": {},
   "outputs": [],
   "source": []
  },
  {
   "cell_type": "code",
   "execution_count": null,
   "id": "841c58ae",
   "metadata": {},
   "outputs": [],
   "source": []
  },
  {
   "cell_type": "code",
   "execution_count": null,
   "id": "07d09fb4",
   "metadata": {},
   "outputs": [],
   "source": []
  },
  {
   "cell_type": "code",
   "execution_count": null,
   "id": "bc96945b",
   "metadata": {},
   "outputs": [],
   "source": []
  },
  {
   "cell_type": "code",
   "execution_count": null,
   "id": "3bea5afe",
   "metadata": {},
   "outputs": [],
   "source": []
  },
  {
   "cell_type": "code",
   "execution_count": null,
   "id": "70336078",
   "metadata": {},
   "outputs": [],
   "source": []
  },
  {
   "cell_type": "code",
   "execution_count": null,
   "id": "8d128605",
   "metadata": {},
   "outputs": [],
   "source": []
  },
  {
   "cell_type": "code",
   "execution_count": null,
   "id": "b7a0ab93",
   "metadata": {},
   "outputs": [],
   "source": []
  },
  {
   "cell_type": "code",
   "execution_count": null,
   "id": "6cfc90f8",
   "metadata": {},
   "outputs": [],
   "source": []
  },
  {
   "cell_type": "code",
   "execution_count": null,
   "id": "917efb27",
   "metadata": {},
   "outputs": [],
   "source": []
  },
  {
   "cell_type": "code",
   "execution_count": null,
   "id": "d9f9bc50",
   "metadata": {},
   "outputs": [],
   "source": []
  },
  {
   "cell_type": "code",
   "execution_count": null,
   "id": "be011254",
   "metadata": {},
   "outputs": [],
   "source": []
  },
  {
   "cell_type": "code",
   "execution_count": null,
   "id": "6cd4a3aa",
   "metadata": {},
   "outputs": [],
   "source": []
  },
  {
   "cell_type": "code",
   "execution_count": null,
   "id": "b3bf4faa",
   "metadata": {},
   "outputs": [],
   "source": []
  },
  {
   "cell_type": "code",
   "execution_count": null,
   "id": "757074c8",
   "metadata": {},
   "outputs": [],
   "source": []
  },
  {
   "cell_type": "code",
   "execution_count": null,
   "id": "e474b578",
   "metadata": {},
   "outputs": [],
   "source": []
  },
  {
   "cell_type": "code",
   "execution_count": null,
   "id": "71dac0e9",
   "metadata": {},
   "outputs": [],
   "source": []
  },
  {
   "cell_type": "code",
   "execution_count": null,
   "id": "89b53729",
   "metadata": {},
   "outputs": [],
   "source": []
  },
  {
   "cell_type": "code",
   "execution_count": null,
   "id": "cb810b06",
   "metadata": {},
   "outputs": [],
   "source": []
  },
  {
   "cell_type": "code",
   "execution_count": null,
   "id": "e207c4ec",
   "metadata": {},
   "outputs": [],
   "source": []
  },
  {
   "cell_type": "code",
   "execution_count": null,
   "id": "e4eafa7f",
   "metadata": {},
   "outputs": [],
   "source": []
  },
  {
   "cell_type": "code",
   "execution_count": null,
   "id": "afeb2169",
   "metadata": {},
   "outputs": [],
   "source": []
  }
 ],
 "metadata": {
  "kernelspec": {
   "display_name": "Python 3 (ipykernel)",
   "language": "python",
   "name": "python3"
  },
  "language_info": {
   "codemirror_mode": {
    "name": "ipython",
    "version": 3
   },
   "file_extension": ".py",
   "mimetype": "text/x-python",
   "name": "python",
   "nbconvert_exporter": "python",
   "pygments_lexer": "ipython3",
   "version": "3.9.12"
  }
 },
 "nbformat": 4,
 "nbformat_minor": 5
}
