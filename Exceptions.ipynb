{
 "cells": [
  {
   "cell_type": "markdown",
   "id": "3ededd0e",
   "metadata": {},
   "source": [
    "# Exception Handling"
   ]
  },
  {
   "cell_type": "markdown",
   "id": "e1e2f296",
   "metadata": {},
   "source": [
    "## Exceptions in Python"
   ]
  },
  {
   "cell_type": "code",
   "execution_count": 1,
   "id": "f692ec7f",
   "metadata": {},
   "outputs": [
    {
     "ename": "ZeroDivisionError",
     "evalue": "division by zero",
     "output_type": "error",
     "traceback": [
      "\u001b[0;31m---------------------------------------------------------------------------\u001b[0m",
      "\u001b[0;31mZeroDivisionError\u001b[0m                         Traceback (most recent call last)",
      "Input \u001b[0;32mIn [1]\u001b[0m, in \u001b[0;36m<cell line: 1>\u001b[0;34m()\u001b[0m\n\u001b[0;32m----> 1\u001b[0m \u001b[38;5;28mprint\u001b[39m(\u001b[38;5;241;43m1\u001b[39;49m\u001b[38;5;241;43m/\u001b[39;49m\u001b[38;5;241;43m0\u001b[39;49m)\n",
      "\u001b[0;31mZeroDivisionError\u001b[0m: division by zero"
     ]
    }
   ],
   "source": [
    "print(1/0)"
   ]
  },
  {
   "cell_type": "code",
   "execution_count": 2,
   "id": "7361a59d",
   "metadata": {},
   "outputs": [],
   "source": [
    "# WHat is exception => Any error which is known\n",
    "# Python prints the error message"
   ]
  },
  {
   "cell_type": "code",
   "execution_count": 3,
   "id": "94c11bf1",
   "metadata": {},
   "outputs": [
    {
     "ename": "NameError",
     "evalue": "name 'x' is not defined",
     "output_type": "error",
     "traceback": [
      "\u001b[0;31m---------------------------------------------------------------------------\u001b[0m",
      "\u001b[0;31mNameError\u001b[0m                                 Traceback (most recent call last)",
      "Input \u001b[0;32mIn [3]\u001b[0m, in \u001b[0;36m<cell line: 1>\u001b[0;34m()\u001b[0m\n\u001b[0;32m----> 1\u001b[0m \u001b[38;5;28mprint\u001b[39m(\u001b[43mx\u001b[49m)\n",
      "\u001b[0;31mNameError\u001b[0m: name 'x' is not defined"
     ]
    }
   ],
   "source": [
    "print(x)"
   ]
  },
  {
   "cell_type": "code",
   "execution_count": 4,
   "id": "2fe3ecd5",
   "metadata": {},
   "outputs": [
    {
     "ename": "IndentationError",
     "evalue": "expected an indented block (1134061165.py, line 1)",
     "output_type": "error",
     "traceback": [
      "\u001b[0;36m  Input \u001b[0;32mIn [4]\u001b[0;36m\u001b[0m\n\u001b[0;31m    if 736:\u001b[0m\n\u001b[0m           ^\u001b[0m\n\u001b[0;31mIndentationError\u001b[0m\u001b[0;31m:\u001b[0m expected an indented block\n"
     ]
    }
   ],
   "source": [
    "if 736:"
   ]
  },
  {
   "cell_type": "code",
   "execution_count": 10,
   "id": "c4a7591e",
   "metadata": {},
   "outputs": [
    {
     "ename": "AttributeError",
     "evalue": "'str' object has no attribute 'sort'",
     "output_type": "error",
     "traceback": [
      "\u001b[0;31m---------------------------------------------------------------------------\u001b[0m",
      "\u001b[0;31mAttributeError\u001b[0m                            Traceback (most recent call last)",
      "Input \u001b[0;32mIn [10]\u001b[0m, in \u001b[0;36m<cell line: 1>\u001b[0;34m()\u001b[0m\n\u001b[0;32m----> 1\u001b[0m \u001b[38;5;124;43m\"\u001b[39;49m\u001b[38;5;124;43mrandom string\u001b[39;49m\u001b[38;5;124;43m\"\u001b[39;49m\u001b[38;5;241;43m.\u001b[39;49m\u001b[43msort\u001b[49m()\n",
      "\u001b[0;31mAttributeError\u001b[0m: 'str' object has no attribute 'sort'"
     ]
    }
   ],
   "source": [
    "\"random string\".sort() # str are immutable"
   ]
  },
  {
   "cell_type": "code",
   "execution_count": 7,
   "id": "743cfd21",
   "metadata": {},
   "outputs": [],
   "source": [
    "l = [1, 2, 5, -12]\n",
    "l.sort()"
   ]
  },
  {
   "cell_type": "code",
   "execution_count": 8,
   "id": "93a45435",
   "metadata": {},
   "outputs": [
    {
     "name": "stdout",
     "output_type": "stream",
     "text": [
      "[-12, 1, 2, 5]\n"
     ]
    }
   ],
   "source": [
    "print(l)"
   ]
  },
  {
   "cell_type": "code",
   "execution_count": 11,
   "id": "282aeada",
   "metadata": {},
   "outputs": [
    {
     "data": {
      "text/plain": [
       "[-5, 1, 3, 4]"
      ]
     },
     "execution_count": 11,
     "metadata": {},
     "output_type": "execute_result"
    }
   ],
   "source": [
    "sorted([1, 3, 4, -5])"
   ]
  },
  {
   "cell_type": "code",
   "execution_count": 12,
   "id": "ddfff342",
   "metadata": {},
   "outputs": [
    {
     "data": {
      "text/plain": [
       "[' ', 'a', 'd', 'g', 'i', 'm', 'n', 'n', 'o', 'r', 'r', 's', 't']"
      ]
     },
     "execution_count": 12,
     "metadata": {},
     "output_type": "execute_result"
    }
   ],
   "source": [
    "sorted(\"random string\")"
   ]
  },
  {
   "cell_type": "code",
   "execution_count": null,
   "id": "7829d857",
   "metadata": {},
   "outputs": [],
   "source": []
  },
  {
   "cell_type": "markdown",
   "id": "a91a6e47",
   "metadata": {},
   "source": [
    "### Example 1"
   ]
  },
  {
   "cell_type": "code",
   "execution_count": 13,
   "id": "0f5c65e1",
   "metadata": {},
   "outputs": [],
   "source": [
    "def something(x): # x is a parameter\n",
    "    print(1 / x)\n",
    "    print(\"A\")"
   ]
  },
  {
   "cell_type": "code",
   "execution_count": 14,
   "id": "bb370e8a",
   "metadata": {},
   "outputs": [
    {
     "name": "stdout",
     "output_type": "stream",
     "text": [
      "0.3333333333333333\n",
      "A\n"
     ]
    }
   ],
   "source": [
    "something(3)"
   ]
  },
  {
   "cell_type": "code",
   "execution_count": 15,
   "id": "7488dada",
   "metadata": {},
   "outputs": [
    {
     "name": "stdout",
     "output_type": "stream",
     "text": [
      "0.2\n",
      "A\n"
     ]
    }
   ],
   "source": [
    "something(5)"
   ]
  },
  {
   "cell_type": "code",
   "execution_count": 16,
   "id": "71b7b11d",
   "metadata": {},
   "outputs": [
    {
     "name": "stdout",
     "output_type": "stream",
     "text": [
      "-0.1\n",
      "A\n"
     ]
    }
   ],
   "source": [
    "something(-10)"
   ]
  },
  {
   "cell_type": "code",
   "execution_count": 17,
   "id": "233c7e3c",
   "metadata": {},
   "outputs": [
    {
     "ename": "ZeroDivisionError",
     "evalue": "division by zero",
     "output_type": "error",
     "traceback": [
      "\u001b[0;31m---------------------------------------------------------------------------\u001b[0m",
      "\u001b[0;31mZeroDivisionError\u001b[0m                         Traceback (most recent call last)",
      "Input \u001b[0;32mIn [17]\u001b[0m, in \u001b[0;36m<cell line: 1>\u001b[0;34m()\u001b[0m\n\u001b[0;32m----> 1\u001b[0m \u001b[43msomething\u001b[49m\u001b[43m(\u001b[49m\u001b[38;5;241;43m0\u001b[39;49m\u001b[43m)\u001b[49m\n",
      "Input \u001b[0;32mIn [13]\u001b[0m, in \u001b[0;36msomething\u001b[0;34m(x)\u001b[0m\n\u001b[1;32m      1\u001b[0m \u001b[38;5;28;01mdef\u001b[39;00m \u001b[38;5;21msomething\u001b[39m(x): \u001b[38;5;66;03m# x is a parameter\u001b[39;00m\n\u001b[0;32m----> 2\u001b[0m     \u001b[38;5;28mprint\u001b[39m(\u001b[38;5;241;43m1\u001b[39;49m\u001b[43m \u001b[49m\u001b[38;5;241;43m/\u001b[39;49m\u001b[43m \u001b[49m\u001b[43mx\u001b[49m)\n\u001b[1;32m      3\u001b[0m     \u001b[38;5;28mprint\u001b[39m(\u001b[38;5;124m\"\u001b[39m\u001b[38;5;124mA\u001b[39m\u001b[38;5;124m\"\u001b[39m)\n",
      "\u001b[0;31mZeroDivisionError\u001b[0m: division by zero"
     ]
    }
   ],
   "source": [
    "something(0)"
   ]
  },
  {
   "cell_type": "code",
   "execution_count": 18,
   "id": "bf2a4755",
   "metadata": {},
   "outputs": [
    {
     "data": {
      "text/plain": [
       "['ArithmeticError',\n",
       " 'AssertionError',\n",
       " 'AttributeError',\n",
       " 'BaseException',\n",
       " 'BlockingIOError',\n",
       " 'BrokenPipeError',\n",
       " 'BufferError',\n",
       " 'BytesWarning',\n",
       " 'ChildProcessError',\n",
       " 'ConnectionAbortedError',\n",
       " 'ConnectionError',\n",
       " 'ConnectionRefusedError',\n",
       " 'ConnectionResetError',\n",
       " 'DeprecationWarning',\n",
       " 'EOFError',\n",
       " 'Ellipsis',\n",
       " 'EnvironmentError',\n",
       " 'Exception',\n",
       " 'False',\n",
       " 'FileExistsError',\n",
       " 'FileNotFoundError',\n",
       " 'FloatingPointError',\n",
       " 'FutureWarning',\n",
       " 'GeneratorExit',\n",
       " 'IOError',\n",
       " 'ImportError',\n",
       " 'ImportWarning',\n",
       " 'IndentationError',\n",
       " 'IndexError',\n",
       " 'InterruptedError',\n",
       " 'IsADirectoryError',\n",
       " 'KeyError',\n",
       " 'KeyboardInterrupt',\n",
       " 'LookupError',\n",
       " 'MemoryError',\n",
       " 'ModuleNotFoundError',\n",
       " 'NameError',\n",
       " 'None',\n",
       " 'NotADirectoryError',\n",
       " 'NotImplemented',\n",
       " 'NotImplementedError',\n",
       " 'OSError',\n",
       " 'OverflowError',\n",
       " 'PendingDeprecationWarning',\n",
       " 'PermissionError',\n",
       " 'ProcessLookupError',\n",
       " 'RecursionError',\n",
       " 'ReferenceError',\n",
       " 'ResourceWarning',\n",
       " 'RuntimeError',\n",
       " 'RuntimeWarning',\n",
       " 'StopAsyncIteration',\n",
       " 'StopIteration',\n",
       " 'SyntaxError',\n",
       " 'SyntaxWarning',\n",
       " 'SystemError',\n",
       " 'SystemExit',\n",
       " 'TabError',\n",
       " 'TimeoutError',\n",
       " 'True',\n",
       " 'TypeError',\n",
       " 'UnboundLocalError',\n",
       " 'UnicodeDecodeError',\n",
       " 'UnicodeEncodeError',\n",
       " 'UnicodeError',\n",
       " 'UnicodeTranslateError',\n",
       " 'UnicodeWarning',\n",
       " 'UserWarning',\n",
       " 'ValueError',\n",
       " 'Warning',\n",
       " 'ZeroDivisionError',\n",
       " '__IPYTHON__',\n",
       " '__build_class__',\n",
       " '__debug__',\n",
       " '__doc__',\n",
       " '__import__',\n",
       " '__loader__',\n",
       " '__name__',\n",
       " '__package__',\n",
       " '__spec__',\n",
       " 'abs',\n",
       " 'all',\n",
       " 'any',\n",
       " 'ascii',\n",
       " 'bin',\n",
       " 'bool',\n",
       " 'breakpoint',\n",
       " 'bytearray',\n",
       " 'bytes',\n",
       " 'callable',\n",
       " 'chr',\n",
       " 'classmethod',\n",
       " 'compile',\n",
       " 'complex',\n",
       " 'copyright',\n",
       " 'credits',\n",
       " 'delattr',\n",
       " 'dict',\n",
       " 'dir',\n",
       " 'display',\n",
       " 'divmod',\n",
       " 'enumerate',\n",
       " 'eval',\n",
       " 'exec',\n",
       " 'execfile',\n",
       " 'filter',\n",
       " 'float',\n",
       " 'format',\n",
       " 'frozenset',\n",
       " 'get_ipython',\n",
       " 'getattr',\n",
       " 'globals',\n",
       " 'hasattr',\n",
       " 'hash',\n",
       " 'help',\n",
       " 'hex',\n",
       " 'id',\n",
       " 'input',\n",
       " 'int',\n",
       " 'isinstance',\n",
       " 'issubclass',\n",
       " 'iter',\n",
       " 'len',\n",
       " 'license',\n",
       " 'list',\n",
       " 'locals',\n",
       " 'map',\n",
       " 'max',\n",
       " 'memoryview',\n",
       " 'min',\n",
       " 'next',\n",
       " 'object',\n",
       " 'oct',\n",
       " 'open',\n",
       " 'ord',\n",
       " 'pow',\n",
       " 'print',\n",
       " 'property',\n",
       " 'range',\n",
       " 'repr',\n",
       " 'reversed',\n",
       " 'round',\n",
       " 'runfile',\n",
       " 'set',\n",
       " 'setattr',\n",
       " 'slice',\n",
       " 'sorted',\n",
       " 'staticmethod',\n",
       " 'str',\n",
       " 'sum',\n",
       " 'super',\n",
       " 'tuple',\n",
       " 'type',\n",
       " 'vars',\n",
       " 'zip']"
      ]
     },
     "execution_count": 18,
     "metadata": {},
     "output_type": "execute_result"
    }
   ],
   "source": [
    "# built in errors handled by Python\n",
    "dir(__builtins__)"
   ]
  },
  {
   "cell_type": "code",
   "execution_count": 19,
   "id": "a545b0b8",
   "metadata": {},
   "outputs": [],
   "source": [
    "# Can we handle our errors in our code?"
   ]
  },
  {
   "cell_type": "markdown",
   "id": "124afb2b",
   "metadata": {},
   "source": [
    "## Handling"
   ]
  },
  {
   "cell_type": "code",
   "execution_count": 24,
   "id": "17979f6a",
   "metadata": {},
   "outputs": [],
   "source": [
    "def send_sms(phone_num):\n",
    "    # use some 3rd party APIs \n",
    "    print('Message is successfuly sent')"
   ]
  },
  {
   "cell_type": "code",
   "execution_count": 21,
   "id": "00d79560",
   "metadata": {},
   "outputs": [],
   "source": [
    "contact_nums = [9102341411, 9102341412, 9102341413, 9102341414]"
   ]
  },
  {
   "cell_type": "code",
   "execution_count": 22,
   "id": "baa7fd51",
   "metadata": {},
   "outputs": [
    {
     "name": "stdout",
     "output_type": "stream",
     "text": [
      "Message is successfuly sent\n",
      "Message is successfuly sent\n",
      "Message is successfuly sent\n",
      "Message is successfuly sent\n"
     ]
    }
   ],
   "source": [
    "for i in contact_nums:\n",
    "    send_sms(i)"
   ]
  },
  {
   "cell_type": "markdown",
   "id": "9d842411",
   "metadata": {},
   "source": [
    "### With error"
   ]
  },
  {
   "cell_type": "code",
   "execution_count": 44,
   "id": "d73efdde",
   "metadata": {},
   "outputs": [],
   "source": [
    "def send_sms(phone_num):\n",
    "    # use some 3rd party APIs \n",
    "    if phone_num % 10 == 4:\n",
    "        #  print('Message is NOT successfuly sent')\n",
    "        raise Exception(\"This is a bug\")\n",
    "    print('Message is successfuly sent')"
   ]
  },
  {
   "cell_type": "code",
   "execution_count": 45,
   "id": "55739fbb",
   "metadata": {},
   "outputs": [],
   "source": [
    "contact_nums = [9102341411, 9102341412, 9102341413, 9102341414]"
   ]
  },
  {
   "cell_type": "code",
   "execution_count": 46,
   "id": "624a6ae1",
   "metadata": {},
   "outputs": [
    {
     "name": "stdout",
     "output_type": "stream",
     "text": [
      "Message is successfuly sent\n",
      "Message is successfuly sent\n",
      "Message is successfuly sent\n"
     ]
    },
    {
     "ename": "Exception",
     "evalue": "This is a bug",
     "output_type": "error",
     "traceback": [
      "\u001b[0;31m---------------------------------------------------------------------------\u001b[0m",
      "\u001b[0;31mException\u001b[0m                                 Traceback (most recent call last)",
      "Input \u001b[0;32mIn [46]\u001b[0m, in \u001b[0;36m<cell line: 1>\u001b[0;34m()\u001b[0m\n\u001b[1;32m      1\u001b[0m \u001b[38;5;28;01mfor\u001b[39;00m i \u001b[38;5;129;01min\u001b[39;00m contact_nums:\n\u001b[0;32m----> 2\u001b[0m     \u001b[43msend_sms\u001b[49m\u001b[43m(\u001b[49m\u001b[43mi\u001b[49m\u001b[43m)\u001b[49m\n",
      "Input \u001b[0;32mIn [44]\u001b[0m, in \u001b[0;36msend_sms\u001b[0;34m(phone_num)\u001b[0m\n\u001b[1;32m      1\u001b[0m \u001b[38;5;28;01mdef\u001b[39;00m \u001b[38;5;21msend_sms\u001b[39m(phone_num):\n\u001b[1;32m      2\u001b[0m     \u001b[38;5;66;03m# use some 3rd party APIs \u001b[39;00m\n\u001b[1;32m      3\u001b[0m     \u001b[38;5;28;01mif\u001b[39;00m phone_num \u001b[38;5;241m%\u001b[39m \u001b[38;5;241m10\u001b[39m \u001b[38;5;241m==\u001b[39m \u001b[38;5;241m4\u001b[39m:\n\u001b[1;32m      4\u001b[0m         \u001b[38;5;66;03m#  print('Message is NOT successfuly sent')\u001b[39;00m\n\u001b[0;32m----> 5\u001b[0m         \u001b[38;5;28;01mraise\u001b[39;00m \u001b[38;5;167;01mException\u001b[39;00m(\u001b[38;5;124m\"\u001b[39m\u001b[38;5;124mThis is a bug\u001b[39m\u001b[38;5;124m\"\u001b[39m)\n\u001b[1;32m      6\u001b[0m     \u001b[38;5;28mprint\u001b[39m(\u001b[38;5;124m'\u001b[39m\u001b[38;5;124mMessage is successfuly sent\u001b[39m\u001b[38;5;124m'\u001b[39m)\n",
      "\u001b[0;31mException\u001b[0m: This is a bug"
     ]
    }
   ],
   "source": [
    "for i in contact_nums:\n",
    "    send_sms(i)"
   ]
  },
  {
   "cell_type": "code",
   "execution_count": 50,
   "id": "f08e4741",
   "metadata": {},
   "outputs": [],
   "source": [
    "contact_nums = [9102341411, 9102341412, 9102341413, 9102341414, 9102341415]"
   ]
  },
  {
   "cell_type": "code",
   "execution_count": 52,
   "id": "95d9dbba",
   "metadata": {},
   "outputs": [
    {
     "name": "stdout",
     "output_type": "stream",
     "text": [
      "Message is successfuly sent\n",
      "Message is successfuly sent\n",
      "Message is successfuly sent\n"
     ]
    }
   ],
   "source": [
    "try:\n",
    "    for i in contact_nums:\n",
    "        send_sms(i)\n",
    "except:\n",
    "    # try again\n",
    "    # might want to have some code to retry sending sms\n",
    "    pass"
   ]
  },
  {
   "cell_type": "code",
   "execution_count": 75,
   "id": "9a1e87cf",
   "metadata": {},
   "outputs": [
    {
     "name": "stdout",
     "output_type": "stream",
     "text": [
      "Message is successfuly sent\n",
      "Message is successfuly sent\n",
      "Message is successfuly sent\n",
      "Message is successfuly sent\n"
     ]
    }
   ],
   "source": [
    "for i in contact_nums:\n",
    "    try:\n",
    "        send_sms(i)\n",
    "    except:\n",
    "        # try again 3 more times\n",
    "        pass"
   ]
  },
  {
   "cell_type": "markdown",
   "id": "440663c3",
   "metadata": {},
   "source": [
    "### Example 2"
   ]
  },
  {
   "cell_type": "code",
   "execution_count": 55,
   "id": "da341a06",
   "metadata": {},
   "outputs": [],
   "source": [
    "def something(x):\n",
    "    print(1 // x)\n",
    "    print(\"A\")"
   ]
  },
  {
   "cell_type": "code",
   "execution_count": 56,
   "id": "964cbeef",
   "metadata": {},
   "outputs": [
    {
     "name": "stdout",
     "output_type": "stream",
     "text": [
      "0\n",
      "A\n",
      "0\n",
      "A\n",
      "Some error has occured\n"
     ]
    }
   ],
   "source": [
    "try:\n",
    "    # can this code given an exception\n",
    "    something(3)\n",
    "    something(4)\n",
    "    something(0)\n",
    "    something(1)\n",
    "except:\n",
    "    print(\"Some error has occured\")"
   ]
  },
  {
   "cell_type": "markdown",
   "id": "1789b2d4",
   "metadata": {},
   "source": [
    "### Quizzes"
   ]
  },
  {
   "cell_type": "code",
   "execution_count": 59,
   "id": "759743c5",
   "metadata": {},
   "outputs": [
    {
     "name": "stdout",
     "output_type": "stream",
     "text": [
      "Z\n",
      "x\n",
      "e\n"
     ]
    }
   ],
   "source": [
    "try:\n",
    "    number1 = int(input())\n",
    "    print(number1 * 3)\n",
    "\n",
    "    number2 = int(input())\n",
    "    print(number2 * 3)\n",
    "except:\n",
    "    print('x')\n",
    "print('e')"
   ]
  },
  {
   "cell_type": "code",
   "execution_count": 58,
   "id": "b3999471",
   "metadata": {},
   "outputs": [
    {
     "name": "stdout",
     "output_type": "stream",
     "text": [
      "Z\n"
     ]
    },
    {
     "ename": "ValueError",
     "evalue": "invalid literal for int() with base 10: 'Z'",
     "output_type": "error",
     "traceback": [
      "\u001b[0;31m---------------------------------------------------------------------------\u001b[0m",
      "\u001b[0;31mValueError\u001b[0m                                Traceback (most recent call last)",
      "Input \u001b[0;32mIn [58]\u001b[0m, in \u001b[0;36m<cell line: 1>\u001b[0;34m()\u001b[0m\n\u001b[0;32m----> 1\u001b[0m number1 \u001b[38;5;241m=\u001b[39m \u001b[38;5;28;43mint\u001b[39;49m\u001b[43m(\u001b[49m\u001b[38;5;28;43minput\u001b[39;49m\u001b[43m(\u001b[49m\u001b[43m)\u001b[49m\u001b[43m)\u001b[49m\n\u001b[1;32m      2\u001b[0m \u001b[38;5;28mprint\u001b[39m(number1 \u001b[38;5;241m*\u001b[39m \u001b[38;5;241m3\u001b[39m)\n",
      "\u001b[0;31mValueError\u001b[0m: invalid literal for int() with base 10: 'Z'"
     ]
    }
   ],
   "source": [
    "number1 = int(input())\n",
    "print(number1 * 3)"
   ]
  },
  {
   "cell_type": "code",
   "execution_count": 60,
   "id": "fa3a930b",
   "metadata": {},
   "outputs": [
    {
     "name": "stdout",
     "output_type": "stream",
     "text": [
      "7\n",
      "21\n",
      "9\n",
      "27\n",
      "e\n"
     ]
    }
   ],
   "source": [
    "try:\n",
    "    number1 = int(input())\n",
    "    print(number1 * 3)\n",
    "\n",
    "    number2 = int(input())\n",
    "    print(number2 * 3)\n",
    "except:\n",
    "    print('x')\n",
    "print('e')"
   ]
  },
  {
   "cell_type": "markdown",
   "id": "99b700ae",
   "metadata": {},
   "source": [
    "## Handling Multiple Exceptions"
   ]
  },
  {
   "cell_type": "code",
   "execution_count": 68,
   "id": "f9245067",
   "metadata": {},
   "outputs": [],
   "source": [
    "l = [2, 0, 'hello', None]"
   ]
  },
  {
   "cell_type": "code",
   "execution_count": 69,
   "id": "ab977183",
   "metadata": {},
   "outputs": [],
   "source": [
    "def something(x):\n",
    "    return (1 // x)"
   ]
  },
  {
   "cell_type": "code",
   "execution_count": 74,
   "id": "5f1b3247",
   "metadata": {},
   "outputs": [
    {
     "name": "stdout",
     "output_type": "stream",
     "text": [
      "Current element - 2\n",
      "Result - 0\n",
      "-------------------------\n",
      "Current element - 0\n",
      "Error occured!\n",
      "-------------------------\n",
      "Current element - hello\n",
      "Error occured!\n",
      "-------------------------\n",
      "Current element - None\n",
      "Error occured!\n",
      "-------------------------\n"
     ]
    }
   ],
   "source": [
    "for e in l:\n",
    "    try:\n",
    "        # doing some operation on e\n",
    "        print(f'Current element - {e}')\n",
    "        res = something(e)\n",
    "        print(f'Result - {res}')\n",
    "    except: # as soon as an error comes => catch it here\n",
    "        print('Error occured!')\n",
    "    \n",
    "    print('-'*25)"
   ]
  },
  {
   "cell_type": "markdown",
   "id": "6c21fd4d",
   "metadata": {},
   "source": [
    "### Printing names of errrors"
   ]
  },
  {
   "cell_type": "code",
   "execution_count": 76,
   "id": "d07e08a6",
   "metadata": {},
   "outputs": [
    {
     "name": "stdout",
     "output_type": "stream",
     "text": [
      "Current element - 2\n",
      "Result - 0\n",
      "-------------------------\n",
      "Current element - 0\n",
      "Division by Zero occurred!\n",
      "-------------------------\n",
      "Current element - hello\n",
      "Input is invalid\n",
      "-------------------------\n",
      "Current element - None\n",
      "Input is invalid\n",
      "-------------------------\n"
     ]
    }
   ],
   "source": [
    "for e in l:\n",
    "    try:\n",
    "        # doing some operation on e\n",
    "        print(f'Current element - {e}')\n",
    "        res = something(e)\n",
    "        print(f'Result - {res}')\n",
    "    except ZeroDivisionError: # as soon as an error comes => catch it here\n",
    "        print('Division by Zero occurred!')\n",
    "    except TypeError:\n",
    "        print('Input is invalid')\n",
    "    \n",
    "    print('-'*25)"
   ]
  },
  {
   "cell_type": "code",
   "execution_count": 78,
   "id": "dab91f62",
   "metadata": {},
   "outputs": [
    {
     "name": "stdout",
     "output_type": "stream",
     "text": [
      "Current element - 2\n",
      "Result - 0\n",
      "-------------------------\n",
      "Current element - 0\n",
      "Some error occurred\n",
      "-------------------------\n",
      "Current element - hello\n",
      "Input is invalid\n",
      "-------------------------\n",
      "Current element - None\n",
      "Input is invalid\n",
      "-------------------------\n"
     ]
    }
   ],
   "source": [
    "for e in l:\n",
    "    try:\n",
    "        # doing some operation on e\n",
    "        print(f'Current element - {e}')\n",
    "        res = something(e)\n",
    "        print(f'Result - {res}')\n",
    "    except TypeError:\n",
    "        print('Input is invalid')\n",
    "    except Exception: # final else\n",
    "        print('Some error occurred')\n",
    "    \n",
    "    print('-'*25)"
   ]
  },
  {
   "cell_type": "code",
   "execution_count": null,
   "id": "9e325880",
   "metadata": {},
   "outputs": [],
   "source": [
    "\n"
   ]
  },
  {
   "cell_type": "code",
   "execution_count": null,
   "id": "bb32916d",
   "metadata": {},
   "outputs": [],
   "source": []
  },
  {
   "cell_type": "code",
   "execution_count": null,
   "id": "7e97a0e8",
   "metadata": {},
   "outputs": [],
   "source": []
  },
  {
   "cell_type": "code",
   "execution_count": null,
   "id": "7b0d7af4",
   "metadata": {},
   "outputs": [],
   "source": []
  },
  {
   "cell_type": "code",
   "execution_count": null,
   "id": "bacb91cb",
   "metadata": {},
   "outputs": [],
   "source": []
  }
 ],
 "metadata": {
  "kernelspec": {
   "display_name": "Python 3 (ipykernel)",
   "language": "python",
   "name": "python3"
  },
  "language_info": {
   "codemirror_mode": {
    "name": "ipython",
    "version": 3
   },
   "file_extension": ".py",
   "mimetype": "text/x-python",
   "name": "python",
   "nbconvert_exporter": "python",
   "pygments_lexer": "ipython3",
   "version": "3.9.12"
  }
 },
 "nbformat": 4,
 "nbformat_minor": 5
}
