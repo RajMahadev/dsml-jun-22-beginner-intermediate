{
  "nbformat": 4,
  "nbformat_minor": 0,
  "metadata": {
    "colab": {
      "provenance": [],
      "collapsed_sections": [],
      "include_colab_link": true
    },
    "kernelspec": {
      "name": "python3",
      "display_name": "Python 3"
    },
    "language_info": {
      "name": "python"
    }
  },
  "cells": [
    {
      "cell_type": "markdown",
      "metadata": {
        "id": "view-in-github",
        "colab_type": "text"
      },
      "source": [
        "<a href=\"https://colab.research.google.com/github/scaleracademy/dsml-jun-22-beginner-intermediate/blob/main/OOP_21st_September.ipynb\" target=\"_parent\"><img src=\"https://colab.research.google.com/assets/colab-badge.svg\" alt=\"Open In Colab\"/></a>"
      ]
    },
    {
      "cell_type": "code",
      "execution_count": null,
      "metadata": {
        "colab": {
          "base_uri": "https://localhost:8080/"
        },
        "id": "LxvjQ2hJpv2_",
        "outputId": "a63f7367-68db-45d6-e708-53b262a8a870"
      },
      "outputs": [
        {
          "output_type": "stream",
          "name": "stdout",
          "text": [
            "<__main__.Student object at 0x7fe18b92d390>\n"
          ]
        }
      ],
      "source": [
        "class Student:\n",
        "  pass\n",
        "\n",
        "s1 = Student()\n",
        "print(s1)"
      ]
    },
    {
      "cell_type": "code",
      "source": [
        "print(s1.age)"
      ],
      "metadata": {
        "colab": {
          "base_uri": "https://localhost:8080/",
          "height": 169
        },
        "id": "eOVYR7QLylDO",
        "outputId": "b3cb417d-3b1b-4554-b592-4ccb58825f95"
      },
      "execution_count": null,
      "outputs": [
        {
          "output_type": "error",
          "ename": "AttributeError",
          "evalue": "ignored",
          "traceback": [
            "\u001b[0;31m---------------------------------------------------------------------------\u001b[0m",
            "\u001b[0;31mAttributeError\u001b[0m                            Traceback (most recent call last)",
            "\u001b[0;32m<ipython-input-4-fa78e48b36d0>\u001b[0m in \u001b[0;36m<module>\u001b[0;34m\u001b[0m\n\u001b[0;32m----> 1\u001b[0;31m \u001b[0mprint\u001b[0m\u001b[0;34m(\u001b[0m\u001b[0ms1\u001b[0m\u001b[0;34m.\u001b[0m\u001b[0mage\u001b[0m\u001b[0;34m)\u001b[0m\u001b[0;34m\u001b[0m\u001b[0;34m\u001b[0m\u001b[0m\n\u001b[0m",
            "\u001b[0;31mAttributeError\u001b[0m: 'Student' object has no attribute 'age'"
          ]
        }
      ]
    },
    {
      "cell_type": "markdown",
      "source": [
        "- no attribute age for ths object:\n",
        "\n",
        "let's define some attributes:"
      ],
      "metadata": {
        "id": "3oKYeT74UbDA"
      }
    },
    {
      "cell_type": "markdown",
      "source": [
        "### Attribute: Property that defines the object\n",
        "\n",
        "let's define some attributes for our s1 object:"
      ],
      "metadata": {
        "id": "VUS9Wiv3y0sP"
      }
    },
    {
      "cell_type": "code",
      "source": [
        "s1.age = 20\n",
        "s1.name = 'zaheer'\n",
        "print(s1.name, s1.age)"
      ],
      "metadata": {
        "colab": {
          "base_uri": "https://localhost:8080/"
        },
        "id": "IUyRuGW_ywHe",
        "outputId": "b427dc2a-0799-440d-afe8-d5e255844d90"
      },
      "execution_count": null,
      "outputs": [
        {
          "output_type": "stream",
          "name": "stdout",
          "text": [
            "zaheer 20\n"
          ]
        }
      ]
    },
    {
      "cell_type": "code",
      "source": [
        "s2 = Student()\n",
        "s2.age = 30\n",
        "s2.name = 'Rajat'\n",
        "print(s2.age)"
      ],
      "metadata": {
        "colab": {
          "base_uri": "https://localhost:8080/"
        },
        "id": "7NvnJzwlzDUN",
        "outputId": "2a57b507-eca0-4463-9ece-15e780562375"
      },
      "execution_count": null,
      "outputs": [
        {
          "output_type": "stream",
          "name": "stdout",
          "text": [
            "30\n"
          ]
        }
      ]
    },
    {
      "cell_type": "code",
      "source": [
        "print(s1.name, s1.age)"
      ],
      "metadata": {
        "colab": {
          "base_uri": "https://localhost:8080/"
        },
        "id": "jPMaspYpzc9U",
        "outputId": "fc115762-534c-4616-d6e1-76af3f7f371b"
      },
      "execution_count": null,
      "outputs": [
        {
          "output_type": "stream",
          "name": "stdout",
          "text": [
            "zaheer 20\n"
          ]
        }
      ]
    },
    {
      "cell_type": "code",
      "source": [
        "print(s2.name, s2.age)"
      ],
      "metadata": {
        "colab": {
          "base_uri": "https://localhost:8080/"
        },
        "id": "rpGK-_6Bz-L2",
        "outputId": "f691f5f8-8a7d-44a1-d6c6-2c8538cae24a"
      },
      "execution_count": null,
      "outputs": [
        {
          "output_type": "stream",
          "name": "stdout",
          "text": [
            "Rajat 30\n"
          ]
        }
      ]
    },
    {
      "cell_type": "code",
      "source": [
        "print(id(s1))\n",
        "print(id(s2))"
      ],
      "metadata": {
        "colab": {
          "base_uri": "https://localhost:8080/"
        },
        "id": "7rKIu-Yh0EQ1",
        "outputId": "28650639-284c-48ea-e623-0b3d1b8349eb"
      },
      "execution_count": null,
      "outputs": [
        {
          "output_type": "stream",
          "name": "stdout",
          "text": [
            "140606686024592\n",
            "140606686027344\n"
          ]
        }
      ]
    },
    {
      "cell_type": "code",
      "source": [
        "print(id(s1.name))\n",
        "\n",
        "s1.name = 'Rajat Singh'\n",
        "print(s1.name)"
      ],
      "metadata": {
        "colab": {
          "base_uri": "https://localhost:8080/"
        },
        "id": "BwVUrrtX0V9K",
        "outputId": "d13a0764-dceb-4171-97d8-7f7f8dc3c4ce"
      },
      "execution_count": null,
      "outputs": [
        {
          "output_type": "stream",
          "name": "stdout",
          "text": [
            "140606756204464\n",
            "Rajat Singh\n"
          ]
        }
      ]
    },
    {
      "cell_type": "markdown",
      "source": [
        "We can define an object as dictionary as well:"
      ],
      "metadata": {
        "id": "X2SkmDCAFGw3"
      }
    },
    {
      "cell_type": "code",
      "source": [
        "s1 = {'name': 'rajat', 'age':20}\n",
        "s2 = {'name': 'Zaheer', 'age':30}\n",
        "print(s1['name'])"
      ],
      "metadata": {
        "id": "c8tMoFRP0_TC"
      },
      "execution_count": null,
      "outputs": []
    },
    {
      "cell_type": "markdown",
      "source": [
        "So why are we creating class. \n",
        "let's dive deeper and understand this:"
      ],
      "metadata": {
        "id": "LLydHbO-FK9X"
      }
    },
    {
      "cell_type": "code",
      "source": [],
      "metadata": {
        "id": "nokHFTJK2-qI"
      },
      "execution_count": null,
      "outputs": []
    },
    {
      "cell_type": "markdown",
      "source": [
        "### `__INIT__`: Initializer"
      ],
      "metadata": {
        "id": "mZBvtIVvFQgC"
      }
    },
    {
      "cell_type": "code",
      "source": [
        "class Student:\n",
        "  def __init__(self, name ,age):\n",
        "    self.name = name\n",
        "    self.age =age\n",
        "\n",
        "\n",
        "s1 = Student(\"Rajat\", 30)\n",
        "\n",
        "class Student:\n",
        "  def __init__(self, name ,age):  ## initializer\n",
        "    self.name = name\n",
        "    self.age = age\n",
        "\n",
        "  def get_memory_location(self):   # method  \n",
        "    print(id(self))\n",
        "\n",
        "  \n",
        "\n",
        "\n",
        "s1 = Student(\"Rajat\", 30)\n",
        "print(s1.name)"
      ],
      "metadata": {
        "colab": {
          "base_uri": "https://localhost:8080/"
        },
        "id": "_bA6YAVH1wWp",
        "outputId": "23dfe55b-7c58-455f-81ff-aa83937e1963"
      },
      "execution_count": null,
      "outputs": [
        {
          "output_type": "stream",
          "name": "stdout",
          "text": [
            "Rajat\n"
          ]
        }
      ]
    },
    {
      "cell_type": "markdown",
      "source": [
        "### initilizer helps us set a set of attibutes which every object of the class must have.\n",
        "\n",
        "Above example:\n",
        "Every object of student class must have name and age"
      ],
      "metadata": {
        "id": "2rZmJZGyFZJ-"
      }
    },
    {
      "cell_type": "markdown",
      "source": [
        "#### What is self here? \n",
        "SELF is a reference to the calling object"
      ],
      "metadata": {
        "id": "QfzxE-og42_1"
      }
    },
    {
      "cell_type": "code",
      "source": [
        "s1.get_memory_location()"
      ],
      "metadata": {
        "colab": {
          "base_uri": "https://localhost:8080/"
        },
        "id": "HrTXRTj24Do6",
        "outputId": "59c01cff-75d5-469a-e8c6-fabad3118afb"
      },
      "execution_count": null,
      "outputs": [
        {
          "output_type": "stream",
          "name": "stdout",
          "text": [
            "140606686059088\n"
          ]
        }
      ]
    },
    {
      "cell_type": "code",
      "source": [
        "print(id(s1))"
      ],
      "metadata": {
        "colab": {
          "base_uri": "https://localhost:8080/"
        },
        "id": "5RBj4yWx4XiJ",
        "outputId": "2df4ee16-1172-4f8f-f05a-c608b558cda6"
      },
      "execution_count": null,
      "outputs": [
        {
          "output_type": "stream",
          "name": "stdout",
          "text": [
            "140606686059088\n"
          ]
        }
      ]
    },
    {
      "cell_type": "markdown",
      "source": [
        "as you can see both self and s1 has same memory location indicating that they are same."
      ],
      "metadata": {
        "id": "k2Qf78kcF0Kq"
      }
    },
    {
      "cell_type": "markdown",
      "source": [
        "so python automatically passes the calling object into method as first argument.\n",
        "\n",
        "Standard practice is to use self, but you can name it anything."
      ],
      "metadata": {
        "id": "DDyXsWTFF9ZV"
      }
    },
    {
      "cell_type": "code",
      "source": [
        "s2 = Student(\"Zaheer\", 30)\n",
        "print(s2.name)"
      ],
      "metadata": {
        "colab": {
          "base_uri": "https://localhost:8080/"
        },
        "id": "jfm3lv183Qlp",
        "outputId": "99e0f2a0-dd7d-4304-ec50-201f24f96b35"
      },
      "execution_count": null,
      "outputs": [
        {
          "output_type": "stream",
          "name": "stdout",
          "text": [
            "Zaheer\n"
          ]
        }
      ]
    },
    {
      "cell_type": "code",
      "source": [
        "class Student:\n",
        "  def __init__(self, name ,age):\n",
        "    self.name = name\n",
        "    self.age =age\n",
        "\n",
        "\n",
        "s1 = Student(\"Rajat\", 30)\n",
        "\n",
        "class Student:\n",
        "  def __init__(self, name ,age):  ## initializer\n",
        "    self.name = name\n",
        "    self.age = age\n",
        "\n",
        "  def get_memory_location(self):   # method  \n",
        "    print(id(self))\n",
        "\n",
        "  def print_age(self):\n",
        "    print(self.age)\n",
        "    # s1.age\n",
        "\n",
        "  \n",
        "\n",
        "\n",
        "s1 = Student(\"Rajat\", 30)\n",
        "print(s1.name)"
      ],
      "metadata": {
        "colab": {
          "base_uri": "https://localhost:8080/"
        },
        "id": "9imxfpkA3jXg",
        "outputId": "764851bd-5147-463f-c3c5-c6930f7beb91"
      },
      "execution_count": null,
      "outputs": [
        {
          "output_type": "stream",
          "name": "stdout",
          "text": [
            "Rajat\n"
          ]
        }
      ]
    },
    {
      "cell_type": "code",
      "source": [
        "s1.print_age()"
      ],
      "metadata": {
        "colab": {
          "base_uri": "https://localhost:8080/"
        },
        "id": "kuviGGpD5EhL",
        "outputId": "f466fa6b-bec8-490d-a682-c2586e822251"
      },
      "execution_count": null,
      "outputs": [
        {
          "output_type": "stream",
          "name": "stdout",
          "text": [
            "30\n"
          ]
        }
      ]
    },
    {
      "cell_type": "code",
      "source": [
        "s2 = Student(\"Zaher\", 20)\n",
        "s2.print_age()"
      ],
      "metadata": {
        "colab": {
          "base_uri": "https://localhost:8080/"
        },
        "id": "Qmo4u5Mp5wV_",
        "outputId": "85f8c788-b165-4175-bc28-be0d1a8ffb38"
      },
      "execution_count": null,
      "outputs": [
        {
          "output_type": "stream",
          "name": "stdout",
          "text": [
            "20\n"
          ]
        }
      ]
    },
    {
      "cell_type": "code",
      "source": [
        "class Student:\n",
        "  def __init__(self, name ,age):\n",
        "    self.name = name\n",
        "    self.age =age\n",
        "\n",
        "\n",
        "s1 = Student(\"Rajat\", 30)\n",
        "\n",
        "class Student:\n",
        "  def __init__(self, name ,age):  ## initializer\n",
        "    self.name = name\n",
        "    self.age = age\n",
        "\n",
        "  def get_memory_location(self):   # method  \n",
        "    print(id(self))\n",
        "\n",
        "  \n",
        "\n",
        "\n",
        "s1 = Student(\"Rajat\", 30)\n",
        "print(s1.name)"
      ],
      "metadata": {
        "id": "BjLK3xZu5Zy4",
        "colab": {
          "base_uri": "https://localhost:8080/"
        },
        "outputId": "1442fd14-72dd-4dbd-a0f9-d31ea4febec8"
      },
      "execution_count": null,
      "outputs": [
        {
          "output_type": "stream",
          "name": "stdout",
          "text": [
            "Rajat\n"
          ]
        }
      ]
    },
    {
      "cell_type": "code",
      "source": [
        "class Customer:\n",
        "\n",
        "  def pay_bill(self):\n",
        "    print(\"memory location\",id(self))\n",
        "    print(self)\n",
        "    print(\"Paid: \",self.bill)\n",
        "\n",
        "c1 = Customer()\n",
        "c1.bill= 150\n",
        "# self will store the object \n",
        "c1.pay_bill() "
      ],
      "metadata": {
        "colab": {
          "base_uri": "https://localhost:8080/"
        },
        "id": "sKUpCpg65IPw",
        "outputId": "e7bf0925-3274-4e5a-aea8-816d009bb900"
      },
      "execution_count": null,
      "outputs": [
        {
          "output_type": "stream",
          "name": "stdout",
          "text": [
            "memory location 140606686073744\n",
            "<__main__.Customer object at 0x7fe18b939390>\n",
            "Paid:  150\n"
          ]
        }
      ]
    },
    {
      "cell_type": "code",
      "source": [
        "print(c1)"
      ],
      "metadata": {
        "colab": {
          "base_uri": "https://localhost:8080/"
        },
        "id": "eYsplpCH_HnU",
        "outputId": "21c12547-5840-41b9-be2d-7bc47ad7f32a"
      },
      "execution_count": null,
      "outputs": [
        {
          "output_type": "stream",
          "name": "stdout",
          "text": [
            "<__main__.Customer object at 0x7fe18b939390>\n"
          ]
        }
      ]
    },
    {
      "cell_type": "code",
      "source": [
        "id(c1)"
      ],
      "metadata": {
        "colab": {
          "base_uri": "https://localhost:8080/"
        },
        "id": "_szMRtgf-YJW",
        "outputId": "e376c052-27e9-4075-f768-f8625eb59aa5"
      },
      "execution_count": null,
      "outputs": [
        {
          "output_type": "execute_result",
          "data": {
            "text/plain": [
              "140606686073744"
            ]
          },
          "metadata": {},
          "execution_count": 25
        }
      ]
    },
    {
      "cell_type": "code",
      "source": [
        "c2 = Customer()\n",
        "c2.pay_bill() "
      ],
      "metadata": {
        "colab": {
          "base_uri": "https://localhost:8080/",
          "height": 347
        },
        "id": "NzLPnqkr96Ms",
        "outputId": "11e954a3-11e3-416a-806c-10afbfc386b4"
      },
      "execution_count": null,
      "outputs": [
        {
          "output_type": "stream",
          "name": "stdout",
          "text": [
            "memory location 140606686065488\n",
            "<__main__.Customer object at 0x7fe18b937350>\n"
          ]
        },
        {
          "output_type": "error",
          "ename": "AttributeError",
          "evalue": "ignored",
          "traceback": [
            "\u001b[0;31m---------------------------------------------------------------------------\u001b[0m",
            "\u001b[0;31mAttributeError\u001b[0m                            Traceback (most recent call last)",
            "\u001b[0;32m<ipython-input-26-4b8a67392fba>\u001b[0m in \u001b[0;36m<module>\u001b[0;34m\u001b[0m\n\u001b[1;32m      1\u001b[0m \u001b[0mc2\u001b[0m \u001b[0;34m=\u001b[0m \u001b[0mCustomer\u001b[0m\u001b[0;34m(\u001b[0m\u001b[0;34m)\u001b[0m\u001b[0;34m\u001b[0m\u001b[0;34m\u001b[0m\u001b[0m\n\u001b[0;32m----> 2\u001b[0;31m \u001b[0mc2\u001b[0m\u001b[0;34m.\u001b[0m\u001b[0mpay_bill\u001b[0m\u001b[0;34m(\u001b[0m\u001b[0;34m)\u001b[0m\u001b[0;34m\u001b[0m\u001b[0;34m\u001b[0m\u001b[0m\n\u001b[0m",
            "\u001b[0;32m<ipython-input-23-1e583df61238>\u001b[0m in \u001b[0;36mpay_bill\u001b[0;34m(self)\u001b[0m\n\u001b[1;32m      4\u001b[0m     \u001b[0mprint\u001b[0m\u001b[0;34m(\u001b[0m\u001b[0;34m\"memory location\"\u001b[0m\u001b[0;34m,\u001b[0m\u001b[0mid\u001b[0m\u001b[0;34m(\u001b[0m\u001b[0mself\u001b[0m\u001b[0;34m)\u001b[0m\u001b[0;34m)\u001b[0m\u001b[0;34m\u001b[0m\u001b[0;34m\u001b[0m\u001b[0m\n\u001b[1;32m      5\u001b[0m     \u001b[0mprint\u001b[0m\u001b[0;34m(\u001b[0m\u001b[0mself\u001b[0m\u001b[0;34m)\u001b[0m\u001b[0;34m\u001b[0m\u001b[0;34m\u001b[0m\u001b[0m\n\u001b[0;32m----> 6\u001b[0;31m     \u001b[0mprint\u001b[0m\u001b[0;34m(\u001b[0m\u001b[0;34m\"Paid: \"\u001b[0m\u001b[0;34m,\u001b[0m\u001b[0mself\u001b[0m\u001b[0;34m.\u001b[0m\u001b[0mbill\u001b[0m\u001b[0;34m)\u001b[0m\u001b[0;34m\u001b[0m\u001b[0;34m\u001b[0m\u001b[0m\n\u001b[0m\u001b[1;32m      7\u001b[0m \u001b[0;34m\u001b[0m\u001b[0m\n\u001b[1;32m      8\u001b[0m \u001b[0mc1\u001b[0m \u001b[0;34m=\u001b[0m \u001b[0mCustomer\u001b[0m\u001b[0;34m(\u001b[0m\u001b[0;34m)\u001b[0m\u001b[0;34m\u001b[0m\u001b[0;34m\u001b[0m\u001b[0m\n",
            "\u001b[0;31mAttributeError\u001b[0m: 'Customer' object has no attribute 'bill'"
          ]
        }
      ]
    },
    {
      "cell_type": "code",
      "source": [
        "print(id(c2))"
      ],
      "metadata": {
        "colab": {
          "base_uri": "https://localhost:8080/"
        },
        "id": "3pykV_YT-mGj",
        "outputId": "b32b9e96-1531-4ebb-d37b-09581d465536"
      },
      "execution_count": null,
      "outputs": [
        {
          "output_type": "stream",
          "name": "stdout",
          "text": [
            "140606686065488\n"
          ]
        }
      ]
    },
    {
      "cell_type": "markdown",
      "source": [
        "- self stores the object that is invoking the method"
      ],
      "metadata": {
        "id": "fSY-Jg5N-7zW"
      }
    },
    {
      "cell_type": "code",
      "source": [
        "class Customer:\n",
        "\n",
        "  def __init__(self,bill, customer_name):\n",
        "     self.bill = bill\n",
        "     self.name = customer_name\n",
        "\n",
        "  def pay_bill(self):\n",
        "    print(\"Paid: \",self.bill)\n",
        "\n",
        "c1=Customer(300, \"shashank\")\n",
        "print(c1.bill, c1.name)"
      ],
      "metadata": {
        "colab": {
          "base_uri": "https://localhost:8080/"
        },
        "id": "5x8EhVMG9V52",
        "outputId": "dc89f2b1-fb88-4dfc-deac-da384f5bd620"
      },
      "execution_count": null,
      "outputs": [
        {
          "output_type": "stream",
          "name": "stdout",
          "text": [
            "300 shashank\n"
          ]
        }
      ]
    },
    {
      "cell_type": "code",
      "source": [
        "c2= Customer(400, 'rahul')"
      ],
      "metadata": {
        "id": "eQN0rWGc_oXg"
      },
      "execution_count": null,
      "outputs": []
    },
    {
      "cell_type": "markdown",
      "source": [
        "Question: Repeat init:\n",
        "\n",
        "`__init__`: it declares common attributes which every instance of a class must have."
      ],
      "metadata": {
        "id": "Vfie-dGkBMlu"
      }
    },
    {
      "cell_type": "code",
      "source": [
        "class Customer:\n",
        "\n",
        "  def __init__(self,bill, customer_name, age):\n",
        "     self.bill = bill\n",
        "     self.name = customer_name\n",
        "     self.age =age\n",
        "\n",
        "  def pay_bill(self):\n",
        "    print(\"Paid: \",self.bill)\n",
        "\n",
        "c1=Customer(300, \"shashank\" , 30)\n",
        "\n",
        "print(c1.bill, c1.name, c1.age)"
      ],
      "metadata": {
        "colab": {
          "base_uri": "https://localhost:8080/"
        },
        "id": "B-aTvzPDAtxk",
        "outputId": "a4a1e31f-b9eb-4272-bdb9-f2bef9b56cb0"
      },
      "execution_count": null,
      "outputs": [
        {
          "output_type": "stream",
          "name": "stdout",
          "text": [
            "300 shashank 30\n"
          ]
        }
      ]
    },
    {
      "cell_type": "code",
      "source": [
        "c2=Customer(400, \"Sachin\",  31)\n",
        "print(c2.bill, c2.name)"
      ],
      "metadata": {
        "colab": {
          "base_uri": "https://localhost:8080/"
        },
        "id": "0fWPc6DUCvwm",
        "outputId": "19bead54-bd06-47d6-f1ef-92ab29b2d8ab"
      },
      "execution_count": null,
      "outputs": [
        {
          "output_type": "stream",
          "name": "stdout",
          "text": [
            "400 Sachin\n"
          ]
        }
      ]
    },
    {
      "cell_type": "code",
      "source": [
        "c2.age = 40\n",
        "print(c2.age)"
      ],
      "metadata": {
        "colab": {
          "base_uri": "https://localhost:8080/"
        },
        "id": "Qf1fC4GTC7wb",
        "outputId": "d3847e3d-ff6d-44f2-e9ae-2e011a68d58f"
      },
      "execution_count": null,
      "outputs": [
        {
          "output_type": "stream",
          "name": "stdout",
          "text": [
            "40\n"
          ]
        }
      ]
    },
    {
      "cell_type": "markdown",
      "source": [
        "### Class Variable:\n",
        "\n",
        "A varible whose value is shared across all the objects of the class:"
      ],
      "metadata": {
        "id": "Kw3oPwAqDke_"
      }
    },
    {
      "cell_type": "code",
      "source": [
        "class Student:\n",
        "  batch_name = 'June22' # class variable\n",
        "  \n",
        "  def __init__(self, name, age):\n",
        "    self.name = name\n",
        "    self.age =age\n",
        "\n",
        "s1 = Student(\"Chayan\", 30)\n",
        "print(s1.name)"
      ],
      "metadata": {
        "colab": {
          "base_uri": "https://localhost:8080/"
        },
        "id": "kwnju1T3DDIZ",
        "outputId": "ef6776c9-fc92-461b-ec91-bde6756fdc74"
      },
      "execution_count": null,
      "outputs": [
        {
          "output_type": "stream",
          "name": "stdout",
          "text": [
            "Chayan\n"
          ]
        }
      ]
    },
    {
      "cell_type": "code",
      "source": [
        "print(s1.batch_name)"
      ],
      "metadata": {
        "colab": {
          "base_uri": "https://localhost:8080/"
        },
        "id": "w0sSfYx4ET42",
        "outputId": "847819a4-1ff6-4a9c-b49b-97301c8012e5"
      },
      "execution_count": null,
      "outputs": [
        {
          "output_type": "stream",
          "name": "stdout",
          "text": [
            "June22\n"
          ]
        }
      ]
    },
    {
      "cell_type": "code",
      "source": [
        "s2 = Student(\"Needa\", 20)\n",
        "print(s2.name)"
      ],
      "metadata": {
        "colab": {
          "base_uri": "https://localhost:8080/"
        },
        "id": "7qhHbdoMEB57",
        "outputId": "a23f2cbc-03d0-4044-a4ae-8c2ea2744b0d"
      },
      "execution_count": null,
      "outputs": [
        {
          "output_type": "stream",
          "name": "stdout",
          "text": [
            "Needa\n"
          ]
        }
      ]
    },
    {
      "cell_type": "code",
      "source": [
        "print(s2.batch_name)"
      ],
      "metadata": {
        "colab": {
          "base_uri": "https://localhost:8080/"
        },
        "id": "u8VLFGhaEaUG",
        "outputId": "50f3c820-bd93-4aa8-acb9-54faf5da3d4d"
      },
      "execution_count": null,
      "outputs": [
        {
          "output_type": "stream",
          "name": "stdout",
          "text": [
            "June22\n"
          ]
        }
      ]
    },
    {
      "cell_type": "markdown",
      "source": [
        "#### Q: What if i update class variable?"
      ],
      "metadata": {
        "id": "D9lPSccWHP56"
      }
    },
    {
      "cell_type": "code",
      "source": [
        "# classname.variable\n",
        "Student.batch_name = \"May22\""
      ],
      "metadata": {
        "id": "bgngtS3vETMV"
      },
      "execution_count": null,
      "outputs": []
    },
    {
      "cell_type": "code",
      "source": [
        "print(s2.batch_name)"
      ],
      "metadata": {
        "colab": {
          "base_uri": "https://localhost:8080/"
        },
        "id": "dWlw9AG3EGTM",
        "outputId": "7f48c8fd-0c86-4dd3-8775-7500964de764"
      },
      "execution_count": null,
      "outputs": [
        {
          "output_type": "stream",
          "name": "stdout",
          "text": [
            "May22\n"
          ]
        }
      ]
    },
    {
      "cell_type": "code",
      "source": [
        "print(s1.batch_name)"
      ],
      "metadata": {
        "colab": {
          "base_uri": "https://localhost:8080/"
        },
        "id": "I18WMNVSE-Z3",
        "outputId": "6e6532ee-d01a-4d6a-c255-48dae0cf9bf9"
      },
      "execution_count": null,
      "outputs": [
        {
          "output_type": "stream",
          "name": "stdout",
          "text": [
            "May22\n"
          ]
        }
      ]
    },
    {
      "cell_type": "markdown",
      "source": [
        "- changes would be reflected in all objects."
      ],
      "metadata": {
        "id": "pv3QA29tHZIm"
      }
    },
    {
      "cell_type": "markdown",
      "source": [
        "#### Q: What if i create/update class variable using object instead of calss"
      ],
      "metadata": {
        "id": "PQoYpQj9HdP4"
      }
    },
    {
      "cell_type": "code",
      "source": [
        "s1.batch_name = 'June22'"
      ],
      "metadata": {
        "id": "BYuTY0suFEXa"
      },
      "execution_count": null,
      "outputs": []
    },
    {
      "cell_type": "code",
      "source": [
        "print(s1.name, s1.batch_name)"
      ],
      "metadata": {
        "colab": {
          "base_uri": "https://localhost:8080/"
        },
        "id": "C_Oc3SWeFXlr",
        "outputId": "f361cd63-fbf8-4868-99f0-9a714f3dd18e"
      },
      "execution_count": null,
      "outputs": [
        {
          "output_type": "stream",
          "name": "stdout",
          "text": [
            "Chayan June22\n"
          ]
        }
      ]
    },
    {
      "cell_type": "code",
      "source": [
        "print(s2.name,s2.batch_name)"
      ],
      "metadata": {
        "colab": {
          "base_uri": "https://localhost:8080/"
        },
        "id": "d4z1sYIOFbEW",
        "outputId": "19d8ce10-8500-4dd6-c1f6-ad63d3833e7f"
      },
      "execution_count": null,
      "outputs": [
        {
          "output_type": "stream",
          "name": "stdout",
          "text": [
            "Needa May22\n"
          ]
        }
      ]
    },
    {
      "cell_type": "markdown",
      "source": [
        "- a new instance variable will be created belonging to only the object that tried to update the attribute"
      ],
      "metadata": {
        "id": "35jYX380FwMA"
      }
    },
    {
      "cell_type": "code",
      "source": [
        "Student.batch_name"
      ],
      "metadata": {
        "id": "P79Nna2zFi1W"
      },
      "execution_count": null,
      "outputs": []
    },
    {
      "cell_type": "markdown",
      "source": [
        "Things we convered so far:\n",
        "- __init__\n",
        "- self\n",
        "- class variable\n",
        "\n",
        "\n",
        "### LET\"s Launch some quizzes to test our understanding:"
      ],
      "metadata": {
        "id": "z2k2NamaGmd4"
      }
    },
    {
      "cell_type": "code",
      "source": [
        "class Student:\n",
        "  batch = 'June22'\n",
        "  def __init__(self, name):\n",
        "    self.name = name              \n",
        "  def get_person_name(self):\n",
        "    print(self.name)\n",
        "\n",
        "p1=Student(\"Needa\")\n",
        "\n",
        "\n",
        "p2=Student(\"Chayan\")\n",
        "p2.batch = 'July22'\n",
        "\n",
        "\n",
        "print(Student.batch, p1.batch, p2.batch)"
      ],
      "metadata": {
        "colab": {
          "base_uri": "https://localhost:8080/"
        },
        "id": "oRjpH8WwGk8c",
        "outputId": "cb0f82d9-c735-4f65-dd47-ed9b48676e17"
      },
      "execution_count": null,
      "outputs": [
        {
          "output_type": "stream",
          "name": "stdout",
          "text": [
            "June22 June22 July22\n"
          ]
        }
      ]
    },
    {
      "cell_type": "markdown",
      "source": [
        "if class_variable and instance_variable both have same attribute_name, accessing using object would get instance variable"
      ],
      "metadata": {
        "id": "mzGaLuqNHgDR"
      }
    },
    {
      "cell_type": "code",
      "source": [
        "### Quiz 3:\n",
        "class Student:\n",
        "  def __init__(self, name):\n",
        "    self.name = name              \n",
        "  def get_person_name(self):\n",
        "    print(self.name)\n",
        "p1=Student(\"Priyanka\")\n",
        "print(p1.get_person_name())"
      ],
      "metadata": {
        "colab": {
          "base_uri": "https://localhost:8080/"
        },
        "id": "rIUS_xqoG84i",
        "outputId": "dd9cf5c6-59ec-490c-bee2-1d50c85bd921"
      },
      "execution_count": null,
      "outputs": [
        {
          "output_type": "stream",
          "name": "stdout",
          "text": [
            "Priyanka\n",
            "None\n"
          ]
        }
      ]
    },
    {
      "cell_type": "code",
      "source": [
        "a = p1.get_person_name()\n",
        "print('a',a)"
      ],
      "metadata": {
        "colab": {
          "base_uri": "https://localhost:8080/"
        },
        "id": "z0hYEN_YOruH",
        "outputId": "1a5ffb89-cb04-425d-947d-f70af60ad6f0"
      },
      "execution_count": null,
      "outputs": [
        {
          "output_type": "stream",
          "name": "stdout",
          "text": [
            "Priyanka\n",
            "a None\n"
          ]
        }
      ]
    },
    {
      "cell_type": "code",
      "source": [
        "### Quiz 3:\n",
        "class Student:\n",
        "  def __init__(self, name):\n",
        "    self.name = name              \n",
        "  def get_person_name(self):\n",
        "    return self.name\n",
        "p1=Student(\"Mohammad\")\n",
        "\n",
        "print(p1.get_person_name(), p1.name)"
      ],
      "metadata": {
        "colab": {
          "base_uri": "https://localhost:8080/"
        },
        "id": "2SzRGewDIakC",
        "outputId": "9805e855-9c28-4dfd-ec5c-0188d2d4b39d"
      },
      "execution_count": null,
      "outputs": [
        {
          "output_type": "stream",
          "name": "stdout",
          "text": [
            "Mohammad Mohammad\n"
          ]
        }
      ]
    },
    {
      "cell_type": "code",
      "source": [
        "p1.name = 'Mohamed' \n",
        "print(p1.get_person_name(), p1.name)"
      ],
      "metadata": {
        "colab": {
          "base_uri": "https://localhost:8080/"
        },
        "id": "GBfYL1TzJEAV",
        "outputId": "a63b923e-45f1-4d6f-d18a-8e35bd8b9b8a"
      },
      "execution_count": null,
      "outputs": [
        {
          "output_type": "stream",
          "name": "stdout",
          "text": [
            "Mohamed Mohamed\n"
          ]
        }
      ]
    },
    {
      "cell_type": "markdown",
      "source": [],
      "metadata": {
        "id": "d8DCO-KyJDSa"
      }
    },
    {
      "cell_type": "code",
      "source": [
        "### Quiz 3:\n",
        "class Student:\n",
        "  batch_name = 'jun22'\n",
        "  institute = 'scaler'\n",
        "  def __init__(self, name, salary):\n",
        "    self.name = name         \n",
        "    self.salary = salary\n",
        "     \n",
        "  def get_person_name(self):\n",
        "    return self\n",
        "\n",
        "\n",
        "p1=Student(\"Mohammad\", 2000)\n",
        "p1.age = 20\n",
        "p1.get_person_name(2000)"
      ],
      "metadata": {
        "colab": {
          "base_uri": "https://localhost:8080/"
        },
        "id": "4Rw_r2hRJzM-",
        "outputId": "11e876a7-45a7-4903-c4b6-024d114785ca"
      },
      "execution_count": null,
      "outputs": [
        {
          "output_type": "execute_result",
          "data": {
            "text/plain": [
              "2000"
            ]
          },
          "metadata": {},
          "execution_count": 107
        }
      ]
    },
    {
      "cell_type": "code",
      "source": [
        "p1.salary"
      ],
      "metadata": {
        "colab": {
          "base_uri": "https://localhost:8080/",
          "height": 169
        },
        "id": "Ev-185dBNcGl",
        "outputId": "c005b230-3b9f-4e78-cf08-9e75e69da8df"
      },
      "execution_count": null,
      "outputs": [
        {
          "output_type": "error",
          "ename": "AttributeError",
          "evalue": "ignored",
          "traceback": [
            "\u001b[0;31m---------------------------------------------------------------------------\u001b[0m",
            "\u001b[0;31mAttributeError\u001b[0m                            Traceback (most recent call last)",
            "\u001b[0;32m<ipython-input-108-9362b6e44cde>\u001b[0m in \u001b[0;36m<module>\u001b[0;34m\u001b[0m\n\u001b[0;32m----> 1\u001b[0;31m \u001b[0mp1\u001b[0m\u001b[0;34m.\u001b[0m\u001b[0msalary\u001b[0m\u001b[0;34m\u001b[0m\u001b[0;34m\u001b[0m\u001b[0m\n\u001b[0m",
            "\u001b[0;31mAttributeError\u001b[0m: 'Student' object has no attribute 'salary'"
          ]
        }
      ]
    },
    {
      "cell_type": "code",
      "source": [
        "### Quiz 2 :\n",
        "class Student:\n",
        "  def __init__(self, name):\n",
        "    self.name = name              \n",
        "  def get_person_name(self):\n",
        "    \n",
        "p1 = Student(\"Manju\")\n",
        "p2 = Student(\"Chandan\")\n",
        "p2.age = 30\n",
        "print(p1.get_person_name(), p2.get_person_name())\n"
      ],
      "metadata": {
        "colab": {
          "base_uri": "https://localhost:8080/"
        },
        "id": "TOKX8zsOLBSG",
        "outputId": "9dbefcda-edf6-42c6-d2de-93e19eadba1e"
      },
      "execution_count": null,
      "outputs": [
        {
          "output_type": "stream",
          "name": "stdout",
          "text": [
            "Manju Chandan\n"
          ]
        }
      ]
    },
    {
      "cell_type": "code",
      "source": [
        "print(p2.__dict__)"
      ],
      "metadata": {
        "colab": {
          "base_uri": "https://localhost:8080/"
        },
        "id": "Nn2sgtiULB1a",
        "outputId": "6aecaef0-8c5f-42e9-8edf-27a43afdfb54"
      },
      "execution_count": null,
      "outputs": [
        {
          "output_type": "stream",
          "name": "stdout",
          "text": [
            "{'name': 'Chandan'}\n"
          ]
        }
      ]
    },
    {
      "cell_type": "code",
      "source": [
        "a = 10\n"
      ],
      "metadata": {
        "id": "RHkuxzCwL2l6"
      },
      "execution_count": null,
      "outputs": []
    },
    {
      "cell_type": "markdown",
      "source": [
        "### Question:\n",
        "create a class to represent a food order charge in Zomato with following attrubutes:\n",
        "\n",
        "\n",
        "- class Name: FoodOrder\n",
        "- class_variable\n",
        "  - base_charge, value = 20 (represents the minimum fixed base charge on every order)\n",
        "- Instance Variables:\n",
        "  - delivery_agent_name: name of delivery person to be assigned\n",
        "  - distance: Distance of restaurant from destination\n",
        "\n",
        "- method:\n",
        "  - calculate_final_bill: Used for calculating the total bill amount\n",
        "  - logic: \n",
        "    - for first 3 kms 5 rs per km:\n",
        "    - for next between 2 km: 10 rs per km \n",
        "    - for remaining km: 20 rs per km\n",
        "\n",
        "  add base-charge defined as class variable and return final bill "
      ],
      "metadata": {
        "id": "aNRAnfhOOQkz"
      }
    },
    {
      "cell_type": "code",
      "source": [
        "### Quiz 3:\n",
        "class Student:\n",
        "  def __init__(self, name, age):\n",
        "    self.name = age  \n",
        "\n",
        "  def get_person_name(self):\n",
        "    print(self.name)\n",
        "p1=Student(name=\"Priyanka\" , age= 20)"
      ],
      "metadata": {
        "id": "gAHpVI4zOSAT"
      },
      "execution_count": null,
      "outputs": []
    },
    {
      "cell_type": "code",
      "source": [
        "p1.name"
      ],
      "metadata": {
        "colab": {
          "base_uri": "https://localhost:8080/"
        },
        "id": "_Qn2o3DwQPN7",
        "outputId": "60eda968-8580-4733-c122-d5e804be893a"
      },
      "execution_count": null,
      "outputs": [
        {
          "output_type": "execute_result",
          "data": {
            "text/plain": [
              "20"
            ]
          },
          "metadata": {},
          "execution_count": 122
        }
      ]
    },
    {
      "cell_type": "code",
      "source": [],
      "metadata": {
        "id": "zK4CMwSkQvPg"
      },
      "execution_count": null,
      "outputs": []
    },
    {
      "cell_type": "markdown",
      "source": [
        "#### Solution"
      ],
      "metadata": {
        "id": "OamNW1CcThob"
      }
    },
    {
      "cell_type": "code",
      "source": [
        "class FoodOrder:\n",
        "  base_charge = 20\n",
        "\n",
        "  def __init__(self, agent_name, distance):\n",
        "    self.agent_name = agent_name\n",
        "    self.distance=distance\n",
        "\n",
        "  def calculate_final_bill(self):\n",
        "    if self.distance<=3:\n",
        "      final_bill = distance*5\n",
        "    elif self.distance>=3 and self.distance<=5:\n",
        "      final_bill = 3*5 + (self.distance-3)*10\n",
        "    else:\n",
        "      final_bill = 3*5 + 2*10 +(self.distance-5)*20\n",
        "\n",
        "    return final_bill+FoodOrder.base_charge\n",
        "\n",
        "\n",
        "\n",
        "order1= FoodOrder(\"Jacob\", 15)\n",
        "order1.calculate_final_bill()"
      ],
      "metadata": {
        "colab": {
          "base_uri": "https://localhost:8080/"
        },
        "id": "vwOsCpCqSBHt",
        "outputId": "dc6a8e2b-7664-48c1-c94b-3fd083ca497b"
      },
      "execution_count": null,
      "outputs": [
        {
          "output_type": "execute_result",
          "data": {
            "text/plain": [
              "255"
            ]
          },
          "metadata": {},
          "execution_count": 124
        }
      ]
    },
    {
      "cell_type": "code",
      "source": [],
      "metadata": {
        "id": "ebo6pUoZQZwB"
      },
      "execution_count": null,
      "outputs": []
    }
  ]
}