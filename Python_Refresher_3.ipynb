{
 "cells": [
  {
   "cell_type": "markdown",
   "id": "029006e7",
   "metadata": {},
   "source": [
    "# DSML Intermediate : Python Refresher - 3\n"
   ]
  },
  {
   "cell_type": "markdown",
   "id": "61374745",
   "metadata": {},
   "source": [
    "## Recap"
   ]
  },
  {
   "cell_type": "code",
   "execution_count": 10,
   "id": "9c63a167",
   "metadata": {},
   "outputs": [
    {
     "name": "stdout",
     "output_type": "stream",
     "text": [
      "12\n",
      "5\n"
     ]
    }
   ],
   "source": [
    "a, b = 12, 5\n",
    "print(a)\n",
    "print(b)\n"
   ]
  },
  {
   "cell_type": "code",
   "execution_count": 11,
   "id": "4c3e2565",
   "metadata": {},
   "outputs": [
    {
     "name": "stdout",
     "output_type": "stream",
     "text": [
      "17\n"
     ]
    }
   ],
   "source": [
    "print(a + b)"
   ]
  },
  {
   "cell_type": "code",
   "execution_count": 15,
   "id": "5ca89da7",
   "metadata": {},
   "outputs": [
    {
     "name": "stdout",
     "output_type": "stream",
     "text": [
      "False\n"
     ]
    }
   ],
   "source": [
    "if \"\":\n",
    "    print('True')\n",
    "else:\n",
    "    print('False')"
   ]
  },
  {
   "cell_type": "code",
   "execution_count": 16,
   "id": "5fcd6ffe",
   "metadata": {},
   "outputs": [
    {
     "name": "stdout",
     "output_type": "stream",
     "text": [
      "False\n"
     ]
    }
   ],
   "source": [
    "if 0:\n",
    "    print('True')\n",
    "else:\n",
    "    print('False')"
   ]
  },
  {
   "cell_type": "code",
   "execution_count": 17,
   "id": "f9c8f30f",
   "metadata": {},
   "outputs": [
    {
     "name": "stdout",
     "output_type": "stream",
     "text": [
      "False\n"
     ]
    }
   ],
   "source": [
    "if 0.0:\n",
    "    print('True')\n",
    "else:\n",
    "    print('False')"
   ]
  },
  {
   "cell_type": "code",
   "execution_count": 18,
   "id": "58834391",
   "metadata": {},
   "outputs": [
    {
     "name": "stdout",
     "output_type": "stream",
     "text": [
      "False\n"
     ]
    }
   ],
   "source": [
    "if False:\n",
    "    print('True')\n",
    "else:\n",
    "    print('False')"
   ]
  },
  {
   "cell_type": "code",
   "execution_count": 19,
   "id": "e4b6c04c",
   "metadata": {},
   "outputs": [
    {
     "name": "stdout",
     "output_type": "stream",
     "text": [
      "True\n"
     ]
    }
   ],
   "source": [
    "if True:\n",
    "    print('True')\n",
    "else:\n",
    "    print('False')"
   ]
  },
  {
   "cell_type": "code",
   "execution_count": 20,
   "id": "5fb4b3f3",
   "metadata": {},
   "outputs": [
    {
     "name": "stdout",
     "output_type": "stream",
     "text": [
      "True\n"
     ]
    }
   ],
   "source": [
    "if 0.9:\n",
    "    print('True')\n",
    "else:\n",
    "    print('False')"
   ]
  },
  {
   "cell_type": "code",
   "execution_count": 21,
   "id": "bc4a9c8e",
   "metadata": {},
   "outputs": [
    {
     "name": "stdout",
     "output_type": "stream",
     "text": [
      "True\n"
     ]
    }
   ],
   "source": [
    "a, b = 12, 5\n",
    "\n",
    "if a + b:\n",
    "    print('True')\n",
    "else:\n",
    "    print('False')"
   ]
  },
  {
   "cell_type": "code",
   "execution_count": 4,
   "id": "c40b68fa",
   "metadata": {},
   "outputs": [
    {
     "data": {
      "text/plain": [
       "[]"
      ]
     },
     "execution_count": 4,
     "metadata": {},
     "output_type": "execute_result"
    }
   ],
   "source": [
    "a = [1,2,3,4,5,6,7,8,9,10]\n",
    "\n",
    "a[3:8:-1]"
   ]
  },
  {
   "cell_type": "markdown",
   "id": "43be0ba3",
   "metadata": {},
   "source": [
    "### Up Next\n",
    "\n",
    "0. HW to be discussed\n",
    "1. Tuples\n",
    "2. Sets and Dictionaries\n",
    "3. Lists => Deep Copy\n",
    "4. Comprehension\n",
    "5. Some more important methods in the list, set, tuples, dict"
   ]
  },
  {
   "cell_type": "markdown",
   "id": "428d457f",
   "metadata": {},
   "source": [
    "# Python Refresher - 3"
   ]
  },
  {
   "cell_type": "markdown",
   "id": "1ddaf774",
   "metadata": {},
   "source": [
    "## Iteration: Looping"
   ]
  },
  {
   "cell_type": "markdown",
   "id": "0859e2e8",
   "metadata": {},
   "source": [
    "### While Loops"
   ]
  },
  {
   "cell_type": "code",
   "execution_count": 5,
   "id": "8e839554",
   "metadata": {},
   "outputs": [
    {
     "name": "stdout",
     "output_type": "stream",
     "text": [
      "100\n"
     ]
    }
   ],
   "source": [
    "x=0\n",
    "\n",
    "while (x < 100):\n",
    "    x+=2\n",
    "\n",
    "print(x)"
   ]
  },
  {
   "cell_type": "code",
   "execution_count": 8,
   "id": "608d3e4f",
   "metadata": {},
   "outputs": [
    {
     "name": "stdout",
     "output_type": "stream",
     "text": [
      "2 True\n",
      "4 True\n",
      "6 True\n",
      "8 True\n",
      "10 False\n",
      "10\n"
     ]
    }
   ],
   "source": [
    "x=0\n",
    "\n",
    "while (x < 10):\n",
    "    x+=2\n",
    "    print(x, x < 10)\n",
    "\n",
    "print(x)"
   ]
  },
  {
   "cell_type": "markdown",
   "id": "f35b0b6a",
   "metadata": {},
   "source": [
    "### Nested List HW"
   ]
  },
  {
   "cell_type": "code",
   "execution_count": 24,
   "id": "df0f24fc",
   "metadata": {},
   "outputs": [
    {
     "name": "stdout",
     "output_type": "stream",
     "text": [
      "['']\n"
     ]
    }
   ],
   "source": [
    "board = ['' * 3]\n",
    "print(board)"
   ]
  },
  {
   "cell_type": "code",
   "execution_count": 25,
   "id": "7a76a9cb",
   "metadata": {},
   "outputs": [
    {
     "data": {
      "text/plain": [
       "'aaa'"
      ]
     },
     "execution_count": 25,
     "metadata": {},
     "output_type": "execute_result"
    }
   ],
   "source": [
    "'a' * 3"
   ]
  },
  {
   "cell_type": "code",
   "execution_count": 26,
   "id": "b0719213",
   "metadata": {},
   "outputs": [
    {
     "data": {
      "text/plain": [
       "''"
      ]
     },
     "execution_count": 26,
     "metadata": {},
     "output_type": "execute_result"
    }
   ],
   "source": [
    "'' * 3"
   ]
  },
  {
   "cell_type": "code",
   "execution_count": 27,
   "id": "1fb6e3e8",
   "metadata": {},
   "outputs": [
    {
     "name": "stdout",
     "output_type": "stream",
     "text": [
      "['', '', '']\n"
     ]
    }
   ],
   "source": [
    "board = [''] * 3\n",
    "print(board)"
   ]
  },
  {
   "cell_type": "code",
   "execution_count": 28,
   "id": "1d5a630c",
   "metadata": {},
   "outputs": [
    {
     "data": {
      "text/plain": [
       "True"
      ]
     },
     "execution_count": 28,
     "metadata": {},
     "output_type": "execute_result"
    }
   ],
   "source": [
    "id(board[0]) == id(board[1]) == id (board[2])"
   ]
  },
  {
   "cell_type": "code",
   "execution_count": 44,
   "id": "1f87e9b1",
   "metadata": {},
   "outputs": [
    {
     "data": {
      "text/plain": [
       "False"
      ]
     },
     "execution_count": 44,
     "metadata": {},
     "output_type": "execute_result"
    }
   ],
   "source": [
    "board = [1, 1, 2]\n",
    "\n",
    "id(board[0]) == id(board[1]) == id(board[2])"
   ]
  },
  {
   "cell_type": "code",
   "execution_count": 47,
   "id": "d8934a76",
   "metadata": {},
   "outputs": [
    {
     "data": {
      "text/plain": [
       "140538585904832"
      ]
     },
     "execution_count": 47,
     "metadata": {},
     "output_type": "execute_result"
    }
   ],
   "source": [
    "id(board) # id of the list"
   ]
  },
  {
   "cell_type": "code",
   "execution_count": 48,
   "id": "abe3d608",
   "metadata": {},
   "outputs": [
    {
     "data": {
      "text/plain": [
       "140539114613040"
      ]
     },
     "execution_count": 48,
     "metadata": {},
     "output_type": "execute_result"
    }
   ],
   "source": [
    "id(board[0])"
   ]
  },
  {
   "cell_type": "code",
   "execution_count": 49,
   "id": "b61f5042",
   "metadata": {},
   "outputs": [
    {
     "data": {
      "text/plain": [
       "140539114613040"
      ]
     },
     "execution_count": 49,
     "metadata": {},
     "output_type": "execute_result"
    }
   ],
   "source": [
    "id(board[1])"
   ]
  },
  {
   "cell_type": "code",
   "execution_count": 50,
   "id": "6550465c",
   "metadata": {},
   "outputs": [
    {
     "data": {
      "text/plain": [
       "140539114613072"
      ]
     },
     "execution_count": 50,
     "metadata": {},
     "output_type": "execute_result"
    }
   ],
   "source": [
    "id(board[2])"
   ]
  },
  {
   "cell_type": "code",
   "execution_count": 51,
   "id": "27c65e6c",
   "metadata": {},
   "outputs": [],
   "source": [
    "board = [''] * 3"
   ]
  },
  {
   "cell_type": "code",
   "execution_count": 52,
   "id": "b125731c",
   "metadata": {},
   "outputs": [
    {
     "name": "stdout",
     "output_type": "stream",
     "text": [
      "['', '', '']\n"
     ]
    }
   ],
   "source": [
    "print(board)"
   ]
  },
  {
   "cell_type": "code",
   "execution_count": 53,
   "id": "e5b4d26d",
   "metadata": {},
   "outputs": [],
   "source": [
    "board[0] = '0'"
   ]
  },
  {
   "cell_type": "code",
   "execution_count": 54,
   "id": "6faab4ba",
   "metadata": {},
   "outputs": [
    {
     "name": "stdout",
     "output_type": "stream",
     "text": [
      "['0', '', '']\n"
     ]
    }
   ],
   "source": [
    "print(board)"
   ]
  },
  {
   "cell_type": "code",
   "execution_count": null,
   "id": "130c1565",
   "metadata": {},
   "outputs": [],
   "source": []
  },
  {
   "cell_type": "code",
   "execution_count": 56,
   "id": "632abaf1",
   "metadata": {},
   "outputs": [
    {
     "data": {
      "text/plain": [
       "True"
      ]
     },
     "execution_count": 56,
     "metadata": {},
     "output_type": "execute_result"
    }
   ],
   "source": [
    "a = 'x'\n",
    "b = 'x'\n",
    "\n",
    "id(a) == id(b)"
   ]
  },
  {
   "cell_type": "code",
   "execution_count": 57,
   "id": "ec38d8a6",
   "metadata": {},
   "outputs": [
    {
     "name": "stdout",
     "output_type": "stream",
     "text": [
      "0 x\n"
     ]
    }
   ],
   "source": [
    "a = '0'\n",
    "\n",
    "print(a, b)"
   ]
  },
  {
   "cell_type": "code",
   "execution_count": 58,
   "id": "291676d7",
   "metadata": {},
   "outputs": [
    {
     "name": "stdout",
     "output_type": "stream",
     "text": [
      "['0', '', '']\n"
     ]
    }
   ],
   "source": [
    "board = [''] * 3\n",
    "board[0] = '0'\n",
    "print(board)"
   ]
  },
  {
   "cell_type": "code",
   "execution_count": null,
   "id": "35c86566",
   "metadata": {},
   "outputs": [],
   "source": []
  },
  {
   "cell_type": "code",
   "execution_count": 319,
   "id": "b8888919",
   "metadata": {},
   "outputs": [
    {
     "name": "stdout",
     "output_type": "stream",
     "text": [
      "[['', '', ''], ['', '', ''], ['', '', '']]\n"
     ]
    }
   ],
   "source": [
    "board = [['', '', ''], ['', '', ''], ['', '', '']]\n",
    "print(board)"
   ]
  },
  {
   "cell_type": "code",
   "execution_count": 320,
   "id": "b06e0296",
   "metadata": {},
   "outputs": [
    {
     "data": {
      "text/plain": [
       "['', '', '']"
      ]
     },
     "execution_count": 320,
     "metadata": {},
     "output_type": "execute_result"
    }
   ],
   "source": [
    "board[0]"
   ]
  },
  {
   "cell_type": "code",
   "execution_count": 321,
   "id": "4bcaa21e",
   "metadata": {},
   "outputs": [
    {
     "name": "stdout",
     "output_type": "stream",
     "text": [
      "140538591717248\n",
      "140538590568384\n",
      "140538589167488\n"
     ]
    }
   ],
   "source": [
    "print(id(board[0]))\n",
    "print(id(board[1]))\n",
    "print(id(board[2]))"
   ]
  },
  {
   "cell_type": "code",
   "execution_count": 322,
   "id": "2859ddff",
   "metadata": {},
   "outputs": [
    {
     "data": {
      "text/plain": [
       "True"
      ]
     },
     "execution_count": 322,
     "metadata": {},
     "output_type": "execute_result"
    }
   ],
   "source": [
    "id(board[0][0]) == id(board[1][1]) == id(board[2][2])"
   ]
  },
  {
   "cell_type": "code",
   "execution_count": 323,
   "id": "012c6791",
   "metadata": {},
   "outputs": [
    {
     "name": "stdout",
     "output_type": "stream",
     "text": [
      "140539114800752\n",
      "140539114800752\n",
      "140539114800752\n",
      "140539114800752\n",
      "140539114800752\n",
      "140539114800752\n",
      "140539114800752\n",
      "140539114800752\n",
      "140539114800752\n"
     ]
    }
   ],
   "source": [
    "R = len(board)\n",
    "C = len(board[0])\n",
    "\n",
    "for i in range(R):\n",
    "    C = len(board[i])\n",
    "    for j in range(C):\n",
    "        print(id(board[i][j]))"
   ]
  },
  {
   "cell_type": "markdown",
   "id": "eb48c18f",
   "metadata": {},
   "source": [
    "## Magic"
   ]
  },
  {
   "cell_type": "code",
   "execution_count": 81,
   "id": "f670b77b",
   "metadata": {},
   "outputs": [
    {
     "name": "stdout",
     "output_type": "stream",
     "text": [
      "[['', '', ''], ['', '', ''], ['', '', '']]\n"
     ]
    }
   ],
   "source": [
    "board = [['', '', '']] * 3\n",
    "print(board)"
   ]
  },
  {
   "cell_type": "code",
   "execution_count": 87,
   "id": "6920b888",
   "metadata": {},
   "outputs": [
    {
     "data": {
      "text/plain": [
       "140539129280320"
      ]
     },
     "execution_count": 87,
     "metadata": {},
     "output_type": "execute_result"
    }
   ],
   "source": [
    "id(board[0])"
   ]
  },
  {
   "cell_type": "code",
   "execution_count": 88,
   "id": "aa708581",
   "metadata": {},
   "outputs": [
    {
     "data": {
      "text/plain": [
       "140539129280320"
      ]
     },
     "execution_count": 88,
     "metadata": {},
     "output_type": "execute_result"
    }
   ],
   "source": [
    "id(board[1])"
   ]
  },
  {
   "cell_type": "code",
   "execution_count": 89,
   "id": "8feba56b",
   "metadata": {},
   "outputs": [
    {
     "data": {
      "text/plain": [
       "140539129280320"
      ]
     },
     "execution_count": 89,
     "metadata": {},
     "output_type": "execute_result"
    }
   ],
   "source": [
    "id(board[2])"
   ]
  },
  {
   "cell_type": "code",
   "execution_count": 90,
   "id": "267b1131",
   "metadata": {},
   "outputs": [],
   "source": [
    "board[0][0] = '0'"
   ]
  },
  {
   "cell_type": "code",
   "execution_count": 91,
   "id": "ab13d6a9",
   "metadata": {},
   "outputs": [
    {
     "name": "stdout",
     "output_type": "stream",
     "text": [
      "[['0', '', ''], ['0', '', ''], ['0', '', '']]\n"
     ]
    }
   ],
   "source": [
    "print(board)"
   ]
  },
  {
   "cell_type": "code",
   "execution_count": 80,
   "id": "955be0f2",
   "metadata": {},
   "outputs": [
    {
     "data": {
      "text/plain": [
       "True"
      ]
     },
     "execution_count": 80,
     "metadata": {},
     "output_type": "execute_result"
    }
   ],
   "source": [
    "id(board[0]) == (board[1]) == id(board[2])"
   ]
  },
  {
   "cell_type": "code",
   "execution_count": 275,
   "id": "3ad3a711",
   "metadata": {},
   "outputs": [
    {
     "name": "stdout",
     "output_type": "stream",
     "text": [
      "False\n",
      "[1, 2, 3]\n",
      "[1, 5, 3]\n"
     ]
    }
   ],
   "source": [
    "a = [1, 2, 3]\n",
    "b = [1, 2, 3] # deep copy => creating a new list => different object\n",
    "print(id(a) == id(b))\n",
    "\n",
    "b[1] = 5\n",
    "print(a)\n",
    "print(b)"
   ]
  },
  {
   "cell_type": "code",
   "execution_count": 276,
   "id": "b1df80c3",
   "metadata": {},
   "outputs": [
    {
     "name": "stdout",
     "output_type": "stream",
     "text": [
      "True\n",
      "[1, 5, 3]\n",
      "[1, 5, 3]\n"
     ]
    }
   ],
   "source": [
    "a = [1, 2, 3]\n",
    "b = a   # shallow copy => the same object in the memory\n",
    "print(id(a) == id(b))\n",
    "\n",
    "b[1] = 5\n",
    "print(a)\n",
    "print(b)"
   ]
  },
  {
   "cell_type": "code",
   "execution_count": 349,
   "id": "aea07216",
   "metadata": {},
   "outputs": [],
   "source": [
    "# board = [123252] * 3\n",
    "# print(board)"
   ]
  },
  {
   "cell_type": "code",
   "execution_count": 348,
   "id": "6ebe4986",
   "metadata": {},
   "outputs": [],
   "source": [
    "# id(board[0]) == id(board[1]) == id (board[2])"
   ]
  },
  {
   "cell_type": "code",
   "execution_count": 347,
   "id": "fe27d6b7",
   "metadata": {},
   "outputs": [],
   "source": [
    "# l = [3, 3, 3] # small integer caching [-5, 256]\n",
    "\n",
    "# id(l[0]) == id(l[1]) == id(l[2])"
   ]
  },
  {
   "cell_type": "code",
   "execution_count": 346,
   "id": "e7dcc4bb",
   "metadata": {},
   "outputs": [],
   "source": [
    "# l = [123252, 123252, 123252]\n",
    "\n",
    "# id(l[0]) == id(l[1]) == id(l[2])"
   ]
  },
  {
   "cell_type": "markdown",
   "id": "72262c64",
   "metadata": {},
   "source": [
    "## List Operations"
   ]
  },
  {
   "cell_type": "code",
   "execution_count": 121,
   "id": "34b23e04",
   "metadata": {},
   "outputs": [],
   "source": [
    "l = [4, 6, 7]\n",
    "\n",
    "l.append(10)"
   ]
  },
  {
   "cell_type": "code",
   "execution_count": 122,
   "id": "858336f7",
   "metadata": {},
   "outputs": [
    {
     "name": "stdout",
     "output_type": "stream",
     "text": [
      "[4, 6, 7, 10]\n"
     ]
    }
   ],
   "source": [
    "print(l)"
   ]
  },
  {
   "cell_type": "code",
   "execution_count": 123,
   "id": "36de42d7",
   "metadata": {},
   "outputs": [
    {
     "name": "stdout",
     "output_type": "stream",
     "text": [
      "[4, 6, 7, 10, [1, 2, 3]]\n"
     ]
    }
   ],
   "source": [
    "l.append([1, 2, 3])\n",
    "print(l)"
   ]
  },
  {
   "cell_type": "code",
   "execution_count": 124,
   "id": "ffe5b8c8",
   "metadata": {},
   "outputs": [
    {
     "data": {
      "text/plain": [
       "5"
      ]
     },
     "execution_count": 124,
     "metadata": {},
     "output_type": "execute_result"
    }
   ],
   "source": [
    "len(l)"
   ]
  },
  {
   "cell_type": "code",
   "execution_count": 125,
   "id": "9896d238",
   "metadata": {},
   "outputs": [
    {
     "data": {
      "text/plain": [
       "[1, 2, 3]"
      ]
     },
     "execution_count": 125,
     "metadata": {},
     "output_type": "execute_result"
    }
   ],
   "source": [
    "l.pop() # what does pop return? => last element"
   ]
  },
  {
   "cell_type": "code",
   "execution_count": 126,
   "id": "ac088bfb",
   "metadata": {},
   "outputs": [
    {
     "name": "stdout",
     "output_type": "stream",
     "text": [
      "[4, 6, 7, 10]\n"
     ]
    }
   ],
   "source": [
    "print(l)"
   ]
  },
  {
   "cell_type": "code",
   "execution_count": 127,
   "id": "5a629c21",
   "metadata": {},
   "outputs": [],
   "source": [
    "# l.pop(7) # pop(index)"
   ]
  },
  {
   "cell_type": "code",
   "execution_count": 128,
   "id": "52e2f3c2",
   "metadata": {},
   "outputs": [],
   "source": [
    "l.remove(7) # does not return, only remove a particular element"
   ]
  },
  {
   "cell_type": "code",
   "execution_count": 129,
   "id": "dacf6007",
   "metadata": {},
   "outputs": [
    {
     "name": "stdout",
     "output_type": "stream",
     "text": [
      "[4, 6, 10]\n"
     ]
    }
   ],
   "source": [
    "print(l)"
   ]
  },
  {
   "cell_type": "code",
   "execution_count": 131,
   "id": "c315ebd3",
   "metadata": {},
   "outputs": [],
   "source": [
    "# l.remove(7)"
   ]
  },
  {
   "cell_type": "code",
   "execution_count": 135,
   "id": "6553b3c3",
   "metadata": {},
   "outputs": [
    {
     "data": {
      "text/plain": [
       "True"
      ]
     },
     "execution_count": 135,
     "metadata": {},
     "output_type": "execute_result"
    }
   ],
   "source": [
    "4 in l # citizenship / membership operator"
   ]
  },
  {
   "cell_type": "code",
   "execution_count": 136,
   "id": "31a874e9",
   "metadata": {},
   "outputs": [
    {
     "data": {
      "text/plain": [
       "False"
      ]
     },
     "execution_count": 136,
     "metadata": {},
     "output_type": "execute_result"
    }
   ],
   "source": [
    "7 in l"
   ]
  },
  {
   "cell_type": "code",
   "execution_count": 137,
   "id": "a887da79",
   "metadata": {},
   "outputs": [],
   "source": [
    "l = [35, 12, 56, 77]"
   ]
  },
  {
   "cell_type": "markdown",
   "id": "7540a69a",
   "metadata": {},
   "source": [
    "### Iteration Protocol"
   ]
  },
  {
   "cell_type": "code",
   "execution_count": 164,
   "id": "8e19d2a7",
   "metadata": {},
   "outputs": [],
   "source": [
    "# how to check whether some thing is iterable"
   ]
  },
  {
   "cell_type": "code",
   "execution_count": 139,
   "id": "755168d5",
   "metadata": {},
   "outputs": [
    {
     "data": {
      "text/plain": [
       "<list_iterator at 0x7fd1b0a7f8b0>"
      ]
     },
     "execution_count": 139,
     "metadata": {},
     "output_type": "execute_result"
    }
   ],
   "source": [
    "iter(l)"
   ]
  },
  {
   "cell_type": "code",
   "execution_count": 140,
   "id": "d048d360",
   "metadata": {},
   "outputs": [
    {
     "ename": "TypeError",
     "evalue": "'int' object is not iterable",
     "output_type": "error",
     "traceback": [
      "\u001b[0;31m---------------------------------------------------------------------------\u001b[0m",
      "\u001b[0;31mTypeError\u001b[0m                                 Traceback (most recent call last)",
      "Input \u001b[0;32mIn [140]\u001b[0m, in \u001b[0;36m<cell line: 1>\u001b[0;34m()\u001b[0m\n\u001b[0;32m----> 1\u001b[0m \u001b[38;5;28;43miter\u001b[39;49m\u001b[43m(\u001b[49m\u001b[38;5;241;43m5\u001b[39;49m\u001b[43m)\u001b[49m\n",
      "\u001b[0;31mTypeError\u001b[0m: 'int' object is not iterable"
     ]
    }
   ],
   "source": [
    "iter(5)"
   ]
  },
  {
   "cell_type": "code",
   "execution_count": 141,
   "id": "10f0b644",
   "metadata": {},
   "outputs": [
    {
     "data": {
      "text/plain": [
       "<str_iterator at 0x7fd1b1062ac0>"
      ]
     },
     "execution_count": 141,
     "metadata": {},
     "output_type": "execute_result"
    }
   ],
   "source": [
    "iter(\"hello\")"
   ]
  },
  {
   "cell_type": "code",
   "execution_count": 142,
   "id": "0606ce9f",
   "metadata": {},
   "outputs": [
    {
     "data": {
      "text/plain": [
       "<range_iterator at 0x7fd1b1062990>"
      ]
     },
     "execution_count": 142,
     "metadata": {},
     "output_type": "execute_result"
    }
   ],
   "source": [
    "iter(range(1, 5))"
   ]
  },
  {
   "cell_type": "code",
   "execution_count": 143,
   "id": "4bf2807d",
   "metadata": {},
   "outputs": [
    {
     "ename": "TypeError",
     "evalue": "'bool' object is not iterable",
     "output_type": "error",
     "traceback": [
      "\u001b[0;31m---------------------------------------------------------------------------\u001b[0m",
      "\u001b[0;31mTypeError\u001b[0m                                 Traceback (most recent call last)",
      "Input \u001b[0;32mIn [143]\u001b[0m, in \u001b[0;36m<cell line: 1>\u001b[0;34m()\u001b[0m\n\u001b[0;32m----> 1\u001b[0m \u001b[38;5;28;43miter\u001b[39;49m\u001b[43m(\u001b[49m\u001b[38;5;28;43;01mTrue\u001b[39;49;00m\u001b[43m)\u001b[49m\n",
      "\u001b[0;31mTypeError\u001b[0m: 'bool' object is not iterable"
     ]
    }
   ],
   "source": [
    "iter(True)"
   ]
  },
  {
   "cell_type": "code",
   "execution_count": 156,
   "id": "42d40779",
   "metadata": {},
   "outputs": [],
   "source": [
    "l = [35, 12, 56, 77]\n",
    "\n",
    "i = iter(l) # is it sufficient to just get the iterator?"
   ]
  },
  {
   "cell_type": "code",
   "execution_count": 157,
   "id": "14ab4c43",
   "metadata": {},
   "outputs": [],
   "source": [
    "# you also need the next function"
   ]
  },
  {
   "cell_type": "code",
   "execution_count": 158,
   "id": "29224982",
   "metadata": {},
   "outputs": [
    {
     "data": {
      "text/plain": [
       "35"
      ]
     },
     "execution_count": 158,
     "metadata": {},
     "output_type": "execute_result"
    }
   ],
   "source": [
    "next(i)"
   ]
  },
  {
   "cell_type": "code",
   "execution_count": 159,
   "id": "68c9c0f3",
   "metadata": {},
   "outputs": [
    {
     "data": {
      "text/plain": [
       "12"
      ]
     },
     "execution_count": 159,
     "metadata": {},
     "output_type": "execute_result"
    }
   ],
   "source": [
    "next(i)"
   ]
  },
  {
   "cell_type": "code",
   "execution_count": 160,
   "id": "3e749dff",
   "metadata": {},
   "outputs": [
    {
     "data": {
      "text/plain": [
       "56"
      ]
     },
     "execution_count": 160,
     "metadata": {},
     "output_type": "execute_result"
    }
   ],
   "source": [
    "next(i)"
   ]
  },
  {
   "cell_type": "code",
   "execution_count": 161,
   "id": "bd8620f6",
   "metadata": {},
   "outputs": [
    {
     "data": {
      "text/plain": [
       "77"
      ]
     },
     "execution_count": 161,
     "metadata": {},
     "output_type": "execute_result"
    }
   ],
   "source": [
    "next(i)"
   ]
  },
  {
   "cell_type": "code",
   "execution_count": 162,
   "id": "eb0a02fb",
   "metadata": {},
   "outputs": [
    {
     "ename": "StopIteration",
     "evalue": "",
     "output_type": "error",
     "traceback": [
      "\u001b[0;31m---------------------------------------------------------------------------\u001b[0m",
      "\u001b[0;31mStopIteration\u001b[0m                             Traceback (most recent call last)",
      "Input \u001b[0;32mIn [162]\u001b[0m, in \u001b[0;36m<cell line: 1>\u001b[0;34m()\u001b[0m\n\u001b[0;32m----> 1\u001b[0m \u001b[38;5;28;43mnext\u001b[39;49m\u001b[43m(\u001b[49m\u001b[43mi\u001b[49m\u001b[43m)\u001b[49m\n",
      "\u001b[0;31mStopIteration\u001b[0m: "
     ]
    }
   ],
   "source": [
    "next(i)"
   ]
  },
  {
   "cell_type": "code",
   "execution_count": 163,
   "id": "0061c31f",
   "metadata": {},
   "outputs": [
    {
     "name": "stdout",
     "output_type": "stream",
     "text": [
      "35\n",
      "12\n",
      "56\n",
      "77\n"
     ]
    }
   ],
   "source": [
    "for i in l:\n",
    "    print(i)"
   ]
  },
  {
   "cell_type": "code",
   "execution_count": 168,
   "id": "efe45b26",
   "metadata": {},
   "outputs": [],
   "source": [
    "# dir(l)"
   ]
  },
  {
   "cell_type": "code",
   "execution_count": 169,
   "id": "561bd50d",
   "metadata": {},
   "outputs": [],
   "source": [
    "l = [[1, 2, 3, 4], [5, 6, 7, 8]]"
   ]
  },
  {
   "cell_type": "code",
   "execution_count": 172,
   "id": "bc95cf65",
   "metadata": {},
   "outputs": [
    {
     "name": "stdout",
     "output_type": "stream",
     "text": [
      "1\n",
      "2\n",
      "3\n",
      "4\n",
      "5\n",
      "Found the target\n",
      "6\n",
      "7\n",
      "8\n"
     ]
    }
   ],
   "source": [
    "target = 5\n",
    "\n",
    "for i in l:\n",
    "    # i is the list\n",
    "    # print(i)\n",
    "    for j in i:\n",
    "        print(j)\n",
    "        if j == target:\n",
    "            print('Found the target')"
   ]
  },
  {
   "cell_type": "markdown",
   "id": "1bdf12f0",
   "metadata": {},
   "source": [
    "## Tuples"
   ]
  },
  {
   "cell_type": "code",
   "execution_count": 173,
   "id": "c66fc7d8",
   "metadata": {},
   "outputs": [
    {
     "name": "stdout",
     "output_type": "stream",
     "text": [
      "[4, 5, 2, 3, 4]\n"
     ]
    }
   ],
   "source": [
    "l = [4, 5, 2, 3, 4]\n",
    "print(l)"
   ]
  },
  {
   "cell_type": "code",
   "execution_count": 174,
   "id": "94e5ee68",
   "metadata": {},
   "outputs": [],
   "source": [
    "# tuples are frozen or immutable lists"
   ]
  },
  {
   "cell_type": "code",
   "execution_count": 181,
   "id": "086a6a86",
   "metadata": {},
   "outputs": [
    {
     "data": {
      "text/plain": [
       "tuple"
      ]
     },
     "execution_count": 181,
     "metadata": {},
     "output_type": "execute_result"
    }
   ],
   "source": [
    "t = ()\n",
    "type(t) # empty tuple"
   ]
  },
  {
   "cell_type": "code",
   "execution_count": 176,
   "id": "301ce376",
   "metadata": {},
   "outputs": [
    {
     "data": {
      "text/plain": [
       "dict"
      ]
     },
     "execution_count": 176,
     "metadata": {},
     "output_type": "execute_result"
    }
   ],
   "source": [
    "d = {}\n",
    "type(d)"
   ]
  },
  {
   "cell_type": "code",
   "execution_count": 179,
   "id": "38ef7dcf",
   "metadata": {},
   "outputs": [
    {
     "data": {
      "text/plain": [
       "set"
      ]
     },
     "execution_count": 179,
     "metadata": {},
     "output_type": "execute_result"
    }
   ],
   "source": [
    "s = {1, 2, 3}\n",
    "type(s)"
   ]
  },
  {
   "cell_type": "code",
   "execution_count": 191,
   "id": "2e9f93bc",
   "metadata": {},
   "outputs": [
    {
     "data": {
      "text/plain": [
       "tuple"
      ]
     },
     "execution_count": 191,
     "metadata": {},
     "output_type": "execute_result"
    }
   ],
   "source": [
    "t = (1, 2, 3, 4, 5)\n",
    "type(t)"
   ]
  },
  {
   "cell_type": "code",
   "execution_count": 193,
   "id": "320f0690",
   "metadata": {},
   "outputs": [
    {
     "data": {
      "text/plain": [
       "tuple"
      ]
     },
     "execution_count": 193,
     "metadata": {},
     "output_type": "execute_result"
    }
   ],
   "source": [
    "t = (1,)\n",
    "type(t)"
   ]
  },
  {
   "cell_type": "code",
   "execution_count": 195,
   "id": "347a178c",
   "metadata": {},
   "outputs": [
    {
     "ename": "TypeError",
     "evalue": "'tuple' object does not support item assignment",
     "output_type": "error",
     "traceback": [
      "\u001b[0;31m---------------------------------------------------------------------------\u001b[0m",
      "\u001b[0;31mTypeError\u001b[0m                                 Traceback (most recent call last)",
      "Input \u001b[0;32mIn [195]\u001b[0m, in \u001b[0;36m<cell line: 1>\u001b[0;34m()\u001b[0m\n\u001b[0;32m----> 1\u001b[0m t[\u001b[38;5;241m0\u001b[39m] \u001b[38;5;241m=\u001b[39m \u001b[38;5;241m5\u001b[39m\n",
      "\u001b[0;31mTypeError\u001b[0m: 'tuple' object does not support item assignment"
     ]
    }
   ],
   "source": [
    "t[0] = 5 # immutable"
   ]
  },
  {
   "cell_type": "code",
   "execution_count": 197,
   "id": "2b73ca91",
   "metadata": {},
   "outputs": [
    {
     "name": "stdout",
     "output_type": "stream",
     "text": [
      "140538590094656\n",
      "140538588030656\n",
      "(5, 6, 7)\n"
     ]
    }
   ],
   "source": [
    "t = (1, 2, 3, 5, 6)\n",
    "print(id(t))\n",
    "\n",
    "t = (5, 6, 7)\n",
    "print(id(t))\n",
    "print(t)"
   ]
  },
  {
   "cell_type": "markdown",
   "id": "c200bfd6",
   "metadata": {},
   "source": [
    "## Creation of Tuples"
   ]
  },
  {
   "cell_type": "code",
   "execution_count": 182,
   "id": "8476ac2d",
   "metadata": {},
   "outputs": [
    {
     "data": {
      "text/plain": [
       "int"
      ]
     },
     "execution_count": 182,
     "metadata": {},
     "output_type": "execute_result"
    }
   ],
   "source": [
    "t = (30)\n",
    "\n",
    "type(t)"
   ]
  },
  {
   "cell_type": "code",
   "execution_count": 184,
   "id": "1d078b4d",
   "metadata": {},
   "outputs": [
    {
     "name": "stdout",
     "output_type": "stream",
     "text": [
      "59\n"
     ]
    },
    {
     "data": {
      "text/plain": [
       "int"
      ]
     },
     "execution_count": 184,
     "metadata": {},
     "output_type": "execute_result"
    }
   ],
   "source": [
    "t = (50 + 30 - 7*3)\n",
    "print(t)\n",
    "\n",
    "type(t)"
   ]
  },
  {
   "cell_type": "code",
   "execution_count": 186,
   "id": "36d98695",
   "metadata": {},
   "outputs": [
    {
     "name": "stdout",
     "output_type": "stream",
     "text": [
      "ninja hattori!! ninja hattori!! \n"
     ]
    }
   ],
   "source": [
    "t = (\"ninja hattori!! \" * 2)\n",
    "\n",
    "print(t)"
   ]
  },
  {
   "cell_type": "code",
   "execution_count": 187,
   "id": "aab01d9e",
   "metadata": {},
   "outputs": [
    {
     "data": {
      "text/plain": [
       "str"
      ]
     },
     "execution_count": 187,
     "metadata": {},
     "output_type": "execute_result"
    }
   ],
   "source": [
    "type(t)"
   ]
  },
  {
   "cell_type": "markdown",
   "id": "ac99a24a",
   "metadata": {},
   "source": [
    "#### single element tuple"
   ]
  },
  {
   "cell_type": "code",
   "execution_count": 188,
   "id": "8791998b",
   "metadata": {},
   "outputs": [
    {
     "name": "stdout",
     "output_type": "stream",
     "text": [
      "(1,)\n"
     ]
    }
   ],
   "source": [
    "t = (1,)\n",
    "print(t)"
   ]
  },
  {
   "cell_type": "code",
   "execution_count": 189,
   "id": "4299e8ea",
   "metadata": {},
   "outputs": [
    {
     "data": {
      "text/plain": [
       "tuple"
      ]
     },
     "execution_count": 189,
     "metadata": {},
     "output_type": "execute_result"
    }
   ],
   "source": [
    "type(t)"
   ]
  },
  {
   "cell_type": "code",
   "execution_count": 190,
   "id": "3072b954",
   "metadata": {},
   "outputs": [
    {
     "data": {
      "text/plain": [
       "tuple"
      ]
     },
     "execution_count": 190,
     "metadata": {},
     "output_type": "execute_result"
    }
   ],
   "source": [
    "t = (\"ninja\", \"hattori\")\n",
    "type(t)"
   ]
  },
  {
   "cell_type": "markdown",
   "id": "a0497225",
   "metadata": {},
   "source": [
    "## Unpacking"
   ]
  },
  {
   "cell_type": "code",
   "execution_count": 198,
   "id": "b6a552ce",
   "metadata": {},
   "outputs": [
    {
     "name": "stdout",
     "output_type": "stream",
     "text": [
      "(1, 2, 3)\n"
     ]
    }
   ],
   "source": [
    "t = (1, 2, 3)\n",
    "\n",
    "print(t)"
   ]
  },
  {
   "cell_type": "code",
   "execution_count": 199,
   "id": "29698ef5",
   "metadata": {},
   "outputs": [],
   "source": [
    "a, b, c = t"
   ]
  },
  {
   "cell_type": "code",
   "execution_count": 200,
   "id": "fe52ebf3",
   "metadata": {},
   "outputs": [
    {
     "name": "stdout",
     "output_type": "stream",
     "text": [
      "1\n"
     ]
    }
   ],
   "source": [
    "print(a)"
   ]
  },
  {
   "cell_type": "code",
   "execution_count": 201,
   "id": "43680169",
   "metadata": {},
   "outputs": [
    {
     "name": "stdout",
     "output_type": "stream",
     "text": [
      "2\n"
     ]
    }
   ],
   "source": [
    "print(b)"
   ]
  },
  {
   "cell_type": "code",
   "execution_count": 202,
   "id": "d2e5659a",
   "metadata": {},
   "outputs": [
    {
     "name": "stdout",
     "output_type": "stream",
     "text": [
      "3\n"
     ]
    }
   ],
   "source": [
    "print(c)"
   ]
  },
  {
   "cell_type": "code",
   "execution_count": 203,
   "id": "f5d93124",
   "metadata": {},
   "outputs": [
    {
     "name": "stdout",
     "output_type": "stream",
     "text": [
      "1\n",
      "2\n"
     ]
    }
   ],
   "source": [
    "a, b = [1, 2]\n",
    "print(a)\n",
    "print(b)"
   ]
  },
  {
   "cell_type": "code",
   "execution_count": 204,
   "id": "1074d84c",
   "metadata": {},
   "outputs": [
    {
     "ename": "ValueError",
     "evalue": "too many values to unpack (expected 3)",
     "output_type": "error",
     "traceback": [
      "\u001b[0;31m---------------------------------------------------------------------------\u001b[0m",
      "\u001b[0;31mValueError\u001b[0m                                Traceback (most recent call last)",
      "Input \u001b[0;32mIn [204]\u001b[0m, in \u001b[0;36m<cell line: 1>\u001b[0;34m()\u001b[0m\n\u001b[0;32m----> 1\u001b[0m a, b, c \u001b[38;5;241m=\u001b[39m (\u001b[38;5;241m5\u001b[39m, \u001b[38;5;241m6\u001b[39m, \u001b[38;5;241m7\u001b[39m, \u001b[38;5;241m8\u001b[39m, \u001b[38;5;241m9\u001b[39m)\n",
      "\u001b[0;31mValueError\u001b[0m: too many values to unpack (expected 3)"
     ]
    }
   ],
   "source": [
    "a, b, c = (5, 6, 7, 8, 9)"
   ]
  },
  {
   "cell_type": "code",
   "execution_count": 206,
   "id": "92e92a5f",
   "metadata": {},
   "outputs": [
    {
     "name": "stdout",
     "output_type": "stream",
     "text": [
      "35\n"
     ]
    }
   ],
   "source": [
    "a, b, c, d, e = (5, 6, 7, 8, 9)\n",
    "print(a + b + c + d + e)"
   ]
  },
  {
   "cell_type": "markdown",
   "id": "7ccc69ff",
   "metadata": {},
   "source": [
    "## Packing"
   ]
  },
  {
   "cell_type": "code",
   "execution_count": 207,
   "id": "3dbf3e34",
   "metadata": {},
   "outputs": [],
   "source": [
    "def foo():\n",
    "    return 100"
   ]
  },
  {
   "cell_type": "code",
   "execution_count": 208,
   "id": "95a444ad",
   "metadata": {},
   "outputs": [
    {
     "data": {
      "text/plain": [
       "100"
      ]
     },
     "execution_count": 208,
     "metadata": {},
     "output_type": "execute_result"
    }
   ],
   "source": [
    "foo()"
   ]
  },
  {
   "cell_type": "code",
   "execution_count": 210,
   "id": "8cd705aa",
   "metadata": {},
   "outputs": [],
   "source": [
    "x = foo()"
   ]
  },
  {
   "cell_type": "code",
   "execution_count": 211,
   "id": "0b66d5d6",
   "metadata": {},
   "outputs": [
    {
     "data": {
      "text/plain": [
       "int"
      ]
     },
     "execution_count": 211,
     "metadata": {},
     "output_type": "execute_result"
    }
   ],
   "source": [
    "type(x)"
   ]
  },
  {
   "cell_type": "code",
   "execution_count": 216,
   "id": "9045be37",
   "metadata": {},
   "outputs": [],
   "source": [
    "# python functions can return any number of values\n",
    "def foo():\n",
    "    return 100, 200 # this data is packed in a tuple"
   ]
  },
  {
   "cell_type": "code",
   "execution_count": 217,
   "id": "f5ac366e",
   "metadata": {},
   "outputs": [
    {
     "data": {
      "text/plain": [
       "(100, 200)"
      ]
     },
     "execution_count": 217,
     "metadata": {},
     "output_type": "execute_result"
    }
   ],
   "source": [
    "foo()"
   ]
  },
  {
   "cell_type": "code",
   "execution_count": 218,
   "id": "e1c09ad3",
   "metadata": {},
   "outputs": [
    {
     "data": {
      "text/plain": [
       "tuple"
      ]
     },
     "execution_count": 218,
     "metadata": {},
     "output_type": "execute_result"
    }
   ],
   "source": [
    "x = foo()\n",
    "\n",
    "type(x)"
   ]
  },
  {
   "cell_type": "code",
   "execution_count": 219,
   "id": "42494158",
   "metadata": {},
   "outputs": [],
   "source": [
    "def foo():\n",
    "    return 100, 200, 300"
   ]
  },
  {
   "cell_type": "code",
   "execution_count": 221,
   "id": "9dfc0d59",
   "metadata": {},
   "outputs": [
    {
     "data": {
      "text/plain": [
       "(100, 200, 300)"
      ]
     },
     "execution_count": 221,
     "metadata": {},
     "output_type": "execute_result"
    }
   ],
   "source": [
    "x = foo()\n",
    "x"
   ]
  },
  {
   "cell_type": "code",
   "execution_count": 227,
   "id": "b4cd38ca",
   "metadata": {},
   "outputs": [],
   "source": [
    "we, are, together = foo()"
   ]
  },
  {
   "cell_type": "code",
   "execution_count": 223,
   "id": "21143acb",
   "metadata": {},
   "outputs": [
    {
     "name": "stdout",
     "output_type": "stream",
     "text": [
      "100\n"
     ]
    }
   ],
   "source": [
    "print(we)\n"
   ]
  },
  {
   "cell_type": "code",
   "execution_count": 224,
   "id": "1e65424e",
   "metadata": {},
   "outputs": [
    {
     "name": "stdout",
     "output_type": "stream",
     "text": [
      "200\n"
     ]
    }
   ],
   "source": [
    "print(are)"
   ]
  },
  {
   "cell_type": "code",
   "execution_count": 225,
   "id": "d26a2c42",
   "metadata": {},
   "outputs": [
    {
     "name": "stdout",
     "output_type": "stream",
     "text": [
      "300\n"
     ]
    }
   ],
   "source": [
    "print(together)"
   ]
  },
  {
   "cell_type": "code",
   "execution_count": 228,
   "id": "28d11ed6",
   "metadata": {},
   "outputs": [],
   "source": [
    "x = 12, 5"
   ]
  },
  {
   "cell_type": "code",
   "execution_count": 229,
   "id": "09c7e875",
   "metadata": {},
   "outputs": [
    {
     "data": {
      "text/plain": [
       "tuple"
      ]
     },
     "execution_count": 229,
     "metadata": {},
     "output_type": "execute_result"
    }
   ],
   "source": [
    "type(x)"
   ]
  },
  {
   "cell_type": "code",
   "execution_count": 230,
   "id": "717264d5",
   "metadata": {},
   "outputs": [
    {
     "name": "stdout",
     "output_type": "stream",
     "text": [
      "(12, 5)\n"
     ]
    }
   ],
   "source": [
    "print(x)"
   ]
  },
  {
   "cell_type": "code",
   "execution_count": 231,
   "id": "c918a688",
   "metadata": {},
   "outputs": [],
   "source": [
    "t = 1, 2, 3"
   ]
  },
  {
   "cell_type": "code",
   "execution_count": 232,
   "id": "9e022eaf",
   "metadata": {},
   "outputs": [
    {
     "data": {
      "text/plain": [
       "tuple"
      ]
     },
     "execution_count": 232,
     "metadata": {},
     "output_type": "execute_result"
    }
   ],
   "source": [
    "type(t)"
   ]
  },
  {
   "cell_type": "code",
   "execution_count": 233,
   "id": "cfc17e03",
   "metadata": {},
   "outputs": [
    {
     "name": "stdout",
     "output_type": "stream",
     "text": [
      "(1, 2, 3)\n"
     ]
    }
   ],
   "source": [
    "print(t)"
   ]
  },
  {
   "cell_type": "code",
   "execution_count": 234,
   "id": "eecd2112",
   "metadata": {},
   "outputs": [],
   "source": [
    "x = 1,"
   ]
  },
  {
   "cell_type": "code",
   "execution_count": 235,
   "id": "e5ea8dbc",
   "metadata": {},
   "outputs": [
    {
     "name": "stdout",
     "output_type": "stream",
     "text": [
      "(1,)\n"
     ]
    }
   ],
   "source": [
    "print(x)"
   ]
  },
  {
   "cell_type": "markdown",
   "id": "392ae500",
   "metadata": {},
   "source": [
    "## Swap"
   ]
  },
  {
   "cell_type": "code",
   "execution_count": 236,
   "id": "05f3bfc5",
   "metadata": {},
   "outputs": [],
   "source": [
    "a, b = 1, 2"
   ]
  },
  {
   "cell_type": "code",
   "execution_count": 237,
   "id": "4c8b8b62",
   "metadata": {},
   "outputs": [
    {
     "name": "stdout",
     "output_type": "stream",
     "text": [
      "1\n"
     ]
    }
   ],
   "source": [
    "print(a)"
   ]
  },
  {
   "cell_type": "code",
   "execution_count": 238,
   "id": "a9bc1657",
   "metadata": {},
   "outputs": [
    {
     "name": "stdout",
     "output_type": "stream",
     "text": [
      "2\n"
     ]
    }
   ],
   "source": [
    "print(b)"
   ]
  },
  {
   "cell_type": "code",
   "execution_count": 239,
   "id": "f2cbe0ee",
   "metadata": {},
   "outputs": [],
   "source": [
    "a, b = b, a"
   ]
  },
  {
   "cell_type": "code",
   "execution_count": 240,
   "id": "46819e44",
   "metadata": {},
   "outputs": [
    {
     "name": "stdout",
     "output_type": "stream",
     "text": [
      "2\n"
     ]
    }
   ],
   "source": [
    "print(a)"
   ]
  },
  {
   "cell_type": "code",
   "execution_count": 241,
   "id": "160a6375",
   "metadata": {},
   "outputs": [
    {
     "name": "stdout",
     "output_type": "stream",
     "text": [
      "1\n"
     ]
    }
   ],
   "source": [
    "print(b)"
   ]
  },
  {
   "cell_type": "markdown",
   "id": "50543244",
   "metadata": {},
   "source": [
    "### Up Next\n",
    "\n",
    "0. HW to be discussed\n",
    "1. Sets and Dictionaries\n",
    "2. Lists => Deep Copy\n",
    "3. Comprehension\n",
    "4. Some more important methods in the list, set, tuples, dict"
   ]
  },
  {
   "cell_type": "markdown",
   "id": "e1f56619",
   "metadata": {},
   "source": [
    "## Doubts"
   ]
  },
  {
   "cell_type": "code",
   "execution_count": 259,
   "id": "9239c136",
   "metadata": {},
   "outputs": [],
   "source": [
    "a = 1999\n",
    "b = 2999"
   ]
  },
  {
   "cell_type": "code",
   "execution_count": 260,
   "id": "13d761e8",
   "metadata": {},
   "outputs": [],
   "source": [
    "# step 1: packing into tuple\n",
    "\n",
    "x = b, a"
   ]
  },
  {
   "cell_type": "code",
   "execution_count": 263,
   "id": "d85dd83e",
   "metadata": {},
   "outputs": [
    {
     "name": "stdout",
     "output_type": "stream",
     "text": [
      "1999 140538590154544\n"
     ]
    }
   ],
   "source": [
    "print(a, id(a))"
   ]
  },
  {
   "cell_type": "code",
   "execution_count": 264,
   "id": "d7c8f4a6",
   "metadata": {},
   "outputs": [
    {
     "name": "stdout",
     "output_type": "stream",
     "text": [
      "2999 140538590154000\n"
     ]
    }
   ],
   "source": [
    "print(b, id(b))"
   ]
  },
  {
   "cell_type": "code",
   "execution_count": 265,
   "id": "18f7c131",
   "metadata": {},
   "outputs": [
    {
     "name": "stdout",
     "output_type": "stream",
     "text": [
      "(2999, 1999)\n"
     ]
    }
   ],
   "source": [
    "print(x)"
   ]
  },
  {
   "cell_type": "code",
   "execution_count": 266,
   "id": "64b2b6b2",
   "metadata": {},
   "outputs": [],
   "source": [
    "# step 2: unpacking from tuple\n",
    "\n",
    "a, b = x"
   ]
  },
  {
   "cell_type": "code",
   "execution_count": 267,
   "id": "18b7fec9",
   "metadata": {},
   "outputs": [
    {
     "name": "stdout",
     "output_type": "stream",
     "text": [
      "2999 140538590154000\n"
     ]
    }
   ],
   "source": [
    "print(a, id(a))"
   ]
  },
  {
   "cell_type": "code",
   "execution_count": 268,
   "id": "11e8e2f2",
   "metadata": {},
   "outputs": [
    {
     "name": "stdout",
     "output_type": "stream",
     "text": [
      "1999 140538590154544\n"
     ]
    }
   ],
   "source": [
    "print(b, id(b))"
   ]
  },
  {
   "cell_type": "code",
   "execution_count": 269,
   "id": "72e387b8",
   "metadata": {},
   "outputs": [
    {
     "data": {
      "text/plain": [
       "True"
      ]
     },
     "execution_count": 269,
     "metadata": {},
     "output_type": "execute_result"
    }
   ],
   "source": [
    "t = (1, 2, 3)\n",
    "b = t\n",
    "\n",
    "id(b) == id(t)\n",
    "\n",
    "# think about it => same or different"
   ]
  },
  {
   "cell_type": "code",
   "execution_count": 273,
   "id": "dedcd00c",
   "metadata": {},
   "outputs": [],
   "source": [
    "b = (3, 4) # new object gets created here"
   ]
  },
  {
   "cell_type": "code",
   "execution_count": 271,
   "id": "285520f5",
   "metadata": {},
   "outputs": [
    {
     "name": "stdout",
     "output_type": "stream",
     "text": [
      "(1, 2, 3)\n"
     ]
    }
   ],
   "source": [
    "print(t)"
   ]
  },
  {
   "cell_type": "code",
   "execution_count": 272,
   "id": "7e17f2f8",
   "metadata": {},
   "outputs": [
    {
     "name": "stdout",
     "output_type": "stream",
     "text": [
      "(3, 4)\n"
     ]
    }
   ],
   "source": [
    "print(b)"
   ]
  },
  {
   "cell_type": "code",
   "execution_count": 274,
   "id": "fde52fbb",
   "metadata": {},
   "outputs": [
    {
     "data": {
      "text/plain": [
       "False"
      ]
     },
     "execution_count": 274,
     "metadata": {},
     "output_type": "execute_result"
    }
   ],
   "source": [
    "id(b) == id(t)"
   ]
  },
  {
   "cell_type": "code",
   "execution_count": 289,
   "id": "fb46b4fa",
   "metadata": {},
   "outputs": [
    {
     "name": "stdout",
     "output_type": "stream",
     "text": [
      "140538591235632\n",
      "True\n"
     ]
    }
   ],
   "source": [
    "a = \"iraban\"\n",
    "b = \"iraban\"\n",
    "print(id(b))\n",
    "\n",
    "print(id(a) == id(b)) # immutablev => some space optimisations to\n",
    "# avoid creating new object"
   ]
  },
  {
   "cell_type": "code",
   "execution_count": 290,
   "id": "89939f40",
   "metadata": {},
   "outputs": [
    {
     "name": "stdout",
     "output_type": "stream",
     "text": [
      "iraban\n",
      "140538591364976\n",
      "False\n"
     ]
    }
   ],
   "source": [
    "b = \"dutta\"\n",
    "\n",
    "print(a)\n",
    "print(id(b))\n",
    "print(id(a) == id(b))"
   ]
  },
  {
   "cell_type": "code",
   "execution_count": 288,
   "id": "dcb7a30a",
   "metadata": {},
   "outputs": [
    {
     "name": "stdout",
     "output_type": "stream",
     "text": [
      "140538588074944\n",
      "140538588074944\n"
     ]
    }
   ],
   "source": [
    "a = [1, 2, 3]\n",
    "b = [1, 2, 3]\n",
    "\n",
    "id(a) == id(b) # mutable\n",
    "\n",
    "print(id(a))\n",
    "\n",
    "a[0] = 4\n",
    "\n",
    "print(id(a))"
   ]
  },
  {
   "cell_type": "code",
   "execution_count": 292,
   "id": "2227af28",
   "metadata": {},
   "outputs": [
    {
     "name": "stdout",
     "output_type": "stream",
     "text": [
      "[2, 2, 2]\n"
     ]
    }
   ],
   "source": [
    "l = [2] * 3\n",
    "\n",
    "print(l)"
   ]
  },
  {
   "cell_type": "code",
   "execution_count": 308,
   "id": "27074d31",
   "metadata": {},
   "outputs": [
    {
     "name": "stdout",
     "output_type": "stream",
     "text": [
      "[[2, 2, 2], [2, 2, 2], [2, 2, 2]]\n"
     ]
    }
   ],
   "source": [
    "l = [[2] * 3] * 3\n",
    "# [2] * 3 => shallow copy of the list\n",
    "print(l)"
   ]
  },
  {
   "cell_type": "code",
   "execution_count": 309,
   "id": "bebbff61",
   "metadata": {},
   "outputs": [],
   "source": [
    "l[0][0] = 5"
   ]
  },
  {
   "cell_type": "code",
   "execution_count": 310,
   "id": "6a86686f",
   "metadata": {},
   "outputs": [
    {
     "name": "stdout",
     "output_type": "stream",
     "text": [
      "[[5, 2, 2], [5, 2, 2], [5, 2, 2]]\n"
     ]
    }
   ],
   "source": [
    "print(l)"
   ]
  },
  {
   "cell_type": "code",
   "execution_count": 300,
   "id": "d53bf5f7",
   "metadata": {},
   "outputs": [
    {
     "data": {
      "text/plain": [
       "True"
      ]
     },
     "execution_count": 300,
     "metadata": {},
     "output_type": "execute_result"
    }
   ],
   "source": [
    "id(l[0]) == id(l[1]) == id(l[2])"
   ]
  },
  {
   "cell_type": "code",
   "execution_count": 301,
   "id": "803375af",
   "metadata": {},
   "outputs": [],
   "source": [
    "l = [[2, 2, 2], [2, 2, 2], [2, 2, 2]]"
   ]
  },
  {
   "cell_type": "code",
   "execution_count": 302,
   "id": "54df637b",
   "metadata": {},
   "outputs": [
    {
     "data": {
      "text/plain": [
       "False"
      ]
     },
     "execution_count": 302,
     "metadata": {},
     "output_type": "execute_result"
    }
   ],
   "source": [
    "id(l[0]) == id(l[1]) == id(l[2])"
   ]
  },
  {
   "cell_type": "code",
   "execution_count": 311,
   "id": "ef27c6fa",
   "metadata": {},
   "outputs": [
    {
     "name": "stdout",
     "output_type": "stream",
     "text": [
      "140539114800752\n",
      "140539114800752\n",
      "140539114800752\n",
      "140539114800752\n",
      "140539114800752\n",
      "140539114800752\n",
      "140539114800752\n",
      "140539114800752\n",
      "140539114800752\n"
     ]
    }
   ],
   "source": [
    "nl=[['','',''],['','',''],['','','']]\n",
    "\n",
    "for i in range(len(nl)):\n",
    "    for j in range(len(nl[0])):\n",
    "        print(id(nl[i][j]))"
   ]
  },
  {
   "cell_type": "code",
   "execution_count": 312,
   "id": "57d7521d",
   "metadata": {},
   "outputs": [],
   "source": [
    "l = [[5, 6, 7], [8, 9,  10]]"
   ]
  },
  {
   "cell_type": "code",
   "execution_count": 313,
   "id": "853d1468",
   "metadata": {},
   "outputs": [
    {
     "data": {
      "text/plain": [
       "140538588078016"
      ]
     },
     "execution_count": 313,
     "metadata": {},
     "output_type": "execute_result"
    }
   ],
   "source": [
    "id(l)"
   ]
  },
  {
   "cell_type": "code",
   "execution_count": 314,
   "id": "2e71298a",
   "metadata": {},
   "outputs": [
    {
     "data": {
      "text/plain": [
       "140538591574720"
      ]
     },
     "execution_count": 314,
     "metadata": {},
     "output_type": "execute_result"
    }
   ],
   "source": [
    "id(l[0])"
   ]
  },
  {
   "cell_type": "code",
   "execution_count": 317,
   "id": "66920d8e",
   "metadata": {},
   "outputs": [
    {
     "data": {
      "text/plain": [
       "140539114613168"
      ]
     },
     "execution_count": 317,
     "metadata": {},
     "output_type": "execute_result"
    }
   ],
   "source": [
    "id(l[0][0])"
   ]
  },
  {
   "cell_type": "code",
   "execution_count": 326,
   "id": "d4f1b514",
   "metadata": {},
   "outputs": [
    {
     "data": {
      "text/plain": [
       "False"
      ]
     },
     "execution_count": 326,
     "metadata": {},
     "output_type": "execute_result"
    }
   ],
   "source": [
    "lst = [1,2,3,4,5]\n",
    "lst1 = lst[:] # different objects => deep copy\n",
    "\n",
    "# list slicing always gives you a new list\n",
    "id(lst) == id(lst1)"
   ]
  },
  {
   "cell_type": "code",
   "execution_count": 327,
   "id": "ce9a0e26",
   "metadata": {},
   "outputs": [
    {
     "data": {
      "text/plain": [
       "140538592264256"
      ]
     },
     "execution_count": 327,
     "metadata": {},
     "output_type": "execute_result"
    }
   ],
   "source": [
    "l = [1, 2, 3]\n",
    "\n",
    "id(l)"
   ]
  },
  {
   "cell_type": "code",
   "execution_count": 329,
   "id": "55f13ce7",
   "metadata": {},
   "outputs": [
    {
     "data": {
      "text/plain": [
       "140538592264256"
      ]
     },
     "execution_count": 329,
     "metadata": {},
     "output_type": "execute_result"
    }
   ],
   "source": [
    "l.append(4) # mutable => changed the orignial list without changing\n",
    "# the object\n",
    "\n",
    "id(l)"
   ]
  },
  {
   "cell_type": "code",
   "execution_count": 330,
   "id": "749e2d3f",
   "metadata": {},
   "outputs": [
    {
     "data": {
      "text/plain": [
       "140539383334320"
      ]
     },
     "execution_count": 330,
     "metadata": {},
     "output_type": "execute_result"
    }
   ],
   "source": [
    "x = \"abc\"\n",
    "id(x)"
   ]
  },
  {
   "cell_type": "code",
   "execution_count": 332,
   "id": "e7588989",
   "metadata": {},
   "outputs": [
    {
     "data": {
      "text/plain": [
       "140538594651568"
      ]
     },
     "execution_count": 332,
     "metadata": {},
     "output_type": "execute_result"
    }
   ],
   "source": [
    "x = \"amit sethi\" # immutable => when changed a new object gets created\n",
    "id(x)"
   ]
  },
  {
   "cell_type": "code",
   "execution_count": 333,
   "id": "0043d734",
   "metadata": {},
   "outputs": [
    {
     "data": {
      "text/plain": [
       "140539114613104"
      ]
     },
     "execution_count": 333,
     "metadata": {},
     "output_type": "execute_result"
    }
   ],
   "source": [
    "a = 3\n",
    "id(a)"
   ]
  },
  {
   "cell_type": "code",
   "execution_count": 335,
   "id": "423ff3f2",
   "metadata": {},
   "outputs": [
    {
     "data": {
      "text/plain": [
       "140539114613168"
      ]
     },
     "execution_count": 335,
     "metadata": {},
     "output_type": "execute_result"
    }
   ],
   "source": [
    "a = 5 # immutable => when changed a new object gets created\n",
    "id(a)"
   ]
  },
  {
   "cell_type": "code",
   "execution_count": 336,
   "id": "a37e4b84",
   "metadata": {},
   "outputs": [
    {
     "data": {
      "text/plain": [
       "True"
      ]
     },
     "execution_count": 336,
     "metadata": {},
     "output_type": "execute_result"
    }
   ],
   "source": [
    "bool(\"False\")"
   ]
  },
  {
   "cell_type": "code",
   "execution_count": 337,
   "id": "87b62d98",
   "metadata": {},
   "outputs": [
    {
     "data": {
      "text/plain": [
       "False"
      ]
     },
     "execution_count": 337,
     "metadata": {},
     "output_type": "execute_result"
    }
   ],
   "source": [
    "bool(\"\")"
   ]
  },
  {
   "cell_type": "code",
   "execution_count": 339,
   "id": "6c4913c6",
   "metadata": {},
   "outputs": [
    {
     "data": {
      "text/plain": [
       "False"
      ]
     },
     "execution_count": 339,
     "metadata": {},
     "output_type": "execute_result"
    }
   ],
   "source": [
    "l = [1, 2, 3, 4]\n",
    "\n",
    "d = l[:] # list slice is a new object => deep copy => different object\n",
    "\n",
    "id(l) == id(d)"
   ]
  },
  {
   "cell_type": "code",
   "execution_count": 343,
   "id": "cbfab796",
   "metadata": {},
   "outputs": [],
   "source": [
    "d2 = l.copy() # creates a deep copy"
   ]
  },
  {
   "cell_type": "code",
   "execution_count": 341,
   "id": "b6ad9f61",
   "metadata": {},
   "outputs": [
    {
     "name": "stdout",
     "output_type": "stream",
     "text": [
      "[1, 2, 3, 4]\n"
     ]
    }
   ],
   "source": [
    "print(d2)"
   ]
  },
  {
   "cell_type": "code",
   "execution_count": 342,
   "id": "afe51954",
   "metadata": {},
   "outputs": [
    {
     "data": {
      "text/plain": [
       "False"
      ]
     },
     "execution_count": 342,
     "metadata": {},
     "output_type": "execute_result"
    }
   ],
   "source": [
    "id(l) == id(d2)"
   ]
  },
  {
   "cell_type": "code",
   "execution_count": 344,
   "id": "0cbdfc61",
   "metadata": {},
   "outputs": [
    {
     "name": "stdout",
     "output_type": "stream",
     "text": [
      "[5, 2, 3, 4]\n"
     ]
    }
   ],
   "source": [
    "l[0] = 5\n",
    "\n",
    "print(l)"
   ]
  },
  {
   "cell_type": "code",
   "execution_count": 345,
   "id": "52a024d6",
   "metadata": {},
   "outputs": [
    {
     "name": "stdout",
     "output_type": "stream",
     "text": [
      "[1, 2, 3, 4]\n"
     ]
    }
   ],
   "source": [
    "print(d2)"
   ]
  }
 ],
 "metadata": {
  "kernelspec": {
   "display_name": "Python 3 (ipykernel)",
   "language": "python",
   "name": "python3"
  },
  "language_info": {
   "codemirror_mode": {
    "name": "ipython",
    "version": 3
   },
   "file_extension": ".py",
   "mimetype": "text/x-python",
   "name": "python",
   "nbconvert_exporter": "python",
   "pygments_lexer": "ipython3",
   "version": "3.9.12"
  }
 },
 "nbformat": 4,
 "nbformat_minor": 5
}
