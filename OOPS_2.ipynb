{
  "cells": [
    {
      "cell_type": "markdown",
      "metadata": {
        "id": "view-in-github",
        "colab_type": "text"
      },
      "source": [
        "<a href=\"https://colab.research.google.com/github/scaleracademy/dsml-jun-22-beginner-intermediate/blob/main/OOPS_2.ipynb\" target=\"_parent\"><img src=\"https://colab.research.google.com/assets/colab-badge.svg\" alt=\"Open In Colab\"/></a>"
      ]
    },
    {
      "cell_type": "markdown",
      "id": "b821b921",
      "metadata": {
        "id": "b821b921"
      },
      "source": [
        "## DSML Intermediate: OOPS - 2\n"
      ]
    },
    {
      "cell_type": "markdown",
      "id": "d61591e2",
      "metadata": {
        "id": "d61591e2"
      },
      "source": [
        "### Recap"
      ]
    },
    {
      "cell_type": "code",
      "execution_count": null,
      "id": "e9e61262",
      "metadata": {
        "id": "e9e61262"
      },
      "outputs": [],
      "source": [
        "class Dog:\n",
        "    def __init__(self, name, age):\n",
        "        # the object reference self already exist\n",
        "        self.name = name\n",
        "        self.age = age"
      ]
    },
    {
      "cell_type": "code",
      "execution_count": null,
      "id": "a6ff5b83",
      "metadata": {
        "id": "a6ff5b83"
      },
      "outputs": [],
      "source": [
        "d = Dog(\"Toby\", 5) # the object creation => abstraction"
      ]
    },
    {
      "cell_type": "code",
      "execution_count": null,
      "id": "02973a6a",
      "metadata": {
        "id": "02973a6a",
        "outputId": "9683f775-25d7-4f39-842e-dd9b7ce98ba6"
      },
      "outputs": [
        {
          "name": "stdout",
          "output_type": "stream",
          "text": [
            "Toby\n"
          ]
        }
      ],
      "source": [
        "print(d.name)"
      ]
    },
    {
      "cell_type": "code",
      "execution_count": null,
      "id": "74b730cd",
      "metadata": {
        "id": "74b730cd",
        "outputId": "140a2400-6af4-4ee7-8cd7-625e8d21084f"
      },
      "outputs": [
        {
          "name": "stdout",
          "output_type": "stream",
          "text": [
            "5\n"
          ]
        }
      ],
      "source": [
        "print(d.age)"
      ]
    },
    {
      "cell_type": "code",
      "execution_count": null,
      "id": "3f636dc4",
      "metadata": {
        "id": "3f636dc4",
        "outputId": "11d7ca95-e8b4-4d48-bd40-b0242141520d"
      },
      "outputs": [
        {
          "name": "stdout",
          "output_type": "stream",
          "text": [
            "<class '__main__.Dog'>\n"
          ]
        }
      ],
      "source": [
        "print(type(d))"
      ]
    },
    {
      "cell_type": "markdown",
      "id": "4b29a135",
      "metadata": {
        "id": "4b29a135"
      },
      "source": [
        "### Quiz - 1"
      ]
    },
    {
      "cell_type": "code",
      "execution_count": null,
      "id": "f6ffe0ec",
      "metadata": {
        "id": "f6ffe0ec"
      },
      "outputs": [],
      "source": [
        "class Foo:\n",
        "    # dunder method => double underscore, magic methods\n",
        "    def __init__(self, name):\n",
        "        self.name = name\n",
        "\n",
        "a = Foo(\"a\")\n",
        "b = Foo(\"b\")\n",
        "a.name = b.name\n",
        "b.name = \"c\"\n",
        "a.x = 2\n",
        "b.x = 1\n",
        "x = (a.x + b.x) * (a.name + b.name)"
      ]
    },
    {
      "cell_type": "code",
      "execution_count": null,
      "id": "90e26fd5",
      "metadata": {
        "id": "90e26fd5",
        "outputId": "c2dd86e8-ef6e-4e21-8fb3-12d1faf86b8a"
      },
      "outputs": [
        {
          "name": "stdout",
          "output_type": "stream",
          "text": [
            "bcbcbc\n"
          ]
        }
      ],
      "source": [
        "print(x)"
      ]
    },
    {
      "cell_type": "code",
      "execution_count": null,
      "id": "94c5fe6e",
      "metadata": {
        "id": "94c5fe6e"
      },
      "outputs": [],
      "source": []
    },
    {
      "cell_type": "markdown",
      "id": "15fe426e",
      "metadata": {
        "id": "15fe426e"
      },
      "source": [
        "### Dunder Methods"
      ]
    },
    {
      "cell_type": "code",
      "execution_count": null,
      "id": "6012d9b9",
      "metadata": {
        "id": "6012d9b9"
      },
      "outputs": [],
      "source": [
        "class Car:\n",
        "    def __init__(self, name, mileage):\n",
        "        self.name = name\n",
        "        self.mileage = mileage"
      ]
    },
    {
      "cell_type": "code",
      "execution_count": null,
      "id": "67b87fc3",
      "metadata": {
        "id": "67b87fc3"
      },
      "outputs": [],
      "source": [
        "c1 = Car(\"Nexon\", 12)\n",
        "c2 = Car(\"Altroz\", 15)"
      ]
    },
    {
      "cell_type": "code",
      "execution_count": null,
      "id": "1641a22f",
      "metadata": {
        "id": "1641a22f",
        "outputId": "76822623-491c-4b98-acbb-5c66ecede5f5"
      },
      "outputs": [
        {
          "name": "stdout",
          "output_type": "stream",
          "text": [
            "<__main__.Car object at 0x7fe721d83c40>\n"
          ]
        }
      ],
      "source": [
        "print(c1) # can I override the print behavior?"
      ]
    },
    {
      "cell_type": "code",
      "execution_count": null,
      "id": "c93cdde9",
      "metadata": {
        "id": "c93cdde9"
      },
      "outputs": [],
      "source": [
        "class Car:\n",
        "    def __init__(self, name, mileage):\n",
        "        self.name = name\n",
        "        self.mileage = mileage\n",
        "        \n",
        "    # __str__ magic method to override print behavior\n",
        "    def __str__(self):\n",
        "        return f\"{self.name} has the mileage: {self.mileage}\""
      ]
    },
    {
      "cell_type": "code",
      "execution_count": null,
      "id": "540b54fe",
      "metadata": {
        "id": "540b54fe"
      },
      "outputs": [],
      "source": [
        "c1 = Car(\"Nexon\", 12)\n",
        "c2 = Car(\"Altroz\", 15)"
      ]
    },
    {
      "cell_type": "code",
      "execution_count": null,
      "id": "1f9398f0",
      "metadata": {
        "id": "1f9398f0",
        "outputId": "12c43a54-5274-45c4-a190-a757542bd4e4"
      },
      "outputs": [
        {
          "name": "stdout",
          "output_type": "stream",
          "text": [
            "Nexon has the mileage: 12\n"
          ]
        }
      ],
      "source": [
        "print(c1)"
      ]
    },
    {
      "cell_type": "code",
      "execution_count": null,
      "id": "62d95586",
      "metadata": {
        "id": "62d95586",
        "outputId": "85143d97-7afb-48bd-df3b-5754fce44283"
      },
      "outputs": [
        {
          "name": "stdout",
          "output_type": "stream",
          "text": [
            "Altroz has the mileage: 15\n"
          ]
        }
      ],
      "source": [
        "print(c2)"
      ]
    },
    {
      "cell_type": "code",
      "execution_count": null,
      "id": "d12e752f",
      "metadata": {
        "id": "d12e752f"
      },
      "outputs": [],
      "source": []
    },
    {
      "cell_type": "code",
      "execution_count": null,
      "id": "40714091",
      "metadata": {
        "id": "40714091"
      },
      "outputs": [],
      "source": [
        "class ComplexNumber:\n",
        "    def __init__(self, real, imaginary):\n",
        "        self.real = real\n",
        "        self.imaginary = imaginary\n",
        "    \n",
        "    # overrides the print behavior of printing object of class ComplexNumber\n",
        "    def __str__(self):\n",
        "        return f\"{self.real} + i{self.imaginary}\"\n",
        "    \n",
        "    def __add__(self, obj2):\n",
        "        return f\"{self.real + obj2.real} + i{self.imaginary + obj2.imaginary}\""
      ]
    },
    {
      "cell_type": "code",
      "execution_count": null,
      "id": "aeda61f7",
      "metadata": {
        "id": "aeda61f7"
      },
      "outputs": [],
      "source": [
        "c1 = ComplexNumber(5, 3)"
      ]
    },
    {
      "cell_type": "code",
      "execution_count": null,
      "id": "73bef583",
      "metadata": {
        "id": "73bef583",
        "outputId": "9f702a1d-4633-48ea-ef1b-b7ab7147553b"
      },
      "outputs": [
        {
          "name": "stdout",
          "output_type": "stream",
          "text": [
            "5 + i3\n"
          ]
        }
      ],
      "source": [
        "print(c1)"
      ]
    },
    {
      "cell_type": "code",
      "execution_count": null,
      "id": "8aed52b4",
      "metadata": {
        "id": "8aed52b4",
        "outputId": "1842d3fd-6735-4902-885f-21f2c2f5ca86"
      },
      "outputs": [
        {
          "name": "stdout",
          "output_type": "stream",
          "text": [
            "3 + i6\n"
          ]
        }
      ],
      "source": [
        "c2 = ComplexNumber(3, 6)\n",
        "print(c2)"
      ]
    },
    {
      "cell_type": "code",
      "execution_count": null,
      "id": "2dc42d58",
      "metadata": {
        "id": "2dc42d58",
        "outputId": "7b1d7969-ff05-4f7d-9ad2-11ea78994df9"
      },
      "outputs": [
        {
          "data": {
            "text/plain": [
              "'8 + i9'"
            ]
          },
          "execution_count": 64,
          "metadata": {},
          "output_type": "execute_result"
        }
      ],
      "source": [
        "c1 + c2 # same syntax of addition but different behavior"
      ]
    },
    {
      "cell_type": "code",
      "execution_count": null,
      "id": "cdb78475",
      "metadata": {
        "id": "cdb78475"
      },
      "outputs": [],
      "source": [
        "c3 = ComplexNumber(6, 7)"
      ]
    },
    {
      "cell_type": "code",
      "execution_count": null,
      "id": "170c4c5a",
      "metadata": {
        "id": "170c4c5a",
        "outputId": "8e1549ca-179a-406f-d4dc-b2d932d5c3ef"
      },
      "outputs": [
        {
          "ename": "TypeError",
          "evalue": "can only concatenate str (not \"ComplexNumber\") to str",
          "output_type": "error",
          "traceback": [
            "\u001b[0;31m---------------------------------------------------------------------------\u001b[0m",
            "\u001b[0;31mTypeError\u001b[0m                                 Traceback (most recent call last)",
            "Input \u001b[0;32mIn [66]\u001b[0m, in \u001b[0;36m<cell line: 1>\u001b[0;34m()\u001b[0m\n\u001b[0;32m----> 1\u001b[0m \u001b[43mc1\u001b[49m\u001b[43m \u001b[49m\u001b[38;5;241;43m+\u001b[39;49m\u001b[43m \u001b[49m\u001b[43mc2\u001b[49m\u001b[43m \u001b[49m\u001b[38;5;241;43m+\u001b[39;49m\u001b[43m \u001b[49m\u001b[43mc3\u001b[49m\n",
            "\u001b[0;31mTypeError\u001b[0m: can only concatenate str (not \"ComplexNumber\") to str"
          ]
        }
      ],
      "source": [
        "# c1 + c2 + c3 # HW : To make it work"
      ]
    },
    {
      "cell_type": "code",
      "execution_count": null,
      "id": "a441e031",
      "metadata": {
        "id": "a441e031"
      },
      "outputs": [],
      "source": [
        "# dir(c3)"
      ]
    },
    {
      "cell_type": "code",
      "execution_count": null,
      "id": "a43c5dff",
      "metadata": {
        "id": "a43c5dff"
      },
      "outputs": [],
      "source": []
    },
    {
      "cell_type": "code",
      "execution_count": null,
      "id": "e04e151c",
      "metadata": {
        "id": "e04e151c"
      },
      "outputs": [],
      "source": []
    },
    {
      "cell_type": "markdown",
      "id": "9306980d",
      "metadata": {
        "id": "9306980d"
      },
      "source": [
        "### Inheritance"
      ]
    },
    {
      "cell_type": "code",
      "execution_count": null,
      "id": "d60d2ee6",
      "metadata": {
        "id": "d60d2ee6"
      },
      "outputs": [],
      "source": [
        "class Animal:\n",
        "    def __init__(self, species):\n",
        "        self.species = species # how to initialise this \n",
        "        # parent class property in the child class object\n",
        "        \n",
        "    def eat(self):\n",
        "        print(\"I am eating!!!\")"
      ]
    },
    {
      "cell_type": "code",
      "execution_count": null,
      "id": "730f3443",
      "metadata": {
        "id": "730f3443"
      },
      "outputs": [],
      "source": [
        "class Cat(Animal): # syntax to inherit\n",
        "    def __init__(self, name):\n",
        "        # to set specifies data, we need to call Animal initialiser\n",
        "        Animal.__init__(\"Cat\")\n",
        "        self.name = name\n",
        "    \n",
        "    def speak(self):\n",
        "        print(\"Meoooewww Meooow!!!!\")\n"
      ]
    },
    {
      "cell_type": "code",
      "execution_count": null,
      "id": "814ffe34",
      "metadata": {
        "id": "814ffe34"
      },
      "outputs": [],
      "source": [
        "class Dog(Animal):\n",
        "    def __init__(self, name):\n",
        "        Animal.__init__(\"Dog\")\n",
        "        self.name = name\n",
        "    \n",
        "    def speak(self):\n",
        "        print(\"Boooow Bhhoowww!!!!\")"
      ]
    },
    {
      "cell_type": "code",
      "execution_count": null,
      "id": "803fc0e1",
      "metadata": {
        "id": "803fc0e1",
        "outputId": "446e4458-4882-4f9c-bb27-2aa4240b6953"
      },
      "outputs": [
        {
          "ename": "TypeError",
          "evalue": "__init__() missing 1 required positional argument: 'species'",
          "output_type": "error",
          "traceback": [
            "\u001b[0;31m---------------------------------------------------------------------------\u001b[0m",
            "\u001b[0;31mTypeError\u001b[0m                                 Traceback (most recent call last)",
            "Input \u001b[0;32mIn [95]\u001b[0m, in \u001b[0;36m<cell line: 1>\u001b[0;34m()\u001b[0m\n\u001b[0;32m----> 1\u001b[0m c \u001b[38;5;241m=\u001b[39m \u001b[43mCat\u001b[49m\u001b[43m(\u001b[49m\u001b[38;5;124;43m\"\u001b[39;49m\u001b[38;5;124;43mTom\u001b[39;49m\u001b[38;5;124;43m\"\u001b[39;49m\u001b[43m)\u001b[49m\n\u001b[1;32m      2\u001b[0m \u001b[38;5;28mprint\u001b[39m(c\u001b[38;5;241m.\u001b[39mname)\n",
            "Input \u001b[0;32mIn [93]\u001b[0m, in \u001b[0;36mCat.__init__\u001b[0;34m(self, name)\u001b[0m\n\u001b[1;32m      2\u001b[0m \u001b[38;5;28;01mdef\u001b[39;00m \u001b[38;5;21m__init__\u001b[39m(\u001b[38;5;28mself\u001b[39m, name):\n\u001b[1;32m      3\u001b[0m     \u001b[38;5;66;03m# to set specifies data, we need to call Animal initialiser\u001b[39;00m\n\u001b[0;32m----> 4\u001b[0m     \u001b[43mAnimal\u001b[49m\u001b[38;5;241;43m.\u001b[39;49m\u001b[38;5;21;43m__init__\u001b[39;49m\u001b[43m(\u001b[49m\u001b[38;5;124;43m\"\u001b[39;49m\u001b[38;5;124;43mCat\u001b[39;49m\u001b[38;5;124;43m\"\u001b[39;49m\u001b[43m)\u001b[49m\n\u001b[1;32m      5\u001b[0m     \u001b[38;5;28mself\u001b[39m\u001b[38;5;241m.\u001b[39mname \u001b[38;5;241m=\u001b[39m name\n",
            "\u001b[0;31mTypeError\u001b[0m: __init__() missing 1 required positional argument: 'species'"
          ]
        }
      ],
      "source": [
        "c = Cat(\"Tom\")\n",
        "print(c.name)"
      ]
    },
    {
      "cell_type": "code",
      "execution_count": null,
      "id": "783d9555",
      "metadata": {
        "id": "783d9555",
        "outputId": "1d924569-8a04-444f-9c62-ef4a2589566b"
      },
      "outputs": [
        {
          "name": "stdout",
          "output_type": "stream",
          "text": [
            "Meoooewww Meooow!!!!\n"
          ]
        }
      ],
      "source": [
        "c.speak()"
      ]
    },
    {
      "cell_type": "code",
      "execution_count": null,
      "id": "db1dc162",
      "metadata": {
        "id": "db1dc162",
        "outputId": "9ac9bcd8-7406-4fdb-a0a3-b1a5cf2d8530"
      },
      "outputs": [
        {
          "name": "stdout",
          "output_type": "stream",
          "text": [
            "I am eating!!!\n"
          ]
        }
      ],
      "source": [
        "c.eat()"
      ]
    },
    {
      "cell_type": "code",
      "execution_count": null,
      "id": "3f9df079",
      "metadata": {
        "id": "3f9df079"
      },
      "outputs": [],
      "source": [
        "d = Dog(\"Scooby Doo\")"
      ]
    },
    {
      "cell_type": "code",
      "execution_count": null,
      "id": "887bc7da",
      "metadata": {
        "id": "887bc7da",
        "outputId": "153b0983-a855-4a8b-f224-edfb72e27998"
      },
      "outputs": [
        {
          "name": "stdout",
          "output_type": "stream",
          "text": [
            "Scooby Doo\n"
          ]
        }
      ],
      "source": [
        "print(d.name)"
      ]
    },
    {
      "cell_type": "code",
      "execution_count": null,
      "id": "f899e2bd",
      "metadata": {
        "id": "f899e2bd",
        "outputId": "e4b3371b-47e8-4557-ff99-7c6bb21ab72a"
      },
      "outputs": [
        {
          "name": "stdout",
          "output_type": "stream",
          "text": [
            "Boooow Bhhoowww!!!!\n"
          ]
        }
      ],
      "source": [
        "d.speak()"
      ]
    },
    {
      "cell_type": "code",
      "execution_count": null,
      "id": "b59fea32",
      "metadata": {
        "id": "b59fea32",
        "outputId": "3b516a67-238f-4231-8778-f1fd67d9c358"
      },
      "outputs": [
        {
          "name": "stdout",
          "output_type": "stream",
          "text": [
            "I am eating!!!\n"
          ]
        }
      ],
      "source": [
        "d.eat()"
      ]
    },
    {
      "cell_type": "code",
      "execution_count": null,
      "id": "8ea4882a",
      "metadata": {
        "id": "8ea4882a"
      },
      "outputs": [],
      "source": []
    },
    {
      "cell_type": "code",
      "execution_count": null,
      "id": "30370ae4",
      "metadata": {
        "id": "30370ae4"
      },
      "outputs": [],
      "source": []
    },
    {
      "cell_type": "markdown",
      "id": "186d9c89",
      "metadata": {
        "id": "186d9c89"
      },
      "source": [
        "### Private Properties"
      ]
    },
    {
      "cell_type": "code",
      "execution_count": null,
      "id": "cd078c8c",
      "metadata": {
        "id": "cd078c8c"
      },
      "outputs": [],
      "source": []
    },
    {
      "cell_type": "code",
      "execution_count": null,
      "id": "f1ba9397",
      "metadata": {
        "id": "f1ba9397"
      },
      "outputs": [],
      "source": []
    },
    {
      "cell_type": "code",
      "execution_count": null,
      "id": "a3f64b10",
      "metadata": {
        "id": "a3f64b10"
      },
      "outputs": [],
      "source": []
    },
    {
      "cell_type": "code",
      "execution_count": null,
      "id": "18c33c6b",
      "metadata": {
        "id": "18c33c6b"
      },
      "outputs": [],
      "source": []
    },
    {
      "cell_type": "code",
      "execution_count": null,
      "id": "8045b0b4",
      "metadata": {
        "id": "8045b0b4"
      },
      "outputs": [],
      "source": []
    },
    {
      "cell_type": "code",
      "execution_count": null,
      "id": "8d8adc9c",
      "metadata": {
        "id": "8d8adc9c"
      },
      "outputs": [],
      "source": []
    },
    {
      "cell_type": "markdown",
      "id": "3124d681",
      "metadata": {
        "id": "3124d681"
      },
      "source": [
        "### Doubts"
      ]
    },
    {
      "cell_type": "code",
      "execution_count": null,
      "id": "50b240d6",
      "metadata": {
        "id": "50b240d6"
      },
      "outputs": [],
      "source": []
    }
  ],
  "metadata": {
    "kernelspec": {
      "display_name": "Python 3 (ipykernel)",
      "language": "python",
      "name": "python3"
    },
    "language_info": {
      "codemirror_mode": {
        "name": "ipython",
        "version": 3
      },
      "file_extension": ".py",
      "mimetype": "text/x-python",
      "name": "python",
      "nbconvert_exporter": "python",
      "pygments_lexer": "ipython3",
      "version": "3.9.12"
    },
    "colab": {
      "provenance": [],
      "include_colab_link": true
    }
  },
  "nbformat": 4,
  "nbformat_minor": 5
}