{
  "cells": [
    {
      "cell_type": "markdown",
      "metadata": {
        "id": "view-in-github",
        "colab_type": "text"
      },
      "source": [
        "<a href=\"https://colab.research.google.com/github/scaleracademy/dsml-jun-22-beginner-intermediate/blob/main/OOPS_2.ipynb\" target=\"_parent\"><img src=\"https://colab.research.google.com/assets/colab-badge.svg\" alt=\"Open In Colab\"/></a>"
      ]
    },
    {
      "cell_type": "markdown",
      "id": "99c166ed",
      "metadata": {
        "id": "99c166ed"
      },
      "source": [
        "## DSML Intermediate: OOPS - 2\n"
      ]
    },
    {
      "cell_type": "markdown",
      "id": "e1bd004e",
      "metadata": {
        "id": "e1bd004e"
      },
      "source": [
        "### Recap"
      ]
    },
    {
      "cell_type": "code",
      "execution_count": null,
      "id": "43d49ac4",
      "metadata": {
        "id": "43d49ac4"
      },
      "outputs": [],
      "source": [
        "class Dog:\n",
        "    def __init__(self, name, age):\n",
        "        # the object reference self already exist\n",
        "        self.name = name\n",
        "        self.age = age"
      ]
    },
    {
      "cell_type": "code",
      "execution_count": null,
      "id": "23185f83",
      "metadata": {
        "id": "23185f83"
      },
      "outputs": [],
      "source": [
        "d = Dog(\"Toby\", 5) # the object creation => abstraction"
      ]
    },
    {
      "cell_type": "code",
      "execution_count": null,
      "id": "9912bf64",
      "metadata": {
        "id": "9912bf64",
        "outputId": "d761bf8e-26ac-4153-c653-657931a93a3f"
      },
      "outputs": [
        {
          "name": "stdout",
          "output_type": "stream",
          "text": [
            "Toby\n"
          ]
        }
      ],
      "source": [
        "print(d.name)"
      ]
    },
    {
      "cell_type": "code",
      "execution_count": null,
      "id": "024d009b",
      "metadata": {
        "id": "024d009b",
        "outputId": "667584af-0782-4447-9829-5633a70fedc5"
      },
      "outputs": [
        {
          "name": "stdout",
          "output_type": "stream",
          "text": [
            "5\n"
          ]
        }
      ],
      "source": [
        "print(d.age)"
      ]
    },
    {
      "cell_type": "code",
      "execution_count": null,
      "id": "d82e0c01",
      "metadata": {
        "id": "d82e0c01",
        "outputId": "b17255bb-757c-4d3a-bf23-29c8a1700a65"
      },
      "outputs": [
        {
          "name": "stdout",
          "output_type": "stream",
          "text": [
            "<class '__main__.Dog'>\n"
          ]
        }
      ],
      "source": [
        "print(type(d))"
      ]
    },
    {
      "cell_type": "markdown",
      "id": "660102ed",
      "metadata": {
        "id": "660102ed"
      },
      "source": [
        "### Quiz - 1"
      ]
    },
    {
      "cell_type": "code",
      "execution_count": null,
      "id": "467dd3d9",
      "metadata": {
        "id": "467dd3d9"
      },
      "outputs": [],
      "source": [
        "class Foo:\n",
        "    # dunder method => double underscore, magic methods\n",
        "    def __init__(self, name):\n",
        "        self.name = name\n",
        "\n",
        "a = Foo(\"a\")\n",
        "b = Foo(\"b\")\n",
        "a.name = b.name\n",
        "b.name = \"c\"\n",
        "a.x = 2\n",
        "b.x = 1\n",
        "x = (a.x + b.x) * (a.name + b.name)"
      ]
    },
    {
      "cell_type": "code",
      "execution_count": null,
      "id": "0314021d",
      "metadata": {
        "id": "0314021d",
        "outputId": "bbb5a01d-dfb8-42e3-db31-3ed836ddf762"
      },
      "outputs": [
        {
          "name": "stdout",
          "output_type": "stream",
          "text": [
            "bcbcbc\n"
          ]
        }
      ],
      "source": [
        "print(x)"
      ]
    },
    {
      "cell_type": "markdown",
      "id": "b631cedc",
      "metadata": {
        "id": "b631cedc"
      },
      "source": [
        "### Warm - up 2"
      ]
    },
    {
      "cell_type": "code",
      "execution_count": null,
      "id": "7462ded8",
      "metadata": {
        "id": "7462ded8"
      },
      "outputs": [],
      "source": [
        "class Counter:\n",
        "    def __init__(self):\n",
        "        self.count = 0\n",
        "   \n",
        "    # Encapsulation => data and method together\n",
        "    def increment(self):\n",
        "        self.count += 1\n",
        "        \n",
        "    def decrement(self):\n",
        "        self.count -= 1\n",
        "        \n",
        "    def print_count(self):\n",
        "        print(f\"The current count is {self.count}\")"
      ]
    },
    {
      "cell_type": "code",
      "execution_count": null,
      "id": "0726ff7f",
      "metadata": {
        "id": "0726ff7f",
        "outputId": "2f35d11b-44bc-417d-f84b-041dc83c7c51"
      },
      "outputs": [
        {
          "name": "stdout",
          "output_type": "stream",
          "text": [
            "The current count is 0\n",
            "The current count is 2\n"
          ]
        }
      ],
      "source": [
        "counter = Counter() # count = 0\n",
        "counter.increment()  # count = 1\n",
        "counter.decrement()  # count = 0\n",
        "counter.print_count() # ------ 0\n",
        "counter.increment() # count = 1\n",
        "counter.increment() # count = 2\n",
        "counter.print_count() # ------- 2"
      ]
    },
    {
      "cell_type": "markdown",
      "id": "ddb2cd28",
      "metadata": {
        "id": "ddb2cd28"
      },
      "source": [
        "### Dunder Methods"
      ]
    },
    {
      "cell_type": "code",
      "execution_count": null,
      "id": "54e286cf",
      "metadata": {
        "id": "54e286cf"
      },
      "outputs": [],
      "source": [
        "class Car:\n",
        "    def __init__(self, name, mileage):\n",
        "        self.name = name\n",
        "        self.mileage = mileage"
      ]
    },
    {
      "cell_type": "code",
      "execution_count": null,
      "id": "f8e072cd",
      "metadata": {
        "id": "f8e072cd"
      },
      "outputs": [],
      "source": [
        "c1 = Car(\"Nexon\", 12)\n",
        "c2 = Car(\"Altroz\", 15)"
      ]
    },
    {
      "cell_type": "code",
      "execution_count": null,
      "id": "033abebe",
      "metadata": {
        "id": "033abebe",
        "outputId": "4091d61c-f651-47b8-cbba-aaa9aeb4cc4b"
      },
      "outputs": [
        {
          "name": "stdout",
          "output_type": "stream",
          "text": [
            "<__main__.Car object at 0x7fe721d83c40>\n"
          ]
        }
      ],
      "source": [
        "print(c1) # can I override the print behavior?"
      ]
    },
    {
      "cell_type": "code",
      "execution_count": null,
      "id": "2d9b0e95",
      "metadata": {
        "id": "2d9b0e95"
      },
      "outputs": [],
      "source": [
        "class Car:\n",
        "    def __init__(self, name, mileage):\n",
        "        self.name = name\n",
        "        self.mileage = mileage\n",
        "        \n",
        "    # __str__ magic method to override print behavior\n",
        "    def __str__(self):\n",
        "        return f\"{self.name} has the mileage: {self.mileage}\""
      ]
    },
    {
      "cell_type": "code",
      "execution_count": null,
      "id": "ca21ca41",
      "metadata": {
        "id": "ca21ca41"
      },
      "outputs": [],
      "source": [
        "c1 = Car(\"Nexon\", 12)\n",
        "c2 = Car(\"Altroz\", 15)"
      ]
    },
    {
      "cell_type": "code",
      "execution_count": null,
      "id": "5c77055e",
      "metadata": {
        "id": "5c77055e",
        "outputId": "01ad76f7-70c0-466f-96e5-060d486f4b06"
      },
      "outputs": [
        {
          "name": "stdout",
          "output_type": "stream",
          "text": [
            "Nexon has the mileage: 12\n"
          ]
        }
      ],
      "source": [
        "print(c1)"
      ]
    },
    {
      "cell_type": "code",
      "execution_count": null,
      "id": "c53a2785",
      "metadata": {
        "id": "c53a2785",
        "outputId": "204d6642-fac3-4d21-9715-f902f692c7dd"
      },
      "outputs": [
        {
          "name": "stdout",
          "output_type": "stream",
          "text": [
            "Altroz has the mileage: 15\n"
          ]
        }
      ],
      "source": [
        "print(c2)"
      ]
    },
    {
      "cell_type": "code",
      "execution_count": null,
      "id": "1352b96e",
      "metadata": {
        "id": "1352b96e"
      },
      "outputs": [],
      "source": []
    },
    {
      "cell_type": "code",
      "execution_count": null,
      "id": "f4568743",
      "metadata": {
        "id": "f4568743"
      },
      "outputs": [],
      "source": [
        "class ComplexNumber:\n",
        "    def __init__(self, real, imaginary):\n",
        "        self.real = real\n",
        "        self.imaginary = imaginary\n",
        "    \n",
        "    # overrides the print behavior of printing object of class ComplexNumber\n",
        "    def __str__(self):\n",
        "        return f\"{self.real} + i{self.imaginary}\"\n",
        "    \n",
        "    def __add__(self, obj2):\n",
        "        return f\"{self.real + obj2.real} + i{self.imaginary + obj2.imaginary}\""
      ]
    },
    {
      "cell_type": "code",
      "execution_count": null,
      "id": "89cc75ae",
      "metadata": {
        "id": "89cc75ae"
      },
      "outputs": [],
      "source": [
        "c1 = ComplexNumber(5, 3)"
      ]
    },
    {
      "cell_type": "code",
      "execution_count": null,
      "id": "31dc58fa",
      "metadata": {
        "id": "31dc58fa",
        "outputId": "f184eb18-27ce-4ad8-dec8-a2d9ac5caa51"
      },
      "outputs": [
        {
          "name": "stdout",
          "output_type": "stream",
          "text": [
            "5 + i3\n"
          ]
        }
      ],
      "source": [
        "print(c1)"
      ]
    },
    {
      "cell_type": "code",
      "execution_count": null,
      "id": "e00c63c3",
      "metadata": {
        "id": "e00c63c3",
        "outputId": "485131c2-12c4-4de7-cba7-63add81d6d2c"
      },
      "outputs": [
        {
          "name": "stdout",
          "output_type": "stream",
          "text": [
            "5\n"
          ]
        }
      ],
      "source": [
        "print(c1.real)"
      ]
    },
    {
      "cell_type": "code",
      "execution_count": null,
      "id": "a2b09382",
      "metadata": {
        "id": "a2b09382",
        "outputId": "7c610bc8-01e0-463d-d119-d30f0e0eb064"
      },
      "outputs": [
        {
          "name": "stdout",
          "output_type": "stream",
          "text": [
            "3 + i6\n"
          ]
        }
      ],
      "source": [
        "c2 = ComplexNumber(3, 6)\n",
        "print(c2)"
      ]
    },
    {
      "cell_type": "code",
      "execution_count": null,
      "id": "9c466cbf",
      "metadata": {
        "id": "9c466cbf",
        "outputId": "f34e3912-d21a-404c-ed5c-855a845fa836"
      },
      "outputs": [
        {
          "data": {
            "text/plain": [
              "'8 + i9'"
            ]
          },
          "execution_count": 64,
          "metadata": {},
          "output_type": "execute_result"
        }
      ],
      "source": [
        "c1 + c2 # same syntax of addition but different behavior"
      ]
    },
    {
      "cell_type": "code",
      "execution_count": null,
      "id": "1cd79e60",
      "metadata": {
        "id": "1cd79e60",
        "outputId": "89b71afc-4e38-4ab8-fc9d-86b254be1428"
      },
      "outputs": [
        {
          "data": {
            "text/plain": [
              "'8 + i9'"
            ]
          },
          "execution_count": 225,
          "metadata": {},
          "output_type": "execute_result"
        }
      ],
      "source": [
        "c1.__add__(c2)"
      ]
    },
    {
      "cell_type": "code",
      "execution_count": null,
      "id": "78152ed2",
      "metadata": {
        "id": "78152ed2"
      },
      "outputs": [],
      "source": [
        "c3 = ComplexNumber(6, 7)"
      ]
    },
    {
      "cell_type": "code",
      "execution_count": null,
      "id": "01db3a7d",
      "metadata": {
        "id": "01db3a7d"
      },
      "outputs": [],
      "source": [
        "# c1 + c2 + c3 # HW : To make it work\n",
        "# Hint: You have to change the return type of add dunder"
      ]
    },
    {
      "cell_type": "code",
      "execution_count": null,
      "id": "de277494",
      "metadata": {
        "id": "de277494"
      },
      "outputs": [],
      "source": [
        "# dir(c3)"
      ]
    },
    {
      "cell_type": "code",
      "execution_count": null,
      "id": "9fb3a4ac",
      "metadata": {
        "id": "9fb3a4ac",
        "outputId": "c2fbd35d-45d2-47c8-cd74-d4d51f9ea280"
      },
      "outputs": [
        {
          "name": "stdout",
          "output_type": "stream",
          "text": [
            "whatOnEarth\n"
          ]
        }
      ],
      "source": [
        "print(\"what\" + \"On\" + \"Earth\")"
      ]
    },
    {
      "cell_type": "code",
      "execution_count": null,
      "id": "8d40b6b5",
      "metadata": {
        "id": "8d40b6b5",
        "outputId": "2d50cc8b-1f63-4751-e5f0-5b4212c91771"
      },
      "outputs": [
        {
          "name": "stdout",
          "output_type": "stream",
          "text": [
            "8.08\n"
          ]
        }
      ],
      "source": [
        "print(4.52 + 3.56)"
      ]
    },
    {
      "cell_type": "markdown",
      "id": "5e50d2af",
      "metadata": {
        "id": "5e50d2af"
      },
      "source": [
        "### Inheritance"
      ]
    },
    {
      "cell_type": "code",
      "execution_count": null,
      "id": "8f181292",
      "metadata": {
        "id": "8f181292"
      },
      "outputs": [],
      "source": [
        "class Animal:\n",
        "    def __init__(self, species):\n",
        "        self.species = species # how to initialise this \n",
        "        # parent class property in the child class object\n",
        "        \n",
        "    def eat(self):\n",
        "        print(\"I am eating!!!\")"
      ]
    },
    {
      "cell_type": "code",
      "execution_count": null,
      "id": "301fe88a",
      "metadata": {
        "id": "301fe88a"
      },
      "outputs": [],
      "source": [
        "class Cat(Animal): # syntax to inherit\n",
        "    def __init__(self, name):\n",
        "        # to set specifies data, we need to call Animal initialiser\n",
        "        Animal.__init__(self, \"Cat\")\n",
        "        self.name = name\n",
        "    \n",
        "    def speak(self):\n",
        "        print(\"Meoooewww Meooow!!!!\")\n"
      ]
    },
    {
      "cell_type": "code",
      "execution_count": null,
      "id": "763955c3",
      "metadata": {
        "id": "763955c3"
      },
      "outputs": [],
      "source": [
        "class Dog(Animal):\n",
        "    def __init__(self, name):\n",
        "        Animal.__init__(self, \"Dog\")\n",
        "        self.name = name\n",
        "    \n",
        "    def speak(self):\n",
        "        print(\"Boooow Bhhoowww!!!!\")"
      ]
    },
    {
      "cell_type": "code",
      "execution_count": null,
      "id": "68b88fb6",
      "metadata": {
        "id": "68b88fb6",
        "outputId": "c96f87e4-b630-4f73-d22f-564da688dc9b"
      },
      "outputs": [
        {
          "name": "stdout",
          "output_type": "stream",
          "text": [
            "Tom\n",
            "Cat\n"
          ]
        }
      ],
      "source": [
        "c = Cat(\"Tom\")\n",
        "print(c.name)\n",
        "print(c.species)"
      ]
    },
    {
      "cell_type": "code",
      "execution_count": null,
      "id": "b331e788",
      "metadata": {
        "id": "b331e788",
        "outputId": "c86f1f6d-c1d2-4f81-f052-9e2dd9d28c97"
      },
      "outputs": [
        {
          "name": "stdout",
          "output_type": "stream",
          "text": [
            "Meoooewww Meooow!!!!\n"
          ]
        }
      ],
      "source": [
        "c.speak()"
      ]
    },
    {
      "cell_type": "code",
      "execution_count": null,
      "id": "179c58a1",
      "metadata": {
        "id": "179c58a1",
        "outputId": "3d58dea3-9c76-4cc2-a620-7634f416e105"
      },
      "outputs": [
        {
          "name": "stdout",
          "output_type": "stream",
          "text": [
            "I am eating!!!\n"
          ]
        }
      ],
      "source": [
        "c.eat()"
      ]
    },
    {
      "cell_type": "code",
      "execution_count": null,
      "id": "2df2eb56",
      "metadata": {
        "id": "2df2eb56"
      },
      "outputs": [],
      "source": [
        "d = Dog(\"Scooby Doo\")"
      ]
    },
    {
      "cell_type": "code",
      "execution_count": null,
      "id": "98ec378f",
      "metadata": {
        "id": "98ec378f",
        "outputId": "73ec69d4-74d0-4519-b05e-3566840beef3"
      },
      "outputs": [
        {
          "name": "stdout",
          "output_type": "stream",
          "text": [
            "Scooby Doo\n",
            "Dog\n"
          ]
        }
      ],
      "source": [
        "print(d.name)\n",
        "print(d.species)"
      ]
    },
    {
      "cell_type": "code",
      "execution_count": null,
      "id": "405f952c",
      "metadata": {
        "id": "405f952c",
        "outputId": "3fd8f33e-e6ee-494b-92ab-811ee15607b6"
      },
      "outputs": [
        {
          "name": "stdout",
          "output_type": "stream",
          "text": [
            "Boooow Bhhoowww!!!!\n"
          ]
        }
      ],
      "source": [
        "d.speak()"
      ]
    },
    {
      "cell_type": "code",
      "execution_count": null,
      "id": "77f1e3d6",
      "metadata": {
        "id": "77f1e3d6",
        "outputId": "46f8706b-99ba-4f38-c6fe-53159acb024a"
      },
      "outputs": [
        {
          "name": "stdout",
          "output_type": "stream",
          "text": [
            "I am eating!!!\n"
          ]
        }
      ],
      "source": [
        "d.eat()"
      ]
    },
    {
      "cell_type": "markdown",
      "id": "2de53aa7",
      "metadata": {
        "id": "2de53aa7"
      },
      "source": [
        "### super"
      ]
    },
    {
      "cell_type": "code",
      "execution_count": null,
      "id": "95a6e9a4",
      "metadata": {
        "id": "95a6e9a4"
      },
      "outputs": [],
      "source": [
        "class Animal:\n",
        "    def __init__(self, species):\n",
        "        self.species = species\n",
        "        print('self inside Animal class:')\n",
        "        print(self)\n",
        "        \n",
        "    def eat(self):\n",
        "        print(\"I am eating!!!\")"
      ]
    },
    {
      "cell_type": "code",
      "execution_count": null,
      "id": "6d429328",
      "metadata": {
        "id": "6d429328"
      },
      "outputs": [],
      "source": [
        "class Cat(Animal): # syntax to inherit\n",
        "    def __init__(self, name):\n",
        "        print('self inside Cat class:')\n",
        "        print(self)\n",
        "        super().__init__(\"Cat\") # the object is passed automatically\n",
        "        self.name = name\n",
        "    \n",
        "    def speak(self):\n",
        "        print(\"Meoooewww Meooow!!!!\")"
      ]
    },
    {
      "cell_type": "code",
      "execution_count": null,
      "id": "3ba7f764",
      "metadata": {
        "id": "3ba7f764",
        "outputId": "ae165ec6-7c87-40b0-abbd-9809b7c52b49"
      },
      "outputs": [
        {
          "name": "stdout",
          "output_type": "stream",
          "text": [
            "self inside Cat class:\n",
            "<__main__.Cat object at 0x7fe721efdbe0>\n",
            "self inside Animal class:\n",
            "<__main__.Cat object at 0x7fe721efdbe0>\n",
            "Tom\n"
          ]
        }
      ],
      "source": [
        "c = Cat(\"Tom\")\n",
        "print(c.name)"
      ]
    },
    {
      "cell_type": "code",
      "execution_count": null,
      "id": "5b782a2e",
      "metadata": {
        "id": "5b782a2e",
        "outputId": "8cf928c9-8ab4-42dd-f64f-5f329c4a414a"
      },
      "outputs": [
        {
          "name": "stdout",
          "output_type": "stream",
          "text": [
            "Cat\n"
          ]
        }
      ],
      "source": [
        "print(c.species)"
      ]
    },
    {
      "cell_type": "markdown",
      "id": "0e44dfe7",
      "metadata": {
        "id": "0e44dfe7"
      },
      "source": [
        "### Bank Account"
      ]
    },
    {
      "cell_type": "code",
      "execution_count": null,
      "id": "06cbdabd",
      "metadata": {
        "id": "06cbdabd"
      },
      "outputs": [],
      "source": [
        "class BankAccount:\n",
        "    \n",
        "    def __init__(self, balance):\n",
        "        self.balance = balance\n",
        "        \n",
        "    def deposit(self, amount):\n",
        "        self.balance += amount\n",
        "    \n",
        "    def withdraw(self, amount):\n",
        "        self.balance -= amount\n",
        "\n",
        "    def __str__(self, account_type = 'Savings'):\n",
        "        return f'Balance ({account_type}): {self.balance}'"
      ]
    },
    {
      "cell_type": "code",
      "execution_count": null,
      "id": "8b07202e",
      "metadata": {
        "id": "8b07202e"
      },
      "outputs": [],
      "source": [
        "ba = BankAccount(10000)"
      ]
    },
    {
      "cell_type": "code",
      "execution_count": null,
      "id": "2b6fa2a8",
      "metadata": {
        "id": "2b6fa2a8",
        "outputId": "174078f7-f0b6-46d2-fe1d-a708736121cb"
      },
      "outputs": [
        {
          "name": "stdout",
          "output_type": "stream",
          "text": [
            "Balance (Savings): 10000\n"
          ]
        }
      ],
      "source": [
        "print(ba)"
      ]
    },
    {
      "cell_type": "code",
      "execution_count": null,
      "id": "a38abc6b",
      "metadata": {
        "id": "a38abc6b"
      },
      "outputs": [],
      "source": [
        "ba.deposit(1000)"
      ]
    },
    {
      "cell_type": "code",
      "execution_count": null,
      "id": "73b69d36",
      "metadata": {
        "id": "73b69d36",
        "outputId": "c4e17c35-0e25-41b6-cf35-fd24eb28f7ab"
      },
      "outputs": [
        {
          "name": "stdout",
          "output_type": "stream",
          "text": [
            "Balance (Savings): 11000\n"
          ]
        }
      ],
      "source": [
        "print(ba)"
      ]
    },
    {
      "cell_type": "code",
      "execution_count": null,
      "id": "2e698ac1",
      "metadata": {
        "id": "2e698ac1"
      },
      "outputs": [],
      "source": [
        "class CurrentAccount(BankAccount):\n",
        "    def __init__(self, balance):\n",
        "        super().__init__(balance) # create balance attribute\n",
        "    \n",
        "    def get_interest(self):\n",
        "        # 5% interest rate\n",
        "        print(\"Interest is: \", self.balance * (0.05))\n",
        "        return self.balance * (0.05)\n",
        "\n",
        "    def __str__(self):\n",
        "        return super().__str__('Current')"
      ]
    },
    {
      "cell_type": "code",
      "execution_count": null,
      "id": "f305aa8b",
      "metadata": {
        "id": "f305aa8b"
      },
      "outputs": [],
      "source": [
        "class SavingsAccount(BankAccount):\n",
        "    def __init__(self, balance):\n",
        "        super().__init__(balance)\n",
        "        \n",
        "    def get_interest(self):\n",
        "        # 7 % interest rate\n",
        "        print(\"Interest is: \", self.balance * (0.07))\n",
        "        return self.balance * (0.07)\n",
        "\n",
        "    def __str__(self):\n",
        "        return super().__str__('Savings')"
      ]
    },
    {
      "cell_type": "code",
      "execution_count": null,
      "id": "50e2de82",
      "metadata": {
        "id": "50e2de82",
        "outputId": "fdb127e9-c3bd-441d-f9ba-b2b2f4b1233f"
      },
      "outputs": [
        {
          "name": "stdout",
          "output_type": "stream",
          "text": [
            "Balance (Savings): 10000\n"
          ]
        }
      ],
      "source": [
        "sa = SavingsAccount(10000)\n",
        "print(sa)"
      ]
    },
    {
      "cell_type": "code",
      "execution_count": null,
      "id": "4236c613",
      "metadata": {
        "id": "4236c613"
      },
      "outputs": [],
      "source": [
        "sa.deposit(1000)"
      ]
    },
    {
      "cell_type": "code",
      "execution_count": null,
      "id": "47fb5447",
      "metadata": {
        "id": "47fb5447",
        "outputId": "dc545f98-9f2a-4b94-ed59-b6310267ba4c"
      },
      "outputs": [
        {
          "name": "stdout",
          "output_type": "stream",
          "text": [
            "Balance (Savings): 11000\n"
          ]
        }
      ],
      "source": [
        "print(sa)"
      ]
    },
    {
      "cell_type": "code",
      "execution_count": null,
      "id": "3659451f",
      "metadata": {
        "id": "3659451f",
        "outputId": "43a4f51f-71d3-4222-b102-b0942b53d90f"
      },
      "outputs": [
        {
          "name": "stdout",
          "output_type": "stream",
          "text": [
            "Balance (Current): 50000\n"
          ]
        }
      ],
      "source": [
        "ca = CurrentAccount(50000)\n",
        "print(ca)"
      ]
    },
    {
      "cell_type": "code",
      "execution_count": null,
      "id": "ac4e0bdb",
      "metadata": {
        "id": "ac4e0bdb"
      },
      "outputs": [],
      "source": [
        "ca.withdraw(5000)"
      ]
    },
    {
      "cell_type": "code",
      "execution_count": null,
      "id": "7a887e93",
      "metadata": {
        "id": "7a887e93",
        "outputId": "16677e94-6159-4805-ea50-851d43da6cc1"
      },
      "outputs": [
        {
          "name": "stdout",
          "output_type": "stream",
          "text": [
            "Balance (Current): 45000\n"
          ]
        }
      ],
      "source": [
        "print(ca)"
      ]
    },
    {
      "cell_type": "code",
      "execution_count": null,
      "id": "e4c94e20",
      "metadata": {
        "id": "e4c94e20",
        "outputId": "d60241c7-8068-44a2-f6e6-2133b0a5f541"
      },
      "outputs": [
        {
          "name": "stdout",
          "output_type": "stream",
          "text": [
            "Interest is:  770.0000000000001\n"
          ]
        },
        {
          "data": {
            "text/plain": [
              "770.0000000000001"
            ]
          },
          "execution_count": 167,
          "metadata": {},
          "output_type": "execute_result"
        }
      ],
      "source": [
        "sa.get_interest()"
      ]
    },
    {
      "cell_type": "code",
      "execution_count": null,
      "id": "a883f7d8",
      "metadata": {
        "id": "a883f7d8",
        "outputId": "8d71af6b-8030-49d5-fd0b-aa9cb6a75bc7"
      },
      "outputs": [
        {
          "name": "stdout",
          "output_type": "stream",
          "text": [
            "Interest is:  2250.0\n"
          ]
        },
        {
          "data": {
            "text/plain": [
              "2250.0"
            ]
          },
          "execution_count": 168,
          "metadata": {},
          "output_type": "execute_result"
        }
      ],
      "source": [
        "ca.get_interest()"
      ]
    },
    {
      "cell_type": "markdown",
      "id": "a616f04e",
      "metadata": {
        "id": "a616f04e"
      },
      "source": [
        "### Quiz"
      ]
    },
    {
      "cell_type": "code",
      "execution_count": null,
      "id": "24648f00",
      "metadata": {
        "id": "24648f00",
        "outputId": "c30fdda9-36ad-4a9f-ba99-f092ac16d51f"
      },
      "outputs": [
        {
          "name": "stdout",
          "output_type": "stream",
          "text": [
            "Hi my name is Sahil\n",
            "My salary is 0\n"
          ]
        }
      ],
      "source": [
        "class Person:\n",
        "    def __init__(self, name):\n",
        "        self.name = name\n",
        "        \n",
        "    def say_hello(self):\n",
        "        print(f'Hi my name is {self.name}')\n",
        "\n",
        "class Employee(Person):\n",
        "    def __init__(self, name, salary):\n",
        "        super().__init__(name)\n",
        "        self.salary = 0\n",
        "    \n",
        "    def say_hello(self):\n",
        "        super().say_hello()\n",
        "        print(f'My salary is {self.salary}')\n",
        "    \n",
        "e = Employee(\"Sahil\", 10000)\n",
        "e.say_hello()"
      ]
    },
    {
      "cell_type": "code",
      "execution_count": null,
      "id": "9312612c",
      "metadata": {
        "id": "9312612c",
        "outputId": "c8ae2879-4c7d-44a0-c4ae-36975a9f141b"
      },
      "outputs": [
        {
          "name": "stdout",
          "output_type": "stream",
          "text": [
            "Hi my name is Sahil\n",
            "My salary is 10000\n"
          ]
        }
      ],
      "source": [
        "class Person:\n",
        "    def __init__(self, name):\n",
        "        self.name = name\n",
        "        \n",
        "    def say_hello(self):\n",
        "        print(f'Hi my name is {self.name}')\n",
        "\n",
        "class Employee(Person):\n",
        "    def __init__(self, name, salary):\n",
        "        super().__init__(name)\n",
        "        self.salary = salary\n",
        "    \n",
        "    def say_hello(self):\n",
        "        super().say_hello()\n",
        "        print(f'My salary is {self.salary}')\n",
        "    \n",
        "e = Employee(\"Sahil\", 10000)\n",
        "e.say_hello()"
      ]
    },
    {
      "cell_type": "markdown",
      "id": "46906bba",
      "metadata": {
        "id": "46906bba"
      },
      "source": [
        "### Private Properties"
      ]
    },
    {
      "cell_type": "code",
      "execution_count": null,
      "id": "fa7038eb",
      "metadata": {
        "id": "fa7038eb"
      },
      "outputs": [],
      "source": [
        "ba = BankAccount(1000)\n",
        "ba.balance = 1321423473941274728413379367264378296423794623"
      ]
    },
    {
      "cell_type": "code",
      "execution_count": null,
      "id": "8681abc7",
      "metadata": {
        "id": "8681abc7",
        "outputId": "6c2c825d-7dde-46de-b2bd-3272c95f6b0c"
      },
      "outputs": [
        {
          "name": "stdout",
          "output_type": "stream",
          "text": [
            "Balance (Savings): 1321423473941274728413379367264378296423794623\n"
          ]
        }
      ],
      "source": [
        "print(ba)"
      ]
    },
    {
      "cell_type": "code",
      "execution_count": null,
      "id": "14b369ab",
      "metadata": {
        "id": "14b369ab"
      },
      "outputs": [],
      "source": [
        "class BankAccount:\n",
        "    def __init__(self, balance):\n",
        "        self.__balance = balance\n",
        "        \n",
        "    def deposit(self, amount):\n",
        "        self.__balance += amount\n",
        "    \n",
        "    def withdraw(self, amount):\n",
        "        self.__balance -= amount\n",
        "\n",
        "    def __str__(self, account_type = 'Savings'):\n",
        "        return f'Balance ({account_type}): {self.__balance}'"
      ]
    },
    {
      "cell_type": "code",
      "execution_count": null,
      "id": "e5580099",
      "metadata": {
        "id": "e5580099"
      },
      "outputs": [],
      "source": [
        "ba = BankAccount(10000)"
      ]
    },
    {
      "cell_type": "code",
      "execution_count": null,
      "id": "0f09594c",
      "metadata": {
        "id": "0f09594c",
        "outputId": "b7ce456c-ab2b-4d2b-a8f2-9c4e27c1caf4"
      },
      "outputs": [
        {
          "name": "stdout",
          "output_type": "stream",
          "text": [
            "Balance (Savings): 10000\n"
          ]
        }
      ],
      "source": [
        "print(ba)"
      ]
    },
    {
      "cell_type": "code",
      "execution_count": null,
      "id": "5e972dc3",
      "metadata": {
        "id": "5e972dc3"
      },
      "outputs": [],
      "source": [
        "ba.__balance = 1032141847157358974289074238423740240"
      ]
    },
    {
      "cell_type": "code",
      "execution_count": null,
      "id": "f019e3a7",
      "metadata": {
        "id": "f019e3a7",
        "outputId": "77f47de1-93b2-4c73-9d5e-6fce8ab43338"
      },
      "outputs": [
        {
          "name": "stdout",
          "output_type": "stream",
          "text": [
            "Balance (Savings): 10000\n"
          ]
        }
      ],
      "source": [
        "print(ba)"
      ]
    },
    {
      "cell_type": "code",
      "execution_count": null,
      "id": "8758fe43",
      "metadata": {
        "id": "8758fe43",
        "outputId": "f2481aba-883c-4ac9-feb1-d9858a7469b6"
      },
      "outputs": [
        {
          "name": "stdout",
          "output_type": "stream",
          "text": [
            "['_BankAccount__balance', '__balance', '__class__', '__delattr__', '__dict__', '__dir__', '__doc__', '__eq__', '__format__', '__ge__', '__getattribute__', '__gt__', '__hash__', '__init__', '__init_subclass__', '__le__', '__lt__', '__module__', '__ne__', '__new__', '__reduce__', '__reduce_ex__', '__repr__', '__setattr__', '__sizeof__', '__str__', '__subclasshook__', '__weakref__', 'deposit', 'withdraw']\n"
          ]
        }
      ],
      "source": [
        "print(dir(ba))"
      ]
    },
    {
      "cell_type": "code",
      "execution_count": null,
      "id": "079318f4",
      "metadata": {
        "id": "079318f4"
      },
      "outputs": [],
      "source": [
        "ba2 = BankAccount(1000)"
      ]
    },
    {
      "cell_type": "code",
      "execution_count": null,
      "id": "c87ca076",
      "metadata": {
        "id": "c87ca076",
        "outputId": "5502ab0e-d044-4249-f6f2-e689639842b7"
      },
      "outputs": [
        {
          "name": "stdout",
          "output_type": "stream",
          "text": [
            "Balance (Savings): 1000\n"
          ]
        }
      ],
      "source": [
        "print(ba2)"
      ]
    },
    {
      "cell_type": "code",
      "execution_count": null,
      "id": "6fb52f5c",
      "metadata": {
        "id": "6fb52f5c",
        "outputId": "03def521-c4f6-4f74-fd69-e6a55fa41958"
      },
      "outputs": [
        {
          "data": {
            "text/plain": [
              "['_BankAccount__balance',\n",
              " '__class__',\n",
              " '__delattr__',\n",
              " '__dict__',\n",
              " '__dir__',\n",
              " '__doc__',\n",
              " '__eq__',\n",
              " '__format__',\n",
              " '__ge__',\n",
              " '__getattribute__',\n",
              " '__gt__',\n",
              " '__hash__',\n",
              " '__init__',\n",
              " '__init_subclass__',\n",
              " '__le__',\n",
              " '__lt__',\n",
              " '__module__',\n",
              " '__ne__',\n",
              " '__new__',\n",
              " '__reduce__',\n",
              " '__reduce_ex__',\n",
              " '__repr__',\n",
              " '__setattr__',\n",
              " '__sizeof__',\n",
              " '__str__',\n",
              " '__subclasshook__',\n",
              " '__weakref__',\n",
              " 'deposit',\n",
              " 'withdraw']"
            ]
          },
          "execution_count": 186,
          "metadata": {},
          "output_type": "execute_result"
        }
      ],
      "source": [
        "dir(ba2) # Name Mangling"
      ]
    },
    {
      "cell_type": "code",
      "execution_count": null,
      "id": "ab7e3f7c",
      "metadata": {
        "id": "ab7e3f7c"
      },
      "outputs": [],
      "source": [
        "ba2._BankAccount__balance = 10328194724719241827412471"
      ]
    },
    {
      "cell_type": "code",
      "execution_count": null,
      "id": "cdf25bfb",
      "metadata": {
        "id": "cdf25bfb",
        "outputId": "565c90c9-43b9-4c8e-d116-451e9b3bb1fa"
      },
      "outputs": [
        {
          "name": "stdout",
          "output_type": "stream",
          "text": [
            "Balance (Savings): 10328194724719241827412471\n"
          ]
        }
      ],
      "source": [
        "print(ba2)"
      ]
    },
    {
      "cell_type": "code",
      "execution_count": null,
      "id": "ec8c067e",
      "metadata": {
        "id": "ec8c067e"
      },
      "outputs": [],
      "source": [
        "ba2.__balance = 2342"
      ]
    },
    {
      "cell_type": "code",
      "execution_count": null,
      "id": "dc38470b",
      "metadata": {
        "id": "dc38470b",
        "outputId": "4be44adc-cc37-4e4a-c9f7-83906236279f"
      },
      "outputs": [
        {
          "name": "stdout",
          "output_type": "stream",
          "text": [
            "Balance (Savings): 10328194724719241827412471\n"
          ]
        }
      ],
      "source": [
        "print(ba2)"
      ]
    },
    {
      "cell_type": "code",
      "execution_count": null,
      "id": "833355d1",
      "metadata": {
        "id": "833355d1",
        "outputId": "3973fe70-a093-4c20-ada4-26bdf79276b4"
      },
      "outputs": [
        {
          "name": "stdout",
          "output_type": "stream",
          "text": [
            "['_BankAccount__balance', '__balance', '__class__', '__delattr__', '__dict__', '__dir__', '__doc__', '__eq__', '__format__', '__ge__', '__getattribute__', '__gt__', '__hash__', '__init__', '__init_subclass__', '__le__', '__lt__', '__module__', '__ne__', '__new__', '__reduce__', '__reduce_ex__', '__repr__', '__setattr__', '__sizeof__', '__str__', '__subclasshook__', '__weakref__', 'deposit', 'withdraw']\n"
          ]
        }
      ],
      "source": [
        "print(dir(ba2))"
      ]
    },
    {
      "cell_type": "code",
      "execution_count": null,
      "id": "fa5a0d92",
      "metadata": {
        "id": "fa5a0d92"
      },
      "outputs": [],
      "source": [
        "ba2.deposit(243)"
      ]
    },
    {
      "cell_type": "code",
      "execution_count": null,
      "id": "11a83010",
      "metadata": {
        "id": "11a83010",
        "outputId": "4dff24f2-fa21-44b0-82f2-1072c4ac98d7"
      },
      "outputs": [
        {
          "name": "stdout",
          "output_type": "stream",
          "text": [
            "Balance (Savings): 10328194724719241827412714\n"
          ]
        }
      ],
      "source": [
        "print(ba2)"
      ]
    },
    {
      "cell_type": "markdown",
      "id": "ecf6144f",
      "metadata": {
        "id": "ecf6144f"
      },
      "source": [
        "### Doubts"
      ]
    },
    {
      "cell_type": "code",
      "execution_count": null,
      "id": "215ee4b5",
      "metadata": {
        "id": "215ee4b5"
      },
      "outputs": [],
      "source": [
        "# Next Problem Solving Session on OOPS"
      ]
    },
    {
      "cell_type": "code",
      "execution_count": null,
      "id": "42c92519",
      "metadata": {
        "id": "42c92519"
      },
      "outputs": [],
      "source": [
        "class Foo:\n",
        "    def __init__(self):\n",
        "        self.a = 0\n",
        "        self.b = 1\n",
        "\n",
        "    def foo(self):\n",
        "        return self.a + self.b + 4"
      ]
    },
    {
      "cell_type": "code",
      "execution_count": null,
      "id": "13c029e0",
      "metadata": {
        "id": "13c029e0"
      },
      "outputs": [],
      "source": [
        "f = Foo()"
      ]
    },
    {
      "cell_type": "code",
      "execution_count": null,
      "id": "9598597c",
      "metadata": {
        "id": "9598597c",
        "outputId": "6d87769e-e865-435f-ac33-55db092028e1"
      },
      "outputs": [
        {
          "name": "stdout",
          "output_type": "stream",
          "text": [
            "True\n"
          ]
        }
      ],
      "source": [
        "print('a' in dir(f))"
      ]
    },
    {
      "cell_type": "code",
      "execution_count": null,
      "id": "4c87edea",
      "metadata": {
        "id": "4c87edea",
        "outputId": "27b79fe3-95cf-495f-929f-2bea4272ecd6"
      },
      "outputs": [
        {
          "name": "stdout",
          "output_type": "stream",
          "text": [
            "True\n"
          ]
        }
      ],
      "source": [
        "print('b' in dir(f))"
      ]
    },
    {
      "cell_type": "code",
      "execution_count": null,
      "id": "279774b6",
      "metadata": {
        "id": "279774b6",
        "outputId": "4d8c43fb-f902-43cf-92bf-1f929241ccf1"
      },
      "outputs": [
        {
          "data": {
            "text/plain": [
              "5"
            ]
          },
          "execution_count": 205,
          "metadata": {},
          "output_type": "execute_result"
        }
      ],
      "source": [
        "f.foo()"
      ]
    },
    {
      "cell_type": "code",
      "execution_count": null,
      "id": "29c404fb",
      "metadata": {
        "id": "29c404fb",
        "outputId": "e60766e7-5ab3-4dd6-fa2b-2e801526c78a"
      },
      "outputs": [
        {
          "data": {
            "text/plain": [
              "8"
            ]
          },
          "execution_count": 211,
          "metadata": {},
          "output_type": "execute_result"
        }
      ],
      "source": [
        "5 + 3"
      ]
    },
    {
      "cell_type": "code",
      "execution_count": null,
      "id": "5647af92",
      "metadata": {
        "id": "5647af92"
      },
      "outputs": [],
      "source": [
        "a = 5"
      ]
    },
    {
      "cell_type": "code",
      "execution_count": null,
      "id": "06c40e47",
      "metadata": {
        "id": "06c40e47",
        "outputId": "7a6afc34-f634-43b3-9271-c911880a24e4"
      },
      "outputs": [
        {
          "data": {
            "text/plain": [
              "8"
            ]
          },
          "execution_count": 214,
          "metadata": {},
          "output_type": "execute_result"
        }
      ],
      "source": [
        "a.__add__(3)"
      ]
    },
    {
      "cell_type": "code",
      "execution_count": null,
      "id": "455e603d",
      "metadata": {
        "id": "455e603d"
      },
      "outputs": [],
      "source": [
        "s = \"akhil\""
      ]
    },
    {
      "cell_type": "code",
      "execution_count": null,
      "id": "9bfe6dcf",
      "metadata": {
        "id": "9bfe6dcf",
        "outputId": "10e49af1-488b-497c-b152-ff90658eab11"
      },
      "outputs": [
        {
          "data": {
            "text/plain": [
              "'akhilKumar'"
            ]
          },
          "execution_count": 216,
          "metadata": {},
          "output_type": "execute_result"
        }
      ],
      "source": [
        "s.__add__(\"Kumar\")"
      ]
    },
    {
      "cell_type": "code",
      "execution_count": null,
      "id": "869f2a89",
      "metadata": {
        "id": "869f2a89",
        "outputId": "b645cae7-b96c-4c04-8e16-dcd8ac94c048"
      },
      "outputs": [
        {
          "data": {
            "text/plain": [
              "8"
            ]
          },
          "execution_count": 218,
          "metadata": {},
          "output_type": "execute_result"
        }
      ],
      "source": [
        "5 + 3 # a.__add__(3)"
      ]
    },
    {
      "cell_type": "code",
      "execution_count": null,
      "id": "082400c2",
      "metadata": {
        "id": "082400c2",
        "outputId": "8e489d9f-61d9-436a-811f-0c0ac08fc56c"
      },
      "outputs": [
        {
          "data": {
            "text/plain": [
              "'5'"
            ]
          },
          "execution_count": 219,
          "metadata": {},
          "output_type": "execute_result"
        }
      ],
      "source": [
        "a.__str__()"
      ]
    },
    {
      "cell_type": "code",
      "execution_count": null,
      "id": "afb57c45",
      "metadata": {
        "id": "afb57c45",
        "outputId": "1dc5ae01-3f93-43d0-b066-b1603ba3b6de"
      },
      "outputs": [
        {
          "data": {
            "text/plain": [
              "'akhil'"
            ]
          },
          "execution_count": 220,
          "metadata": {},
          "output_type": "execute_result"
        }
      ],
      "source": [
        "s.__str__()"
      ]
    },
    {
      "cell_type": "code",
      "execution_count": null,
      "id": "4e43eb2c",
      "metadata": {
        "id": "4e43eb2c",
        "outputId": "14bfa7e8-54cb-42b1-d6ec-f793b469b291"
      },
      "outputs": [
        {
          "data": {
            "text/plain": [
              "8"
            ]
          },
          "execution_count": 221,
          "metadata": {},
          "output_type": "execute_result"
        }
      ],
      "source": [
        "a = 5\n",
        "b = 3\n",
        "\n",
        "a + b"
      ]
    },
    {
      "cell_type": "code",
      "execution_count": null,
      "id": "a83292c2",
      "metadata": {
        "id": "a83292c2",
        "outputId": "5daace68-60f2-45b3-b996-381b767a2444"
      },
      "outputs": [
        {
          "data": {
            "text/plain": [
              "8"
            ]
          },
          "execution_count": 222,
          "metadata": {},
          "output_type": "execute_result"
        }
      ],
      "source": [
        "a.__add__(b)"
      ]
    },
    {
      "cell_type": "code",
      "execution_count": null,
      "id": "e13714a3",
      "metadata": {
        "id": "e13714a3"
      },
      "outputs": [],
      "source": [
        "class ComplexNumber:\n",
        "    def __init__(self, real, imaginary = 0):\n",
        "        self.real = real\n",
        "        self.imaginary = imaginary\n",
        "    \n",
        "    # overrides the print behavior of printing object of class ComplexNumber\n",
        "    def __str__(self):\n",
        "        return f\"{self.real} + i{self.imaginary}\"\n",
        "    \n",
        "    def __add__(self, obj2):\n",
        "        return f\"{self.real + obj2.real} + i{self.imaginary + obj2.imaginary}\""
      ]
    },
    {
      "cell_type": "code",
      "execution_count": null,
      "id": "1761c52f",
      "metadata": {
        "id": "1761c52f"
      },
      "outputs": [],
      "source": [
        "c = ComplexNumber(5)"
      ]
    },
    {
      "cell_type": "code",
      "execution_count": null,
      "id": "efb2a79b",
      "metadata": {
        "id": "efb2a79b",
        "outputId": "c5b29a7d-3816-46e0-9696-8fc21178ded5"
      },
      "outputs": [
        {
          "name": "stdout",
          "output_type": "stream",
          "text": [
            "5 + i0\n"
          ]
        }
      ],
      "source": [
        "print(c)"
      ]
    },
    {
      "cell_type": "code",
      "execution_count": null,
      "id": "dbacdc1d",
      "metadata": {
        "id": "dbacdc1d"
      },
      "outputs": [],
      "source": [
        "c2 = ComplexNumber(7)"
      ]
    },
    {
      "cell_type": "code",
      "execution_count": null,
      "id": "29b07e45",
      "metadata": {
        "id": "29b07e45",
        "outputId": "07b46694-2298-4a59-da4c-4d7f76257ed8"
      },
      "outputs": [
        {
          "data": {
            "text/plain": [
              "'12 + i0'"
            ]
          },
          "execution_count": 231,
          "metadata": {},
          "output_type": "execute_result"
        }
      ],
      "source": [
        "# ComplexNumber.__add__(c, c2)"
      ]
    },
    {
      "cell_type": "code",
      "execution_count": null,
      "id": "d9ae027c",
      "metadata": {
        "id": "d9ae027c",
        "outputId": "d4485a01-46d8-4ea6-85ef-d43543dce87b"
      },
      "outputs": [
        {
          "data": {
            "text/plain": [
              "'12 + i0'"
            ]
          },
          "execution_count": 234,
          "metadata": {},
          "output_type": "execute_result"
        }
      ],
      "source": [
        "c + c2 # c is 1st arg, c2 is 2nd arg"
      ]
    },
    {
      "cell_type": "code",
      "execution_count": null,
      "id": "9e911575",
      "metadata": {
        "id": "9e911575",
        "outputId": "ca88d214-3427-4832-caef-39c0d013ef2f"
      },
      "outputs": [
        {
          "data": {
            "text/plain": [
              "'12 + i0'"
            ]
          },
          "execution_count": 239,
          "metadata": {},
          "output_type": "execute_result"
        }
      ],
      "source": [
        "c.__add__(c2) # c is automatically as first arg"
      ]
    },
    {
      "cell_type": "code",
      "execution_count": null,
      "id": "e269fa93",
      "metadata": {
        "id": "e269fa93",
        "outputId": "1e0d09ae-834a-4f80-e56c-a42dee4f090d"
      },
      "outputs": [
        {
          "data": {
            "text/plain": [
              "'12 + i0'"
            ]
          },
          "execution_count": 238,
          "metadata": {},
          "output_type": "execute_result"
        }
      ],
      "source": [
        "c2 + c # c2 is 1st, c is 2nd"
      ]
    },
    {
      "cell_type": "code",
      "execution_count": null,
      "id": "48d11274",
      "metadata": {
        "id": "48d11274"
      },
      "outputs": [],
      "source": []
    }
  ],
  "metadata": {
    "kernelspec": {
      "display_name": "Python 3 (ipykernel)",
      "language": "python",
      "name": "python3"
    },
    "language_info": {
      "codemirror_mode": {
        "name": "ipython",
        "version": 3
      },
      "file_extension": ".py",
      "mimetype": "text/x-python",
      "name": "python",
      "nbconvert_exporter": "python",
      "pygments_lexer": "ipython3",
      "version": "3.9.12"
    },
    "colab": {
      "provenance": [],
      "include_colab_link": true
    }
  },
  "nbformat": 4,
  "nbformat_minor": 5
}