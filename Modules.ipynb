{
 "cells": [
  {
   "cell_type": "markdown",
   "id": "212c39f4",
   "metadata": {},
   "source": [
    "# Modules"
   ]
  },
  {
   "cell_type": "code",
   "execution_count": 1,
   "id": "52d91124",
   "metadata": {},
   "outputs": [],
   "source": [
    "import math"
   ]
  },
  {
   "cell_type": "code",
   "execution_count": 2,
   "id": "0bf1a71f",
   "metadata": {},
   "outputs": [],
   "source": [
    "from functools import reduce"
   ]
  },
  {
   "cell_type": "code",
   "execution_count": 3,
   "id": "3617341e",
   "metadata": {},
   "outputs": [
    {
     "data": {
      "text/plain": [
       "9"
      ]
     },
     "execution_count": 3,
     "metadata": {},
     "output_type": "execute_result"
    }
   ],
   "source": [
    "math.floor(9.6)"
   ]
  },
  {
   "cell_type": "code",
   "execution_count": 15,
   "id": "75a7ebac",
   "metadata": {},
   "outputs": [
    {
     "data": {
      "text/plain": [
       "True"
      ]
     },
     "execution_count": 15,
     "metadata": {},
     "output_type": "execute_result"
    }
   ],
   "source": [
    "isinstance(math, object) # math is a module technically\n",
    "# in Python everything is an object"
   ]
  },
  {
   "cell_type": "code",
   "execution_count": 6,
   "id": "8ea7c0de",
   "metadata": {},
   "outputs": [
    {
     "data": {
      "text/plain": [
       "3.1622776601683795"
      ]
     },
     "execution_count": 6,
     "metadata": {},
     "output_type": "execute_result"
    }
   ],
   "source": [
    "math.sqrt(10)"
   ]
  },
  {
   "cell_type": "code",
   "execution_count": 8,
   "id": "3ffd5101",
   "metadata": {},
   "outputs": [],
   "source": [
    "# methods"
   ]
  },
  {
   "cell_type": "code",
   "execution_count": 9,
   "id": "707c6ed4",
   "metadata": {},
   "outputs": [
    {
     "data": {
      "text/plain": [
       "['__doc__',\n",
       " '__file__',\n",
       " '__loader__',\n",
       " '__name__',\n",
       " '__package__',\n",
       " '__spec__',\n",
       " 'acos',\n",
       " 'acosh',\n",
       " 'asin',\n",
       " 'asinh',\n",
       " 'atan',\n",
       " 'atan2',\n",
       " 'atanh',\n",
       " 'ceil',\n",
       " 'comb',\n",
       " 'copysign',\n",
       " 'cos',\n",
       " 'cosh',\n",
       " 'degrees',\n",
       " 'dist',\n",
       " 'e',\n",
       " 'erf',\n",
       " 'erfc',\n",
       " 'exp',\n",
       " 'expm1',\n",
       " 'fabs',\n",
       " 'factorial',\n",
       " 'floor',\n",
       " 'fmod',\n",
       " 'frexp',\n",
       " 'fsum',\n",
       " 'gamma',\n",
       " 'gcd',\n",
       " 'hypot',\n",
       " 'inf',\n",
       " 'isclose',\n",
       " 'isfinite',\n",
       " 'isinf',\n",
       " 'isnan',\n",
       " 'isqrt',\n",
       " 'lcm',\n",
       " 'ldexp',\n",
       " 'lgamma',\n",
       " 'log',\n",
       " 'log10',\n",
       " 'log1p',\n",
       " 'log2',\n",
       " 'modf',\n",
       " 'nan',\n",
       " 'nextafter',\n",
       " 'perm',\n",
       " 'pi',\n",
       " 'pow',\n",
       " 'prod',\n",
       " 'radians',\n",
       " 'remainder',\n",
       " 'sin',\n",
       " 'sinh',\n",
       " 'sqrt',\n",
       " 'tan',\n",
       " 'tanh',\n",
       " 'tau',\n",
       " 'trunc',\n",
       " 'ulp']"
      ]
     },
     "execution_count": 9,
     "metadata": {},
     "output_type": "execute_result"
    }
   ],
   "source": [
    "dir(math)"
   ]
  },
  {
   "cell_type": "code",
   "execution_count": 10,
   "id": "6aff9397",
   "metadata": {},
   "outputs": [],
   "source": [
    "import random"
   ]
  },
  {
   "cell_type": "code",
   "execution_count": 14,
   "id": "47ba72b2",
   "metadata": {},
   "outputs": [
    {
     "data": {
      "text/plain": [
       "53"
      ]
     },
     "execution_count": 14,
     "metadata": {},
     "output_type": "execute_result"
    }
   ],
   "source": [
    "random.randint(0, 100)"
   ]
  },
  {
   "cell_type": "markdown",
   "id": "a7450a8b",
   "metadata": {},
   "source": [
    "## Ways to import"
   ]
  },
  {
   "cell_type": "markdown",
   "id": "efbde9f3",
   "metadata": {},
   "source": [
    "### With the alias"
   ]
  },
  {
   "cell_type": "code",
   "execution_count": 17,
   "id": "5f28c74c",
   "metadata": {},
   "outputs": [],
   "source": [
    "import math as m # an alias"
   ]
  },
  {
   "cell_type": "code",
   "execution_count": 18,
   "id": "d765d2dc",
   "metadata": {},
   "outputs": [
    {
     "data": {
      "text/plain": [
       "3.1622776601683795"
      ]
     },
     "execution_count": 18,
     "metadata": {},
     "output_type": "execute_result"
    }
   ],
   "source": [
    "m.sqrt(10)"
   ]
  },
  {
   "cell_type": "code",
   "execution_count": 25,
   "id": "9d8d91e5",
   "metadata": {},
   "outputs": [
    {
     "data": {
      "text/plain": [
       "104"
      ]
     },
     "execution_count": 25,
     "metadata": {},
     "output_type": "execute_result"
    }
   ],
   "source": [
    "m.floor(104.4) # it is a method"
   ]
  },
  {
   "cell_type": "code",
   "execution_count": 21,
   "id": "30a65e84",
   "metadata": {},
   "outputs": [],
   "source": [
    "import numpy as np\n",
    "import pandas as np"
   ]
  },
  {
   "cell_type": "markdown",
   "id": "70ce8b0f",
   "metadata": {},
   "source": [
    "### A specific method"
   ]
  },
  {
   "cell_type": "code",
   "execution_count": 22,
   "id": "4695d60a",
   "metadata": {},
   "outputs": [],
   "source": [
    "from math import sqrt"
   ]
  },
  {
   "cell_type": "code",
   "execution_count": 27,
   "id": "5811ff54",
   "metadata": {},
   "outputs": [
    {
     "data": {
      "text/plain": [
       "3.1622776601683795"
      ]
     },
     "execution_count": 27,
     "metadata": {},
     "output_type": "execute_result"
    }
   ],
   "source": [
    "sqrt(10) # using the function"
   ]
  },
  {
   "cell_type": "code",
   "execution_count": 26,
   "id": "b801c911",
   "metadata": {},
   "outputs": [],
   "source": [
    "from math import sqrt, floor"
   ]
  },
  {
   "cell_type": "code",
   "execution_count": 28,
   "id": "caee7433",
   "metadata": {},
   "outputs": [
    {
     "data": {
      "text/plain": [
       "9"
      ]
     },
     "execution_count": 28,
     "metadata": {},
     "output_type": "execute_result"
    }
   ],
   "source": [
    "floor(9.3)"
   ]
  },
  {
   "cell_type": "code",
   "execution_count": 29,
   "id": "1ea497ac",
   "metadata": {},
   "outputs": [
    {
     "ename": "NameError",
     "evalue": "name 'ceil' is not defined",
     "output_type": "error",
     "traceback": [
      "\u001b[0;31m---------------------------------------------------------------------------\u001b[0m",
      "\u001b[0;31mNameError\u001b[0m                                 Traceback (most recent call last)",
      "Input \u001b[0;32mIn [29]\u001b[0m, in \u001b[0;36m<cell line: 1>\u001b[0;34m()\u001b[0m\n\u001b[0;32m----> 1\u001b[0m \u001b[43mceil\u001b[49m(\u001b[38;5;241m2\u001b[39m)\n",
      "\u001b[0;31mNameError\u001b[0m: name 'ceil' is not defined"
     ]
    }
   ],
   "source": [
    "ceil(2)"
   ]
  },
  {
   "cell_type": "code",
   "execution_count": 30,
   "id": "b12321f5",
   "metadata": {},
   "outputs": [],
   "source": [
    "from math import ceil"
   ]
  },
  {
   "cell_type": "code",
   "execution_count": 31,
   "id": "d94394bf",
   "metadata": {},
   "outputs": [
    {
     "data": {
      "text/plain": [
       "3"
      ]
     },
     "execution_count": 31,
     "metadata": {},
     "output_type": "execute_result"
    }
   ],
   "source": [
    "ceil(2.5)"
   ]
  },
  {
   "cell_type": "markdown",
   "id": "33b0ae0d",
   "metadata": {},
   "source": [
    "### Quiz"
   ]
  },
  {
   "cell_type": "code",
   "execution_count": 33,
   "id": "070553bc",
   "metadata": {},
   "outputs": [],
   "source": [
    "import random"
   ]
  },
  {
   "cell_type": "code",
   "execution_count": 34,
   "id": "e3afb81f",
   "metadata": {},
   "outputs": [
    {
     "ename": "NameError",
     "evalue": "name 'randint' is not defined",
     "output_type": "error",
     "traceback": [
      "\u001b[0;31m---------------------------------------------------------------------------\u001b[0m",
      "\u001b[0;31mNameError\u001b[0m                                 Traceback (most recent call last)",
      "Input \u001b[0;32mIn [34]\u001b[0m, in \u001b[0;36m<cell line: 1>\u001b[0;34m()\u001b[0m\n\u001b[0;32m----> 1\u001b[0m \u001b[43mrandint\u001b[49m(\u001b[38;5;241m1\u001b[39m, \u001b[38;5;241m2\u001b[39m)\n",
      "\u001b[0;31mNameError\u001b[0m: name 'randint' is not defined"
     ]
    }
   ],
   "source": [
    "randint(1, 2)"
   ]
  },
  {
   "cell_type": "code",
   "execution_count": 36,
   "id": "55792d2e",
   "metadata": {},
   "outputs": [
    {
     "data": {
      "text/plain": [
       "25"
      ]
     },
     "execution_count": 36,
     "metadata": {},
     "output_type": "execute_result"
    }
   ],
   "source": [
    "random.randint(5, 30)"
   ]
  },
  {
   "cell_type": "code",
   "execution_count": 37,
   "id": "b93231aa",
   "metadata": {},
   "outputs": [],
   "source": [
    "def randint(a, b):\n",
    "    return (a + b)//2"
   ]
  },
  {
   "cell_type": "code",
   "execution_count": 38,
   "id": "b8d4ee87",
   "metadata": {},
   "outputs": [
    {
     "data": {
      "text/plain": [
       "17"
      ]
     },
     "execution_count": 38,
     "metadata": {},
     "output_type": "execute_result"
    }
   ],
   "source": [
    "randint(5, 30)"
   ]
  },
  {
   "cell_type": "code",
   "execution_count": null,
   "id": "43349f9f",
   "metadata": {},
   "outputs": [],
   "source": []
  },
  {
   "cell_type": "markdown",
   "id": "54eaa8c3",
   "metadata": {},
   "source": [
    "### Import all"
   ]
  },
  {
   "cell_type": "code",
   "execution_count": 42,
   "id": "e4e747eb",
   "metadata": {},
   "outputs": [],
   "source": [
    "from math import * # to use them you have to say\n",
    "# fun(..)"
   ]
  },
  {
   "cell_type": "code",
   "execution_count": 43,
   "id": "d856f5ae",
   "metadata": {},
   "outputs": [],
   "source": [
    "import math # to use them to you have to say\n",
    "# math.fun(..)"
   ]
  },
  {
   "cell_type": "code",
   "execution_count": null,
   "id": "857e719a",
   "metadata": {},
   "outputs": [],
   "source": []
  },
  {
   "cell_type": "markdown",
   "id": "d7475a34",
   "metadata": {},
   "source": [
    "## Homeworks"
   ]
  },
  {
   "cell_type": "markdown",
   "id": "71755386",
   "metadata": {},
   "source": [
    "Write a program that calculates an adult's fat-burning heart rate, which is 70% of the difference between 220 and the person's age respectively. Complete fat_burning_heart_rate() to calculate the fat burning heart rate.\n",
    "\n",
    "The adult's age must be between the ages of 18 and 75 inclusive. If the age entered is not in this range, raise a ValueError exception in get_age() with the message \"Invalid age.\" Handle the exception in __main__ and print the ValueError message along with \"Could not calculate heart rate info.\"\n",
    "\n"
   ]
  },
  {
   "cell_type": "markdown",
   "id": "100f0e39",
   "metadata": {},
   "source": [
    "Ex: If the input is:\n",
    "\n",
    "35\n",
    "the output is:\n",
    "\n",
    "Fat burning heart rate for a 35 year-old: 129.5 bpm"
   ]
  },
  {
   "cell_type": "markdown",
   "id": "82a18ca4",
   "metadata": {},
   "source": [
    "If the input is:\n",
    "\n",
    "17\n",
    "the output is:\n",
    "\n",
    "Invalid age.\n",
    "Could not calculate heart rate info."
   ]
  },
  {
   "cell_type": "code",
   "execution_count": null,
   "id": "74a44edc",
   "metadata": {},
   "outputs": [],
   "source": []
  },
  {
   "cell_type": "code",
   "execution_count": null,
   "id": "dfb9e4ba",
   "metadata": {},
   "outputs": [],
   "source": []
  },
  {
   "cell_type": "code",
   "execution_count": null,
   "id": "cc3bd80a",
   "metadata": {},
   "outputs": [],
   "source": []
  },
  {
   "cell_type": "code",
   "execution_count": null,
   "id": "64b72350",
   "metadata": {},
   "outputs": [],
   "source": []
  },
  {
   "cell_type": "code",
   "execution_count": null,
   "id": "100b25c3",
   "metadata": {},
   "outputs": [],
   "source": []
  },
  {
   "cell_type": "code",
   "execution_count": null,
   "id": "2bf9e00f",
   "metadata": {},
   "outputs": [],
   "source": []
  },
  {
   "cell_type": "markdown",
   "id": "d3fdef60",
   "metadata": {},
   "source": [
    "## Module HW"
   ]
  },
  {
   "cell_type": "markdown",
   "id": "20aa967c",
   "metadata": {},
   "source": [
    "Define the Artist class in Artist.py with a constructor to initialize an artist's information. The constructor should by default initialize the artist's name to \"unknown\" and the years of birth and death to -1.\n",
    "\n",
    "Define the Artwork class in Artwork.py with a constructor to initialize an artwork's information. The constructor should by default initialize the title to \"unknown\", the year created to -1, and the artist to use the Artist default constructor parameter values. Add an import statement to import the Artist class.\n",
    "\n",
    "Add import statements to main.py to import the Artist and Artwork classes."
   ]
  },
  {
   "cell_type": "markdown",
   "id": "309588d9",
   "metadata": {},
   "source": [
    "Ex: If the input is:\n",
    "\n",
    "Pablo Picasso\n",
    "1881\n",
    "1973\n",
    "Three Musicians\n",
    "1921"
   ]
  },
  {
   "cell_type": "markdown",
   "id": "210eef4c",
   "metadata": {},
   "source": [
    "the output is:\n",
    "\n",
    "Artist: Pablo Picasso (1881 to 1973)\n",
    "Title: Three Musicians, 1921"
   ]
  },
  {
   "cell_type": "markdown",
   "id": "6c49bd80",
   "metadata": {},
   "source": [
    "Ex: If the input is:\n",
    "\n",
    "Brice Marden\n",
    "1938\n",
    "-1\n",
    "Distant Muses\n",
    "2000"
   ]
  },
  {
   "cell_type": "markdown",
   "id": "c1dc3323",
   "metadata": {},
   "source": [
    "the output is:\n",
    "\n",
    "Artist: Brice Marden (1938 to present)\n",
    "Title: Distant Muses, 2000"
   ]
  },
  {
   "cell_type": "markdown",
   "id": "9d439027",
   "metadata": {},
   "source": [
    "Ex: If the input is:\n",
    "\n",
    "Banksy\n",
    "-1\n",
    "-1\n",
    "Balloon Girl\n",
    "2002"
   ]
  },
  {
   "cell_type": "markdown",
   "id": "ef70edd7",
   "metadata": {},
   "source": [
    "the output is:\n",
    "\n",
    "Artist: Banksy (unknown)\n",
    "Title: Balloon Girl, 2002"
   ]
  },
  {
   "cell_type": "code",
   "execution_count": null,
   "id": "a54fa0ee",
   "metadata": {},
   "outputs": [],
   "source": [
    "# main.py\n",
    "\n",
    "# TODO: Import Artist from Artist.py and Artwork from Artwork.py\n",
    "\n",
    "if __name__ == \"__main__\":\n",
    "    user_artist_name = input()\n",
    "    user_birth_year = int(input())\n",
    "    user_death_year = int(input())\n",
    "    user_title = input()\n",
    "    user_year_created = int(input())\n",
    "\n",
    "    user_artist = Artist(user_artist_name, user_birth_year, user_death_year)\n",
    "\n",
    "    new_artwork = Artwork(user_title, user_year_created, user_artist)\n",
    "  \n",
    "    new_artwork.print_info()"
   ]
  },
  {
   "cell_type": "code",
   "execution_count": 45,
   "id": "2ce7fd0c",
   "metadata": {},
   "outputs": [],
   "source": [
    "# Artist.py\n",
    "\n",
    "class Artist:\n",
    "    # TODO: Define constructor with parameters to initialize instance attributes\n",
    "    #       (name, birth_year, death_year)\n",
    "\n",
    "    def print_info(self):\n",
    "        if self.birth_year >= 0 and self.death_year >= 0:\n",
    "            print(f'Artist: {self.name} ({self.birth_year} to {self.death_year})')\n",
    "        elif self.birth_year >= 0: \n",
    "            print(f'Artist: {self.name}, ({self.birth_year} - present)')\n",
    "        else:\n",
    "            print(f'Artist: {self.name} (unkown)')\n",
    "            "
   ]
  },
  {
   "cell_type": "code",
   "execution_count": 47,
   "id": "f8703450",
   "metadata": {},
   "outputs": [],
   "source": [
    "# Artwork.py\n",
    "\n",
    "# TODO: Import Artist from Artist.py\n",
    "\n",
    "class Artwork:\n",
    "    # TODO: Define constructor with parameters to initialize instance attributes\n",
    "    #       (title, year_created, artist)\n",
    "\n",
    "    def print_info(self):\n",
    "        self.artist.print_info()\n",
    "        print(f'Title: {self.title}, {self.year_created}')"
   ]
  },
  {
   "cell_type": "code",
   "execution_count": null,
   "id": "84b613cc",
   "metadata": {},
   "outputs": [],
   "source": []
  }
 ],
 "metadata": {
  "kernelspec": {
   "display_name": "Python 3 (ipykernel)",
   "language": "python",
   "name": "python3"
  },
  "language_info": {
   "codemirror_mode": {
    "name": "ipython",
    "version": 3
   },
   "file_extension": ".py",
   "mimetype": "text/x-python",
   "name": "python",
   "nbconvert_exporter": "python",
   "pygments_lexer": "ipython3",
   "version": "3.9.12"
  }
 },
 "nbformat": 4,
 "nbformat_minor": 5
}
