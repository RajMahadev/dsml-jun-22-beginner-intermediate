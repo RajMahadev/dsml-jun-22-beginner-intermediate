{
 "cells": [
  {
   "cell_type": "markdown",
   "id": "4249d820",
   "metadata": {},
   "source": [
    "## Problem Solving - 3"
   ]
  },
  {
   "cell_type": "code",
   "execution_count": null,
   "id": "6e82f81f",
   "metadata": {},
   "outputs": [],
   "source": []
  },
  {
   "cell_type": "markdown",
   "id": "81d99b35",
   "metadata": {},
   "source": [
    "### OOPS Quizzes + Problem Solving"
   ]
  },
  {
   "cell_type": "markdown",
   "id": "85c5a452",
   "metadata": {},
   "source": [
    "#### Quiz - 1"
   ]
  },
  {
   "cell_type": "code",
   "execution_count": 2,
   "id": "388e0ffc",
   "metadata": {},
   "outputs": [],
   "source": [
    "class Student:\n",
    "    def __init__(random, id, age):\n",
    "        random.id = id\n",
    "        random.age = age\n",
    "\n",
    "s1 = Student(1, 5000)"
   ]
  },
  {
   "cell_type": "code",
   "execution_count": 3,
   "id": "580cb6c8",
   "metadata": {},
   "outputs": [
    {
     "name": "stdout",
     "output_type": "stream",
     "text": [
      "1\n"
     ]
    }
   ],
   "source": [
    "print(s1.id)"
   ]
  },
  {
   "cell_type": "code",
   "execution_count": 4,
   "id": "900e2ef1",
   "metadata": {},
   "outputs": [],
   "source": [
    "class Student:\n",
    "    def study(self, time):\n",
    "        print(f'{self.name} is studying for {time} hours!')"
   ]
  },
  {
   "cell_type": "code",
   "execution_count": 7,
   "id": "a63c2b8c",
   "metadata": {},
   "outputs": [
    {
     "name": "stdout",
     "output_type": "stream",
     "text": [
      "Pratik is studying for 5 hours!\n"
     ]
    }
   ],
   "source": [
    "s = Student()\n",
    "s.name = 'Pratik'\n",
    "s.study(5)"
   ]
  },
  {
   "cell_type": "markdown",
   "id": "6b28d5d1",
   "metadata": {},
   "source": [
    "#### Quiz - 2"
   ]
  },
  {
   "cell_type": "code",
   "execution_count": 9,
   "id": "a85e8680",
   "metadata": {},
   "outputs": [
    {
     "name": "stdout",
     "output_type": "stream",
     "text": [
      "False\n",
      "140392013646864\n",
      "140392013645568\n"
     ]
    }
   ],
   "source": [
    "class A:\n",
    "    def __init__(self, name):\n",
    "        self.name = name\n",
    "    \n",
    "a1 = A(\"Bunty\")\n",
    "a2 = A(\"Babli\")\n",
    "\n",
    "print(id(a1) == id(a2))\n",
    "print(id(a1))\n",
    "print(id(a2))"
   ]
  },
  {
   "cell_type": "markdown",
   "id": "015f69d4",
   "metadata": {},
   "source": [
    "#### Quiz - 3"
   ]
  },
  {
   "cell_type": "code",
   "execution_count": 10,
   "id": "66d61ac1",
   "metadata": {},
   "outputs": [
    {
     "name": "stdout",
     "output_type": "stream",
     "text": [
      "Is it possible?\n"
     ]
    }
   ],
   "source": [
    "class Random:\n",
    "    def __init__(self, a = \"Is it possible?\"):\n",
    "        self.a = a\n",
    " \n",
    "    def display(self):\n",
    "        print(self.a)\n",
    "        \n",
    "r = Random()\n",
    "r.display()"
   ]
  },
  {
   "cell_type": "code",
   "execution_count": 11,
   "id": "1c96b0b7",
   "metadata": {},
   "outputs": [
    {
     "name": "stdout",
     "output_type": "stream",
     "text": [
      "Hello world\n"
     ]
    }
   ],
   "source": [
    "r2 = Random(\"Hello world\")\n",
    "r2.display()"
   ]
  },
  {
   "cell_type": "markdown",
   "id": "fdefe184",
   "metadata": {},
   "source": [
    "#### Quiz - 4"
   ]
  },
  {
   "cell_type": "code",
   "execution_count": 12,
   "id": "18368ff4",
   "metadata": {},
   "outputs": [
    {
     "name": "stdout",
     "output_type": "stream",
     "text": [
      "Old\n"
     ]
    }
   ],
   "source": [
    "class A:\n",
    "    def __init__(self):\n",
    "        self.variable = 'Old'\n",
    "        self.update(self.variable)\n",
    "        \n",
    "    def update(self, var):\n",
    "        var = 'New'\n",
    "        \n",
    "a = A()\n",
    "print(a.variable)"
   ]
  },
  {
   "cell_type": "code",
   "execution_count": 15,
   "id": "045828ea",
   "metadata": {},
   "outputs": [
    {
     "name": "stdout",
     "output_type": "stream",
     "text": [
      "Old\n"
     ]
    }
   ],
   "source": [
    "a.update('New')\n",
    "print(a.variable)"
   ]
  },
  {
   "cell_type": "code",
   "execution_count": 13,
   "id": "55bdeae5",
   "metadata": {},
   "outputs": [
    {
     "ename": "NameError",
     "evalue": "name 'var' is not defined",
     "output_type": "error",
     "traceback": [
      "\u001b[0;31m---------------------------------------------------------------------------\u001b[0m",
      "\u001b[0;31mNameError\u001b[0m                                 Traceback (most recent call last)",
      "Input \u001b[0;32mIn [13]\u001b[0m, in \u001b[0;36m<cell line: 1>\u001b[0;34m()\u001b[0m\n\u001b[0;32m----> 1\u001b[0m \u001b[38;5;28mprint\u001b[39m(\u001b[43mvar\u001b[49m)\n",
      "\u001b[0;31mNameError\u001b[0m: name 'var' is not defined"
     ]
    }
   ],
   "source": [
    "print(var)"
   ]
  },
  {
   "cell_type": "code",
   "execution_count": 14,
   "id": "f67059fe",
   "metadata": {},
   "outputs": [
    {
     "ename": "AttributeError",
     "evalue": "'A' object has no attribute 'var'",
     "output_type": "error",
     "traceback": [
      "\u001b[0;31m---------------------------------------------------------------------------\u001b[0m",
      "\u001b[0;31mAttributeError\u001b[0m                            Traceback (most recent call last)",
      "Input \u001b[0;32mIn [14]\u001b[0m, in \u001b[0;36m<cell line: 1>\u001b[0;34m()\u001b[0m\n\u001b[0;32m----> 1\u001b[0m \u001b[38;5;28mprint\u001b[39m(\u001b[43ma\u001b[49m\u001b[38;5;241;43m.\u001b[39;49m\u001b[43mvar\u001b[49m)\n",
      "\u001b[0;31mAttributeError\u001b[0m: 'A' object has no attribute 'var'"
     ]
    }
   ],
   "source": [
    "print(a.var)"
   ]
  },
  {
   "cell_type": "markdown",
   "id": "f24a82c8",
   "metadata": {},
   "source": [
    "#### What if I do this?"
   ]
  },
  {
   "cell_type": "code",
   "execution_count": 18,
   "id": "c187e60d",
   "metadata": {},
   "outputs": [
    {
     "name": "stdout",
     "output_type": "stream",
     "text": [
      "New\n"
     ]
    }
   ],
   "source": [
    "class A:\n",
    "    def __init__(self):\n",
    "        self.variable = 'Old'\n",
    "        self.update(self.variable)\n",
    "        \n",
    "    def update(self, var):\n",
    "        self.variable = 'New'\n",
    "        \n",
    "a = A()\n",
    "print(a.variable)"
   ]
  },
  {
   "cell_type": "markdown",
   "id": "843a13c6",
   "metadata": {},
   "source": [
    "#### Quiz - 5"
   ]
  },
  {
   "cell_type": "markdown",
   "id": "bc37e9ea",
   "metadata": {},
   "source": [
    "### Method Resolution Order"
   ]
  },
  {
   "cell_type": "code",
   "execution_count": 21,
   "id": "7b77213d",
   "metadata": {},
   "outputs": [
    {
     "name": "stdout",
     "output_type": "stream",
     "text": [
      "I do something!\n"
     ]
    }
   ],
   "source": [
    "class A:\n",
    "    def do_something(self):\n",
    "        print(\"I do something!\")\n",
    "\n",
    "class B(A):\n",
    "    pass\n",
    "\n",
    "b = B()\n",
    "b.do_something()"
   ]
  },
  {
   "cell_type": "code",
   "execution_count": 27,
   "id": "327c8391",
   "metadata": {},
   "outputs": [
    {
     "name": "stdout",
     "output_type": "stream",
     "text": [
      "I do something else!\n"
     ]
    }
   ],
   "source": [
    "class A:\n",
    "    def do_something(self):\n",
    "        print(\"I do something!\")\n",
    "        \n",
    "    def do_nothing(self):\n",
    "        print(\"I do nothing\")\n",
    "\n",
    "class B(A):\n",
    "    def do_something(self):\n",
    "        print(\"I do something else!\")\n",
    "\n",
    "b = B()\n",
    "b.do_something()"
   ]
  },
  {
   "cell_type": "code",
   "execution_count": 26,
   "id": "e0834d52",
   "metadata": {},
   "outputs": [
    {
     "data": {
      "text/plain": [
       "(__main__.B, __main__.A, object)"
      ]
     },
     "execution_count": 26,
     "metadata": {},
     "output_type": "execute_result"
    }
   ],
   "source": [
    "B.__mro__"
   ]
  },
  {
   "cell_type": "code",
   "execution_count": 28,
   "id": "938d38bf",
   "metadata": {},
   "outputs": [
    {
     "name": "stdout",
     "output_type": "stream",
     "text": [
      "I do nothing\n"
     ]
    }
   ],
   "source": [
    "b.do_nothing()"
   ]
  },
  {
   "cell_type": "code",
   "execution_count": 29,
   "id": "143a14ba",
   "metadata": {},
   "outputs": [
    {
     "data": {
      "text/plain": [
       "<method-wrapper '__str__' of B object at 0x7faf90201ac0>"
      ]
     },
     "execution_count": 29,
     "metadata": {},
     "output_type": "execute_result"
    }
   ],
   "source": [
    "b.__str__"
   ]
  },
  {
   "cell_type": "markdown",
   "id": "2da3f582",
   "metadata": {},
   "source": [
    "### args (special argument)"
   ]
  },
  {
   "cell_type": "code",
   "execution_count": 40,
   "id": "b0d4e8de",
   "metadata": {},
   "outputs": [],
   "source": [
    "# we want to pass variable number of arguments\n",
    "# 0, 1, 2, 3, 4, etc. etc as many as you want\n",
    "\n",
    "def sum_number(x, y):\n",
    "    result = x + y\n",
    "    return result"
   ]
  },
  {
   "cell_type": "code",
   "execution_count": 41,
   "id": "24e2604b",
   "metadata": {},
   "outputs": [
    {
     "data": {
      "text/plain": [
       "7"
      ]
     },
     "execution_count": 41,
     "metadata": {},
     "output_type": "execute_result"
    }
   ],
   "source": [
    "sum_number(3, 4)"
   ]
  },
  {
   "cell_type": "code",
   "execution_count": 42,
   "id": "a54b6734",
   "metadata": {},
   "outputs": [
    {
     "ename": "TypeError",
     "evalue": "sum_number() missing 1 required positional argument: 'y'",
     "output_type": "error",
     "traceback": [
      "\u001b[0;31m---------------------------------------------------------------------------\u001b[0m",
      "\u001b[0;31mTypeError\u001b[0m                                 Traceback (most recent call last)",
      "Input \u001b[0;32mIn [42]\u001b[0m, in \u001b[0;36m<cell line: 1>\u001b[0;34m()\u001b[0m\n\u001b[0;32m----> 1\u001b[0m \u001b[43msum_number\u001b[49m\u001b[43m(\u001b[49m\u001b[38;5;241;43m1\u001b[39;49m\u001b[43m)\u001b[49m\n",
      "\u001b[0;31mTypeError\u001b[0m: sum_number() missing 1 required positional argument: 'y'"
     ]
    }
   ],
   "source": [
    "sum_number(1)"
   ]
  },
  {
   "cell_type": "code",
   "execution_count": 43,
   "id": "e021185a",
   "metadata": {},
   "outputs": [
    {
     "ename": "TypeError",
     "evalue": "sum_number() takes 2 positional arguments but 3 were given",
     "output_type": "error",
     "traceback": [
      "\u001b[0;31m---------------------------------------------------------------------------\u001b[0m",
      "\u001b[0;31mTypeError\u001b[0m                                 Traceback (most recent call last)",
      "Input \u001b[0;32mIn [43]\u001b[0m, in \u001b[0;36m<cell line: 1>\u001b[0;34m()\u001b[0m\n\u001b[0;32m----> 1\u001b[0m \u001b[43msum_number\u001b[49m\u001b[43m(\u001b[49m\u001b[38;5;241;43m1\u001b[39;49m\u001b[43m,\u001b[49m\u001b[43m \u001b[49m\u001b[38;5;241;43m2\u001b[39;49m\u001b[43m,\u001b[49m\u001b[43m \u001b[49m\u001b[38;5;241;43m3\u001b[39;49m\u001b[43m)\u001b[49m\n",
      "\u001b[0;31mTypeError\u001b[0m: sum_number() takes 2 positional arguments but 3 were given"
     ]
    }
   ],
   "source": [
    "sum_number(1, 2, 3)"
   ]
  },
  {
   "cell_type": "markdown",
   "id": "defef6ec",
   "metadata": {},
   "source": [
    "### working now"
   ]
  },
  {
   "cell_type": "code",
   "execution_count": 76,
   "id": "8c875176",
   "metadata": {},
   "outputs": [],
   "source": [
    "# we want to pass variable number of arguments\n",
    "# 0, 1, 2, 3, 4, etc. etc as many as you want\n",
    "\n",
    "# what this star does => tells Python to pack all the upcoming arguments \n",
    "# in a tuple\n",
    "def sum_number(x, y, *args):\n",
    "    print(args) # a tuple\n",
    "    result = x + y\n",
    "#     result += sum(args)\n",
    "    for z in args:\n",
    "        result += z\n",
    "    return result"
   ]
  },
  {
   "cell_type": "code",
   "execution_count": 77,
   "id": "249bce97",
   "metadata": {},
   "outputs": [
    {
     "name": "stdout",
     "output_type": "stream",
     "text": [
      "(3, 4, 5)\n"
     ]
    },
    {
     "data": {
      "text/plain": [
       "15"
      ]
     },
     "execution_count": 77,
     "metadata": {},
     "output_type": "execute_result"
    }
   ],
   "source": [
    "sum_number(1, 2, 3, 4, 5)"
   ]
  },
  {
   "cell_type": "code",
   "execution_count": 78,
   "id": "01c49f6e",
   "metadata": {},
   "outputs": [
    {
     "name": "stdout",
     "output_type": "stream",
     "text": [
      "()\n"
     ]
    },
    {
     "data": {
      "text/plain": [
       "3"
      ]
     },
     "execution_count": 78,
     "metadata": {},
     "output_type": "execute_result"
    }
   ],
   "source": [
    "sum_number(1, 2)"
   ]
  },
  {
   "cell_type": "code",
   "execution_count": 79,
   "id": "ad88d212",
   "metadata": {},
   "outputs": [
    {
     "name": "stdout",
     "output_type": "stream",
     "text": [
      "(10,)\n"
     ]
    },
    {
     "data": {
      "text/plain": [
       "13"
      ]
     },
     "execution_count": 79,
     "metadata": {},
     "output_type": "execute_result"
    }
   ],
   "source": [
    "sum_number(1, 2, 10)"
   ]
  },
  {
   "cell_type": "markdown",
   "id": "f9aabf83",
   "metadata": {},
   "source": [
    "## kwargs"
   ]
  },
  {
   "cell_type": "code",
   "execution_count": 82,
   "id": "2c23c9fc",
   "metadata": {},
   "outputs": [],
   "source": [
    "def create_person(name, age, gender):\n",
    "    person = {\n",
    "        'name': name,\n",
    "        'age': age,\n",
    "        'gender': gender\n",
    "    }\n",
    "    return person"
   ]
  },
  {
   "cell_type": "code",
   "execution_count": 83,
   "id": "26a0a47e",
   "metadata": {},
   "outputs": [],
   "source": [
    "p1 = create_person(\"Anwesh\", 25, 'M')"
   ]
  },
  {
   "cell_type": "code",
   "execution_count": 84,
   "id": "1288b10a",
   "metadata": {},
   "outputs": [
    {
     "name": "stdout",
     "output_type": "stream",
     "text": [
      "{'name': 'Anwesh', 'age': 25, 'gender': 'M'}\n"
     ]
    }
   ],
   "source": [
    "print(p1)"
   ]
  },
  {
   "cell_type": "code",
   "execution_count": 86,
   "id": "ea8343ba",
   "metadata": {},
   "outputs": [],
   "source": [
    "# keyword arguments\n",
    "p1 = create_person(name = \"Anwesh\", age = 25, gender = 'M')"
   ]
  },
  {
   "cell_type": "code",
   "execution_count": 87,
   "id": "6d648966",
   "metadata": {},
   "outputs": [
    {
     "name": "stdout",
     "output_type": "stream",
     "text": [
      "{'name': 'Anwesh', 'age': 25, 'gender': 'M'}\n"
     ]
    }
   ],
   "source": [
    "print(p1)"
   ]
  },
  {
   "cell_type": "code",
   "execution_count": 89,
   "id": "022295b5",
   "metadata": {},
   "outputs": [],
   "source": [
    "p2 = create_person(name = \"Anwesh\", gender = 'M', age = 35)"
   ]
  },
  {
   "cell_type": "code",
   "execution_count": 90,
   "id": "3c4c99ce",
   "metadata": {},
   "outputs": [
    {
     "name": "stdout",
     "output_type": "stream",
     "text": [
      "{'name': 'Anwesh', 'age': 35, 'gender': 'M'}\n"
     ]
    }
   ],
   "source": [
    "print(p2)"
   ]
  },
  {
   "cell_type": "code",
   "execution_count": 91,
   "id": "cc7b536d",
   "metadata": {},
   "outputs": [
    {
     "ename": "TypeError",
     "evalue": "create_person() got an unexpected keyword argument 'color'",
     "output_type": "error",
     "traceback": [
      "\u001b[0;31m---------------------------------------------------------------------------\u001b[0m",
      "\u001b[0;31mTypeError\u001b[0m                                 Traceback (most recent call last)",
      "Input \u001b[0;32mIn [91]\u001b[0m, in \u001b[0;36m<cell line: 1>\u001b[0;34m()\u001b[0m\n\u001b[0;32m----> 1\u001b[0m p2 \u001b[38;5;241m=\u001b[39m \u001b[43mcreate_person\u001b[49m\u001b[43m(\u001b[49m\u001b[43mname\u001b[49m\u001b[43m \u001b[49m\u001b[38;5;241;43m=\u001b[39;49m\u001b[43m \u001b[49m\u001b[38;5;124;43m\"\u001b[39;49m\u001b[38;5;124;43mAnwesh\u001b[39;49m\u001b[38;5;124;43m\"\u001b[39;49m\u001b[43m,\u001b[49m\u001b[43m \u001b[49m\u001b[43mgender\u001b[49m\u001b[43m \u001b[49m\u001b[38;5;241;43m=\u001b[39;49m\u001b[43m \u001b[49m\u001b[38;5;124;43m'\u001b[39;49m\u001b[38;5;124;43mM\u001b[39;49m\u001b[38;5;124;43m'\u001b[39;49m\u001b[43m,\u001b[49m\u001b[43m \u001b[49m\u001b[43mage\u001b[49m\u001b[43m \u001b[49m\u001b[38;5;241;43m=\u001b[39;49m\u001b[43m \u001b[49m\u001b[38;5;241;43m35\u001b[39;49m\u001b[43m,\u001b[49m\u001b[43m \u001b[49m\u001b[43mcolor\u001b[49m\u001b[43m \u001b[49m\u001b[38;5;241;43m=\u001b[39;49m\u001b[43m \u001b[49m\u001b[38;5;124;43m'\u001b[39;49m\u001b[38;5;124;43mred\u001b[39;49m\u001b[38;5;124;43m'\u001b[39;49m\u001b[43m,\u001b[49m\n\u001b[1;32m      2\u001b[0m \u001b[43m                  \u001b[49m\u001b[43mhobby\u001b[49m\u001b[43m \u001b[49m\u001b[38;5;241;43m=\u001b[39;49m\u001b[43m \u001b[49m\u001b[38;5;124;43m\"\u001b[39;49m\u001b[38;5;124;43mchess\u001b[39;49m\u001b[38;5;124;43m\"\u001b[39;49m\u001b[43m)\u001b[49m\n",
      "\u001b[0;31mTypeError\u001b[0m: create_person() got an unexpected keyword argument 'color'"
     ]
    }
   ],
   "source": [
    "p2 = create_person(name = \"Anwesh\", gender = 'M', age = 35, color = 'red',\n",
    "                  hobby = \"chess\")"
   ]
  },
  {
   "cell_type": "code",
   "execution_count": 92,
   "id": "50db66af",
   "metadata": {},
   "outputs": [],
   "source": [
    "def create_person(name, age, gender, *args):\n",
    "    person = {\n",
    "        'name': name,\n",
    "        'age': age,\n",
    "        'gender': gender\n",
    "    }\n",
    "    return person"
   ]
  },
  {
   "cell_type": "code",
   "execution_count": 93,
   "id": "e9e59b7b",
   "metadata": {},
   "outputs": [
    {
     "ename": "TypeError",
     "evalue": "create_person() got an unexpected keyword argument 'color'",
     "output_type": "error",
     "traceback": [
      "\u001b[0;31m---------------------------------------------------------------------------\u001b[0m",
      "\u001b[0;31mTypeError\u001b[0m                                 Traceback (most recent call last)",
      "Input \u001b[0;32mIn [93]\u001b[0m, in \u001b[0;36m<cell line: 1>\u001b[0;34m()\u001b[0m\n\u001b[0;32m----> 1\u001b[0m p2 \u001b[38;5;241m=\u001b[39m \u001b[43mcreate_person\u001b[49m\u001b[43m(\u001b[49m\u001b[43mname\u001b[49m\u001b[43m \u001b[49m\u001b[38;5;241;43m=\u001b[39;49m\u001b[43m \u001b[49m\u001b[38;5;124;43m\"\u001b[39;49m\u001b[38;5;124;43mAnwesh\u001b[39;49m\u001b[38;5;124;43m\"\u001b[39;49m\u001b[43m,\u001b[49m\u001b[43m \u001b[49m\u001b[43mgender\u001b[49m\u001b[43m \u001b[49m\u001b[38;5;241;43m=\u001b[39;49m\u001b[43m \u001b[49m\u001b[38;5;124;43m'\u001b[39;49m\u001b[38;5;124;43mM\u001b[39;49m\u001b[38;5;124;43m'\u001b[39;49m\u001b[43m,\u001b[49m\u001b[43m \u001b[49m\u001b[43mage\u001b[49m\u001b[43m \u001b[49m\u001b[38;5;241;43m=\u001b[39;49m\u001b[43m \u001b[49m\u001b[38;5;241;43m35\u001b[39;49m\u001b[43m,\u001b[49m\u001b[43m \u001b[49m\u001b[43mcolor\u001b[49m\u001b[43m \u001b[49m\u001b[38;5;241;43m=\u001b[39;49m\u001b[43m \u001b[49m\u001b[38;5;124;43m'\u001b[39;49m\u001b[38;5;124;43mred\u001b[39;49m\u001b[38;5;124;43m'\u001b[39;49m\u001b[43m,\u001b[49m\n\u001b[1;32m      2\u001b[0m \u001b[43m                  \u001b[49m\u001b[43mhobby\u001b[49m\u001b[43m \u001b[49m\u001b[38;5;241;43m=\u001b[39;49m\u001b[43m \u001b[49m\u001b[38;5;124;43m\"\u001b[39;49m\u001b[38;5;124;43mchess\u001b[39;49m\u001b[38;5;124;43m\"\u001b[39;49m\u001b[43m)\u001b[49m\n",
      "\u001b[0;31mTypeError\u001b[0m: create_person() got an unexpected keyword argument 'color'"
     ]
    }
   ],
   "source": [
    "p2 = create_person(name = \"Anwesh\", gender = 'M', age = 35, color = 'red',\n",
    "                  hobby = \"chess\")"
   ]
  },
  {
   "cell_type": "code",
   "execution_count": 94,
   "id": "834a6602",
   "metadata": {},
   "outputs": [
    {
     "ename": "SyntaxError",
     "evalue": "positional argument follows keyword argument (181426514.py, line 1)",
     "output_type": "error",
     "traceback": [
      "\u001b[0;36m  Input \u001b[0;32mIn [94]\u001b[0;36m\u001b[0m\n\u001b[0;31m    p2 = create_person(name = \"Anwesh\", gender = 'M', age = 35, \"red\", 95, 2.44, 1+3j)\u001b[0m\n\u001b[0m                                                                                     ^\u001b[0m\n\u001b[0;31mSyntaxError\u001b[0m\u001b[0;31m:\u001b[0m positional argument follows keyword argument\n"
     ]
    }
   ],
   "source": [
    " p2 = create_person(name = \"Anwesh\", gender = 'M', age = 35, \"red\", 95, 2.44, 1+3j)"
   ]
  },
  {
   "cell_type": "code",
   "execution_count": 96,
   "id": "856b3d5f",
   "metadata": {},
   "outputs": [],
   "source": [
    "p3 = create_person(\"Anwesh\", 25, 'M', 'red', 95, 3.45, 2+3j)"
   ]
  },
  {
   "cell_type": "code",
   "execution_count": 97,
   "id": "d7b062b5",
   "metadata": {},
   "outputs": [
    {
     "name": "stdout",
     "output_type": "stream",
     "text": [
      "{'name': 'Anwesh', 'age': 25, 'gender': 'M'}\n"
     ]
    }
   ],
   "source": [
    "print(p3)"
   ]
  },
  {
   "cell_type": "markdown",
   "id": "e7434d96",
   "metadata": {},
   "source": [
    "### **kwargs for variable keyworded arguments"
   ]
  },
  {
   "cell_type": "code",
   "execution_count": 101,
   "id": "8ad22c86",
   "metadata": {},
   "outputs": [],
   "source": [
    "def create_person(name, age, gender, **extra_info):\n",
    "    print(extra_info)\n",
    "    person = {\n",
    "        'name': name,\n",
    "        'age': age,\n",
    "        'gender': gender\n",
    "    }\n",
    "    person.update(extra_info)\n",
    "    return person"
   ]
  },
  {
   "cell_type": "code",
   "execution_count": 102,
   "id": "4ef5faf4",
   "metadata": {},
   "outputs": [
    {
     "name": "stdout",
     "output_type": "stream",
     "text": [
      "{'color': 'red', 'hobby': 'chess'}\n"
     ]
    }
   ],
   "source": [
    "p2 = create_person(name = \"Anwesh\", gender = 'M', age = 35,\n",
    "                   color = 'red', hobby = \"chess\")"
   ]
  },
  {
   "cell_type": "code",
   "execution_count": 103,
   "id": "50746355",
   "metadata": {},
   "outputs": [
    {
     "name": "stdout",
     "output_type": "stream",
     "text": [
      "{'name': 'Anwesh', 'age': 35, 'gender': 'M', 'color': 'red', 'hobby': 'chess'}\n"
     ]
    }
   ],
   "source": [
    "print(p2)"
   ]
  },
  {
   "cell_type": "markdown",
   "id": "7c1ae230",
   "metadata": {},
   "source": [
    "#### Quiz - 6"
   ]
  },
  {
   "cell_type": "code",
   "execution_count": 113,
   "id": "8c33f149",
   "metadata": {},
   "outputs": [],
   "source": [
    "def print_stats(name, **info):\n",
    "    print(name, 'is:')\n",
    "    for key, value in info.items():\n",
    "        print(f'{key}: {value}')"
   ]
  },
  {
   "cell_type": "code",
   "execution_count": 114,
   "id": "7c0c9a82",
   "metadata": {},
   "outputs": [
    {
     "ename": "NameError",
     "evalue": "name 'm' is not defined",
     "output_type": "error",
     "traceback": [
      "\u001b[0;31m---------------------------------------------------------------------------\u001b[0m",
      "\u001b[0;31mNameError\u001b[0m                                 Traceback (most recent call last)",
      "Input \u001b[0;32mIn [114]\u001b[0m, in \u001b[0;36m<cell line: 1>\u001b[0;34m()\u001b[0m\n\u001b[0;32m----> 1\u001b[0m print_stats(age\u001b[38;5;241m=\u001b[39m\u001b[38;5;241m10\u001b[39m, gender\u001b[38;5;241m=\u001b[39m\u001b[43mm\u001b[49m)\n",
      "\u001b[0;31mNameError\u001b[0m: name 'm' is not defined"
     ]
    }
   ],
   "source": [
    "print_stats(age=10, gender=m)"
   ]
  },
  {
   "cell_type": "code",
   "execution_count": 115,
   "id": "53d96227",
   "metadata": {},
   "outputs": [
    {
     "ename": "NameError",
     "evalue": "name 'm' is not defined",
     "output_type": "error",
     "traceback": [
      "\u001b[0;31m---------------------------------------------------------------------------\u001b[0m",
      "\u001b[0;31mNameError\u001b[0m                                 Traceback (most recent call last)",
      "Input \u001b[0;32mIn [115]\u001b[0m, in \u001b[0;36m<cell line: 1>\u001b[0;34m()\u001b[0m\n\u001b[0;32m----> 1\u001b[0m print_stats(\u001b[38;5;124m'\u001b[39m\u001b[38;5;124mJohn\u001b[39m\u001b[38;5;124m'\u001b[39m, age\u001b[38;5;241m=\u001b[39m\u001b[38;5;241m10\u001b[39m, gender\u001b[38;5;241m=\u001b[39m\u001b[43mm\u001b[49m)\n",
      "\u001b[0;31mNameError\u001b[0m: name 'm' is not defined"
     ]
    }
   ],
   "source": [
    "print_stats('John', age=10, gender=m)"
   ]
  },
  {
   "cell_type": "code",
   "execution_count": 116,
   "id": "85100d0a",
   "metadata": {},
   "outputs": [
    {
     "name": "stdout",
     "output_type": "stream",
     "text": [
      "John is:\n",
      "age: 10\n",
      "gender: m\n"
     ]
    }
   ],
   "source": [
    "print_stats('John', age=10, gender='m')"
   ]
  },
  {
   "cell_type": "markdown",
   "id": "b5183256",
   "metadata": {},
   "source": [
    "## Problems on FP with Quizzes"
   ]
  },
  {
   "cell_type": "markdown",
   "id": "e80dd822",
   "metadata": {},
   "source": [
    "#### Quiz 7"
   ]
  },
  {
   "cell_type": "code",
   "execution_count": 124,
   "id": "23b18dd9",
   "metadata": {},
   "outputs": [],
   "source": [
    "my_list = ['banana', 'mango', 'guava']\n",
    "# sorted_list = [‘banana’,’guava’,’mango’]\n",
    "\n",
    "def sort_strings(str_list):\n",
    "#     sorted_list = ___A___\n",
    "\n",
    "    return sorted_list"
   ]
  },
  {
   "cell_type": "code",
   "execution_count": 127,
   "id": "967ff41d",
   "metadata": {},
   "outputs": [
    {
     "data": {
      "text/plain": [
       "['banana', 'guava', 'mango']"
      ]
     },
     "execution_count": 127,
     "metadata": {},
     "output_type": "execute_result"
    }
   ],
   "source": [
    "# OPTION A: sorted(str_list, key=lambda x: x.count('a'), reverse=True)\n",
    "\n",
    "# descending order\n",
    "sorted(my_list, key=lambda x: x.count('a'), reverse=True)"
   ]
  },
  {
   "cell_type": "code",
   "execution_count": 128,
   "id": "767a0c4d",
   "metadata": {},
   "outputs": [
    {
     "data": {
      "text/plain": [
       "['mango', 'guava', 'banana']"
      ]
     },
     "execution_count": 128,
     "metadata": {},
     "output_type": "execute_result"
    }
   ],
   "source": [
    "# ascending order\n",
    "sorted(my_list, key=lambda x: x.count('a'))"
   ]
  },
  {
   "cell_type": "code",
   "execution_count": 130,
   "id": "613bd8ee",
   "metadata": {},
   "outputs": [
    {
     "ename": "NameError",
     "evalue": "name 'x' is not defined",
     "output_type": "error",
     "traceback": [
      "\u001b[0;31m---------------------------------------------------------------------------\u001b[0m",
      "\u001b[0;31mNameError\u001b[0m                                 Traceback (most recent call last)",
      "Input \u001b[0;32mIn [130]\u001b[0m, in \u001b[0;36m<cell line: 2>\u001b[0;34m()\u001b[0m\n\u001b[1;32m      1\u001b[0m \u001b[38;5;66;03m# OPTION B: sorted(str_list, key=x.count('a'), reverse=True)\u001b[39;00m\n\u001b[0;32m----> 2\u001b[0m \u001b[38;5;28msorted\u001b[39m(my_list, key\u001b[38;5;241m=\u001b[39m\u001b[43mx\u001b[49m\u001b[38;5;241m.\u001b[39mcount(\u001b[38;5;124m'\u001b[39m\u001b[38;5;124ma\u001b[39m\u001b[38;5;124m'\u001b[39m), reverse\u001b[38;5;241m=\u001b[39m\u001b[38;5;28;01mTrue\u001b[39;00m)\n",
      "\u001b[0;31mNameError\u001b[0m: name 'x' is not defined"
     ]
    }
   ],
   "source": [
    "# OPTION B: sorted(str_list, key=x.count('a'), reverse=True)\n",
    "sorted(my_list, key=x.count('a'), reverse=True)"
   ]
  },
  {
   "cell_type": "code",
   "execution_count": 132,
   "id": "0854b48a",
   "metadata": {},
   "outputs": [
    {
     "ename": "SyntaxError",
     "evalue": "invalid syntax (1600943995.py, line 2)",
     "output_type": "error",
     "traceback": [
      "\u001b[0;36m  Input \u001b[0;32mIn [132]\u001b[0;36m\u001b[0m\n\u001b[0;31m    sorted(my_list, key=lambda x: for 'a' in x, reverse=True)\u001b[0m\n\u001b[0m                                  ^\u001b[0m\n\u001b[0;31mSyntaxError\u001b[0m\u001b[0;31m:\u001b[0m invalid syntax\n"
     ]
    }
   ],
   "source": [
    "# OPTION : C sorted(str_list, key=lambda x: for ‘a’ in x, reverse=True)\n",
    "sorted(my_list, key=lambda x: for 'a' in x, reverse=True)"
   ]
  },
  {
   "cell_type": "code",
   "execution_count": 121,
   "id": "a306e310",
   "metadata": {},
   "outputs": [],
   "source": [
    "# None of the Above"
   ]
  },
  {
   "cell_type": "code",
   "execution_count": 122,
   "id": "d11352f5",
   "metadata": {},
   "outputs": [
    {
     "data": {
      "text/plain": [
       "3"
      ]
     },
     "execution_count": 122,
     "metadata": {},
     "output_type": "execute_result"
    }
   ],
   "source": [
    "'banana'.count('a')"
   ]
  },
  {
   "cell_type": "markdown",
   "id": "1985b5f3",
   "metadata": {},
   "source": [
    "#### Quiz - 8"
   ]
  },
  {
   "cell_type": "code",
   "execution_count": 135,
   "id": "d74404e7",
   "metadata": {},
   "outputs": [],
   "source": [
    "words = [\"mary\", \"had\", \"a\", \"little\", \"lamb\"]\n",
    "# biggestWord = _____A__________\n",
    "# print(biggestWord"
   ]
  },
  {
   "cell_type": "code",
   "execution_count": 138,
   "id": "b1b5ffa6",
   "metadata": {},
   "outputs": [
    {
     "data": {
      "text/plain": [
       "'little'"
      ]
     },
     "execution_count": 138,
     "metadata": {},
     "output_type": "execute_result"
    }
   ],
   "source": [
    "from functools import reduce\n",
    "reduce(lambda x, y: x if len(x) > len(y) else y, words)"
   ]
  },
  {
   "cell_type": "code",
   "execution_count": 139,
   "id": "102bf024",
   "metadata": {},
   "outputs": [
    {
     "ename": "SyntaxError",
     "evalue": "invalid syntax (3160602644.py, line 1)",
     "output_type": "error",
     "traceback": [
      "\u001b[0;36m  Input \u001b[0;32mIn [139]\u001b[0;36m\u001b[0m\n\u001b[0;31m    reduce(lambda x, y: x if len(x) > len(y), words)\u001b[0m\n\u001b[0m                                            ^\u001b[0m\n\u001b[0;31mSyntaxError\u001b[0m\u001b[0;31m:\u001b[0m invalid syntax\n"
     ]
    }
   ],
   "source": [
    "reduce(lambda x, y: x if len(x) > len(y), words)"
   ]
  },
  {
   "cell_type": "code",
   "execution_count": 133,
   "id": "8faf62f8",
   "metadata": {},
   "outputs": [],
   "source": [
    "# map(lambda x, y: x if len(x) > len(y) else y, words)"
   ]
  },
  {
   "cell_type": "code",
   "execution_count": 141,
   "id": "f4346282",
   "metadata": {},
   "outputs": [
    {
     "ename": "TypeError",
     "evalue": "<lambda>() missing 1 required positional argument: 'y'",
     "output_type": "error",
     "traceback": [
      "\u001b[0;31m---------------------------------------------------------------------------\u001b[0m",
      "\u001b[0;31mTypeError\u001b[0m                                 Traceback (most recent call last)",
      "Input \u001b[0;32mIn [141]\u001b[0m, in \u001b[0;36m<cell line: 1>\u001b[0;34m()\u001b[0m\n\u001b[0;32m----> 1\u001b[0m \u001b[38;5;28;43mlist\u001b[39;49m\u001b[43m(\u001b[49m\u001b[38;5;28;43mmap\u001b[39;49m\u001b[43m(\u001b[49m\u001b[38;5;28;43;01mlambda\u001b[39;49;00m\u001b[43m \u001b[49m\u001b[43mx\u001b[49m\u001b[43m,\u001b[49m\u001b[43m \u001b[49m\u001b[43my\u001b[49m\u001b[43m:\u001b[49m\u001b[43m \u001b[49m\u001b[43mx\u001b[49m\u001b[43m \u001b[49m\u001b[38;5;28;43;01mif\u001b[39;49;00m\u001b[43m \u001b[49m\u001b[38;5;28;43mlen\u001b[39;49m\u001b[43m(\u001b[49m\u001b[43mx\u001b[49m\u001b[43m)\u001b[49m\u001b[43m \u001b[49m\u001b[38;5;241;43m>\u001b[39;49m\u001b[43m \u001b[49m\u001b[38;5;28;43mlen\u001b[39;49m\u001b[43m(\u001b[49m\u001b[43my\u001b[49m\u001b[43m)\u001b[49m\u001b[43m \u001b[49m\u001b[38;5;28;43;01melse\u001b[39;49;00m\u001b[43m \u001b[49m\u001b[43my\u001b[49m\u001b[43m,\u001b[49m\u001b[43m \u001b[49m\u001b[43mwords\u001b[49m\u001b[43m)\u001b[49m\u001b[43m)\u001b[49m\n",
      "\u001b[0;31mTypeError\u001b[0m: <lambda>() missing 1 required positional argument: 'y'"
     ]
    }
   ],
   "source": [
    "list(map(lambda x, y: x if len(x) > len(y) else y, words))"
   ]
  },
  {
   "cell_type": "code",
   "execution_count": 142,
   "id": "1d245f02",
   "metadata": {},
   "outputs": [
    {
     "data": {
      "text/plain": [
       "[4, 3, 1, 6, 4]"
      ]
     },
     "execution_count": 142,
     "metadata": {},
     "output_type": "execute_result"
    }
   ],
   "source": [
    "list(map(lambda x: len(x), words))"
   ]
  },
  {
   "cell_type": "markdown",
   "id": "1a15fbd9",
   "metadata": {},
   "source": [
    "### Additional Problems on FP"
   ]
  },
  {
   "cell_type": "markdown",
   "id": "8cc3ab8a",
   "metadata": {},
   "source": [
    "### Q9."
   ]
  },
  {
   "cell_type": "code",
   "execution_count": 146,
   "id": "db1b6c01",
   "metadata": {},
   "outputs": [
    {
     "data": {
      "text/plain": [
       "['e', 5]"
      ]
     },
     "execution_count": 146,
     "metadata": {},
     "output_type": "execute_result"
    }
   ],
   "source": [
    "a = [[\"a\", 6], [\"b\", 1], [\"c\", 4], [\"d\", 9], ['e', 5]]\n",
    "\n",
    "# find the maximum number in this nested list\n",
    "# in all the list, 1st element is a character/string, 2nd element is int\n",
    "\n",
    "max(a)"
   ]
  },
  {
   "cell_type": "code",
   "execution_count": 147,
   "id": "0312fc8b",
   "metadata": {},
   "outputs": [],
   "source": [
    "max?"
   ]
  },
  {
   "cell_type": "code",
   "execution_count": 148,
   "id": "39a88f5c",
   "metadata": {},
   "outputs": [
    {
     "data": {
      "text/plain": [
       "['e', 5]"
      ]
     },
     "execution_count": 148,
     "metadata": {},
     "output_type": "execute_result"
    }
   ],
   "source": [
    "max(a, key = lambda x : x[0])"
   ]
  },
  {
   "cell_type": "code",
   "execution_count": 150,
   "id": "8d10dfc5",
   "metadata": {},
   "outputs": [
    {
     "data": {
      "text/plain": [
       "['d', 9]"
      ]
     },
     "execution_count": 150,
     "metadata": {},
     "output_type": "execute_result"
    }
   ],
   "source": [
    "# max 2nd element in the nested lists\n",
    "max(a, key = lambda x : x[1])"
   ]
  },
  {
   "cell_type": "code",
   "execution_count": 153,
   "id": "6cdb9369",
   "metadata": {},
   "outputs": [
    {
     "name": "stdout",
     "output_type": "stream",
     "text": [
      "9\n"
     ]
    }
   ],
   "source": [
    "res = max(a, key = lambda x : x[1])[1]\n",
    "print(res)"
   ]
  },
  {
   "cell_type": "code",
   "execution_count": 154,
   "id": "c575effc",
   "metadata": {},
   "outputs": [],
   "source": [
    "from functools import reduce\n",
    "\n",
    "a = [[\"a\", 6], [\"b\", 1], [\"c\", 4], [\"d\", 9], ['e', 5]]\n",
    "\n",
    "res = reduce(lambda x, y: x if x[1] > y[1] else y, a)"
   ]
  },
  {
   "cell_type": "code",
   "execution_count": 155,
   "id": "a72ccb23",
   "metadata": {},
   "outputs": [
    {
     "name": "stdout",
     "output_type": "stream",
     "text": [
      "['d', 9]\n"
     ]
    }
   ],
   "source": [
    "print(res)"
   ]
  },
  {
   "cell_type": "code",
   "execution_count": 156,
   "id": "0a8bf314",
   "metadata": {},
   "outputs": [
    {
     "name": "stdout",
     "output_type": "stream",
     "text": [
      "9\n"
     ]
    }
   ],
   "source": [
    "res = res[-1]\n",
    "print(res)"
   ]
  },
  {
   "cell_type": "code",
   "execution_count": 145,
   "id": "af81565c",
   "metadata": {},
   "outputs": [],
   "source": [
    "a = [[\"a\", 6], [\"b\", 1], [\"c\", 4], [\"d\", 9], [10, 5]]\n",
    "\n",
    "# HW : find the maximum number in this nested list"
   ]
  },
  {
   "cell_type": "markdown",
   "id": "b5e0a65e",
   "metadata": {},
   "source": [
    "### Q10 "
   ]
  },
  {
   "cell_type": "code",
   "execution_count": 157,
   "id": "cc677949",
   "metadata": {},
   "outputs": [],
   "source": [
    "lst = [10, 20, 4, 45, 99]\n",
    "# find the 2nd maximum element using functional programming"
   ]
  },
  {
   "cell_type": "code",
   "execution_count": 158,
   "id": "d7d9084f",
   "metadata": {},
   "outputs": [
    {
     "name": "stdout",
     "output_type": "stream",
     "text": [
      "99\n"
     ]
    }
   ],
   "source": [
    "max1 = max(lst)\n",
    "print(max1)"
   ]
  },
  {
   "cell_type": "code",
   "execution_count": 159,
   "id": "98c58db3",
   "metadata": {},
   "outputs": [
    {
     "name": "stdout",
     "output_type": "stream",
     "text": [
      "4\n"
     ]
    }
   ],
   "source": [
    "mini = min(lst)\n",
    "print(mini)"
   ]
  },
  {
   "cell_type": "code",
   "execution_count": 160,
   "id": "272c046d",
   "metadata": {},
   "outputs": [
    {
     "name": "stdout",
     "output_type": "stream",
     "text": [
      "45\n"
     ]
    }
   ],
   "source": [
    "max2 = max(lst, key = lambda x: mini if (x == max1) else x)\n",
    "\n",
    "print(max2)"
   ]
  },
  {
   "cell_type": "code",
   "execution_count": 162,
   "id": "4377df89",
   "metadata": {},
   "outputs": [
    {
     "name": "stdout",
     "output_type": "stream",
     "text": [
      "[10, 20, 4, 45, 99]\n"
     ]
    }
   ],
   "source": [
    "print(lst) # not at all changed"
   ]
  },
  {
   "cell_type": "markdown",
   "id": "64182c4e",
   "metadata": {},
   "source": [
    "## Doubts / QnA / Assignment HW Problems"
   ]
  },
  {
   "cell_type": "code",
   "execution_count": 166,
   "id": "dceca167",
   "metadata": {},
   "outputs": [],
   "source": [
    "a = [[\"a\", 6], [\"b\", 1], [\"c\", 4], [\"d\", 9], [10, 5]]\n",
    "\n",
    "\n",
    "res_list = max(a, key = lambda x: max(x[0], x[1]) if isinstance(x[0], int) and\n",
    "                                          isinstance(x[1], int)\n",
    "                      else x[1])"
   ]
  },
  {
   "cell_type": "code",
   "execution_count": 167,
   "id": "5acdcb26",
   "metadata": {},
   "outputs": [
    {
     "name": "stdout",
     "output_type": "stream",
     "text": [
      "[10, 5]\n",
      "10\n"
     ]
    }
   ],
   "source": [
    "print(res_list)\n",
    "print(max(res_list))"
   ]
  },
  {
   "cell_type": "code",
   "execution_count": 164,
   "id": "a0c980c6",
   "metadata": {},
   "outputs": [
    {
     "ename": "TypeError",
     "evalue": "'>' not supported between instances of 'int' and 'str'",
     "output_type": "error",
     "traceback": [
      "\u001b[0;31m---------------------------------------------------------------------------\u001b[0m",
      "\u001b[0;31mTypeError\u001b[0m                                 Traceback (most recent call last)",
      "Input \u001b[0;32mIn [164]\u001b[0m, in \u001b[0;36m<cell line: 1>\u001b[0;34m()\u001b[0m\n\u001b[0;32m----> 1\u001b[0m \u001b[38;5;28;43mmax\u001b[39;49m\u001b[43m(\u001b[49m\u001b[38;5;124;43m'\u001b[39;49m\u001b[38;5;124;43ma\u001b[39;49m\u001b[38;5;124;43m'\u001b[39;49m\u001b[43m,\u001b[49m\u001b[43m \u001b[49m\u001b[38;5;241;43m6\u001b[39;49m\u001b[43m)\u001b[49m\n",
      "\u001b[0;31mTypeError\u001b[0m: '>' not supported between instances of 'int' and 'str'"
     ]
    }
   ],
   "source": [
    "max('a', 6)"
   ]
  },
  {
   "cell_type": "code",
   "execution_count": 172,
   "id": "2cfe9a52",
   "metadata": {},
   "outputs": [
    {
     "name": "stdout",
     "output_type": "stream",
     "text": [
      "1 2 3\n",
      "4 5 6\n",
      "0 0 0\n",
      "1 1 1\n",
      "Printing the result:\n",
      "1 2 3 \n",
      "5 6 7 \n"
     ]
    }
   ],
   "source": [
    "class Matrix:\n",
    "    # Define properties here\n",
    "    \n",
    "    \n",
    "    # Define constructor here\n",
    "    def __init__(self, r, c):\n",
    "        self.rows = r\n",
    "        self.columns = c\n",
    "\n",
    "    def input(self):\n",
    "        # Complete the function\n",
    "        self.data = []\n",
    "        for _ in range(self.rows):\n",
    "            cur_list = list(map(int, input().split()))\n",
    "            self.data.append(cur_list)\n",
    "        # [[1, 2, 3], [4, 5, 6]]\n",
    "    \n",
    "    def add(self, x):\n",
    "        # Complete the function\n",
    "        res = Matrix(self.rows, self.columns)\n",
    "        res.data = []\n",
    "        for i in range(self.rows):\n",
    "            cur_list = []\n",
    "            for j in range(self.columns):\n",
    "                cur_list.append(x.data[i][j] + self.data[i][j])\n",
    "            res.data.append(cur_list)\n",
    "        return res\n",
    "        \n",
    "    def subtract(self, x):\n",
    "        # Complete the function\n",
    "        pass\n",
    "    \n",
    "    \n",
    "    def transpose(self):\n",
    "        # Complete the function\n",
    "        pass\n",
    "    \n",
    "    \n",
    "    def print(self):\n",
    "        # Complete the function\n",
    "        print('Printing the result:')\n",
    "        for i in range(self.rows):\n",
    "            for j in range(self.columns):\n",
    "                print(self.data[i][j], end=' ')\n",
    "            print()\n",
    "        \n",
    "a = Matrix(2, 3)\n",
    "a.input() \n",
    "b = Matrix(2, 3)\n",
    "b.input()\n",
    "c1 = a.add(b)\n",
    "c1.print()\n",
    "# Matrix c2 = a.subtract(b)\n",
    "# Matrix c3 = a.transpose()\n",
    "# a.print()"
   ]
  },
  {
   "cell_type": "code",
   "execution_count": 173,
   "id": "f5dd2f87",
   "metadata": {},
   "outputs": [],
   "source": [
    "def f(x, y):\n",
    "    print(x)\n",
    "    print(y)"
   ]
  },
  {
   "cell_type": "code",
   "execution_count": 174,
   "id": "9aaa6782",
   "metadata": {},
   "outputs": [
    {
     "name": "stdout",
     "output_type": "stream",
     "text": [
      "(1+3j)\n",
      "57.2\n"
     ]
    }
   ],
   "source": [
    "f(1 + 3j, 57.2)"
   ]
  },
  {
   "cell_type": "code",
   "execution_count": 175,
   "id": "278a3eb7",
   "metadata": {},
   "outputs": [
    {
     "name": "stdout",
     "output_type": "stream",
     "text": [
      "(1+3j)\n"
     ]
    }
   ],
   "source": [
    "print(1 + 3j)"
   ]
  },
  {
   "cell_type": "code",
   "execution_count": 176,
   "id": "bb78f072",
   "metadata": {},
   "outputs": [
    {
     "name": "stdout",
     "output_type": "stream",
     "text": [
      "(6-2j)\n"
     ]
    }
   ],
   "source": [
    "c1 = 1 + 3j\n",
    "c2 = 5 - 5j\n",
    "print(c1 + c2)"
   ]
  },
  {
   "cell_type": "code",
   "execution_count": 177,
   "id": "f23012a3",
   "metadata": {},
   "outputs": [],
   "source": [
    "def sort_strings(str_list):\n",
    "    # return the sorted list of strings on the basis of criteria mentioned\n",
    "    res = sorted(str_list)\n",
    "    res = sorted(res, key = lambda x: len(x))\n",
    "    return res\n"
   ]
  },
  {
   "cell_type": "code",
   "execution_count": 178,
   "id": "272f4ba8",
   "metadata": {},
   "outputs": [
    {
     "data": {
      "text/plain": [
       "['aaa', 'bbb', 'ccc', 'ddd', 'abcd']"
      ]
     },
     "execution_count": 178,
     "metadata": {},
     "output_type": "execute_result"
    }
   ],
   "source": [
    "sort_strings([\"aaa\", \"ddd\", \"ccc\", \"bbb\", \"abcd\"])"
   ]
  },
  {
   "cell_type": "code",
   "execution_count": null,
   "id": "b27d6fcb",
   "metadata": {},
   "outputs": [],
   "source": []
  },
  {
   "cell_type": "code",
   "execution_count": null,
   "id": "47b0d717",
   "metadata": {},
   "outputs": [],
   "source": []
  },
  {
   "cell_type": "code",
   "execution_count": null,
   "id": "a2e40733",
   "metadata": {},
   "outputs": [],
   "source": []
  },
  {
   "cell_type": "code",
   "execution_count": null,
   "id": "c7e56b4e",
   "metadata": {},
   "outputs": [],
   "source": []
  },
  {
   "cell_type": "code",
   "execution_count": null,
   "id": "56bb0b4e",
   "metadata": {},
   "outputs": [],
   "source": []
  }
 ],
 "metadata": {
  "kernelspec": {
   "display_name": "Python 3 (ipykernel)",
   "language": "python",
   "name": "python3"
  },
  "language_info": {
   "codemirror_mode": {
    "name": "ipython",
    "version": 3
   },
   "file_extension": ".py",
   "mimetype": "text/x-python",
   "name": "python",
   "nbconvert_exporter": "python",
   "pygments_lexer": "ipython3",
   "version": "3.9.12"
  }
 },
 "nbformat": 4,
 "nbformat_minor": 5
}
