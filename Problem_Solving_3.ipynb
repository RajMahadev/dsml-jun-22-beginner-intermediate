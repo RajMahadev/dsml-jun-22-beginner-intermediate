{
 "cells": [
  {
   "cell_type": "markdown",
   "id": "547690fc",
   "metadata": {},
   "source": [
    "## Problem Solving - 3"
   ]
  },
  {
   "cell_type": "code",
   "execution_count": null,
   "id": "9c53f08e",
   "metadata": {},
   "outputs": [],
   "source": []
  },
  {
   "cell_type": "markdown",
   "id": "4cd1b8ab",
   "metadata": {},
   "source": [
    "### OOPS Quizzes + Problem Solving"
   ]
  },
  {
   "cell_type": "markdown",
   "id": "868b60d3",
   "metadata": {},
   "source": [
    "#### Quiz - 1"
   ]
  },
  {
   "cell_type": "code",
   "execution_count": 2,
   "id": "cbd7919d",
   "metadata": {},
   "outputs": [],
   "source": [
    "class Student:\n",
    "    def __init__(random, id, age):\n",
    "        random.id = id\n",
    "        random.age = age\n",
    "\n",
    "s1 = Student(1, 5000)"
   ]
  },
  {
   "cell_type": "code",
   "execution_count": 3,
   "id": "20961356",
   "metadata": {},
   "outputs": [
    {
     "name": "stdout",
     "output_type": "stream",
     "text": [
      "1\n"
     ]
    }
   ],
   "source": [
    "print(s1.id)"
   ]
  },
  {
   "cell_type": "code",
   "execution_count": 4,
   "id": "20b1a9fb",
   "metadata": {},
   "outputs": [],
   "source": [
    "class Student:\n",
    "    def study(self, time):\n",
    "        print(f'{self.name} is studying for {time} hours!')"
   ]
  },
  {
   "cell_type": "code",
   "execution_count": 7,
   "id": "f7f22c2d",
   "metadata": {},
   "outputs": [
    {
     "name": "stdout",
     "output_type": "stream",
     "text": [
      "Pratik is studying for 5 hours!\n"
     ]
    }
   ],
   "source": [
    "s = Student()\n",
    "s.name = 'Pratik'\n",
    "s.study(5)"
   ]
  },
  {
   "cell_type": "markdown",
   "id": "ce74aa1a",
   "metadata": {},
   "source": [
    "#### Quiz - 2"
   ]
  },
  {
   "cell_type": "code",
   "execution_count": 9,
   "id": "21a8b67a",
   "metadata": {},
   "outputs": [
    {
     "name": "stdout",
     "output_type": "stream",
     "text": [
      "False\n",
      "140392013646864\n",
      "140392013645568\n"
     ]
    }
   ],
   "source": [
    "class A:\n",
    "    def __init__(self, name):\n",
    "        self.name = name\n",
    "    \n",
    "a1 = A(\"Bunty\")\n",
    "a2 = A(\"Babli\")\n",
    "\n",
    "print(id(a1) == id(a2))\n",
    "print(id(a1))\n",
    "print(id(a2))"
   ]
  },
  {
   "cell_type": "markdown",
   "id": "b26253f9",
   "metadata": {},
   "source": [
    "#### Quiz - 3"
   ]
  },
  {
   "cell_type": "code",
   "execution_count": 10,
   "id": "cd49bf50",
   "metadata": {},
   "outputs": [
    {
     "name": "stdout",
     "output_type": "stream",
     "text": [
      "Is it possible?\n"
     ]
    }
   ],
   "source": [
    "class Random:\n",
    "    def __init__(self, a = \"Is it possible?\"):\n",
    "        self.a = a\n",
    " \n",
    "    def display(self):\n",
    "        print(self.a)\n",
    "        \n",
    "r = Random()\n",
    "r.display()"
   ]
  },
  {
   "cell_type": "code",
   "execution_count": 11,
   "id": "9c60e83e",
   "metadata": {},
   "outputs": [
    {
     "name": "stdout",
     "output_type": "stream",
     "text": [
      "Hello world\n"
     ]
    }
   ],
   "source": [
    "r2 = Random(\"Hello world\")\n",
    "r2.display()"
   ]
  },
  {
   "cell_type": "markdown",
   "id": "bcae22c4",
   "metadata": {},
   "source": [
    "#### Quiz - 4"
   ]
  },
  {
   "cell_type": "code",
   "execution_count": 12,
   "id": "d9dbc1be",
   "metadata": {},
   "outputs": [
    {
     "name": "stdout",
     "output_type": "stream",
     "text": [
      "Old\n"
     ]
    }
   ],
   "source": [
    "class A:\n",
    "    def __init__(self):\n",
    "        self.variable = 'Old'\n",
    "        self.update(self.variable)\n",
    "        \n",
    "    def update(self, var):\n",
    "        var = 'New'\n",
    "        \n",
    "a = A()\n",
    "print(a.variable)"
   ]
  },
  {
   "cell_type": "code",
   "execution_count": 15,
   "id": "82ca7095",
   "metadata": {},
   "outputs": [
    {
     "name": "stdout",
     "output_type": "stream",
     "text": [
      "Old\n"
     ]
    }
   ],
   "source": [
    "a.update('New')\n",
    "print(a.variable)"
   ]
  },
  {
   "cell_type": "code",
   "execution_count": 13,
   "id": "353bf795",
   "metadata": {},
   "outputs": [
    {
     "ename": "NameError",
     "evalue": "name 'var' is not defined",
     "output_type": "error",
     "traceback": [
      "\u001b[0;31m---------------------------------------------------------------------------\u001b[0m",
      "\u001b[0;31mNameError\u001b[0m                                 Traceback (most recent call last)",
      "Input \u001b[0;32mIn [13]\u001b[0m, in \u001b[0;36m<cell line: 1>\u001b[0;34m()\u001b[0m\n\u001b[0;32m----> 1\u001b[0m \u001b[38;5;28mprint\u001b[39m(\u001b[43mvar\u001b[49m)\n",
      "\u001b[0;31mNameError\u001b[0m: name 'var' is not defined"
     ]
    }
   ],
   "source": [
    "print(var)"
   ]
  },
  {
   "cell_type": "code",
   "execution_count": 14,
   "id": "42d8a280",
   "metadata": {},
   "outputs": [
    {
     "ename": "AttributeError",
     "evalue": "'A' object has no attribute 'var'",
     "output_type": "error",
     "traceback": [
      "\u001b[0;31m---------------------------------------------------------------------------\u001b[0m",
      "\u001b[0;31mAttributeError\u001b[0m                            Traceback (most recent call last)",
      "Input \u001b[0;32mIn [14]\u001b[0m, in \u001b[0;36m<cell line: 1>\u001b[0;34m()\u001b[0m\n\u001b[0;32m----> 1\u001b[0m \u001b[38;5;28mprint\u001b[39m(\u001b[43ma\u001b[49m\u001b[38;5;241;43m.\u001b[39;49m\u001b[43mvar\u001b[49m)\n",
      "\u001b[0;31mAttributeError\u001b[0m: 'A' object has no attribute 'var'"
     ]
    }
   ],
   "source": [
    "print(a.var)"
   ]
  },
  {
   "cell_type": "markdown",
   "id": "eb4cccde",
   "metadata": {},
   "source": [
    "#### What if I do this?"
   ]
  },
  {
   "cell_type": "code",
   "execution_count": 18,
   "id": "e7e0a292",
   "metadata": {},
   "outputs": [
    {
     "name": "stdout",
     "output_type": "stream",
     "text": [
      "New\n"
     ]
    }
   ],
   "source": [
    "class A:\n",
    "    def __init__(self):\n",
    "        self.variable = 'Old'\n",
    "        self.update(self.variable)\n",
    "        \n",
    "    def update(self, var):\n",
    "        self.variable = 'New'\n",
    "        \n",
    "a = A()\n",
    "print(a.variable)"
   ]
  },
  {
   "cell_type": "markdown",
   "id": "cee2f4ab",
   "metadata": {},
   "source": [
    "#### Quiz - 5"
   ]
  },
  {
   "cell_type": "markdown",
   "id": "340f49e2",
   "metadata": {},
   "source": [
    "### Method Resolution Order"
   ]
  },
  {
   "cell_type": "code",
   "execution_count": 21,
   "id": "4b3d7fbd",
   "metadata": {},
   "outputs": [
    {
     "name": "stdout",
     "output_type": "stream",
     "text": [
      "I do something!\n"
     ]
    }
   ],
   "source": [
    "class A:\n",
    "    def do_something(self):\n",
    "        print(\"I do something!\")\n",
    "\n",
    "class B(A):\n",
    "    pass\n",
    "\n",
    "b = B()\n",
    "b.do_something()"
   ]
  },
  {
   "cell_type": "code",
   "execution_count": 27,
   "id": "7b6a293d",
   "metadata": {},
   "outputs": [
    {
     "name": "stdout",
     "output_type": "stream",
     "text": [
      "I do something else!\n"
     ]
    }
   ],
   "source": [
    "class A:\n",
    "    def do_something(self):\n",
    "        print(\"I do something!\")\n",
    "        \n",
    "    def do_nothing(self):\n",
    "        print(\"I do nothing\")\n",
    "\n",
    "class B(A):\n",
    "    def do_something(self):\n",
    "        print(\"I do something else!\")\n",
    "\n",
    "b = B()\n",
    "b.do_something()"
   ]
  },
  {
   "cell_type": "code",
   "execution_count": 26,
   "id": "74a6f2f4",
   "metadata": {},
   "outputs": [
    {
     "data": {
      "text/plain": [
       "(__main__.B, __main__.A, object)"
      ]
     },
     "execution_count": 26,
     "metadata": {},
     "output_type": "execute_result"
    }
   ],
   "source": [
    "B.__mro__"
   ]
  },
  {
   "cell_type": "code",
   "execution_count": 28,
   "id": "37ed7ba2",
   "metadata": {},
   "outputs": [
    {
     "name": "stdout",
     "output_type": "stream",
     "text": [
      "I do nothing\n"
     ]
    }
   ],
   "source": [
    "b.do_nothing()"
   ]
  },
  {
   "cell_type": "code",
   "execution_count": 29,
   "id": "1685054e",
   "metadata": {},
   "outputs": [
    {
     "data": {
      "text/plain": [
       "<method-wrapper '__str__' of B object at 0x7faf90201ac0>"
      ]
     },
     "execution_count": 29,
     "metadata": {},
     "output_type": "execute_result"
    }
   ],
   "source": [
    "b.__str__"
   ]
  },
  {
   "cell_type": "code",
   "execution_count": null,
   "id": "7177ac83",
   "metadata": {},
   "outputs": [],
   "source": []
  },
  {
   "cell_type": "markdown",
   "id": "b25f76ea",
   "metadata": {},
   "source": [
    "### args (special argument)"
   ]
  },
  {
   "cell_type": "code",
   "execution_count": 40,
   "id": "6b985b99",
   "metadata": {},
   "outputs": [],
   "source": [
    "# we want to pass variable number of arguments\n",
    "# 0, 1, 2, 3, 4, etc. etc as many as you want\n",
    "\n",
    "def sum_number(x, y):\n",
    "    result = x + y\n",
    "    return result"
   ]
  },
  {
   "cell_type": "code",
   "execution_count": 41,
   "id": "ff49ee64",
   "metadata": {},
   "outputs": [
    {
     "data": {
      "text/plain": [
       "7"
      ]
     },
     "execution_count": 41,
     "metadata": {},
     "output_type": "execute_result"
    }
   ],
   "source": [
    "sum_number(3, 4)"
   ]
  },
  {
   "cell_type": "code",
   "execution_count": 42,
   "id": "4f81a752",
   "metadata": {},
   "outputs": [
    {
     "ename": "TypeError",
     "evalue": "sum_number() missing 1 required positional argument: 'y'",
     "output_type": "error",
     "traceback": [
      "\u001b[0;31m---------------------------------------------------------------------------\u001b[0m",
      "\u001b[0;31mTypeError\u001b[0m                                 Traceback (most recent call last)",
      "Input \u001b[0;32mIn [42]\u001b[0m, in \u001b[0;36m<cell line: 1>\u001b[0;34m()\u001b[0m\n\u001b[0;32m----> 1\u001b[0m \u001b[43msum_number\u001b[49m\u001b[43m(\u001b[49m\u001b[38;5;241;43m1\u001b[39;49m\u001b[43m)\u001b[49m\n",
      "\u001b[0;31mTypeError\u001b[0m: sum_number() missing 1 required positional argument: 'y'"
     ]
    }
   ],
   "source": [
    "sum_number(1)"
   ]
  },
  {
   "cell_type": "code",
   "execution_count": 43,
   "id": "a2d3ae5e",
   "metadata": {},
   "outputs": [
    {
     "ename": "TypeError",
     "evalue": "sum_number() takes 2 positional arguments but 3 were given",
     "output_type": "error",
     "traceback": [
      "\u001b[0;31m---------------------------------------------------------------------------\u001b[0m",
      "\u001b[0;31mTypeError\u001b[0m                                 Traceback (most recent call last)",
      "Input \u001b[0;32mIn [43]\u001b[0m, in \u001b[0;36m<cell line: 1>\u001b[0;34m()\u001b[0m\n\u001b[0;32m----> 1\u001b[0m \u001b[43msum_number\u001b[49m\u001b[43m(\u001b[49m\u001b[38;5;241;43m1\u001b[39;49m\u001b[43m,\u001b[49m\u001b[43m \u001b[49m\u001b[38;5;241;43m2\u001b[39;49m\u001b[43m,\u001b[49m\u001b[43m \u001b[49m\u001b[38;5;241;43m3\u001b[39;49m\u001b[43m)\u001b[49m\n",
      "\u001b[0;31mTypeError\u001b[0m: sum_number() takes 2 positional arguments but 3 were given"
     ]
    }
   ],
   "source": [
    "sum_number(1, 2, 3)"
   ]
  },
  {
   "cell_type": "markdown",
   "id": "b3e36a2c",
   "metadata": {},
   "source": [
    "### working now"
   ]
  },
  {
   "cell_type": "code",
   "execution_count": 64,
   "id": "37c88fa8",
   "metadata": {},
   "outputs": [],
   "source": [
    "# we want to pass variable number of arguments\n",
    "# 0, 1, 2, 3, 4, etc. etc as many as you want\n",
    "\n",
    "# what this star does => tells Python to pack all the upcoming arguments \n",
    "# in a tuple\n",
    "def sum_number(x, y, *args):\n",
    "#     print(args) # a tuple\n",
    "    result = x + y\n",
    "#     result += sum(args)\n",
    "    for z in args:\n",
    "        result += z\n",
    "    return result"
   ]
  },
  {
   "cell_type": "code",
   "execution_count": 61,
   "id": "6372d13a",
   "metadata": {},
   "outputs": [
    {
     "data": {
      "text/plain": [
       "15"
      ]
     },
     "execution_count": 61,
     "metadata": {},
     "output_type": "execute_result"
    }
   ],
   "source": [
    "sum_number(1, 2, 3, 4, 5)"
   ]
  },
  {
   "cell_type": "code",
   "execution_count": 62,
   "id": "105d7146",
   "metadata": {},
   "outputs": [
    {
     "data": {
      "text/plain": [
       "3"
      ]
     },
     "execution_count": 62,
     "metadata": {},
     "output_type": "execute_result"
    }
   ],
   "source": [
    "sum_number(1, 2)"
   ]
  },
  {
   "cell_type": "code",
   "execution_count": 63,
   "id": "cedd3c7c",
   "metadata": {},
   "outputs": [
    {
     "data": {
      "text/plain": [
       "13"
      ]
     },
     "execution_count": 63,
     "metadata": {},
     "output_type": "execute_result"
    }
   ],
   "source": [
    "sum_number(1, 2, 10)"
   ]
  },
  {
   "cell_type": "code",
   "execution_count": null,
   "id": "e9efdd7a",
   "metadata": {},
   "outputs": [],
   "source": []
  }
 ],
 "metadata": {
  "kernelspec": {
   "display_name": "Python 3 (ipykernel)",
   "language": "python",
   "name": "python3"
  },
  "language_info": {
   "codemirror_mode": {
    "name": "ipython",
    "version": 3
   },
   "file_extension": ".py",
   "mimetype": "text/x-python",
   "name": "python",
   "nbconvert_exporter": "python",
   "pygments_lexer": "ipython3",
   "version": "3.9.12"
  }
 },
 "nbformat": 4,
 "nbformat_minor": 5
}
