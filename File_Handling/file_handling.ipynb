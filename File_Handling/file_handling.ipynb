{
 "cells": [
  {
   "cell_type": "markdown",
   "id": "80c54348",
   "metadata": {},
   "source": [
    "## Working with files"
   ]
  },
  {
   "cell_type": "code",
   "execution_count": 1,
   "id": "4f10047d",
   "metadata": {},
   "outputs": [],
   "source": [
    "open?"
   ]
  },
  {
   "cell_type": "code",
   "execution_count": 2,
   "id": "447e7ac4",
   "metadata": {},
   "outputs": [],
   "source": [
    "f = open(\"untitled.txt\", \"r\") # in the current folder"
   ]
  },
  {
   "cell_type": "code",
   "execution_count": 19,
   "id": "40eba3d1",
   "metadata": {},
   "outputs": [
    {
     "ename": "FileNotFoundError",
     "evalue": "[Errno 2] No such file or directory: 'sample2.txt'",
     "output_type": "error",
     "traceback": [
      "\u001b[0;31m---------------------------------------------------------------------------\u001b[0m",
      "\u001b[0;31mFileNotFoundError\u001b[0m                         Traceback (most recent call last)",
      "Input \u001b[0;32mIn [19]\u001b[0m, in \u001b[0;36m<cell line: 1>\u001b[0;34m()\u001b[0m\n\u001b[0;32m----> 1\u001b[0m f \u001b[38;5;241m=\u001b[39m \u001b[38;5;28;43mopen\u001b[39;49m\u001b[43m(\u001b[49m\u001b[38;5;124;43m\"\u001b[39;49m\u001b[38;5;124;43msample2.txt\u001b[39;49m\u001b[38;5;124;43m\"\u001b[39;49m\u001b[43m,\u001b[49m\u001b[43m \u001b[49m\u001b[38;5;124;43m\"\u001b[39;49m\u001b[38;5;124;43mr\u001b[39;49m\u001b[38;5;124;43m\"\u001b[39;49m\u001b[43m)\u001b[49m\n",
      "\u001b[0;31mFileNotFoundError\u001b[0m: [Errno 2] No such file or directory: 'sample2.txt'"
     ]
    }
   ],
   "source": [
    "f = open(\"sample2.txt\", \"r\") # gives an error if file is not present"
   ]
  },
  {
   "cell_type": "code",
   "execution_count": 3,
   "id": "08882425",
   "metadata": {},
   "outputs": [
    {
     "data": {
      "text/plain": [
       "_io.TextIOWrapper"
      ]
     },
     "execution_count": 3,
     "metadata": {},
     "output_type": "execute_result"
    }
   ],
   "source": [
    "type(f)"
   ]
  },
  {
   "cell_type": "code",
   "execution_count": 5,
   "id": "c5d5018f",
   "metadata": {},
   "outputs": [],
   "source": [
    "open?"
   ]
  },
  {
   "cell_type": "markdown",
   "id": "fa126889",
   "metadata": {},
   "source": [
    "### Opening a file"
   ]
  },
  {
   "cell_type": "code",
   "execution_count": 10,
   "id": "c2a4a069",
   "metadata": {},
   "outputs": [],
   "source": [
    "f = open(\"untitled.txt\", \"r\") # r is the read mode"
   ]
  },
  {
   "cell_type": "markdown",
   "id": "e4c967ea",
   "metadata": {},
   "source": [
    "### Reading from a file"
   ]
  },
  {
   "cell_type": "code",
   "execution_count": 7,
   "id": "bf303200",
   "metadata": {},
   "outputs": [
    {
     "data": {
      "text/plain": [
       "'Hello this is our first file\\n\\nthat we are going to open\\n\\nThis is some magic:\\n1\\n2\\n3\\n4\\n'"
      ]
     },
     "execution_count": 7,
     "metadata": {},
     "output_type": "execute_result"
    }
   ],
   "source": [
    "f.read()"
   ]
  },
  {
   "cell_type": "code",
   "execution_count": 8,
   "id": "f98a6857",
   "metadata": {},
   "outputs": [
    {
     "data": {
      "text/plain": [
       "''"
      ]
     },
     "execution_count": 8,
     "metadata": {},
     "output_type": "execute_result"
    }
   ],
   "source": [
    "f.read()"
   ]
  },
  {
   "cell_type": "code",
   "execution_count": 21,
   "id": "59d1af60",
   "metadata": {},
   "outputs": [],
   "source": [
    "# f.close() # close once done reading / writing"
   ]
  },
  {
   "cell_type": "markdown",
   "id": "8624ade1",
   "metadata": {},
   "source": [
    "### Writing to a file"
   ]
  },
  {
   "cell_type": "code",
   "execution_count": 9,
   "id": "0d4708db",
   "metadata": {},
   "outputs": [
    {
     "ename": "UnsupportedOperation",
     "evalue": "not writable",
     "output_type": "error",
     "traceback": [
      "\u001b[0;31m---------------------------------------------------------------------------\u001b[0m",
      "\u001b[0;31mUnsupportedOperation\u001b[0m                      Traceback (most recent call last)",
      "Input \u001b[0;32mIn [9]\u001b[0m, in \u001b[0;36m<cell line: 1>\u001b[0;34m()\u001b[0m\n\u001b[0;32m----> 1\u001b[0m \u001b[43mf\u001b[49m\u001b[38;5;241;43m.\u001b[39;49m\u001b[43mwrite\u001b[49m\u001b[43m(\u001b[49m\u001b[38;5;124;43m'\u001b[39;49m\u001b[38;5;124;43mI am writing to this file!\u001b[39;49m\u001b[38;5;124;43m'\u001b[39;49m\u001b[43m)\u001b[49m\n",
      "\u001b[0;31mUnsupportedOperation\u001b[0m: not writable"
     ]
    }
   ],
   "source": [
    "f.write('I am writing to this file!')"
   ]
  },
  {
   "cell_type": "code",
   "execution_count": 11,
   "id": "bc1de677",
   "metadata": {},
   "outputs": [],
   "source": [
    "f2 = open('sample.txt', 'w') # only the write mode"
   ]
  },
  {
   "cell_type": "code",
   "execution_count": 22,
   "id": "9eb11873",
   "metadata": {},
   "outputs": [],
   "source": [
    "f3 = open(\"sample2.txt\", \"w\") # it will automatically create a new file"
   ]
  },
  {
   "cell_type": "code",
   "execution_count": 12,
   "id": "b921cc60",
   "metadata": {},
   "outputs": [
    {
     "data": {
      "text/plain": [
       "_io.TextIOWrapper"
      ]
     },
     "execution_count": 12,
     "metadata": {},
     "output_type": "execute_result"
    }
   ],
   "source": [
    "type(f2)"
   ]
  },
  {
   "cell_type": "code",
   "execution_count": 13,
   "id": "37bddc69",
   "metadata": {},
   "outputs": [
    {
     "data": {
      "text/plain": [
       "51"
      ]
     },
     "execution_count": 13,
     "metadata": {},
     "output_type": "execute_result"
    }
   ],
   "source": [
    "f2.write('Hello everyone talking from python program to you!!')\n",
    "# it returns the no of bytes written to the file"
   ]
  },
  {
   "cell_type": "code",
   "execution_count": 23,
   "id": "ce63a9af",
   "metadata": {},
   "outputs": [
    {
     "data": {
      "text/plain": [
       "6"
      ]
     },
     "execution_count": 23,
     "metadata": {},
     "output_type": "execute_result"
    }
   ],
   "source": [
    "f3.write('1\\n2\\n3\\n')"
   ]
  },
  {
   "cell_type": "code",
   "execution_count": 24,
   "id": "1f29064d",
   "metadata": {},
   "outputs": [],
   "source": [
    "f3.close()"
   ]
  },
  {
   "cell_type": "code",
   "execution_count": 14,
   "id": "dcc0d936",
   "metadata": {},
   "outputs": [
    {
     "ename": "UnsupportedOperation",
     "evalue": "not readable",
     "output_type": "error",
     "traceback": [
      "\u001b[0;31m---------------------------------------------------------------------------\u001b[0m",
      "\u001b[0;31mUnsupportedOperation\u001b[0m                      Traceback (most recent call last)",
      "Input \u001b[0;32mIn [14]\u001b[0m, in \u001b[0;36m<cell line: 1>\u001b[0;34m()\u001b[0m\n\u001b[0;32m----> 1\u001b[0m \u001b[43mf2\u001b[49m\u001b[38;5;241;43m.\u001b[39;49m\u001b[43mread\u001b[49m\u001b[43m(\u001b[49m\u001b[43m)\u001b[49m\n",
      "\u001b[0;31mUnsupportedOperation\u001b[0m: not readable"
     ]
    }
   ],
   "source": [
    "f2.read()"
   ]
  },
  {
   "cell_type": "code",
   "execution_count": 15,
   "id": "0a4583f0",
   "metadata": {},
   "outputs": [],
   "source": [
    "f2.close() # why is closing important?"
   ]
  },
  {
   "cell_type": "code",
   "execution_count": 16,
   "id": "7b4be5e8",
   "metadata": {},
   "outputs": [],
   "source": [
    "f2 = open('sample.txt', 'r')"
   ]
  },
  {
   "cell_type": "code",
   "execution_count": 17,
   "id": "fd4b99fc",
   "metadata": {},
   "outputs": [
    {
     "data": {
      "text/plain": [
       "'Hello everyone talking from python program to you!!'"
      ]
     },
     "execution_count": 17,
     "metadata": {},
     "output_type": "execute_result"
    }
   ],
   "source": [
    "f2.read()"
   ]
  },
  {
   "cell_type": "code",
   "execution_count": null,
   "id": "a1cbc779",
   "metadata": {},
   "outputs": [],
   "source": []
  },
  {
   "cell_type": "markdown",
   "id": "f96d3e6f",
   "metadata": {},
   "source": [
    "## Some other important modes: file access modes"
   ]
  },
  {
   "cell_type": "code",
   "execution_count": 25,
   "id": "02d57f0e",
   "metadata": {},
   "outputs": [],
   "source": [
    "open?"
   ]
  },
  {
   "cell_type": "code",
   "execution_count": 26,
   "id": "b3e51b6c",
   "metadata": {},
   "outputs": [],
   "source": [
    "f = open('sample2.txt', 'r')"
   ]
  },
  {
   "cell_type": "code",
   "execution_count": 27,
   "id": "e7aa9c18",
   "metadata": {},
   "outputs": [
    {
     "data": {
      "text/plain": [
       "'1\\n2\\n3\\n'"
      ]
     },
     "execution_count": 27,
     "metadata": {},
     "output_type": "execute_result"
    }
   ],
   "source": [
    "f.read()"
   ]
  },
  {
   "cell_type": "code",
   "execution_count": 28,
   "id": "a97f55c4",
   "metadata": {},
   "outputs": [],
   "source": [
    "f.close()"
   ]
  },
  {
   "cell_type": "code",
   "execution_count": 29,
   "id": "5047011d",
   "metadata": {},
   "outputs": [
    {
     "data": {
      "text/plain": [
       "3"
      ]
     },
     "execution_count": 29,
     "metadata": {},
     "output_type": "execute_result"
    }
   ],
   "source": [
    "f = open('sample2.txt', 'w')\n",
    "f.write('abc')"
   ]
  },
  {
   "cell_type": "code",
   "execution_count": 30,
   "id": "b8402199",
   "metadata": {},
   "outputs": [],
   "source": [
    "f.close()"
   ]
  },
  {
   "cell_type": "code",
   "execution_count": 34,
   "id": "6235762a",
   "metadata": {},
   "outputs": [
    {
     "data": {
      "text/plain": [
       "'abc'"
      ]
     },
     "execution_count": 34,
     "metadata": {},
     "output_type": "execute_result"
    }
   ],
   "source": [
    "f = open('sample2.txt', 'r')\n",
    "f.read()\n",
    "\n",
    "# A. 1\\n2\\n3\\nabc\n",
    "# B. abc -------- previous content was deleted\n",
    "# C. 1\\n2\\n3\\n"
   ]
  },
  {
   "cell_type": "code",
   "execution_count": 35,
   "id": "b57a64ee",
   "metadata": {},
   "outputs": [],
   "source": [
    "open?"
   ]
  },
  {
   "cell_type": "code",
   "execution_count": 36,
   "id": "70775fc8",
   "metadata": {},
   "outputs": [],
   "source": [
    "f = open('sample2.txt', 'a')"
   ]
  },
  {
   "cell_type": "code",
   "execution_count": 38,
   "id": "7fecc77e",
   "metadata": {},
   "outputs": [
    {
     "data": {
      "text/plain": [
       "6"
      ]
     },
     "execution_count": 38,
     "metadata": {},
     "output_type": "execute_result"
    }
   ],
   "source": [
    "f.write('1\\n2\\n3\\n')"
   ]
  },
  {
   "cell_type": "code",
   "execution_count": 39,
   "id": "3297972b",
   "metadata": {},
   "outputs": [],
   "source": [
    "f.close()"
   ]
  },
  {
   "cell_type": "code",
   "execution_count": 41,
   "id": "0b399de7",
   "metadata": {},
   "outputs": [
    {
     "data": {
      "text/plain": [
       "'abc1\\n2\\n3\\n'"
      ]
     },
     "execution_count": 41,
     "metadata": {},
     "output_type": "execute_result"
    }
   ],
   "source": [
    "f = open('sample2.txt', 'r')\n",
    "f.read()\n",
    "\n",
    "# A. 1\\n2\\n3\\nabc\n",
    "# B. abc\n",
    "# C. 1\\n2\\n3\\n\n",
    "# D. abc1\\n2\\n3\\n ---- it appends to the end"
   ]
  },
  {
   "cell_type": "code",
   "execution_count": 42,
   "id": "0b1c23f1",
   "metadata": {},
   "outputs": [],
   "source": [
    "# read (r)\n",
    "# write (w)\n",
    "# append (a)"
   ]
  },
  {
   "cell_type": "markdown",
   "id": "9c3d1c67",
   "metadata": {},
   "source": [
    "### read+ or write+ modes\n",
    "\n",
    "You have to experiment so that you can become a master of them!!"
   ]
  },
  {
   "cell_type": "code",
   "execution_count": 53,
   "id": "2b15fdce",
   "metadata": {},
   "outputs": [],
   "source": [
    "open?"
   ]
  },
  {
   "cell_type": "code",
   "execution_count": 54,
   "id": "fd50c9e3",
   "metadata": {},
   "outputs": [],
   "source": [
    "f = open('sample2.txt', 'r+') # read + mode => read and write"
   ]
  },
  {
   "cell_type": "code",
   "execution_count": 55,
   "id": "b85f4040",
   "metadata": {},
   "outputs": [
    {
     "data": {
      "text/plain": [
       "'abc1\\n2\\n3\\nthis is new contentthis is new content'"
      ]
     },
     "execution_count": 55,
     "metadata": {},
     "output_type": "execute_result"
    }
   ],
   "source": [
    "f.read() # the cursor came to end"
   ]
  },
  {
   "cell_type": "code",
   "execution_count": 56,
   "id": "15ff8c02",
   "metadata": {},
   "outputs": [
    {
     "data": {
      "text/plain": [
       "39"
      ]
     },
     "execution_count": 56,
     "metadata": {},
     "output_type": "execute_result"
    }
   ],
   "source": [
    "f.write('   this is going to be added at the end') # when is a write completed?"
   ]
  },
  {
   "cell_type": "code",
   "execution_count": 57,
   "id": "cb4286eb",
   "metadata": {},
   "outputs": [
    {
     "data": {
      "text/plain": [
       "''"
      ]
     },
     "execution_count": 57,
     "metadata": {},
     "output_type": "execute_result"
    }
   ],
   "source": [
    "f.read()"
   ]
  },
  {
   "cell_type": "code",
   "execution_count": 58,
   "id": "49910f6b",
   "metadata": {},
   "outputs": [],
   "source": [
    "f.close()"
   ]
  },
  {
   "cell_type": "code",
   "execution_count": 59,
   "id": "986e3d9c",
   "metadata": {},
   "outputs": [],
   "source": [
    "f = open('sample2.txt', 'r+') # read + mode => read and write"
   ]
  },
  {
   "cell_type": "code",
   "execution_count": 60,
   "id": "616fe39b",
   "metadata": {},
   "outputs": [
    {
     "data": {
      "text/plain": [
       "'abc1\\n2\\n3\\nthis is new contentthis is new content   this is going to be added at the end'"
      ]
     },
     "execution_count": 60,
     "metadata": {},
     "output_type": "execute_result"
    }
   ],
   "source": [
    "f.read()"
   ]
  },
  {
   "cell_type": "code",
   "execution_count": 61,
   "id": "01787981",
   "metadata": {},
   "outputs": [],
   "source": [
    "f.close()"
   ]
  },
  {
   "cell_type": "markdown",
   "id": "5c2e0533",
   "metadata": {},
   "source": [
    "'abc1\\n2\\n3\\nthis is new contentthis is new content   this is going to be added at the end'"
   ]
  },
  {
   "cell_type": "markdown",
   "id": "9eb4380e",
   "metadata": {},
   "source": [
    "### Example 2"
   ]
  },
  {
   "cell_type": "code",
   "execution_count": 63,
   "id": "31d8486f",
   "metadata": {},
   "outputs": [],
   "source": [
    "f = open('sample2.txt', 'r+') # cursor is the beginning"
   ]
  },
  {
   "cell_type": "code",
   "execution_count": 64,
   "id": "6a02cb01",
   "metadata": {},
   "outputs": [
    {
     "data": {
      "text/plain": [
       "22"
      ]
     },
     "execution_count": 64,
     "metadata": {},
     "output_type": "execute_result"
    }
   ],
   "source": [
    "f.write('this will get replaced')"
   ]
  },
  {
   "cell_type": "code",
   "execution_count": 65,
   "id": "0b21f8e0",
   "metadata": {},
   "outputs": [],
   "source": [
    "f.close()"
   ]
  },
  {
   "cell_type": "code",
   "execution_count": 66,
   "id": "c335f583",
   "metadata": {},
   "outputs": [],
   "source": [
    "f = open('sample2.txt', 'r+') # cursor is the beginning"
   ]
  },
  {
   "cell_type": "code",
   "execution_count": 67,
   "id": "eecc1607",
   "metadata": {},
   "outputs": [
    {
     "data": {
      "text/plain": [
       "'this will get replacedontentthis is new content   this is going to be added at the end'"
      ]
     },
     "execution_count": 67,
     "metadata": {},
     "output_type": "execute_result"
    }
   ],
   "source": [
    "f.read()"
   ]
  },
  {
   "cell_type": "code",
   "execution_count": null,
   "id": "46fe6cac",
   "metadata": {},
   "outputs": [],
   "source": []
  },
  {
   "cell_type": "markdown",
   "id": "c4007680",
   "metadata": {},
   "source": [
    "## Example 3"
   ]
  },
  {
   "cell_type": "code",
   "execution_count": 68,
   "id": "c02a3e84",
   "metadata": {},
   "outputs": [
    {
     "ename": "FileNotFoundError",
     "evalue": "[Errno 2] No such file or directory: 'sample3.txt'",
     "output_type": "error",
     "traceback": [
      "\u001b[0;31m---------------------------------------------------------------------------\u001b[0m",
      "\u001b[0;31mFileNotFoundError\u001b[0m                         Traceback (most recent call last)",
      "Input \u001b[0;32mIn [68]\u001b[0m, in \u001b[0;36m<cell line: 1>\u001b[0;34m()\u001b[0m\n\u001b[0;32m----> 1\u001b[0m f \u001b[38;5;241m=\u001b[39m \u001b[38;5;28;43mopen\u001b[39;49m\u001b[43m(\u001b[49m\u001b[38;5;124;43m'\u001b[39;49m\u001b[38;5;124;43msample3.txt\u001b[39;49m\u001b[38;5;124;43m'\u001b[39;49m\u001b[43m,\u001b[49m\u001b[43m \u001b[49m\u001b[38;5;124;43m'\u001b[39;49m\u001b[38;5;124;43mr+\u001b[39;49m\u001b[38;5;124;43m'\u001b[39;49m\u001b[43m)\u001b[49m\n",
      "\u001b[0;31mFileNotFoundError\u001b[0m: [Errno 2] No such file or directory: 'sample3.txt'"
     ]
    }
   ],
   "source": [
    "f = open('sample3.txt', 'r+') # does not create a new file"
   ]
  },
  {
   "cell_type": "code",
   "execution_count": 113,
   "id": "b74dc277",
   "metadata": {},
   "outputs": [],
   "source": [
    "f = open('sample3.txt', 'w+') # it will create a new file, in the truncate mode"
   ]
  },
  {
   "cell_type": "code",
   "execution_count": 114,
   "id": "e3848e9a",
   "metadata": {},
   "outputs": [
    {
     "data": {
      "text/plain": [
       "4"
      ]
     },
     "execution_count": 114,
     "metadata": {},
     "output_type": "execute_result"
    }
   ],
   "source": [
    "f.write('1234')"
   ]
  },
  {
   "cell_type": "code",
   "execution_count": 115,
   "id": "4467f617",
   "metadata": {},
   "outputs": [],
   "source": [
    "f.close()"
   ]
  },
  {
   "cell_type": "code",
   "execution_count": 116,
   "id": "08f273b6",
   "metadata": {},
   "outputs": [],
   "source": [
    "f = open('sample3.txt', 'r+')"
   ]
  },
  {
   "cell_type": "code",
   "execution_count": 117,
   "id": "f586c452",
   "metadata": {},
   "outputs": [
    {
     "data": {
      "text/plain": [
       "'1234'"
      ]
     },
     "execution_count": 117,
     "metadata": {},
     "output_type": "execute_result"
    }
   ],
   "source": [
    "f.read() # cursor moved to the end"
   ]
  },
  {
   "cell_type": "code",
   "execution_count": 118,
   "id": "1b60b596",
   "metadata": {},
   "outputs": [],
   "source": [
    "f.close()"
   ]
  },
  {
   "cell_type": "code",
   "execution_count": 119,
   "id": "1d06ddaa",
   "metadata": {},
   "outputs": [
    {
     "data": {
      "text/plain": [
       "1"
      ]
     },
     "execution_count": 119,
     "metadata": {},
     "output_type": "execute_result"
    }
   ],
   "source": [
    "f = open('sample3.txt', 'r+')\n",
    "f.write('5')"
   ]
  },
  {
   "cell_type": "code",
   "execution_count": 120,
   "id": "44bd59b1",
   "metadata": {},
   "outputs": [],
   "source": [
    "f.close()"
   ]
  },
  {
   "cell_type": "code",
   "execution_count": 121,
   "id": "97ef81b9",
   "metadata": {},
   "outputs": [
    {
     "data": {
      "text/plain": [
       "'5234'"
      ]
     },
     "execution_count": 121,
     "metadata": {},
     "output_type": "execute_result"
    }
   ],
   "source": [
    "f = open('sample3.txt', 'r+')\n",
    "f.read() # 5234"
   ]
  },
  {
   "cell_type": "code",
   "execution_count": 122,
   "id": "8c5481ac",
   "metadata": {},
   "outputs": [],
   "source": [
    "f.close()"
   ]
  },
  {
   "cell_type": "markdown",
   "id": "06c6c73d",
   "metadata": {},
   "source": [
    "### read specific no of bytes"
   ]
  },
  {
   "cell_type": "code",
   "execution_count": 126,
   "id": "36588787",
   "metadata": {},
   "outputs": [
    {
     "data": {
      "text/plain": [
       "'52'"
      ]
     },
     "execution_count": 126,
     "metadata": {},
     "output_type": "execute_result"
    }
   ],
   "source": [
    "# 5234\n",
    "\n",
    "f = open('sample3.txt', 'r+')\n",
    "f.read(2) # it will read only 2 bytes of memory"
   ]
  },
  {
   "cell_type": "code",
   "execution_count": 127,
   "id": "f85cb9cd",
   "metadata": {},
   "outputs": [
    {
     "data": {
      "text/plain": [
       "'34'"
      ]
     },
     "execution_count": 127,
     "metadata": {},
     "output_type": "execute_result"
    }
   ],
   "source": [
    "f.read() # what do you expect --- 34?"
   ]
  },
  {
   "cell_type": "code",
   "execution_count": 128,
   "id": "924dc3e0",
   "metadata": {},
   "outputs": [],
   "source": [
    "f.close()"
   ]
  },
  {
   "cell_type": "markdown",
   "id": "47fd8291",
   "metadata": {},
   "source": [
    "## Replace 34 with 197"
   ]
  },
  {
   "cell_type": "code",
   "execution_count": 129,
   "id": "9fa540b5",
   "metadata": {},
   "outputs": [
    {
     "data": {
      "text/plain": [
       "'52'"
      ]
     },
     "execution_count": 129,
     "metadata": {},
     "output_type": "execute_result"
    }
   ],
   "source": [
    "f = open('sample3.txt', 'r+')\n",
    "f.read(2) # it will read only 2 bytes of memory"
   ]
  },
  {
   "cell_type": "code",
   "execution_count": 130,
   "id": "e44e293d",
   "metadata": {},
   "outputs": [
    {
     "data": {
      "text/plain": [
       "3"
      ]
     },
     "execution_count": 130,
     "metadata": {},
     "output_type": "execute_result"
    }
   ],
   "source": [
    "f.write('197')"
   ]
  },
  {
   "cell_type": "code",
   "execution_count": 131,
   "id": "ae8b781e",
   "metadata": {},
   "outputs": [],
   "source": [
    "f.close()"
   ]
  },
  {
   "cell_type": "code",
   "execution_count": 136,
   "id": "0d4c7c38",
   "metadata": {},
   "outputs": [
    {
     "data": {
      "text/plain": [
       "'5234197'"
      ]
     },
     "execution_count": 136,
     "metadata": {},
     "output_type": "execute_result"
    }
   ],
   "source": [
    "f = open('sample3.txt', 'r+')\n",
    "f.read() # why it is not replacing? Take this as a HW\n",
    "# Let's take it as a HW and discuss next file."
   ]
  },
  {
   "cell_type": "markdown",
   "id": "5000a5d4",
   "metadata": {},
   "source": [
    "### HW: Why adding at the end?"
   ]
  },
  {
   "cell_type": "code",
   "execution_count": 137,
   "id": "2b073662",
   "metadata": {},
   "outputs": [],
   "source": [
    "f.close()"
   ]
  },
  {
   "cell_type": "markdown",
   "id": "1128d867",
   "metadata": {},
   "source": [
    "## Smarter way of opening files"
   ]
  },
  {
   "cell_type": "code",
   "execution_count": 141,
   "id": "c90cb125",
   "metadata": {},
   "outputs": [
    {
     "name": "stdout",
     "output_type": "stream",
     "text": [
      "523\n",
      "419\n",
      "7\n"
     ]
    }
   ],
   "source": [
    "# housekeeping of open and close to be handled by python\n",
    "\n",
    "# 5234197\n",
    "with open('sample3.txt', 'w+') as f:\n",
    "    # truncate\n",
    "    f.write('5234197')\n",
    "\n",
    "\n",
    "with open('sample3.txt', 'r+') as f:\n",
    "    # inside here you can do all the file operations\n",
    "    print(f.read(3))\n",
    "    print(f.read(3))\n",
    "    print(f.read(3))\n",
    "    f.write('Here we write!!')\n",
    "\n",
    "# outside the with block => file f is automatically closed"
   ]
  },
  {
   "cell_type": "code",
   "execution_count": 142,
   "id": "db25bb16",
   "metadata": {},
   "outputs": [
    {
     "name": "stdout",
     "output_type": "stream",
     "text": [
      "5234197Here we write!!\n"
     ]
    }
   ],
   "source": [
    "with open('sample3.txt', 'r+') as f:\n",
    "    print(f.read())"
   ]
  },
  {
   "cell_type": "code",
   "execution_count": 143,
   "id": "01dfe3dd",
   "metadata": {},
   "outputs": [
    {
     "name": "stdout",
     "output_type": "stream",
     "text": [
      "523\n",
      "419\n",
      "7He\n"
     ]
    }
   ],
   "source": [
    "with open('sample3.txt', 'r+') as f:\n",
    "    # inside here you can do all the file operations\n",
    "    print(f.read(3))\n",
    "    print(f.read(3))\n",
    "    print(f.read(3))\n",
    "    f.write('Here we write!!') # it automatically moves to the end"
   ]
  },
  {
   "cell_type": "markdown",
   "id": "ab86f94d",
   "metadata": {},
   "source": [
    "### HW"
   ]
  },
  {
   "cell_type": "code",
   "execution_count": 144,
   "id": "d619afa8",
   "metadata": {},
   "outputs": [
    {
     "name": "stdout",
     "output_type": "stream",
     "text": [
      "5234197Here we write!!Here we write!!\n"
     ]
    }
   ],
   "source": [
    "with open('sample3.txt', 'r+') as f:\n",
    "    print(f.read())"
   ]
  },
  {
   "cell_type": "markdown",
   "id": "f8a48c05",
   "metadata": {},
   "source": [
    "# open, read, write, close, with"
   ]
  },
  {
   "cell_type": "markdown",
   "id": "1322e276",
   "metadata": {},
   "source": [
    "## Build our own image copy program"
   ]
  },
  {
   "cell_type": "code",
   "execution_count": 150,
   "id": "ea1f1130",
   "metadata": {},
   "outputs": [],
   "source": [
    "# we have to use a binary decoding\n",
    "# rb => read with binary decoding\n",
    "# when you do not know the encoding, directly use the binary\n",
    "with open('image.jpeg', 'rb') as f:\n",
    "    file_content = f.read() # prints the hexadecimal format"
   ]
  },
  {
   "cell_type": "code",
   "execution_count": 147,
   "id": "1d80d819",
   "metadata": {},
   "outputs": [],
   "source": [
    "open?"
   ]
  },
  {
   "cell_type": "code",
   "execution_count": 152,
   "id": "f620b390",
   "metadata": {},
   "outputs": [],
   "source": [
    "# file_content --- stored in the memory"
   ]
  },
  {
   "cell_type": "code",
   "execution_count": 154,
   "id": "aebb460c",
   "metadata": {},
   "outputs": [],
   "source": [
    "# write with binary encoding\n",
    "with open('image_copy.jpeg', 'wb') as f:\n",
    "    f.write(file_content) # writing the binary\n",
    "    # closing is automatically handled as you go outside the block"
   ]
  },
  {
   "cell_type": "markdown",
   "id": "2ca1ae22",
   "metadata": {},
   "source": [
    "## Doubts"
   ]
  },
  {
   "cell_type": "code",
   "execution_count": 155,
   "id": "6138d39d",
   "metadata": {},
   "outputs": [],
   "source": [
    "f.read?"
   ]
  },
  {
   "cell_type": "code",
   "execution_count": 158,
   "id": "5a3cbb0a",
   "metadata": {},
   "outputs": [],
   "source": [
    "f = open('/Users/sahilbansal/Desktop/new_file.txt', 'w')"
   ]
  },
  {
   "cell_type": "code",
   "execution_count": 159,
   "id": "3532639e",
   "metadata": {},
   "outputs": [
    {
     "data": {
      "text/plain": [
       "16"
      ]
     },
     "execution_count": 159,
     "metadata": {},
     "output_type": "execute_result"
    }
   ],
   "source": [
    "f.write(\"This is new file\")"
   ]
  },
  {
   "cell_type": "code",
   "execution_count": 160,
   "id": "2728bc77",
   "metadata": {},
   "outputs": [],
   "source": [
    "f.close()"
   ]
  },
  {
   "cell_type": "code",
   "execution_count": 164,
   "id": "5bf203e1",
   "metadata": {},
   "outputs": [],
   "source": [
    "# write with binary encoding\n",
    "with open('image_copy_2.jpeg', 'wb') as f:\n",
    "    f.write(file_content)\n",
    "    # closing is automatically handled as you go outside the block"
   ]
  },
  {
   "cell_type": "code",
   "execution_count": 165,
   "id": "be722207",
   "metadata": {},
   "outputs": [],
   "source": [
    "\n",
    "f2 = open('image_copy_3.jpeg', 'wb')\n",
    "\n",
    "# we have to use a binary decoding\n",
    "# rb => read with binary decoding\n",
    "# when you do not know the encoding, directly use the binary\n",
    "with open('image.jpeg', 'rb') as f:\n",
    "    f2.write(f.read()) # prints the hexadecimal format\n",
    "\n",
    "f2.close()"
   ]
  },
  {
   "cell_type": "code",
   "execution_count": 166,
   "id": "f13323c1",
   "metadata": {},
   "outputs": [],
   "source": [
    "# reading writing csv files => covered in the DSML Adv"
   ]
  },
  {
   "cell_type": "code",
   "execution_count": null,
   "id": "3ba53444",
   "metadata": {},
   "outputs": [],
   "source": []
  },
  {
   "cell_type": "code",
   "execution_count": null,
   "id": "dc5e5577",
   "metadata": {},
   "outputs": [],
   "source": []
  }
 ],
 "metadata": {
  "kernelspec": {
   "display_name": "Python 3 (ipykernel)",
   "language": "python",
   "name": "python3"
  },
  "language_info": {
   "codemirror_mode": {
    "name": "ipython",
    "version": 3
   },
   "file_extension": ".py",
   "mimetype": "text/x-python",
   "name": "python",
   "nbconvert_exporter": "python",
   "pygments_lexer": "ipython3",
   "version": "3.9.12"
  }
 },
 "nbformat": 4,
 "nbformat_minor": 5
}
