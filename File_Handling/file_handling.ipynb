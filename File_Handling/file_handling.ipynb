{
 "cells": [
  {
   "cell_type": "markdown",
   "id": "80c54348",
   "metadata": {},
   "source": [
    "## Working with files"
   ]
  },
  {
   "cell_type": "code",
   "execution_count": 1,
   "id": "4f10047d",
   "metadata": {},
   "outputs": [],
   "source": [
    "open?"
   ]
  },
  {
   "cell_type": "code",
   "execution_count": 2,
   "id": "447e7ac4",
   "metadata": {},
   "outputs": [],
   "source": [
    "f = open(\"untitled.txt\", \"r\")"
   ]
  },
  {
   "cell_type": "code",
   "execution_count": 3,
   "id": "08882425",
   "metadata": {},
   "outputs": [
    {
     "data": {
      "text/plain": [
       "_io.TextIOWrapper"
      ]
     },
     "execution_count": 3,
     "metadata": {},
     "output_type": "execute_result"
    }
   ],
   "source": [
    "type(f)"
   ]
  },
  {
   "cell_type": "code",
   "execution_count": 5,
   "id": "c5d5018f",
   "metadata": {},
   "outputs": [],
   "source": [
    "open?"
   ]
  },
  {
   "cell_type": "markdown",
   "id": "fa126889",
   "metadata": {},
   "source": [
    "### Opening a file"
   ]
  },
  {
   "cell_type": "code",
   "execution_count": 10,
   "id": "c2a4a069",
   "metadata": {},
   "outputs": [],
   "source": [
    "f = open(\"untitled.txt\", \"r\") # r is the read mode"
   ]
  },
  {
   "cell_type": "markdown",
   "id": "e4c967ea",
   "metadata": {},
   "source": [
    "### Reading from a file"
   ]
  },
  {
   "cell_type": "code",
   "execution_count": 7,
   "id": "bf303200",
   "metadata": {},
   "outputs": [
    {
     "data": {
      "text/plain": [
       "'Hello this is our first file\\n\\nthat we are going to open\\n\\nThis is some magic:\\n1\\n2\\n3\\n4\\n'"
      ]
     },
     "execution_count": 7,
     "metadata": {},
     "output_type": "execute_result"
    }
   ],
   "source": [
    "f.read()"
   ]
  },
  {
   "cell_type": "code",
   "execution_count": 8,
   "id": "f98a6857",
   "metadata": {},
   "outputs": [
    {
     "data": {
      "text/plain": [
       "''"
      ]
     },
     "execution_count": 8,
     "metadata": {},
     "output_type": "execute_result"
    }
   ],
   "source": [
    "f.read()"
   ]
  },
  {
   "cell_type": "markdown",
   "id": "8624ade1",
   "metadata": {},
   "source": [
    "### Writing to a file"
   ]
  },
  {
   "cell_type": "code",
   "execution_count": 9,
   "id": "0d4708db",
   "metadata": {},
   "outputs": [
    {
     "ename": "UnsupportedOperation",
     "evalue": "not writable",
     "output_type": "error",
     "traceback": [
      "\u001b[0;31m---------------------------------------------------------------------------\u001b[0m",
      "\u001b[0;31mUnsupportedOperation\u001b[0m                      Traceback (most recent call last)",
      "Input \u001b[0;32mIn [9]\u001b[0m, in \u001b[0;36m<cell line: 1>\u001b[0;34m()\u001b[0m\n\u001b[0;32m----> 1\u001b[0m \u001b[43mf\u001b[49m\u001b[38;5;241;43m.\u001b[39;49m\u001b[43mwrite\u001b[49m\u001b[43m(\u001b[49m\u001b[38;5;124;43m'\u001b[39;49m\u001b[38;5;124;43mI am writing to this file!\u001b[39;49m\u001b[38;5;124;43m'\u001b[39;49m\u001b[43m)\u001b[49m\n",
      "\u001b[0;31mUnsupportedOperation\u001b[0m: not writable"
     ]
    }
   ],
   "source": [
    "f.write('I am writing to this file!')"
   ]
  },
  {
   "cell_type": "code",
   "execution_count": 11,
   "id": "bc1de677",
   "metadata": {},
   "outputs": [],
   "source": [
    "f2 = open('sample.txt', 'w') # only the write mode"
   ]
  },
  {
   "cell_type": "code",
   "execution_count": 12,
   "id": "b921cc60",
   "metadata": {},
   "outputs": [
    {
     "data": {
      "text/plain": [
       "_io.TextIOWrapper"
      ]
     },
     "execution_count": 12,
     "metadata": {},
     "output_type": "execute_result"
    }
   ],
   "source": [
    "type(f2)"
   ]
  },
  {
   "cell_type": "code",
   "execution_count": 13,
   "id": "37bddc69",
   "metadata": {},
   "outputs": [
    {
     "data": {
      "text/plain": [
       "51"
      ]
     },
     "execution_count": 13,
     "metadata": {},
     "output_type": "execute_result"
    }
   ],
   "source": [
    "f2.write('Hello everyone talking from python program to you!!')\n",
    "# it returns the no of bytes written to the file"
   ]
  },
  {
   "cell_type": "code",
   "execution_count": 14,
   "id": "d28691e4",
   "metadata": {},
   "outputs": [
    {
     "ename": "UnsupportedOperation",
     "evalue": "not readable",
     "output_type": "error",
     "traceback": [
      "\u001b[0;31m---------------------------------------------------------------------------\u001b[0m",
      "\u001b[0;31mUnsupportedOperation\u001b[0m                      Traceback (most recent call last)",
      "Input \u001b[0;32mIn [14]\u001b[0m, in \u001b[0;36m<cell line: 1>\u001b[0;34m()\u001b[0m\n\u001b[0;32m----> 1\u001b[0m \u001b[43mf2\u001b[49m\u001b[38;5;241;43m.\u001b[39;49m\u001b[43mread\u001b[49m\u001b[43m(\u001b[49m\u001b[43m)\u001b[49m\n",
      "\u001b[0;31mUnsupportedOperation\u001b[0m: not readable"
     ]
    }
   ],
   "source": [
    "f2.read()"
   ]
  },
  {
   "cell_type": "code",
   "execution_count": 15,
   "id": "56db4f07",
   "metadata": {},
   "outputs": [],
   "source": [
    "f2.close() # why is closing important?"
   ]
  },
  {
   "cell_type": "code",
   "execution_count": 16,
   "id": "96edb82b",
   "metadata": {},
   "outputs": [],
   "source": [
    "f2 = open('sample.txt', 'r')"
   ]
  },
  {
   "cell_type": "code",
   "execution_count": 17,
   "id": "31c6cdba",
   "metadata": {},
   "outputs": [
    {
     "data": {
      "text/plain": [
       "'Hello everyone talking from python program to you!!'"
      ]
     },
     "execution_count": 17,
     "metadata": {},
     "output_type": "execute_result"
    }
   ],
   "source": [
    "f2.read()"
   ]
  },
  {
   "cell_type": "code",
   "execution_count": null,
   "id": "6b7cde2e",
   "metadata": {},
   "outputs": [],
   "source": []
  }
 ],
 "metadata": {
  "kernelspec": {
   "display_name": "Python 3 (ipykernel)",
   "language": "python",
   "name": "python3"
  },
  "language_info": {
   "codemirror_mode": {
    "name": "ipython",
    "version": 3
   },
   "file_extension": ".py",
   "mimetype": "text/x-python",
   "name": "python",
   "nbconvert_exporter": "python",
   "pygments_lexer": "ipython3",
   "version": "3.9.12"
  }
 },
 "nbformat": 4,
 "nbformat_minor": 5
}
